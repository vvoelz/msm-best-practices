{
 "cells": [
  {
   "cell_type": "markdown",
   "id": "451542fd",
   "metadata": {},
   "source": [
    "# Nystrom Tica aka Spectral-OASIS tutorial"
   ]
  },
  {
   "cell_type": "markdown",
   "id": "1624b892",
   "metadata": {},
   "source": [
    "Nystrom Tica is based on the Nyström matrix operation theory, which can approximately reconstruct the time-lagged covariance matrix of all input features while using only a subset of features as input. Given an initial input feature set, Spectral-oASIS samples a subset of these features that best reconstructs the leading eigenfunctions of the time lagged covariance matrix obtained from MD simulations\n",
    "\n",
    "The end result of Nystrom tica is the same as Sparse Tica but nystrom tica uses different math to get there\n",
    "\n",
    "Nystrom tica is implemented in PyEmma but it is missing from the documentation\n",
    "\n",
    "see origonal paper here:\n",
    "\n",
    "Litzinger, F.; Boninsegna, L.; Wu, H.; Nuske, F.; Patel, R.; Baraniuk, R.; Noe, F.; Clementi, C   \n",
    "Rapid Calculation of Molecular Kinetics Using Compressed Sensing   \n",
    "J. Chem. Theory Comput. 2018, 14 (5), 2771−2783   \n",
    "https://pubs.acs.org/doi/10.1021/acs.jctc.8b00089?ref=PDF\n",
    "\n",
    "Xuhui Huang spoke very highly of Nystrom tica. See how his lab uses it in their MSM workflow here:\n",
    "\n",
    "Kirill A. Konovalov, Ilona Christy Unarta, Siqin Cao, Eshani C. Goonetilleke, and Xuhui Huang\n",
    "Markov State Models to Study the Functional Dynamics of Proteins in the Wake of Machine Learning   \n",
    "JACS Au 2021   \n",
    "https://doi.org/10.1021/jacsau.1c00254"
   ]
  },
  {
   "cell_type": "markdown",
   "id": "251dd7ff",
   "metadata": {},
   "source": [
    "For this tutorial I will use the D.E Shaw main protease trajectory as a test system. All pairwize alpha carbon distances would be ~ 48,000 distances. Far to many to fit into memory.   \n",
    "\n",
    "I will first load a set of all phi and psi dihedrals (1220 total) and see if I can reduce the number of distances while still keeping a high implied timescale   \n",
    "\n",
    "Second I will see how many distances I can through at Nystrom tica before it crashes due to memory proplems   \n",
    "\n",
    "For more details on the test system see:   \n",
    "https://github.com/jgpattis/Desres-sars-cov-2-apo-mpro"
   ]
  },
  {
   "cell_type": "code",
   "execution_count": 41,
   "id": "e0a25a4c",
   "metadata": {},
   "outputs": [],
   "source": [
    "import pyemma.coordinates as coor\n",
    "import numpy as np\n",
    "import pandas as pd\n",
    "import time \n",
    "import matplotlib.pyplot as plt\n",
    "%matplotlib inline"
   ]
  },
  {
   "cell_type": "code",
   "execution_count": 39,
   "id": "f3ad52c7",
   "metadata": {},
   "outputs": [
    {
     "data": {
      "application/vnd.jupyter.widget-view+json": {
       "model_id": "fcf6f4bde2d6452e9655cc8f64b87b26",
       "version_major": 2,
       "version_minor": 0
      },
      "text/plain": [
       "HBox(children=(IntProgress(value=0, description='getting output of H5Reader', layout=Layout(flex='2'), style=P…"
      ]
     },
     "metadata": {},
     "output_type": "display_data"
    },
    {
     "name": "stdout",
     "output_type": "stream",
     "text": [
      "\r"
     ]
    },
    {
     "data": {
      "application/vnd.jupyter.widget-view+json": {
       "model_id": "571800fcb206478b8613e239f623a544",
       "version_major": 2,
       "version_minor": 0
      },
      "text/plain": [
       "HBox(children=(IntProgress(value=0, description='getting output of H5Reader', layout=Layout(flex='2'), style=P…"
      ]
     },
     "metadata": {},
     "output_type": "display_data"
    },
    {
     "name": "stdout",
     "output_type": "stream",
     "text": [
      "\r"
     ]
    }
   ],
   "source": [
    "# load distance data I had already calculated and saved\n",
    "\n",
    "data_path = '/media/tun37047/HD/tun37047/covid19/desres-protease/monomer_global_apo_msm'\n",
    "\n",
    "data_a = coor.load(f'{data_path}/feature_data_02/backbone_chain_0.h5')\n",
    "data_b = coor.load(f'{data_path}/feature_data_02/backbone_chain_1.h5')\n",
    "data = data_a + data_b"
   ]
  },
  {
   "cell_type": "markdown",
   "id": "3d831149",
   "metadata": {},
   "source": [
    "The benifit of Nystrom tica is you let tica do the hard work of deciding which features are important   \n",
    "\n",
    "I would recomend more general featurizations as input. Depending on your system size things like all pairwize heavy atom distances, all pairwize alpha carbon and beta carbon distances, or all all pairwize alpha carbon distances   \n",
    "\n",
    "for examples of these featurizations see:   \n",
    "https://github.com/vvoelz/msm-best-practices/wiki/03-Featurization   \n",
    "or the PyEmma tutorial"
   ]
  },
  {
   "cell_type": "code",
   "execution_count": 30,
   "id": "c34e91bd",
   "metadata": {},
   "outputs": [
    {
     "data": {
      "text/plain": [
       "200"
      ]
     },
     "execution_count": 30,
     "metadata": {},
     "output_type": "execute_result"
    }
   ],
   "source": [
    "# Here I am workin with 200 trajectories\n",
    "len(data)"
   ]
  },
  {
   "cell_type": "code",
   "execution_count": 189,
   "id": "7d9015e7",
   "metadata": {},
   "outputs": [
    {
     "data": {
      "text/plain": [
       "(1000, 1220)"
      ]
     },
     "execution_count": 189,
     "metadata": {},
     "output_type": "execute_result"
    }
   ],
   "source": [
    "# Each trajectory is 1 microsecond long (1000 frames) with\n",
    "#   1 ns between frames and 1220 features(sin and cos products of backbone phi and psi dihedral angles)\n",
    "data[0].shape"
   ]
  },
  {
   "cell_type": "markdown",
   "id": "e0be96c1",
   "metadata": {},
   "source": [
    "Nystrom tica is not in the PyEmma documentation   \n",
    "so to look at the inputs and outputs look at the PyEmma github:   \n",
    "https://github.com/markovmodel/PyEMMA/blob/devel/pyemma/coordinates/transform/nystroem_tica.py#L51   \n",
    "\n",
    "or alternativly print the doc string"
   ]
  },
  {
   "cell_type": "code",
   "execution_count": 35,
   "id": "c4dcb717",
   "metadata": {},
   "outputs": [
    {
     "name": "stdout",
     "output_type": "stream",
     "text": [
      " Sparse sampling implementation [1]_ of time-lagged independent component analysis (TICA) [2]_, [3]_, [4]_.\n",
      "\n",
      "    Parameters\n",
      "    ----------\n",
      "    max_columns : int\n",
      "        Maximum number of columns (features) to use in the approximation.\n",
      "    data : ndarray (T, d) or list of ndarray (T_i, d) or a reader created by\n",
      "        source function array with the data. With it, the TICA\n",
      "        transformation is immediately computed and can be used to transform data.\n",
      "    lag : int, optional, default 10\n",
      "        lag time\n",
      "    dim : int, optional, default -1\n",
      "        Maximum number of significant independent components to use to reduce dimension of input data. -1 means\n",
      "        all numerically available dimensions (see epsilon) will be used unless reduced by var_cutoff.\n",
      "        Setting dim to a positive value is exclusive with var_cutoff.\n",
      "    var_cutoff : float in the range [0,1], optional, default 0.95\n",
      "        Determines the number of output dimensions by including dimensions until their cumulative kinetic variance\n",
      "        exceeds the fraction subspace_variance. var_cutoff=1.0 means all numerically available dimensions\n",
      "        (see epsilon) will be used, unless set by dim. Setting var_cutoff smaller than 1.0 is exclusive with dim.\n",
      "    epsilon : float, optional, default 1e-6\n",
      "        Eigenvalue norm cutoff. Eigenvalues of :math:`C_0` with norms <= epsilon will be\n",
      "        cut off. The remaining number of eigenvalues define the size\n",
      "        of the output.\n",
      "    stride: int, optional, default 1\n",
      "        Use only every stride-th time step. By default, every time step is used.\n",
      "    skip : int, optional, default 0\n",
      "        Skip the first initial n frames per trajectory.\n",
      "    reversible: bool, optional, default True\n",
      "        Symmetrize correlation matrices :math:`C_0`, :math:`C_{\\tau}`.\n",
      "    initial_columns : list, ndarray(k, dtype=int), int, or None, optional, default None\n",
      "        Columns used for an initial approximation. If a list or an 1-d ndarray\n",
      "        of integers is given, use these column indices. If an integer is given,\n",
      "        use that number of randomly selected indices. If None is given, use\n",
      "        one randomly selected column.\n",
      "    nsel : int, optional, default 1\n",
      "        Number of columns to select and add per iteration and pass through the data.\n",
      "        Larger values provide for better pass-efficiency.\n",
      "    neig : int or None, optional, default None\n",
      "        Number of eigenvalues to be optimized by the selection process.\n",
      "        If None, use the whole available eigenspace.\n",
      "\n",
      "    Returns\n",
      "    -------\n",
      "    tica_nystroem : a :class:`NystroemTICA <pyemma.coordinates.transform.NystroemTICA>`\n",
      "                    transformation object\n",
      "        Object for sparse sampling time-lagged independent component (TICA) analysis.\n",
      "        It contains TICA eigenvalues and eigenvectors, and the projection of\n",
      "        input data to the dominant TICs.\n",
      "\n",
      "    Notes\n",
      "    -----\n",
      "    Perform a sparse approximation of time-lagged independent component analysis (TICA)\n",
      "    :class:`TICA <pyemma.coordinates.transform.TICA>`. The starting point is the\n",
      "    generalized eigenvalue problem\n",
      "\n",
      "    .. math:: C_{\\tau} r_i = C_0 \\lambda_i(\\tau) r_i.\n",
      "\n",
      "    Instead of computing the full matrices involved in this problem, we conduct\n",
      "    a Nystroemm approximation [5]_ of the matrix :math:`C_0` by means of the\n",
      "    accelerated sequential incoherence selection (oASIS) algorithm [6]_ and,\n",
      "    in particular, its extension called spectral oASIS [1]_.\n",
      "\n",
      "    Iteratively, we select a small number of columns such that the resulting\n",
      "    Nystroem approximation is sufficiently accurate. This selection represents\n",
      "    in turn a subset of important features, for which we obtain a generalized\n",
      "    eigenvalue problem similar to the one above, but much smaller in size.\n",
      "    Its generalized eigenvalues and eigenvectors provide an approximation\n",
      "    to those of the full TICA solution [1]_.\n",
      "\n",
      "    References\n",
      "    ----------\n",
      "    .. [1] F. Litzinger, L. Boninsegna, H. Wu, F. Nueske, R. Patel, R. Baraniuk, F. Noe, and C. Clementi.\n",
      "       Rapid calculation of molecular kinetics using compressed sensing (2018). (submitted)\n",
      "    .. [2] Perez-Hernandez G, F Paul, T Giorgino, G De Fabritiis and F Noe. 2013.\n",
      "       Identification of slow molecular order parameters for Markov model construction\n",
      "       J. Chem. Phys. 139, 015102. doi:10.1063/1.4811489\n",
      "    .. [3] Schwantes C, V S Pande. 2013.\n",
      "       Improvements in Markov State Model Construction Reveal Many Non-Native Interactions in the Folding of NTL9\n",
      "       J. Chem. Theory. Comput. 9, 2000-2009. doi:10.1021/ct300878a\n",
      "    .. [4] L. Molgedey and H. G. Schuster. 1994.\n",
      "       Separation of a mixture of independent signals using time delayed correlations\n",
      "       Phys. Rev. Lett. 72, 3634.\n",
      "    .. [5] P. Drineas and M. W. Mahoney.\n",
      "       On the Nystrom method for approximating a Gram matrix for improved kernel-based learning.\n",
      "       Journal of Machine Learning Research, 6:2153-2175 (2005).\n",
      "    .. [6] Raajen Patel, Thomas A. Goldstein, Eva L. Dyer, Azalia Mirhoseini, Richard G. Baraniuk.\n",
      "       oASIS: Adaptive Column Sampling for Kernel Matrix Approximation.\n",
      "       arXiv: 1505.05208 [stat.ML].\n",
      "\n",
      "    \n"
     ]
    }
   ],
   "source": [
    "# The docstring is long so use prnt to format it nice\n",
    "print(coor.tica_nystroem.__doc__)"
   ]
  },
  {
   "cell_type": "markdown",
   "id": "8d832020",
   "metadata": {},
   "source": [
    "These options are very similar to regular tica except:   \n",
    "\n",
    "max_columns: How many features to use. I would recomend making an informed decision by plotting different options vs implied timescale (shown below)   \n",
    "\n",
    "nsel: How many columns to scan through at once. The origonal paper uses 20. The lower nsel is the better the tica approximation should be but the longer the calculation takes. As seen below larger numbers here work well"
   ]
  },
  {
   "cell_type": "code",
   "execution_count": 116,
   "id": "16dd51ad",
   "metadata": {},
   "outputs": [
    {
     "data": {
      "application/vnd.jupyter.widget-view+json": {
       "model_id": "42f66d80d2284f68992f497b7ea65df2",
       "version_major": 2,
       "version_minor": 0
      },
      "text/plain": [
       "HBox(children=(IntProgress(value=0, description='calculate covariances', layout=Layout(flex='2'), max=200, sty…"
      ]
     },
     "metadata": {},
     "output_type": "display_data"
    },
    {
     "name": "stdout",
     "output_type": "stream",
     "text": [
      "\r"
     ]
    },
    {
     "data": {
      "application/vnd.jupyter.widget-view+json": {
       "model_id": "01014563120746da8af9bfb754fd1b3d",
       "version_major": 2,
       "version_minor": 0
      },
      "text/plain": [
       "HBox(children=(IntProgress(value=0, description='calculate covariances', layout=Layout(flex='2'), max=200, sty…"
      ]
     },
     "metadata": {},
     "output_type": "display_data"
    },
    {
     "name": "stdout",
     "output_type": "stream",
     "text": [
      "\r"
     ]
    },
    {
     "data": {
      "application/vnd.jupyter.widget-view+json": {
       "model_id": "783e2f25172c42c9bb6905d4523c734d",
       "version_major": 2,
       "version_minor": 0
      },
      "text/plain": [
       "HBox(children=(IntProgress(value=0, description='calculate covariances', layout=Layout(flex='2'), max=200, sty…"
      ]
     },
     "metadata": {},
     "output_type": "display_data"
    },
    {
     "name": "stdout",
     "output_type": "stream",
     "text": [
      "\r"
     ]
    },
    {
     "data": {
      "application/vnd.jupyter.widget-view+json": {
       "model_id": "59b60e781e374398954582fd7f5c9168",
       "version_major": 2,
       "version_minor": 0
      },
      "text/plain": [
       "HBox(children=(IntProgress(value=0, description='calculate covariances', layout=Layout(flex='2'), max=200, sty…"
      ]
     },
     "metadata": {},
     "output_type": "display_data"
    },
    {
     "name": "stdout",
     "output_type": "stream",
     "text": [
      "\r"
     ]
    },
    {
     "data": {
      "application/vnd.jupyter.widget-view+json": {
       "model_id": "ee6ba9357f1f45b9adebd575a97215f8",
       "version_major": 2,
       "version_minor": 0
      },
      "text/plain": [
       "HBox(children=(IntProgress(value=0, description='calculate covariances', layout=Layout(flex='2'), max=200, sty…"
      ]
     },
     "metadata": {},
     "output_type": "display_data"
    },
    {
     "name": "stdout",
     "output_type": "stream",
     "text": [
      "\r"
     ]
    },
    {
     "data": {
      "application/vnd.jupyter.widget-view+json": {
       "model_id": "869601fef0394346878f3bd0461af384",
       "version_major": 2,
       "version_minor": 0
      },
      "text/plain": [
       "HBox(children=(IntProgress(value=0, description='calculate covariances', layout=Layout(flex='2'), max=200, sty…"
      ]
     },
     "metadata": {},
     "output_type": "display_data"
    },
    {
     "name": "stdout",
     "output_type": "stream",
     "text": [
      "\r"
     ]
    },
    {
     "data": {
      "application/vnd.jupyter.widget-view+json": {
       "model_id": "26f37b3c0052458db104625347dbdd46",
       "version_major": 2,
       "version_minor": 0
      },
      "text/plain": [
       "HBox(children=(IntProgress(value=0, description='calculate covariances', layout=Layout(flex='2'), max=200, sty…"
      ]
     },
     "metadata": {},
     "output_type": "display_data"
    },
    {
     "name": "stdout",
     "output_type": "stream",
     "text": [
      "\r"
     ]
    },
    {
     "data": {
      "application/vnd.jupyter.widget-view+json": {
       "model_id": "dba21c49d8184854b95ea454bd3f7990",
       "version_major": 2,
       "version_minor": 0
      },
      "text/plain": [
       "HBox(children=(IntProgress(value=0, description='calculate covariances', layout=Layout(flex='2'), max=200, sty…"
      ]
     },
     "metadata": {},
     "output_type": "display_data"
    },
    {
     "name": "stdout",
     "output_type": "stream",
     "text": [
      "\r"
     ]
    },
    {
     "data": {
      "application/vnd.jupyter.widget-view+json": {
       "model_id": "a490f5960df547f89eea5eb98f6838fc",
       "version_major": 2,
       "version_minor": 0
      },
      "text/plain": [
       "HBox(children=(IntProgress(value=0, description='calculate covariances', layout=Layout(flex='2'), max=200, sty…"
      ]
     },
     "metadata": {},
     "output_type": "display_data"
    },
    {
     "name": "stdout",
     "output_type": "stream",
     "text": [
      "\r"
     ]
    },
    {
     "data": {
      "application/vnd.jupyter.widget-view+json": {
       "model_id": "93dc36c2200d4306ba29a2b8e6d4cd8a",
       "version_major": 2,
       "version_minor": 0
      },
      "text/plain": [
       "HBox(children=(IntProgress(value=0, description='calculate covariances', layout=Layout(flex='2'), max=200, sty…"
      ]
     },
     "metadata": {},
     "output_type": "display_data"
    },
    {
     "name": "stdout",
     "output_type": "stream",
     "text": [
      "\r"
     ]
    },
    {
     "data": {
      "application/vnd.jupyter.widget-view+json": {
       "model_id": "28cf8f709a96422a9658a41945f902ea",
       "version_major": 2,
       "version_minor": 0
      },
      "text/plain": [
       "HBox(children=(IntProgress(value=0, description='calculate covariances', layout=Layout(flex='2'), max=200, sty…"
      ]
     },
     "metadata": {},
     "output_type": "display_data"
    },
    {
     "name": "stdout",
     "output_type": "stream",
     "text": [
      "\r"
     ]
    },
    {
     "data": {
      "application/vnd.jupyter.widget-view+json": {
       "model_id": "1355ec22eab241c89e240bdd4c929b15",
       "version_major": 2,
       "version_minor": 0
      },
      "text/plain": [
       "HBox(children=(IntProgress(value=0, description='calculate covariances', layout=Layout(flex='2'), max=200, sty…"
      ]
     },
     "metadata": {},
     "output_type": "display_data"
    },
    {
     "name": "stdout",
     "output_type": "stream",
     "text": [
      "\r"
     ]
    },
    {
     "data": {
      "application/vnd.jupyter.widget-view+json": {
       "model_id": "7587509c5ce54d63b6b55f95625e0b70",
       "version_major": 2,
       "version_minor": 0
      },
      "text/plain": [
       "HBox(children=(IntProgress(value=0, description='calculate covariances', layout=Layout(flex='2'), max=200, sty…"
      ]
     },
     "metadata": {},
     "output_type": "display_data"
    },
    {
     "name": "stdout",
     "output_type": "stream",
     "text": [
      "\r"
     ]
    },
    {
     "data": {
      "application/vnd.jupyter.widget-view+json": {
       "model_id": "5a30448558dd4425aa60d0e9786b8fa3",
       "version_major": 2,
       "version_minor": 0
      },
      "text/plain": [
       "HBox(children=(IntProgress(value=0, description='calculate covariances', layout=Layout(flex='2'), max=200, sty…"
      ]
     },
     "metadata": {},
     "output_type": "display_data"
    },
    {
     "name": "stdout",
     "output_type": "stream",
     "text": [
      "\r"
     ]
    },
    {
     "data": {
      "application/vnd.jupyter.widget-view+json": {
       "model_id": "6aad9b46a1e84741b24b567d19167480",
       "version_major": 2,
       "version_minor": 0
      },
      "text/plain": [
       "HBox(children=(IntProgress(value=0, description='calculate covariances', layout=Layout(flex='2'), max=200, sty…"
      ]
     },
     "metadata": {},
     "output_type": "display_data"
    },
    {
     "name": "stdout",
     "output_type": "stream",
     "text": [
      "\r"
     ]
    },
    {
     "data": {
      "application/vnd.jupyter.widget-view+json": {
       "model_id": "cec24be1d6fe4dd3b0e0da2b42ee81fb",
       "version_major": 2,
       "version_minor": 0
      },
      "text/plain": [
       "HBox(children=(IntProgress(value=0, description='calculate covariances', layout=Layout(flex='2'), max=200, sty…"
      ]
     },
     "metadata": {},
     "output_type": "display_data"
    },
    {
     "name": "stdout",
     "output_type": "stream",
     "text": [
      "\r"
     ]
    },
    {
     "data": {
      "application/vnd.jupyter.widget-view+json": {
       "model_id": "8dba6da0faf5423091edb7bbd216e37b",
       "version_major": 2,
       "version_minor": 0
      },
      "text/plain": [
       "HBox(children=(IntProgress(value=0, description='calculate covariances', layout=Layout(flex='2'), max=200, sty…"
      ]
     },
     "metadata": {},
     "output_type": "display_data"
    },
    {
     "name": "stdout",
     "output_type": "stream",
     "text": [
      "\r"
     ]
    },
    {
     "data": {
      "application/vnd.jupyter.widget-view+json": {
       "model_id": "df9cc74bbf7a418fabed432afa669977",
       "version_major": 2,
       "version_minor": 0
      },
      "text/plain": [
       "HBox(children=(IntProgress(value=0, description='calculate covariances', layout=Layout(flex='2'), max=200, sty…"
      ]
     },
     "metadata": {},
     "output_type": "display_data"
    },
    {
     "name": "stdout",
     "output_type": "stream",
     "text": [
      "\r"
     ]
    },
    {
     "data": {
      "application/vnd.jupyter.widget-view+json": {
       "model_id": "91cc10fae0884900b9f94089e71de52d",
       "version_major": 2,
       "version_minor": 0
      },
      "text/plain": [
       "HBox(children=(IntProgress(value=0, description='calculate covariances', layout=Layout(flex='2'), max=200, sty…"
      ]
     },
     "metadata": {},
     "output_type": "display_data"
    },
    {
     "name": "stdout",
     "output_type": "stream",
     "text": [
      "\r"
     ]
    },
    {
     "data": {
      "application/vnd.jupyter.widget-view+json": {
       "model_id": "a5a9b7f590a4491099edf915056780c0",
       "version_major": 2,
       "version_minor": 0
      },
      "text/plain": [
       "HBox(children=(IntProgress(value=0, description='calculate covariances', layout=Layout(flex='2'), max=200, sty…"
      ]
     },
     "metadata": {},
     "output_type": "display_data"
    },
    {
     "name": "stdout",
     "output_type": "stream",
     "text": [
      "\r"
     ]
    },
    {
     "data": {
      "application/vnd.jupyter.widget-view+json": {
       "model_id": "6ff8c794ee544f189a235ea86a36c2eb",
       "version_major": 2,
       "version_minor": 0
      },
      "text/plain": [
       "HBox(children=(IntProgress(value=0, description='calculate covariances', layout=Layout(flex='2'), max=200, sty…"
      ]
     },
     "metadata": {},
     "output_type": "display_data"
    },
    {
     "name": "stdout",
     "output_type": "stream",
     "text": [
      "\r"
     ]
    },
    {
     "data": {
      "application/vnd.jupyter.widget-view+json": {
       "model_id": "ae7ab6e200ff4e58a178dbd956ae3df3",
       "version_major": 2,
       "version_minor": 0
      },
      "text/plain": [
       "HBox(children=(IntProgress(value=0, description='calculate covariances', layout=Layout(flex='2'), max=200, sty…"
      ]
     },
     "metadata": {},
     "output_type": "display_data"
    },
    {
     "name": "stdout",
     "output_type": "stream",
     "text": [
      "\r",
      "This took 45.0 seconds\n"
     ]
    }
   ],
   "source": [
    "start = time.time()\n",
    "Ntica = coor.tica_nystroem(max_columns=200, data=data, lag=15, nsel=10)\n",
    "end = time.time()\n",
    "print(f'This took {np.round(end-start)} seconds')"
   ]
  },
  {
   "cell_type": "code",
   "execution_count": 117,
   "id": "7ee676c4",
   "metadata": {},
   "outputs": [
    {
     "data": {
      "application/vnd.jupyter.widget-view+json": {
       "model_id": "362efa0999e94e4c8afe93b9c2e19280",
       "version_major": 2,
       "version_minor": 0
      },
      "text/plain": [
       "HBox(children=(IntProgress(value=0, description='calculate covariances', layout=Layout(flex='2'), max=200, sty…"
      ]
     },
     "metadata": {},
     "output_type": "display_data"
    },
    {
     "name": "stdout",
     "output_type": "stream",
     "text": [
      "\r"
     ]
    },
    {
     "data": {
      "application/vnd.jupyter.widget-view+json": {
       "model_id": "6e63c6f75eca4d83b5e0c070d55f3f76",
       "version_major": 2,
       "version_minor": 0
      },
      "text/plain": [
       "HBox(children=(IntProgress(value=0, description='calculate covariances', layout=Layout(flex='2'), max=200, sty…"
      ]
     },
     "metadata": {},
     "output_type": "display_data"
    },
    {
     "name": "stdout",
     "output_type": "stream",
     "text": [
      "\r"
     ]
    },
    {
     "data": {
      "application/vnd.jupyter.widget-view+json": {
       "model_id": "5eb8ba4b8ec44c67975adfc82e27f30b",
       "version_major": 2,
       "version_minor": 0
      },
      "text/plain": [
       "HBox(children=(IntProgress(value=0, description='calculate covariances', layout=Layout(flex='2'), max=200, sty…"
      ]
     },
     "metadata": {},
     "output_type": "display_data"
    },
    {
     "name": "stdout",
     "output_type": "stream",
     "text": [
      "\r"
     ]
    },
    {
     "data": {
      "application/vnd.jupyter.widget-view+json": {
       "model_id": "864af6f8514c4a89ac3a738ef0a1ef04",
       "version_major": 2,
       "version_minor": 0
      },
      "text/plain": [
       "HBox(children=(IntProgress(value=0, description='calculate covariances', layout=Layout(flex='2'), max=200, sty…"
      ]
     },
     "metadata": {},
     "output_type": "display_data"
    },
    {
     "name": "stdout",
     "output_type": "stream",
     "text": [
      "\r"
     ]
    },
    {
     "data": {
      "application/vnd.jupyter.widget-view+json": {
       "model_id": "5771117ea9734ce79c840973606a7506",
       "version_major": 2,
       "version_minor": 0
      },
      "text/plain": [
       "HBox(children=(IntProgress(value=0, description='calculate covariances', layout=Layout(flex='2'), max=200, sty…"
      ]
     },
     "metadata": {},
     "output_type": "display_data"
    },
    {
     "name": "stdout",
     "output_type": "stream",
     "text": [
      "\r"
     ]
    },
    {
     "data": {
      "application/vnd.jupyter.widget-view+json": {
       "model_id": "6c2bddafb2244b50b322cf4af6b32d96",
       "version_major": 2,
       "version_minor": 0
      },
      "text/plain": [
       "HBox(children=(IntProgress(value=0, description='calculate covariances', layout=Layout(flex='2'), max=200, sty…"
      ]
     },
     "metadata": {},
     "output_type": "display_data"
    },
    {
     "name": "stdout",
     "output_type": "stream",
     "text": [
      "\r"
     ]
    },
    {
     "data": {
      "application/vnd.jupyter.widget-view+json": {
       "model_id": "4c5b07a752594c9c8dc21b42b15195b2",
       "version_major": 2,
       "version_minor": 0
      },
      "text/plain": [
       "HBox(children=(IntProgress(value=0, description='calculate covariances', layout=Layout(flex='2'), max=200, sty…"
      ]
     },
     "metadata": {},
     "output_type": "display_data"
    },
    {
     "name": "stdout",
     "output_type": "stream",
     "text": [
      "\r"
     ]
    },
    {
     "data": {
      "application/vnd.jupyter.widget-view+json": {
       "model_id": "794358cf4cc04eb49feee060915b854b",
       "version_major": 2,
       "version_minor": 0
      },
      "text/plain": [
       "HBox(children=(IntProgress(value=0, description='calculate covariances', layout=Layout(flex='2'), max=200, sty…"
      ]
     },
     "metadata": {},
     "output_type": "display_data"
    },
    {
     "name": "stdout",
     "output_type": "stream",
     "text": [
      "\r"
     ]
    },
    {
     "data": {
      "application/vnd.jupyter.widget-view+json": {
       "model_id": "ad0a3112f95342f99b877f7aa426ad7d",
       "version_major": 2,
       "version_minor": 0
      },
      "text/plain": [
       "HBox(children=(IntProgress(value=0, description='calculate covariances', layout=Layout(flex='2'), max=200, sty…"
      ]
     },
     "metadata": {},
     "output_type": "display_data"
    },
    {
     "name": "stdout",
     "output_type": "stream",
     "text": [
      "\r"
     ]
    },
    {
     "data": {
      "application/vnd.jupyter.widget-view+json": {
       "model_id": "3035ea914c3d45da8d781cfe980653e5",
       "version_major": 2,
       "version_minor": 0
      },
      "text/plain": [
       "HBox(children=(IntProgress(value=0, description='calculate covariances', layout=Layout(flex='2'), max=200, sty…"
      ]
     },
     "metadata": {},
     "output_type": "display_data"
    },
    {
     "name": "stdout",
     "output_type": "stream",
     "text": [
      "\r"
     ]
    },
    {
     "data": {
      "application/vnd.jupyter.widget-view+json": {
       "model_id": "7a1d55e2c97a4c59a5dfcf0ecb4a9108",
       "version_major": 2,
       "version_minor": 0
      },
      "text/plain": [
       "HBox(children=(IntProgress(value=0, description='calculate covariances', layout=Layout(flex='2'), max=200, sty…"
      ]
     },
     "metadata": {},
     "output_type": "display_data"
    },
    {
     "name": "stdout",
     "output_type": "stream",
     "text": [
      "\r"
     ]
    },
    {
     "data": {
      "application/vnd.jupyter.widget-view+json": {
       "model_id": "e67801e83db842bea359c49fb35d8497",
       "version_major": 2,
       "version_minor": 0
      },
      "text/plain": [
       "HBox(children=(IntProgress(value=0, description='calculate covariances', layout=Layout(flex='2'), max=200, sty…"
      ]
     },
     "metadata": {},
     "output_type": "display_data"
    },
    {
     "name": "stdout",
     "output_type": "stream",
     "text": [
      "\r",
      "This took 27.0 seconds\n"
     ]
    }
   ],
   "source": [
    "start = time.time()\n",
    "Ntica_20 = coor.tica_nystroem(max_columns=200, data=data, lag=15, nsel=20)\n",
    "end = time.time()\n",
    "print(f'This took {np.round(end-start)} seconds')"
   ]
  },
  {
   "cell_type": "code",
   "execution_count": 118,
   "id": "2d4cf3c1",
   "metadata": {},
   "outputs": [
    {
     "data": {
      "application/vnd.jupyter.widget-view+json": {
       "model_id": "8c590bacb2464b36943f9238f701a4dc",
       "version_major": 2,
       "version_minor": 0
      },
      "text/plain": [
       "HBox(children=(IntProgress(value=0, description='calculate covariances', layout=Layout(flex='2'), max=200, sty…"
      ]
     },
     "metadata": {},
     "output_type": "display_data"
    },
    {
     "name": "stdout",
     "output_type": "stream",
     "text": [
      "\r"
     ]
    },
    {
     "data": {
      "application/vnd.jupyter.widget-view+json": {
       "model_id": "788b237fbef042f396c138fd57433e1c",
       "version_major": 2,
       "version_minor": 0
      },
      "text/plain": [
       "HBox(children=(IntProgress(value=0, description='calculate covariances', layout=Layout(flex='2'), max=200, sty…"
      ]
     },
     "metadata": {},
     "output_type": "display_data"
    },
    {
     "name": "stdout",
     "output_type": "stream",
     "text": [
      "\r"
     ]
    },
    {
     "data": {
      "application/vnd.jupyter.widget-view+json": {
       "model_id": "c91aca236a44452881bc0be41b1b876f",
       "version_major": 2,
       "version_minor": 0
      },
      "text/plain": [
       "HBox(children=(IntProgress(value=0, description='calculate covariances', layout=Layout(flex='2'), max=200, sty…"
      ]
     },
     "metadata": {},
     "output_type": "display_data"
    },
    {
     "name": "stdout",
     "output_type": "stream",
     "text": [
      "\r"
     ]
    },
    {
     "data": {
      "application/vnd.jupyter.widget-view+json": {
       "model_id": "9fe0b2d94f1845bb9ebc5d71b810eef8",
       "version_major": 2,
       "version_minor": 0
      },
      "text/plain": [
       "HBox(children=(IntProgress(value=0, description='calculate covariances', layout=Layout(flex='2'), max=200, sty…"
      ]
     },
     "metadata": {},
     "output_type": "display_data"
    },
    {
     "name": "stdout",
     "output_type": "stream",
     "text": [
      "\r"
     ]
    },
    {
     "data": {
      "application/vnd.jupyter.widget-view+json": {
       "model_id": "0544c75cc8e64c67b5551cfd7024af99",
       "version_major": 2,
       "version_minor": 0
      },
      "text/plain": [
       "HBox(children=(IntProgress(value=0, description='calculate covariances', layout=Layout(flex='2'), max=200, sty…"
      ]
     },
     "metadata": {},
     "output_type": "display_data"
    },
    {
     "name": "stdout",
     "output_type": "stream",
     "text": [
      "\r"
     ]
    },
    {
     "data": {
      "application/vnd.jupyter.widget-view+json": {
       "model_id": "3ea4bb20e8ab45b18b88f7e9c3443317",
       "version_major": 2,
       "version_minor": 0
      },
      "text/plain": [
       "HBox(children=(IntProgress(value=0, description='calculate covariances', layout=Layout(flex='2'), max=200, sty…"
      ]
     },
     "metadata": {},
     "output_type": "display_data"
    },
    {
     "name": "stdout",
     "output_type": "stream",
     "text": [
      "\r"
     ]
    },
    {
     "data": {
      "application/vnd.jupyter.widget-view+json": {
       "model_id": "34d9231c16a946fdbe5f1c915a7e82a0",
       "version_major": 2,
       "version_minor": 0
      },
      "text/plain": [
       "HBox(children=(IntProgress(value=0, description='calculate covariances', layout=Layout(flex='2'), max=200, sty…"
      ]
     },
     "metadata": {},
     "output_type": "display_data"
    },
    {
     "name": "stdout",
     "output_type": "stream",
     "text": [
      "\r"
     ]
    },
    {
     "data": {
      "application/vnd.jupyter.widget-view+json": {
       "model_id": "0419a8f36a9c40c6b4b7e8878293dbeb",
       "version_major": 2,
       "version_minor": 0
      },
      "text/plain": [
       "HBox(children=(IntProgress(value=0, description='calculate covariances', layout=Layout(flex='2'), max=200, sty…"
      ]
     },
     "metadata": {},
     "output_type": "display_data"
    },
    {
     "name": "stdout",
     "output_type": "stream",
     "text": [
      "\r"
     ]
    },
    {
     "data": {
      "application/vnd.jupyter.widget-view+json": {
       "model_id": "6c7ef868c0794ba594e63becd73cf134",
       "version_major": 2,
       "version_minor": 0
      },
      "text/plain": [
       "HBox(children=(IntProgress(value=0, description='calculate covariances', layout=Layout(flex='2'), max=200, sty…"
      ]
     },
     "metadata": {},
     "output_type": "display_data"
    },
    {
     "name": "stdout",
     "output_type": "stream",
     "text": [
      "\r",
      "This took 22.0 seconds\n"
     ]
    }
   ],
   "source": [
    "start = time.time()\n",
    "Ntica_30 = coor.tica_nystroem(max_columns=200, data=data, lag=15, nsel=30)\n",
    "end = time.time()\n",
    "print(f'This took {np.round(end-start)} seconds')"
   ]
  },
  {
   "cell_type": "code",
   "execution_count": 119,
   "id": "16c4e7b3",
   "metadata": {},
   "outputs": [
    {
     "data": {
      "text/plain": [
       "Text(0, 0.5, 'Timescale (ns)')"
      ]
     },
     "execution_count": 119,
     "metadata": {},
     "output_type": "execute_result"
    },
    {
     "data": {
      "image/png": "[encoded data removed]",
      "text/plain": [
       "<Figure size 432x288 with 1 Axes>"
      ]
     },
     "metadata": {
      "needs_background": "light"
     },
     "output_type": "display_data"
    }
   ],
   "source": [
    "fig, ax = plt.subplots()\n",
    "nsel_list = [10, 20, 30]\n",
    "tica_trials = [Ntica, Ntica_20, Ntica_30]\n",
    "for i in range(5): # lets look at top 5 timescales\n",
    "    temp = [k.timescales[i] for k in tica_trials]\n",
    "    ax.plot(nsel_list, temp, label=f'ts {i + 1}')\n",
    "ax.set_xlabel('nsel option', fontsize=16)\n",
    "ax.set_ylabel('Timescale (ns)', fontsize=16)"
   ]
  },
  {
   "cell_type": "markdown",
   "id": "28a66c0e",
   "metadata": {},
   "source": [
    "in the above, implied timescales go up with increasing nsel, which is the opposite of what I was expecting, and I believe the opposite of what it should be.   \n",
    "\n",
    "I believe this means that would could keep increasing nsel for a nice speedup of the calculation without loss of accuracy\n",
    "\n",
    "I will learn later that larger values of max_columns also slows down the calculation"
   ]
  },
  {
   "cell_type": "code",
   "execution_count": 185,
   "id": "62db5684",
   "metadata": {},
   "outputs": [
    {
     "name": "stdout",
     "output_type": "stream",
     "text": [
      "Features in Ntica, Ntica_20, Ntica_30: 201 201 211\n"
     ]
    }
   ],
   "source": [
    "# Larger numbers of nsel affects the resolution of max_columns\n",
    "print(f'Features in Ntica, Ntica_20, Ntica_30: {len(Ntica.column_indices)} {len(Ntica_20.column_indices)} {len(Ntica_30.column_indices)}')"
   ]
  },
  {
   "cell_type": "code",
   "execution_count": 120,
   "id": "b3ce883a",
   "metadata": {},
   "outputs": [
    {
     "data": {
      "application/vnd.jupyter.widget-view+json": {
       "model_id": "d02d74d30f134a7dace40e7942e6e8e0",
       "version_major": 2,
       "version_minor": 0
      },
      "text/plain": [
       "HBox(children=(IntProgress(value=0, description='getting output of NystroemTICA', layout=Layout(flex='2'), max…"
      ]
     },
     "metadata": {},
     "output_type": "display_data"
    },
    {
     "name": "stdout",
     "output_type": "stream",
     "text": [
      "\r"
     ]
    },
    {
     "ename": "ValueError",
     "evalue": "shapes (1000,1220) and (211,82) not aligned: 1220 (dim 1) != 211 (dim 0)",
     "output_type": "error",
     "traceback": [
      "\u001b[0;31m---------------------------------------------------------------------------\u001b[0m",
      "\u001b[0;31mValueError\u001b[0m                                Traceback (most recent call last)",
      "\u001b[0;32m<ipython-input-120-a01fac251e76>\u001b[0m in \u001b[0;36m<module>\u001b[0;34m\u001b[0m\n\u001b[1;32m      1\u001b[0m \u001b[0;31m# Ok now lets look at the tica components\u001b[0m\u001b[0;34m\u001b[0m\u001b[0;34m\u001b[0m\u001b[0;34m\u001b[0m\u001b[0m\n\u001b[0;32m----> 2\u001b[0;31m \u001b[0mNtica_30\u001b[0m\u001b[0;34m.\u001b[0m\u001b[0mget_output\u001b[0m\u001b[0;34m(\u001b[0m\u001b[0;34m)\u001b[0m\u001b[0;34m\u001b[0m\u001b[0;34m\u001b[0m\u001b[0m\n\u001b[0m",
      "\u001b[0;32m~/anaconda3/lib/python3.7/site-packages/pyemma/coordinates/data/_base/transformer.py\u001b[0m in \u001b[0;36mget_output\u001b[0;34m(self, dimensions, stride, skip, chunk)\u001b[0m\n\u001b[1;32m    224\u001b[0m             \u001b[0mself\u001b[0m\u001b[0;34m.\u001b[0m\u001b[0mestimate\u001b[0m\u001b[0;34m(\u001b[0m\u001b[0mself\u001b[0m\u001b[0;34m.\u001b[0m\u001b[0mdata_producer\u001b[0m\u001b[0;34m,\u001b[0m \u001b[0mstride\u001b[0m\u001b[0;34m=\u001b[0m\u001b[0mstride\u001b[0m\u001b[0;34m)\u001b[0m\u001b[0;34m\u001b[0m\u001b[0;34m\u001b[0m\u001b[0m\n\u001b[1;32m    225\u001b[0m \u001b[0;34m\u001b[0m\u001b[0m\n\u001b[0;32m--> 226\u001b[0;31m         \u001b[0;32mreturn\u001b[0m \u001b[0msuper\u001b[0m\u001b[0;34m(\u001b[0m\u001b[0mStreamingTransformer\u001b[0m\u001b[0;34m,\u001b[0m \u001b[0mself\u001b[0m\u001b[0;34m)\u001b[0m\u001b[0;34m.\u001b[0m\u001b[0mget_output\u001b[0m\u001b[0;34m(\u001b[0m\u001b[0mdimensions\u001b[0m\u001b[0;34m,\u001b[0m \u001b[0mstride\u001b[0m\u001b[0;34m,\u001b[0m \u001b[0mskip\u001b[0m\u001b[0;34m,\u001b[0m \u001b[0mchunk\u001b[0m\u001b[0;34m)\u001b[0m\u001b[0;34m\u001b[0m\u001b[0;34m\u001b[0m\u001b[0m\n\u001b[0m\u001b[1;32m    227\u001b[0m \u001b[0;34m\u001b[0m\u001b[0m\n\u001b[1;32m    228\u001b[0m \u001b[0;34m\u001b[0m\u001b[0m\n",
      "\u001b[0;32m~/anaconda3/lib/python3.7/site-packages/pyemma/coordinates/data/_base/datasource.py\u001b[0m in \u001b[0;36mget_output\u001b[0;34m(self, dimensions, stride, skip, chunk)\u001b[0m\n\u001b[1;32m    404\u001b[0m             \u001b[0mpg\u001b[0m\u001b[0;34m.\u001b[0m\u001b[0mregister\u001b[0m\u001b[0;34m(\u001b[0m\u001b[0mit\u001b[0m\u001b[0;34m.\u001b[0m\u001b[0mn_chunks\u001b[0m\u001b[0;34m,\u001b[0m \u001b[0mdescription\u001b[0m\u001b[0;34m=\u001b[0m\u001b[0;34m'getting output of %s'\u001b[0m \u001b[0;34m%\u001b[0m \u001b[0mself\u001b[0m\u001b[0;34m.\u001b[0m\u001b[0m__class__\u001b[0m\u001b[0;34m.\u001b[0m\u001b[0m__name__\u001b[0m\u001b[0;34m)\u001b[0m\u001b[0;34m\u001b[0m\u001b[0;34m\u001b[0m\u001b[0m\n\u001b[1;32m    405\u001b[0m             \u001b[0;32mwith\u001b[0m \u001b[0mpg\u001b[0m\u001b[0;34m.\u001b[0m\u001b[0mcontext\u001b[0m\u001b[0;34m(\u001b[0m\u001b[0;34m)\u001b[0m\u001b[0;34m,\u001b[0m \u001b[0mit\u001b[0m\u001b[0;34m:\u001b[0m\u001b[0;34m\u001b[0m\u001b[0;34m\u001b[0m\u001b[0m\n\u001b[0;32m--> 406\u001b[0;31m                 \u001b[0;32mfor\u001b[0m \u001b[0mitraj\u001b[0m\u001b[0;34m,\u001b[0m \u001b[0mchunk\u001b[0m \u001b[0;32min\u001b[0m \u001b[0mit\u001b[0m\u001b[0;34m:\u001b[0m\u001b[0;34m\u001b[0m\u001b[0;34m\u001b[0m\u001b[0m\n\u001b[0m\u001b[1;32m    407\u001b[0m                     \u001b[0mi\u001b[0m \u001b[0;34m=\u001b[0m \u001b[0mslice\u001b[0m\u001b[0;34m(\u001b[0m\u001b[0mit\u001b[0m\u001b[0;34m.\u001b[0m\u001b[0mpos\u001b[0m\u001b[0;34m,\u001b[0m \u001b[0mit\u001b[0m\u001b[0;34m.\u001b[0m\u001b[0mpos\u001b[0m \u001b[0;34m+\u001b[0m \u001b[0mlen\u001b[0m\u001b[0;34m(\u001b[0m\u001b[0mchunk\u001b[0m\u001b[0;34m)\u001b[0m\u001b[0;34m)\u001b[0m\u001b[0;34m\u001b[0m\u001b[0;34m\u001b[0m\u001b[0m\n\u001b[1;32m    408\u001b[0m                     \u001b[0;32massert\u001b[0m \u001b[0mi\u001b[0m\u001b[0;34m.\u001b[0m\u001b[0mstop\u001b[0m \u001b[0;34m-\u001b[0m \u001b[0mi\u001b[0m\u001b[0;34m.\u001b[0m\u001b[0mstart\u001b[0m \u001b[0;34m>\u001b[0m \u001b[0;36m0\u001b[0m\u001b[0;34m\u001b[0m\u001b[0;34m\u001b[0m\u001b[0m\n",
      "\u001b[0;32m~/anaconda3/lib/python3.7/site-packages/pyemma/coordinates/data/_base/datasource.py\u001b[0m in \u001b[0;36m__next__\u001b[0;34m(self)\u001b[0m\n\u001b[1;32m   1047\u001b[0m         \u001b[0mself\u001b[0m\u001b[0;34m.\u001b[0m\u001b[0m_select_file\u001b[0m\u001b[0;34m(\u001b[0m\u001b[0mself\u001b[0m\u001b[0;34m.\u001b[0m\u001b[0m_itraj\u001b[0m\u001b[0;34m)\u001b[0m\u001b[0;34m\u001b[0m\u001b[0;34m\u001b[0m\u001b[0m\n\u001b[1;32m   1048\u001b[0m         \u001b[0;32mtry\u001b[0m\u001b[0;34m:\u001b[0m\u001b[0;34m\u001b[0m\u001b[0;34m\u001b[0m\u001b[0m\n\u001b[0;32m-> 1049\u001b[0;31m             \u001b[0mX\u001b[0m \u001b[0;34m=\u001b[0m \u001b[0mself\u001b[0m\u001b[0;34m.\u001b[0m\u001b[0m_use_cols\u001b[0m\u001b[0;34m(\u001b[0m\u001b[0mself\u001b[0m\u001b[0;34m.\u001b[0m\u001b[0m_next_chunk\u001b[0m\u001b[0;34m(\u001b[0m\u001b[0;34m)\u001b[0m\u001b[0;34m)\u001b[0m\u001b[0;34m\u001b[0m\u001b[0;34m\u001b[0m\u001b[0m\n\u001b[0m\u001b[1;32m   1050\u001b[0m             \u001b[0mself\u001b[0m\u001b[0;34m.\u001b[0m\u001b[0m_t\u001b[0m \u001b[0;34m+=\u001b[0m \u001b[0mlen\u001b[0m\u001b[0;34m(\u001b[0m\u001b[0mX\u001b[0m\u001b[0;34m)\u001b[0m\u001b[0;34m\u001b[0m\u001b[0;34m\u001b[0m\u001b[0m\n\u001b[1;32m   1051\u001b[0m         \u001b[0;32mexcept\u001b[0m \u001b[0mStopIteration\u001b[0m \u001b[0;32mas\u001b[0m \u001b[0me\u001b[0m\u001b[0;34m:\u001b[0m\u001b[0;34m\u001b[0m\u001b[0;34m\u001b[0m\u001b[0m\n",
      "\u001b[0;32m~/anaconda3/lib/python3.7/site-packages/pyemma/coordinates/data/_base/datasource.py\u001b[0m in \u001b[0;36m_next_chunk\u001b[0;34m(self)\u001b[0m\n\u001b[1;32m   1169\u001b[0m         \u001b[0;31m# We discard the trajectory index here for transformation\u001b[0m\u001b[0;34m\u001b[0m\u001b[0;34m\u001b[0m\u001b[0;34m\u001b[0m\u001b[0m\n\u001b[1;32m   1170\u001b[0m         \u001b[0;32mif\u001b[0m \u001b[0mself\u001b[0m\u001b[0;34m.\u001b[0m\u001b[0mtransform_function\u001b[0m \u001b[0;32mis\u001b[0m \u001b[0;32mnot\u001b[0m \u001b[0;32mNone\u001b[0m\u001b[0;34m:\u001b[0m\u001b[0;34m\u001b[0m\u001b[0;34m\u001b[0m\u001b[0m\n\u001b[0;32m-> 1171\u001b[0;31m             \u001b[0mx\u001b[0m \u001b[0;34m=\u001b[0m \u001b[0mself\u001b[0m\u001b[0;34m.\u001b[0m\u001b[0mtransform_function\u001b[0m\u001b[0;34m(\u001b[0m\u001b[0mx\u001b[0m\u001b[0;34m)\u001b[0m\u001b[0;34m\u001b[0m\u001b[0;34m\u001b[0m\u001b[0m\n\u001b[0m\u001b[1;32m   1172\u001b[0m         \u001b[0;32mreturn\u001b[0m \u001b[0mx\u001b[0m\u001b[0;34m\u001b[0m\u001b[0;34m\u001b[0m\u001b[0m\n\u001b[1;32m   1173\u001b[0m \u001b[0;34m\u001b[0m\u001b[0m\n",
      "\u001b[0;32m~/anaconda3/lib/python3.7/site-packages/pyemma/coordinates/transform/_tica_base.py\u001b[0m in \u001b[0;36m_transform_array\u001b[0;34m(self, X)\u001b[0m\n\u001b[1;32m    129\u001b[0m         \"\"\"\n\u001b[1;32m    130\u001b[0m         \u001b[0mX_meanfree\u001b[0m \u001b[0;34m=\u001b[0m \u001b[0mX\u001b[0m \u001b[0;34m-\u001b[0m \u001b[0mself\u001b[0m\u001b[0;34m.\u001b[0m\u001b[0mmean\u001b[0m\u001b[0;34m\u001b[0m\u001b[0;34m\u001b[0m\u001b[0m\n\u001b[0;32m--> 131\u001b[0;31m         \u001b[0mY\u001b[0m \u001b[0;34m=\u001b[0m \u001b[0mnp\u001b[0m\u001b[0;34m.\u001b[0m\u001b[0mdot\u001b[0m\u001b[0;34m(\u001b[0m\u001b[0mX_meanfree\u001b[0m\u001b[0;34m,\u001b[0m \u001b[0mself\u001b[0m\u001b[0;34m.\u001b[0m\u001b[0meigenvectors\u001b[0m\u001b[0;34m[\u001b[0m\u001b[0;34m:\u001b[0m\u001b[0;34m,\u001b[0m \u001b[0;36m0\u001b[0m\u001b[0;34m:\u001b[0m\u001b[0mself\u001b[0m\u001b[0;34m.\u001b[0m\u001b[0mdimension\u001b[0m\u001b[0;34m(\u001b[0m\u001b[0;34m)\u001b[0m\u001b[0;34m]\u001b[0m\u001b[0;34m)\u001b[0m\u001b[0;34m\u001b[0m\u001b[0;34m\u001b[0m\u001b[0m\n\u001b[0m\u001b[1;32m    132\u001b[0m \u001b[0;34m\u001b[0m\u001b[0m\n\u001b[1;32m    133\u001b[0m         \u001b[0;32mreturn\u001b[0m \u001b[0mY\u001b[0m\u001b[0;34m.\u001b[0m\u001b[0mastype\u001b[0m\u001b[0;34m(\u001b[0m\u001b[0mself\u001b[0m\u001b[0;34m.\u001b[0m\u001b[0moutput_type\u001b[0m\u001b[0;34m(\u001b[0m\u001b[0;34m)\u001b[0m\u001b[0;34m)\u001b[0m\u001b[0;34m\u001b[0m\u001b[0;34m\u001b[0m\u001b[0m\n",
      "\u001b[0;32m<__array_function__ internals>\u001b[0m in \u001b[0;36mdot\u001b[0;34m(*args, **kwargs)\u001b[0m\n",
      "\u001b[0;31mValueError\u001b[0m: shapes (1000,1220) and (211,82) not aligned: 1220 (dim 1) != 211 (dim 0)"
     ]
    }
   ],
   "source": [
    "# Ok now lets look at the tica components\n",
    "Ntica_30.get_output()"
   ]
  },
  {
   "cell_type": "markdown",
   "id": "43bfa098",
   "metadata": {},
   "source": [
    "So Nystrom tica is refusing to give me the tica components it calculated. I tried lots of different options and was unable to figure out what was going wrong. This is really bad but I will show a work around later   \n",
    "\n",
    "Next lets make a plot of implied timescales vs max_columns to make an informed decision on how sparce we can go"
   ]
  },
  {
   "cell_type": "code",
   "execution_count": 131,
   "id": "d99df4a4",
   "metadata": {},
   "outputs": [
    {
     "data": {
      "application/vnd.jupyter.widget-view+json": {
       "model_id": "2cb6d13245c74b7a8500b5a6bc349f45",
       "version_major": 2,
       "version_minor": 0
      },
      "text/plain": [
       "HBox(children=(IntProgress(value=0, description='calculate covariances', layout=Layout(flex='2'), max=200, sty…"
      ]
     },
     "metadata": {},
     "output_type": "display_data"
    },
    {
     "name": "stdout",
     "output_type": "stream",
     "text": [
      "\r"
     ]
    },
    {
     "data": {
      "application/vnd.jupyter.widget-view+json": {
       "model_id": "a61afd71dc374fc89ff4f78c23972cad",
       "version_major": 2,
       "version_minor": 0
      },
      "text/plain": [
       "HBox(children=(IntProgress(value=0, description='calculate covariances', layout=Layout(flex='2'), max=200, sty…"
      ]
     },
     "metadata": {},
     "output_type": "display_data"
    },
    {
     "name": "stdout",
     "output_type": "stream",
     "text": [
      "\r"
     ]
    },
    {
     "data": {
      "application/vnd.jupyter.widget-view+json": {
       "model_id": "e13f5fbf0cf0454fa89bdbaf35482b72",
       "version_major": 2,
       "version_minor": 0
      },
      "text/plain": [
       "HBox(children=(IntProgress(value=0, description='calculate covariances', layout=Layout(flex='2'), max=200, sty…"
      ]
     },
     "metadata": {},
     "output_type": "display_data"
    },
    {
     "name": "stdout",
     "output_type": "stream",
     "text": [
      "\r"
     ]
    },
    {
     "data": {
      "application/vnd.jupyter.widget-view+json": {
       "model_id": "ed669d68b07b4436bd138b3d0d35e6bc",
       "version_major": 2,
       "version_minor": 0
      },
      "text/plain": [
       "HBox(children=(IntProgress(value=0, description='calculate covariances', layout=Layout(flex='2'), max=200, sty…"
      ]
     },
     "metadata": {},
     "output_type": "display_data"
    },
    {
     "name": "stdout",
     "output_type": "stream",
     "text": [
      "\r"
     ]
    },
    {
     "data": {
      "application/vnd.jupyter.widget-view+json": {
       "model_id": "84d37986bad84a71ac4d0dc81e7b88af",
       "version_major": 2,
       "version_minor": 0
      },
      "text/plain": [
       "HBox(children=(IntProgress(value=0, description='calculate covariances', layout=Layout(flex='2'), max=200, sty…"
      ]
     },
     "metadata": {},
     "output_type": "display_data"
    },
    {
     "name": "stdout",
     "output_type": "stream",
     "text": [
      "\r"
     ]
    },
    {
     "data": {
      "application/vnd.jupyter.widget-view+json": {
       "model_id": "238fa4492a1a498bbc6d772290cb25fb",
       "version_major": 2,
       "version_minor": 0
      },
      "text/plain": [
       "HBox(children=(IntProgress(value=0, description='calculate covariances', layout=Layout(flex='2'), max=200, sty…"
      ]
     },
     "metadata": {},
     "output_type": "display_data"
    },
    {
     "name": "stdout",
     "output_type": "stream",
     "text": [
      "\r"
     ]
    },
    {
     "data": {
      "application/vnd.jupyter.widget-view+json": {
       "model_id": "cead68c4847146cb833ab13a39342ce6",
       "version_major": 2,
       "version_minor": 0
      },
      "text/plain": [
       "HBox(children=(IntProgress(value=0, description='calculate covariances', layout=Layout(flex='2'), max=200, sty…"
      ]
     },
     "metadata": {},
     "output_type": "display_data"
    },
    {
     "name": "stdout",
     "output_type": "stream",
     "text": [
      "\r"
     ]
    },
    {
     "data": {
      "application/vnd.jupyter.widget-view+json": {
       "model_id": "83aca0895aa64bb9b5b3a35f68c6a12f",
       "version_major": 2,
       "version_minor": 0
      },
      "text/plain": [
       "HBox(children=(IntProgress(value=0, description='calculate covariances', layout=Layout(flex='2'), max=200, sty…"
      ]
     },
     "metadata": {},
     "output_type": "display_data"
    },
    {
     "name": "stdout",
     "output_type": "stream",
     "text": [
      "\r"
     ]
    },
    {
     "data": {
      "application/vnd.jupyter.widget-view+json": {
       "model_id": "0e72b41f60734cb0ad95e3dd78d94cbb",
       "version_major": 2,
       "version_minor": 0
      },
      "text/plain": [
       "HBox(children=(IntProgress(value=0, description='calculate covariances', layout=Layout(flex='2'), max=200, sty…"
      ]
     },
     "metadata": {},
     "output_type": "display_data"
    },
    {
     "name": "stdout",
     "output_type": "stream",
     "text": [
      "\r"
     ]
    },
    {
     "data": {
      "application/vnd.jupyter.widget-view+json": {
       "model_id": "ef1889372bc7418c8b20182343b63965",
       "version_major": 2,
       "version_minor": 0
      },
      "text/plain": [
       "HBox(children=(IntProgress(value=0, description='calculate covariances', layout=Layout(flex='2'), max=200, sty…"
      ]
     },
     "metadata": {},
     "output_type": "display_data"
    },
    {
     "name": "stdout",
     "output_type": "stream",
     "text": [
      "\r"
     ]
    },
    {
     "data": {
      "application/vnd.jupyter.widget-view+json": {
       "model_id": "8e41223bc22543aa8fd3e9757fd7a277",
       "version_major": 2,
       "version_minor": 0
      },
      "text/plain": [
       "HBox(children=(IntProgress(value=0, description='calculate covariances', layout=Layout(flex='2'), max=200, sty…"
      ]
     },
     "metadata": {},
     "output_type": "display_data"
    },
    {
     "name": "stdout",
     "output_type": "stream",
     "text": [
      "\r"
     ]
    },
    {
     "data": {
      "application/vnd.jupyter.widget-view+json": {
       "model_id": "dbacde9b9d944455b313d383f8be4e14",
       "version_major": 2,
       "version_minor": 0
      },
      "text/plain": [
       "HBox(children=(IntProgress(value=0, description='calculate covariances', layout=Layout(flex='2'), max=200, sty…"
      ]
     },
     "metadata": {},
     "output_type": "display_data"
    },
    {
     "name": "stdout",
     "output_type": "stream",
     "text": [
      "\r"
     ]
    },
    {
     "data": {
      "application/vnd.jupyter.widget-view+json": {
       "model_id": "23869ccc0f1a48f7b668d624434653d0",
       "version_major": 2,
       "version_minor": 0
      },
      "text/plain": [
       "HBox(children=(IntProgress(value=0, description='calculate covariances', layout=Layout(flex='2'), max=200, sty…"
      ]
     },
     "metadata": {},
     "output_type": "display_data"
    },
    {
     "name": "stdout",
     "output_type": "stream",
     "text": [
      "\r"
     ]
    },
    {
     "data": {
      "application/vnd.jupyter.widget-view+json": {
       "model_id": "d5ef0a04b8e74297b1c11ad5487d33a7",
       "version_major": 2,
       "version_minor": 0
      },
      "text/plain": [
       "HBox(children=(IntProgress(value=0, description='calculate covariances', layout=Layout(flex='2'), max=200, sty…"
      ]
     },
     "metadata": {},
     "output_type": "display_data"
    },
    {
     "name": "stdout",
     "output_type": "stream",
     "text": [
      "\r"
     ]
    },
    {
     "data": {
      "application/vnd.jupyter.widget-view+json": {
       "model_id": "def369df90304b3c9f21e5b7b784bea0",
       "version_major": 2,
       "version_minor": 0
      },
      "text/plain": [
       "HBox(children=(IntProgress(value=0, description='calculate covariances', layout=Layout(flex='2'), max=200, sty…"
      ]
     },
     "metadata": {},
     "output_type": "display_data"
    },
    {
     "name": "stdout",
     "output_type": "stream",
     "text": [
      "\r"
     ]
    },
    {
     "data": {
      "application/vnd.jupyter.widget-view+json": {
       "model_id": "4447cc71c334411bbaa03fe28fca78c2",
       "version_major": 2,
       "version_minor": 0
      },
      "text/plain": [
       "HBox(children=(IntProgress(value=0, description='calculate covariances', layout=Layout(flex='2'), max=200, sty…"
      ]
     },
     "metadata": {},
     "output_type": "display_data"
    },
    {
     "name": "stdout",
     "output_type": "stream",
     "text": [
      "\r"
     ]
    },
    {
     "data": {
      "application/vnd.jupyter.widget-view+json": {
       "model_id": "1836076c768841c1b9899b0c27bc7575",
       "version_major": 2,
       "version_minor": 0
      },
      "text/plain": [
       "HBox(children=(IntProgress(value=0, description='calculate covariances', layout=Layout(flex='2'), max=200, sty…"
      ]
     },
     "metadata": {},
     "output_type": "display_data"
    },
    {
     "name": "stdout",
     "output_type": "stream",
     "text": [
      "\r"
     ]
    },
    {
     "data": {
      "application/vnd.jupyter.widget-view+json": {
       "model_id": "a0f87bd0c28e4083bea9c4560ecf6748",
       "version_major": 2,
       "version_minor": 0
      },
      "text/plain": [
       "HBox(children=(IntProgress(value=0, description='calculate covariances', layout=Layout(flex='2'), max=200, sty…"
      ]
     },
     "metadata": {},
     "output_type": "display_data"
    },
    {
     "name": "stdout",
     "output_type": "stream",
     "text": [
      "\r"
     ]
    },
    {
     "data": {
      "application/vnd.jupyter.widget-view+json": {
       "model_id": "8823e37d347d4117bea8220ac6de46e6",
       "version_major": 2,
       "version_minor": 0
      },
      "text/plain": [
       "HBox(children=(IntProgress(value=0, description='calculate covariances', layout=Layout(flex='2'), max=200, sty…"
      ]
     },
     "metadata": {},
     "output_type": "display_data"
    },
    {
     "name": "stdout",
     "output_type": "stream",
     "text": [
      "\r"
     ]
    },
    {
     "data": {
      "application/vnd.jupyter.widget-view+json": {
       "model_id": "05f5bae665dc4636a1ed348080d71dad",
       "version_major": 2,
       "version_minor": 0
      },
      "text/plain": [
       "HBox(children=(IntProgress(value=0, description='calculate covariances', layout=Layout(flex='2'), max=200, sty…"
      ]
     },
     "metadata": {},
     "output_type": "display_data"
    },
    {
     "name": "stdout",
     "output_type": "stream",
     "text": [
      "\r"
     ]
    },
    {
     "data": {
      "application/vnd.jupyter.widget-view+json": {
       "model_id": "a77ef18b27bb4040bc30e80ec43f4b5d",
       "version_major": 2,
       "version_minor": 0
      },
      "text/plain": [
       "HBox(children=(IntProgress(value=0, description='calculate covariances', layout=Layout(flex='2'), max=200, sty…"
      ]
     },
     "metadata": {},
     "output_type": "display_data"
    },
    {
     "name": "stdout",
     "output_type": "stream",
     "text": [
      "\r"
     ]
    },
    {
     "data": {
      "application/vnd.jupyter.widget-view+json": {
       "model_id": "b14f08682b48477b918082b066bba2fc",
       "version_major": 2,
       "version_minor": 0
      },
      "text/plain": [
       "HBox(children=(IntProgress(value=0, description='calculate covariances', layout=Layout(flex='2'), max=200, sty…"
      ]
     },
     "metadata": {},
     "output_type": "display_data"
    },
    {
     "name": "stdout",
     "output_type": "stream",
     "text": [
      "\r"
     ]
    },
    {
     "data": {
      "application/vnd.jupyter.widget-view+json": {
       "model_id": "7cddaa02eb5c4a7cbc85194f53b07fb7",
       "version_major": 2,
       "version_minor": 0
      },
      "text/plain": [
       "HBox(children=(IntProgress(value=0, description='calculate covariances', layout=Layout(flex='2'), max=200, sty…"
      ]
     },
     "metadata": {},
     "output_type": "display_data"
    },
    {
     "name": "stdout",
     "output_type": "stream",
     "text": [
      "\r"
     ]
    },
    {
     "data": {
      "application/vnd.jupyter.widget-view+json": {
       "model_id": "8957b48f40a149d994286566c48bb414",
       "version_major": 2,
       "version_minor": 0
      },
      "text/plain": [
       "HBox(children=(IntProgress(value=0, description='calculate covariances', layout=Layout(flex='2'), max=200, sty…"
      ]
     },
     "metadata": {},
     "output_type": "display_data"
    },
    {
     "name": "stdout",
     "output_type": "stream",
     "text": [
      "\r"
     ]
    },
    {
     "data": {
      "application/vnd.jupyter.widget-view+json": {
       "model_id": "1dcf201c82d344a6949b30ed3372b326",
       "version_major": 2,
       "version_minor": 0
      },
      "text/plain": [
       "HBox(children=(IntProgress(value=0, description='calculate covariances', layout=Layout(flex='2'), max=200, sty…"
      ]
     },
     "metadata": {},
     "output_type": "display_data"
    },
    {
     "name": "stdout",
     "output_type": "stream",
     "text": [
      "\r"
     ]
    },
    {
     "data": {
      "application/vnd.jupyter.widget-view+json": {
       "model_id": "b04bdf037b394c2aa56692c35e39807b",
       "version_major": 2,
       "version_minor": 0
      },
      "text/plain": [
       "HBox(children=(IntProgress(value=0, description='calculate covariances', layout=Layout(flex='2'), max=200, sty…"
      ]
     },
     "metadata": {},
     "output_type": "display_data"
    },
    {
     "name": "stdout",
     "output_type": "stream",
     "text": [
      "\r"
     ]
    },
    {
     "data": {
      "application/vnd.jupyter.widget-view+json": {
       "model_id": "b833d53cb6fc497b97abc7536903475c",
       "version_major": 2,
       "version_minor": 0
      },
      "text/plain": [
       "HBox(children=(IntProgress(value=0, description='calculate covariances', layout=Layout(flex='2'), max=200, sty…"
      ]
     },
     "metadata": {},
     "output_type": "display_data"
    },
    {
     "name": "stdout",
     "output_type": "stream",
     "text": [
      "\r"
     ]
    },
    {
     "data": {
      "application/vnd.jupyter.widget-view+json": {
       "model_id": "3c46271f9f71471db93c6a1cee56f935",
       "version_major": 2,
       "version_minor": 0
      },
      "text/plain": [
       "HBox(children=(IntProgress(value=0, description='calculate covariances', layout=Layout(flex='2'), max=200, sty…"
      ]
     },
     "metadata": {},
     "output_type": "display_data"
    },
    {
     "name": "stdout",
     "output_type": "stream",
     "text": [
      "\r"
     ]
    },
    {
     "data": {
      "application/vnd.jupyter.widget-view+json": {
       "model_id": "fa426ae0baee409dbd91873e0d4437d1",
       "version_major": 2,
       "version_minor": 0
      },
      "text/plain": [
       "HBox(children=(IntProgress(value=0, description='calculate covariances', layout=Layout(flex='2'), max=200, sty…"
      ]
     },
     "metadata": {},
     "output_type": "display_data"
    },
    {
     "name": "stdout",
     "output_type": "stream",
     "text": [
      "\r"
     ]
    },
    {
     "data": {
      "application/vnd.jupyter.widget-view+json": {
       "model_id": "9a8b69cb3c254e76a839e31a5b32b6de",
       "version_major": 2,
       "version_minor": 0
      },
      "text/plain": [
       "HBox(children=(IntProgress(value=0, description='calculate covariances', layout=Layout(flex='2'), max=200, sty…"
      ]
     },
     "metadata": {},
     "output_type": "display_data"
    },
    {
     "name": "stdout",
     "output_type": "stream",
     "text": [
      "\r"
     ]
    },
    {
     "data": {
      "application/vnd.jupyter.widget-view+json": {
       "model_id": "7508e2f0ef534ef5a676585b480cbe99",
       "version_major": 2,
       "version_minor": 0
      },
      "text/plain": [
       "HBox(children=(IntProgress(value=0, description='calculate covariances', layout=Layout(flex='2'), max=200, sty…"
      ]
     },
     "metadata": {},
     "output_type": "display_data"
    },
    {
     "name": "stdout",
     "output_type": "stream",
     "text": [
      "\r"
     ]
    },
    {
     "data": {
      "application/vnd.jupyter.widget-view+json": {
       "model_id": "9441de7441064bda9149662dbcdb2ff5",
       "version_major": 2,
       "version_minor": 0
      },
      "text/plain": [
       "HBox(children=(IntProgress(value=0, description='calculate covariances', layout=Layout(flex='2'), max=200, sty…"
      ]
     },
     "metadata": {},
     "output_type": "display_data"
    },
    {
     "name": "stdout",
     "output_type": "stream",
     "text": [
      "\r"
     ]
    },
    {
     "data": {
      "application/vnd.jupyter.widget-view+json": {
       "model_id": "023b2151d6964683902257efd1cf6b5c",
       "version_major": 2,
       "version_minor": 0
      },
      "text/plain": [
       "HBox(children=(IntProgress(value=0, description='calculate covariances', layout=Layout(flex='2'), max=200, sty…"
      ]
     },
     "metadata": {},
     "output_type": "display_data"
    },
    {
     "name": "stdout",
     "output_type": "stream",
     "text": [
      "\r"
     ]
    },
    {
     "data": {
      "application/vnd.jupyter.widget-view+json": {
       "model_id": "5c05123d39d448afb7f0c3fed8aa74cd",
       "version_major": 2,
       "version_minor": 0
      },
      "text/plain": [
       "HBox(children=(IntProgress(value=0, description='calculate covariances', layout=Layout(flex='2'), max=200, sty…"
      ]
     },
     "metadata": {},
     "output_type": "display_data"
    },
    {
     "name": "stdout",
     "output_type": "stream",
     "text": [
      "\r"
     ]
    },
    {
     "data": {
      "application/vnd.jupyter.widget-view+json": {
       "model_id": "89713d50f86643a7b41c4efb8563dc92",
       "version_major": 2,
       "version_minor": 0
      },
      "text/plain": [
       "HBox(children=(IntProgress(value=0, description='calculate covariances', layout=Layout(flex='2'), max=200, sty…"
      ]
     },
     "metadata": {},
     "output_type": "display_data"
    },
    {
     "name": "stdout",
     "output_type": "stream",
     "text": [
      "\r"
     ]
    },
    {
     "data": {
      "application/vnd.jupyter.widget-view+json": {
       "model_id": "bf66501c7fe14d78b988bc95eaf77699",
       "version_major": 2,
       "version_minor": 0
      },
      "text/plain": [
       "HBox(children=(IntProgress(value=0, description='calculate covariances', layout=Layout(flex='2'), max=200, sty…"
      ]
     },
     "metadata": {},
     "output_type": "display_data"
    },
    {
     "name": "stdout",
     "output_type": "stream",
     "text": [
      "\r"
     ]
    },
    {
     "data": {
      "application/vnd.jupyter.widget-view+json": {
       "model_id": "ccf885161fc4491abf905c57eec18116",
       "version_major": 2,
       "version_minor": 0
      },
      "text/plain": [
       "HBox(children=(IntProgress(value=0, description='calculate covariances', layout=Layout(flex='2'), max=200, sty…"
      ]
     },
     "metadata": {},
     "output_type": "display_data"
    },
    {
     "name": "stdout",
     "output_type": "stream",
     "text": [
      "\r"
     ]
    },
    {
     "data": {
      "application/vnd.jupyter.widget-view+json": {
       "model_id": "d2c371af1afe4961ad0b20af10420bed",
       "version_major": 2,
       "version_minor": 0
      },
      "text/plain": [
       "HBox(children=(IntProgress(value=0, description='calculate covariances', layout=Layout(flex='2'), max=200, sty…"
      ]
     },
     "metadata": {},
     "output_type": "display_data"
    },
    {
     "name": "stdout",
     "output_type": "stream",
     "text": [
      "\r"
     ]
    },
    {
     "data": {
      "application/vnd.jupyter.widget-view+json": {
       "model_id": "c65a6d4cf73c4c5ab8c72f69c377c696",
       "version_major": 2,
       "version_minor": 0
      },
      "text/plain": [
       "HBox(children=(IntProgress(value=0, description='calculate covariances', layout=Layout(flex='2'), max=200, sty…"
      ]
     },
     "metadata": {},
     "output_type": "display_data"
    },
    {
     "name": "stdout",
     "output_type": "stream",
     "text": [
      "\r"
     ]
    },
    {
     "data": {
      "application/vnd.jupyter.widget-view+json": {
       "model_id": "66111ab5d54b47759db399736fdac1f8",
       "version_major": 2,
       "version_minor": 0
      },
      "text/plain": [
       "HBox(children=(IntProgress(value=0, description='calculate covariances', layout=Layout(flex='2'), max=200, sty…"
      ]
     },
     "metadata": {},
     "output_type": "display_data"
    },
    {
     "name": "stdout",
     "output_type": "stream",
     "text": [
      "\r"
     ]
    },
    {
     "data": {
      "application/vnd.jupyter.widget-view+json": {
       "model_id": "2d4e211ebc964c4ab0ada66ea7382eeb",
       "version_major": 2,
       "version_minor": 0
      },
      "text/plain": [
       "HBox(children=(IntProgress(value=0, description='calculate covariances', layout=Layout(flex='2'), max=200, sty…"
      ]
     },
     "metadata": {},
     "output_type": "display_data"
    },
    {
     "name": "stdout",
     "output_type": "stream",
     "text": [
      "\r"
     ]
    },
    {
     "data": {
      "application/vnd.jupyter.widget-view+json": {
       "model_id": "6a40aaf4e33f4b789784c1087a7748d1",
       "version_major": 2,
       "version_minor": 0
      },
      "text/plain": [
       "HBox(children=(IntProgress(value=0, description='calculate covariances', layout=Layout(flex='2'), max=200, sty…"
      ]
     },
     "metadata": {},
     "output_type": "display_data"
    },
    {
     "name": "stdout",
     "output_type": "stream",
     "text": [
      "\r"
     ]
    },
    {
     "data": {
      "application/vnd.jupyter.widget-view+json": {
       "model_id": "9066658fbc1a4c1dbf6545908499f82e",
       "version_major": 2,
       "version_minor": 0
      },
      "text/plain": [
       "HBox(children=(IntProgress(value=0, description='calculate covariances', layout=Layout(flex='2'), max=200, sty…"
      ]
     },
     "metadata": {},
     "output_type": "display_data"
    },
    {
     "name": "stdout",
     "output_type": "stream",
     "text": [
      "\r"
     ]
    },
    {
     "data": {
      "application/vnd.jupyter.widget-view+json": {
       "model_id": "1592a53a9c05486390408b6cf7d08b97",
       "version_major": 2,
       "version_minor": 0
      },
      "text/plain": [
       "HBox(children=(IntProgress(value=0, description='calculate covariances', layout=Layout(flex='2'), max=200, sty…"
      ]
     },
     "metadata": {},
     "output_type": "display_data"
    },
    {
     "name": "stdout",
     "output_type": "stream",
     "text": [
      "\r"
     ]
    },
    {
     "data": {
      "application/vnd.jupyter.widget-view+json": {
       "model_id": "71da48ed0fa24665ab0fc3cb03841444",
       "version_major": 2,
       "version_minor": 0
      },
      "text/plain": [
       "HBox(children=(IntProgress(value=0, description='calculate covariances', layout=Layout(flex='2'), max=200, sty…"
      ]
     },
     "metadata": {},
     "output_type": "display_data"
    },
    {
     "name": "stdout",
     "output_type": "stream",
     "text": [
      "\r"
     ]
    },
    {
     "data": {
      "application/vnd.jupyter.widget-view+json": {
       "model_id": "c58d8c480084419f9bdbf05a31b4c051",
       "version_major": 2,
       "version_minor": 0
      },
      "text/plain": [
       "HBox(children=(IntProgress(value=0, description='calculate covariances', layout=Layout(flex='2'), max=200, sty…"
      ]
     },
     "metadata": {},
     "output_type": "display_data"
    },
    {
     "name": "stdout",
     "output_type": "stream",
     "text": [
      "\r"
     ]
    },
    {
     "data": {
      "application/vnd.jupyter.widget-view+json": {
       "model_id": "050859e37c804d6c891d04c1f26159f9",
       "version_major": 2,
       "version_minor": 0
      },
      "text/plain": [
       "HBox(children=(IntProgress(value=0, description='calculate covariances', layout=Layout(flex='2'), max=200, sty…"
      ]
     },
     "metadata": {},
     "output_type": "display_data"
    },
    {
     "name": "stdout",
     "output_type": "stream",
     "text": [
      "\r"
     ]
    },
    {
     "data": {
      "application/vnd.jupyter.widget-view+json": {
       "model_id": "d63ff951257c47189b3bec598d4f5468",
       "version_major": 2,
       "version_minor": 0
      },
      "text/plain": [
       "HBox(children=(IntProgress(value=0, description='calculate covariances', layout=Layout(flex='2'), max=200, sty…"
      ]
     },
     "metadata": {},
     "output_type": "display_data"
    },
    {
     "name": "stdout",
     "output_type": "stream",
     "text": [
      "\r"
     ]
    },
    {
     "data": {
      "application/vnd.jupyter.widget-view+json": {
       "model_id": "0e2119e5b8e64c2d9e0430753b10ceb0",
       "version_major": 2,
       "version_minor": 0
      },
      "text/plain": [
       "HBox(children=(IntProgress(value=0, description='calculate covariances', layout=Layout(flex='2'), max=200, sty…"
      ]
     },
     "metadata": {},
     "output_type": "display_data"
    },
    {
     "name": "stdout",
     "output_type": "stream",
     "text": [
      "\r"
     ]
    },
    {
     "data": {
      "application/vnd.jupyter.widget-view+json": {
       "model_id": "ba89e295569d4afeb777c263b8a5efe5",
       "version_major": 2,
       "version_minor": 0
      },
      "text/plain": [
       "HBox(children=(IntProgress(value=0, description='calculate covariances', layout=Layout(flex='2'), max=200, sty…"
      ]
     },
     "metadata": {},
     "output_type": "display_data"
    },
    {
     "name": "stdout",
     "output_type": "stream",
     "text": [
      "\r"
     ]
    },
    {
     "data": {
      "application/vnd.jupyter.widget-view+json": {
       "model_id": "8f198c23631a437e913e243d9c16bd6c",
       "version_major": 2,
       "version_minor": 0
      },
      "text/plain": [
       "HBox(children=(IntProgress(value=0, description='calculate covariances', layout=Layout(flex='2'), max=200, sty…"
      ]
     },
     "metadata": {},
     "output_type": "display_data"
    },
    {
     "name": "stdout",
     "output_type": "stream",
     "text": [
      "\r"
     ]
    },
    {
     "data": {
      "application/vnd.jupyter.widget-view+json": {
       "model_id": "e7a552be9ae848fda8041ef066508115",
       "version_major": 2,
       "version_minor": 0
      },
      "text/plain": [
       "HBox(children=(IntProgress(value=0, description='calculate covariances', layout=Layout(flex='2'), max=200, sty…"
      ]
     },
     "metadata": {},
     "output_type": "display_data"
    },
    {
     "name": "stdout",
     "output_type": "stream",
     "text": [
      "\r"
     ]
    },
    {
     "data": {
      "application/vnd.jupyter.widget-view+json": {
       "model_id": "61b316d6aa1c43239d0dc03226b8c089",
       "version_major": 2,
       "version_minor": 0
      },
      "text/plain": [
       "HBox(children=(IntProgress(value=0, description='calculate covariances', layout=Layout(flex='2'), max=200, sty…"
      ]
     },
     "metadata": {},
     "output_type": "display_data"
    },
    {
     "name": "stdout",
     "output_type": "stream",
     "text": [
      "\r"
     ]
    },
    {
     "data": {
      "application/vnd.jupyter.widget-view+json": {
       "model_id": "f77f11cc21c94a4f9ad05277f710b273",
       "version_major": 2,
       "version_minor": 0
      },
      "text/plain": [
       "HBox(children=(IntProgress(value=0, description='calculate covariances', layout=Layout(flex='2'), max=200, sty…"
      ]
     },
     "metadata": {},
     "output_type": "display_data"
    },
    {
     "name": "stdout",
     "output_type": "stream",
     "text": [
      "\r"
     ]
    },
    {
     "data": {
      "application/vnd.jupyter.widget-view+json": {
       "model_id": "19b8409e672a47bfa73fd33f50ccc683",
       "version_major": 2,
       "version_minor": 0
      },
      "text/plain": [
       "HBox(children=(IntProgress(value=0, description='calculate covariances', layout=Layout(flex='2'), max=200, sty…"
      ]
     },
     "metadata": {},
     "output_type": "display_data"
    },
    {
     "name": "stdout",
     "output_type": "stream",
     "text": [
      "\r"
     ]
    },
    {
     "data": {
      "application/vnd.jupyter.widget-view+json": {
       "model_id": "7141e1e1eca0403da2cbf69e82d6385d",
       "version_major": 2,
       "version_minor": 0
      },
      "text/plain": [
       "HBox(children=(IntProgress(value=0, description='calculate covariances', layout=Layout(flex='2'), max=200, sty…"
      ]
     },
     "metadata": {},
     "output_type": "display_data"
    },
    {
     "name": "stdout",
     "output_type": "stream",
     "text": [
      "\r"
     ]
    },
    {
     "data": {
      "application/vnd.jupyter.widget-view+json": {
       "model_id": "6df6bfcf1b284b12a5f44caca54daac9",
       "version_major": 2,
       "version_minor": 0
      },
      "text/plain": [
       "HBox(children=(IntProgress(value=0, description='calculate covariances', layout=Layout(flex='2'), max=200, sty…"
      ]
     },
     "metadata": {},
     "output_type": "display_data"
    },
    {
     "name": "stdout",
     "output_type": "stream",
     "text": [
      "\r"
     ]
    },
    {
     "data": {
      "application/vnd.jupyter.widget-view+json": {
       "model_id": "524fe5f92e77412eb72460a98e5ba66d",
       "version_major": 2,
       "version_minor": 0
      },
      "text/plain": [
       "HBox(children=(IntProgress(value=0, description='calculate covariances', layout=Layout(flex='2'), max=200, sty…"
      ]
     },
     "metadata": {},
     "output_type": "display_data"
    },
    {
     "name": "stdout",
     "output_type": "stream",
     "text": [
      "\r"
     ]
    },
    {
     "data": {
      "application/vnd.jupyter.widget-view+json": {
       "model_id": "8d30a089af8945dda49966df423da251",
       "version_major": 2,
       "version_minor": 0
      },
      "text/plain": [
       "HBox(children=(IntProgress(value=0, description='calculate covariances', layout=Layout(flex='2'), max=200, sty…"
      ]
     },
     "metadata": {},
     "output_type": "display_data"
    },
    {
     "name": "stdout",
     "output_type": "stream",
     "text": [
      "\r"
     ]
    },
    {
     "data": {
      "application/vnd.jupyter.widget-view+json": {
       "model_id": "67dbbbec882e4bf2bcd5d3431de23304",
       "version_major": 2,
       "version_minor": 0
      },
      "text/plain": [
       "HBox(children=(IntProgress(value=0, description='calculate covariances', layout=Layout(flex='2'), max=200, sty…"
      ]
     },
     "metadata": {},
     "output_type": "display_data"
    },
    {
     "name": "stdout",
     "output_type": "stream",
     "text": [
      "\r"
     ]
    },
    {
     "data": {
      "application/vnd.jupyter.widget-view+json": {
       "model_id": "2fa4216b463741ecb4178670bb2f5139",
       "version_major": 2,
       "version_minor": 0
      },
      "text/plain": [
       "HBox(children=(IntProgress(value=0, description='calculate covariances', layout=Layout(flex='2'), max=200, sty…"
      ]
     },
     "metadata": {},
     "output_type": "display_data"
    },
    {
     "name": "stdout",
     "output_type": "stream",
     "text": [
      "\r"
     ]
    },
    {
     "data": {
      "application/vnd.jupyter.widget-view+json": {
       "model_id": "b7501a744ce646638318622684a0e1a2",
       "version_major": 2,
       "version_minor": 0
      },
      "text/plain": [
       "HBox(children=(IntProgress(value=0, description='calculate covariances', layout=Layout(flex='2'), max=200, sty…"
      ]
     },
     "metadata": {},
     "output_type": "display_data"
    },
    {
     "name": "stdout",
     "output_type": "stream",
     "text": [
      "\r"
     ]
    },
    {
     "data": {
      "application/vnd.jupyter.widget-view+json": {
       "model_id": "0881dfcf4b084d529b19832cae8711e4",
       "version_major": 2,
       "version_minor": 0
      },
      "text/plain": [
       "HBox(children=(IntProgress(value=0, description='calculate covariances', layout=Layout(flex='2'), max=200, sty…"
      ]
     },
     "metadata": {},
     "output_type": "display_data"
    },
    {
     "name": "stdout",
     "output_type": "stream",
     "text": [
      "\r"
     ]
    },
    {
     "data": {
      "application/vnd.jupyter.widget-view+json": {
       "model_id": "6b5faf8675124e12af87ee494f8cce5a",
       "version_major": 2,
       "version_minor": 0
      },
      "text/plain": [
       "HBox(children=(IntProgress(value=0, description='calculate covariances', layout=Layout(flex='2'), max=200, sty…"
      ]
     },
     "metadata": {},
     "output_type": "display_data"
    },
    {
     "name": "stdout",
     "output_type": "stream",
     "text": [
      "\r"
     ]
    },
    {
     "data": {
      "application/vnd.jupyter.widget-view+json": {
       "model_id": "93f3ed5ea3b74a1a8b08b4fa7d417b8a",
       "version_major": 2,
       "version_minor": 0
      },
      "text/plain": [
       "HBox(children=(IntProgress(value=0, description='calculate covariances', layout=Layout(flex='2'), max=200, sty…"
      ]
     },
     "metadata": {},
     "output_type": "display_data"
    },
    {
     "name": "stdout",
     "output_type": "stream",
     "text": [
      "\r"
     ]
    },
    {
     "data": {
      "application/vnd.jupyter.widget-view+json": {
       "model_id": "5ab4b9c9a7f349879d4d7193633377d4",
       "version_major": 2,
       "version_minor": 0
      },
      "text/plain": [
       "HBox(children=(IntProgress(value=0, description='calculate covariances', layout=Layout(flex='2'), max=200, sty…"
      ]
     },
     "metadata": {},
     "output_type": "display_data"
    },
    {
     "name": "stdout",
     "output_type": "stream",
     "text": [
      "\r"
     ]
    },
    {
     "data": {
      "application/vnd.jupyter.widget-view+json": {
       "model_id": "e27721537f8145ae9f20b4bf7c39b5d5",
       "version_major": 2,
       "version_minor": 0
      },
      "text/plain": [
       "HBox(children=(IntProgress(value=0, description='calculate covariances', layout=Layout(flex='2'), max=200, sty…"
      ]
     },
     "metadata": {},
     "output_type": "display_data"
    },
    {
     "name": "stdout",
     "output_type": "stream",
     "text": [
      "\r"
     ]
    },
    {
     "data": {
      "application/vnd.jupyter.widget-view+json": {
       "model_id": "6b6bc317ced241b482dc4a708b4a1530",
       "version_major": 2,
       "version_minor": 0
      },
      "text/plain": [
       "HBox(children=(IntProgress(value=0, description='calculate covariances', layout=Layout(flex='2'), max=200, sty…"
      ]
     },
     "metadata": {},
     "output_type": "display_data"
    },
    {
     "name": "stdout",
     "output_type": "stream",
     "text": [
      "\r"
     ]
    },
    {
     "data": {
      "application/vnd.jupyter.widget-view+json": {
       "model_id": "3f57502646864093a2281240790d0f8d",
       "version_major": 2,
       "version_minor": 0
      },
      "text/plain": [
       "HBox(children=(IntProgress(value=0, description='calculate covariances', layout=Layout(flex='2'), max=200, sty…"
      ]
     },
     "metadata": {},
     "output_type": "display_data"
    },
    {
     "name": "stdout",
     "output_type": "stream",
     "text": [
      "\r"
     ]
    },
    {
     "data": {
      "application/vnd.jupyter.widget-view+json": {
       "model_id": "c2c5df8862fb47e6b4221bbad9e73f2f",
       "version_major": 2,
       "version_minor": 0
      },
      "text/plain": [
       "HBox(children=(IntProgress(value=0, description='calculate covariances', layout=Layout(flex='2'), max=200, sty…"
      ]
     },
     "metadata": {},
     "output_type": "display_data"
    },
    {
     "name": "stdout",
     "output_type": "stream",
     "text": [
      "\r"
     ]
    },
    {
     "data": {
      "application/vnd.jupyter.widget-view+json": {
       "model_id": "b68775d7ddea495a92603dba3a101ded",
       "version_major": 2,
       "version_minor": 0
      },
      "text/plain": [
       "HBox(children=(IntProgress(value=0, description='calculate covariances', layout=Layout(flex='2'), max=200, sty…"
      ]
     },
     "metadata": {},
     "output_type": "display_data"
    },
    {
     "name": "stdout",
     "output_type": "stream",
     "text": [
      "\r"
     ]
    },
    {
     "data": {
      "application/vnd.jupyter.widget-view+json": {
       "model_id": "5c61b1c61e10481381dea01e3d4f2da7",
       "version_major": 2,
       "version_minor": 0
      },
      "text/plain": [
       "HBox(children=(IntProgress(value=0, description='calculate covariances', layout=Layout(flex='2'), max=200, sty…"
      ]
     },
     "metadata": {},
     "output_type": "display_data"
    },
    {
     "name": "stdout",
     "output_type": "stream",
     "text": [
      "\r"
     ]
    },
    {
     "data": {
      "application/vnd.jupyter.widget-view+json": {
       "model_id": "96a57a5fe17a43788a28900168778fe2",
       "version_major": 2,
       "version_minor": 0
      },
      "text/plain": [
       "HBox(children=(IntProgress(value=0, description='calculate covariances', layout=Layout(flex='2'), max=200, sty…"
      ]
     },
     "metadata": {},
     "output_type": "display_data"
    },
    {
     "name": "stdout",
     "output_type": "stream",
     "text": [
      "\r"
     ]
    },
    {
     "data": {
      "application/vnd.jupyter.widget-view+json": {
       "model_id": "06462539900846649c41cf9a88662a36",
       "version_major": 2,
       "version_minor": 0
      },
      "text/plain": [
       "HBox(children=(IntProgress(value=0, description='calculate covariances', layout=Layout(flex='2'), max=200, sty…"
      ]
     },
     "metadata": {},
     "output_type": "display_data"
    },
    {
     "name": "stdout",
     "output_type": "stream",
     "text": [
      "\r"
     ]
    },
    {
     "data": {
      "application/vnd.jupyter.widget-view+json": {
       "model_id": "0ffb45dfb692415386fca29f623dabb1",
       "version_major": 2,
       "version_minor": 0
      },
      "text/plain": [
       "HBox(children=(IntProgress(value=0, description='calculate covariances', layout=Layout(flex='2'), max=200, sty…"
      ]
     },
     "metadata": {},
     "output_type": "display_data"
    },
    {
     "name": "stdout",
     "output_type": "stream",
     "text": [
      "\r"
     ]
    },
    {
     "data": {
      "application/vnd.jupyter.widget-view+json": {
       "model_id": "4901bc8207b04580bab3ad14dfa22f8f",
       "version_major": 2,
       "version_minor": 0
      },
      "text/plain": [
       "HBox(children=(IntProgress(value=0, description='calculate covariances', layout=Layout(flex='2'), max=200, sty…"
      ]
     },
     "metadata": {},
     "output_type": "display_data"
    },
    {
     "name": "stdout",
     "output_type": "stream",
     "text": [
      "\r"
     ]
    },
    {
     "data": {
      "application/vnd.jupyter.widget-view+json": {
       "model_id": "166a37511cda49d78dd1fe3fc845f8d0",
       "version_major": 2,
       "version_minor": 0
      },
      "text/plain": [
       "HBox(children=(IntProgress(value=0, description='calculate covariances', layout=Layout(flex='2'), max=200, sty…"
      ]
     },
     "metadata": {},
     "output_type": "display_data"
    },
    {
     "name": "stdout",
     "output_type": "stream",
     "text": [
      "\r"
     ]
    },
    {
     "data": {
      "application/vnd.jupyter.widget-view+json": {
       "model_id": "1f3bf844303546eead1d19bf2d108369",
       "version_major": 2,
       "version_minor": 0
      },
      "text/plain": [
       "HBox(children=(IntProgress(value=0, description='calculate covariances', layout=Layout(flex='2'), max=200, sty…"
      ]
     },
     "metadata": {},
     "output_type": "display_data"
    },
    {
     "name": "stdout",
     "output_type": "stream",
     "text": [
      "\r"
     ]
    },
    {
     "data": {
      "application/vnd.jupyter.widget-view+json": {
       "model_id": "9e03d52bc0974df68f9d8c505c4a2e76",
       "version_major": 2,
       "version_minor": 0
      },
      "text/plain": [
       "HBox(children=(IntProgress(value=0, description='calculate covariances', layout=Layout(flex='2'), max=200, sty…"
      ]
     },
     "metadata": {},
     "output_type": "display_data"
    },
    {
     "name": "stdout",
     "output_type": "stream",
     "text": [
      "\r"
     ]
    },
    {
     "data": {
      "application/vnd.jupyter.widget-view+json": {
       "model_id": "cbe460b12e51446d8763f8b62817763b",
       "version_major": 2,
       "version_minor": 0
      },
      "text/plain": [
       "HBox(children=(IntProgress(value=0, description='calculate covariances', layout=Layout(flex='2'), max=200, sty…"
      ]
     },
     "metadata": {},
     "output_type": "display_data"
    },
    {
     "name": "stdout",
     "output_type": "stream",
     "text": [
      "\r"
     ]
    },
    {
     "data": {
      "application/vnd.jupyter.widget-view+json": {
       "model_id": "0ccc92f56550489bb9b8ae8a29942116",
       "version_major": 2,
       "version_minor": 0
      },
      "text/plain": [
       "HBox(children=(IntProgress(value=0, description='calculate covariances', layout=Layout(flex='2'), max=200, sty…"
      ]
     },
     "metadata": {},
     "output_type": "display_data"
    },
    {
     "name": "stdout",
     "output_type": "stream",
     "text": [
      "\r"
     ]
    },
    {
     "data": {
      "application/vnd.jupyter.widget-view+json": {
       "model_id": "af636f25723845a2892063aef4cafd29",
       "version_major": 2,
       "version_minor": 0
      },
      "text/plain": [
       "HBox(children=(IntProgress(value=0, description='calculate covariances', layout=Layout(flex='2'), max=200, sty…"
      ]
     },
     "metadata": {},
     "output_type": "display_data"
    },
    {
     "name": "stdout",
     "output_type": "stream",
     "text": [
      "\r"
     ]
    },
    {
     "data": {
      "application/vnd.jupyter.widget-view+json": {
       "model_id": "a942736858114b3cbf8e3e29ff822747",
       "version_major": 2,
       "version_minor": 0
      },
      "text/plain": [
       "HBox(children=(IntProgress(value=0, description='calculate covariances', layout=Layout(flex='2'), max=200, sty…"
      ]
     },
     "metadata": {},
     "output_type": "display_data"
    },
    {
     "name": "stdout",
     "output_type": "stream",
     "text": [
      "\r"
     ]
    },
    {
     "data": {
      "application/vnd.jupyter.widget-view+json": {
       "model_id": "0ce2281588744ab394de2b5330c23c9d",
       "version_major": 2,
       "version_minor": 0
      },
      "text/plain": [
       "HBox(children=(IntProgress(value=0, description='calculate covariances', layout=Layout(flex='2'), max=200, sty…"
      ]
     },
     "metadata": {},
     "output_type": "display_data"
    },
    {
     "name": "stdout",
     "output_type": "stream",
     "text": [
      "\r"
     ]
    },
    {
     "data": {
      "application/vnd.jupyter.widget-view+json": {
       "model_id": "6a04e7df1493434b967dc1e2baac333a",
       "version_major": 2,
       "version_minor": 0
      },
      "text/plain": [
       "HBox(children=(IntProgress(value=0, description='calculate covariances', layout=Layout(flex='2'), max=200, sty…"
      ]
     },
     "metadata": {},
     "output_type": "display_data"
    },
    {
     "name": "stdout",
     "output_type": "stream",
     "text": [
      "\r"
     ]
    },
    {
     "data": {
      "application/vnd.jupyter.widget-view+json": {
       "model_id": "b50d0f5bfd804fe5a41c55a815b59a63",
       "version_major": 2,
       "version_minor": 0
      },
      "text/plain": [
       "HBox(children=(IntProgress(value=0, description='calculate covariances', layout=Layout(flex='2'), max=200, sty…"
      ]
     },
     "metadata": {},
     "output_type": "display_data"
    },
    {
     "name": "stdout",
     "output_type": "stream",
     "text": [
      "\r"
     ]
    },
    {
     "data": {
      "application/vnd.jupyter.widget-view+json": {
       "model_id": "89c6f70c83c845f1aa154fd5be3f6b9d",
       "version_major": 2,
       "version_minor": 0
      },
      "text/plain": [
       "HBox(children=(IntProgress(value=0, description='calculate covariances', layout=Layout(flex='2'), max=200, sty…"
      ]
     },
     "metadata": {},
     "output_type": "display_data"
    },
    {
     "name": "stdout",
     "output_type": "stream",
     "text": [
      "\r"
     ]
    },
    {
     "data": {
      "application/vnd.jupyter.widget-view+json": {
       "model_id": "8278bbb98f44468fb9132925926d7137",
       "version_major": 2,
       "version_minor": 0
      },
      "text/plain": [
       "HBox(children=(IntProgress(value=0, description='calculate covariances', layout=Layout(flex='2'), max=200, sty…"
      ]
     },
     "metadata": {},
     "output_type": "display_data"
    },
    {
     "name": "stdout",
     "output_type": "stream",
     "text": [
      "\r"
     ]
    },
    {
     "data": {
      "application/vnd.jupyter.widget-view+json": {
       "model_id": "7c38e09370d74e419fd0a244f9e27d61",
       "version_major": 2,
       "version_minor": 0
      },
      "text/plain": [
       "HBox(children=(IntProgress(value=0, description='calculate covariances', layout=Layout(flex='2'), max=200, sty…"
      ]
     },
     "metadata": {},
     "output_type": "display_data"
    },
    {
     "name": "stdout",
     "output_type": "stream",
     "text": [
      "\r"
     ]
    },
    {
     "data": {
      "application/vnd.jupyter.widget-view+json": {
       "model_id": "07ffbea072a443818f51bacf1f074027",
       "version_major": 2,
       "version_minor": 0
      },
      "text/plain": [
       "HBox(children=(IntProgress(value=0, description='calculate covariances', layout=Layout(flex='2'), max=200, sty…"
      ]
     },
     "metadata": {},
     "output_type": "display_data"
    },
    {
     "name": "stdout",
     "output_type": "stream",
     "text": [
      "\r"
     ]
    },
    {
     "data": {
      "application/vnd.jupyter.widget-view+json": {
       "model_id": "138893b75b8d457f913ddb00ff7b778b",
       "version_major": 2,
       "version_minor": 0
      },
      "text/plain": [
       "HBox(children=(IntProgress(value=0, description='calculate covariances', layout=Layout(flex='2'), max=200, sty…"
      ]
     },
     "metadata": {},
     "output_type": "display_data"
    },
    {
     "name": "stdout",
     "output_type": "stream",
     "text": [
      "\r"
     ]
    },
    {
     "data": {
      "application/vnd.jupyter.widget-view+json": {
       "model_id": "1000c253a445439487695600eec4cef7",
       "version_major": 2,
       "version_minor": 0
      },
      "text/plain": [
       "HBox(children=(IntProgress(value=0, description='calculate covariances', layout=Layout(flex='2'), max=200, sty…"
      ]
     },
     "metadata": {},
     "output_type": "display_data"
    },
    {
     "name": "stdout",
     "output_type": "stream",
     "text": [
      "\r"
     ]
    },
    {
     "data": {
      "application/vnd.jupyter.widget-view+json": {
       "model_id": "fc8ca2a2d4c44d19b516298439196eea",
       "version_major": 2,
       "version_minor": 0
      },
      "text/plain": [
       "HBox(children=(IntProgress(value=0, description='calculate covariances', layout=Layout(flex='2'), max=200, sty…"
      ]
     },
     "metadata": {},
     "output_type": "display_data"
    },
    {
     "name": "stdout",
     "output_type": "stream",
     "text": [
      "\r"
     ]
    },
    {
     "data": {
      "application/vnd.jupyter.widget-view+json": {
       "model_id": "603c3ea08b0b4db3aa3b1783ec18ebdd",
       "version_major": 2,
       "version_minor": 0
      },
      "text/plain": [
       "HBox(children=(IntProgress(value=0, description='calculate covariances', layout=Layout(flex='2'), max=200, sty…"
      ]
     },
     "metadata": {},
     "output_type": "display_data"
    },
    {
     "name": "stdout",
     "output_type": "stream",
     "text": [
      "\r"
     ]
    },
    {
     "data": {
      "application/vnd.jupyter.widget-view+json": {
       "model_id": "0bb5012a39cf40e993759ed1f7c99d4c",
       "version_major": 2,
       "version_minor": 0
      },
      "text/plain": [
       "HBox(children=(IntProgress(value=0, description='calculate covariances', layout=Layout(flex='2'), max=200, sty…"
      ]
     },
     "metadata": {},
     "output_type": "display_data"
    },
    {
     "name": "stdout",
     "output_type": "stream",
     "text": [
      "\r"
     ]
    },
    {
     "data": {
      "application/vnd.jupyter.widget-view+json": {
       "model_id": "bd66bc07ada34e0e8fb6bcbfa9e78a22",
       "version_major": 2,
       "version_minor": 0
      },
      "text/plain": [
       "HBox(children=(IntProgress(value=0, description='calculate covariances', layout=Layout(flex='2'), max=200, sty…"
      ]
     },
     "metadata": {},
     "output_type": "display_data"
    },
    {
     "name": "stdout",
     "output_type": "stream",
     "text": [
      "\r"
     ]
    },
    {
     "data": {
      "application/vnd.jupyter.widget-view+json": {
       "model_id": "2f73249f15f44f218f2abaa67cf8a23f",
       "version_major": 2,
       "version_minor": 0
      },
      "text/plain": [
       "HBox(children=(IntProgress(value=0, description='calculate covariances', layout=Layout(flex='2'), max=200, sty…"
      ]
     },
     "metadata": {},
     "output_type": "display_data"
    },
    {
     "name": "stdout",
     "output_type": "stream",
     "text": [
      "\r"
     ]
    },
    {
     "data": {
      "application/vnd.jupyter.widget-view+json": {
       "model_id": "e608c63fee69497fbe4fd8e6be7d4afb",
       "version_major": 2,
       "version_minor": 0
      },
      "text/plain": [
       "HBox(children=(IntProgress(value=0, description='calculate covariances', layout=Layout(flex='2'), max=200, sty…"
      ]
     },
     "metadata": {},
     "output_type": "display_data"
    },
    {
     "name": "stdout",
     "output_type": "stream",
     "text": [
      "\r"
     ]
    },
    {
     "data": {
      "application/vnd.jupyter.widget-view+json": {
       "model_id": "8b01a3d1c21e4e1da1cb2e09eee327ec",
       "version_major": 2,
       "version_minor": 0
      },
      "text/plain": [
       "HBox(children=(IntProgress(value=0, description='calculate covariances', layout=Layout(flex='2'), max=200, sty…"
      ]
     },
     "metadata": {},
     "output_type": "display_data"
    },
    {
     "name": "stdout",
     "output_type": "stream",
     "text": [
      "\r"
     ]
    },
    {
     "data": {
      "application/vnd.jupyter.widget-view+json": {
       "model_id": "25765a09779b44d1a6b8d361f23f63d0",
       "version_major": 2,
       "version_minor": 0
      },
      "text/plain": [
       "HBox(children=(IntProgress(value=0, description='calculate covariances', layout=Layout(flex='2'), max=200, sty…"
      ]
     },
     "metadata": {},
     "output_type": "display_data"
    },
    {
     "name": "stdout",
     "output_type": "stream",
     "text": [
      "\r"
     ]
    },
    {
     "data": {
      "application/vnd.jupyter.widget-view+json": {
       "model_id": "4795ec1712754e8daaf06bf520f833ab",
       "version_major": 2,
       "version_minor": 0
      },
      "text/plain": [
       "HBox(children=(IntProgress(value=0, description='calculate covariances', layout=Layout(flex='2'), max=200, sty…"
      ]
     },
     "metadata": {},
     "output_type": "display_data"
    },
    {
     "name": "stdout",
     "output_type": "stream",
     "text": [
      "\r"
     ]
    },
    {
     "data": {
      "application/vnd.jupyter.widget-view+json": {
       "model_id": "4ff7f2acefde4721bd38cd9b418bf2fe",
       "version_major": 2,
       "version_minor": 0
      },
      "text/plain": [
       "HBox(children=(IntProgress(value=0, description='calculate covariances', layout=Layout(flex='2'), max=200, sty…"
      ]
     },
     "metadata": {},
     "output_type": "display_data"
    },
    {
     "name": "stdout",
     "output_type": "stream",
     "text": [
      "\r"
     ]
    },
    {
     "data": {
      "application/vnd.jupyter.widget-view+json": {
       "model_id": "348d3f86e4b249edbb903d3eceddfd3c",
       "version_major": 2,
       "version_minor": 0
      },
      "text/plain": [
       "HBox(children=(IntProgress(value=0, description='calculate covariances', layout=Layout(flex='2'), max=200, sty…"
      ]
     },
     "metadata": {},
     "output_type": "display_data"
    },
    {
     "name": "stdout",
     "output_type": "stream",
     "text": [
      "\r"
     ]
    },
    {
     "data": {
      "application/vnd.jupyter.widget-view+json": {
       "model_id": "100d6037f0de4676842628edae4130ed",
       "version_major": 2,
       "version_minor": 0
      },
      "text/plain": [
       "HBox(children=(IntProgress(value=0, description='calculate covariances', layout=Layout(flex='2'), max=200, sty…"
      ]
     },
     "metadata": {},
     "output_type": "display_data"
    },
    {
     "name": "stdout",
     "output_type": "stream",
     "text": [
      "\r"
     ]
    },
    {
     "data": {
      "application/vnd.jupyter.widget-view+json": {
       "model_id": "67dceb952e294b8b85997d5b3f4ef89a",
       "version_major": 2,
       "version_minor": 0
      },
      "text/plain": [
       "HBox(children=(IntProgress(value=0, description='calculate covariances', layout=Layout(flex='2'), max=200, sty…"
      ]
     },
     "metadata": {},
     "output_type": "display_data"
    },
    {
     "name": "stdout",
     "output_type": "stream",
     "text": [
      "\r"
     ]
    },
    {
     "data": {
      "application/vnd.jupyter.widget-view+json": {
       "model_id": "fce91ef0ead64fa8afa05dbf85a4cba6",
       "version_major": 2,
       "version_minor": 0
      },
      "text/plain": [
       "HBox(children=(IntProgress(value=0, description='calculate covariances', layout=Layout(flex='2'), max=200, sty…"
      ]
     },
     "metadata": {},
     "output_type": "display_data"
    },
    {
     "name": "stdout",
     "output_type": "stream",
     "text": [
      "\r"
     ]
    },
    {
     "data": {
      "application/vnd.jupyter.widget-view+json": {
       "model_id": "a85cb4f4d92243bb9e0efaafe1f3ea7c",
       "version_major": 2,
       "version_minor": 0
      },
      "text/plain": [
       "HBox(children=(IntProgress(value=0, description='calculate covariances', layout=Layout(flex='2'), max=200, sty…"
      ]
     },
     "metadata": {},
     "output_type": "display_data"
    },
    {
     "name": "stdout",
     "output_type": "stream",
     "text": [
      "\r"
     ]
    },
    {
     "data": {
      "application/vnd.jupyter.widget-view+json": {
       "model_id": "93e0d58a47af402cbfd444e9eff11fd8",
       "version_major": 2,
       "version_minor": 0
      },
      "text/plain": [
       "HBox(children=(IntProgress(value=0, description='calculate covariances', layout=Layout(flex='2'), max=200, sty…"
      ]
     },
     "metadata": {},
     "output_type": "display_data"
    },
    {
     "name": "stdout",
     "output_type": "stream",
     "text": [
      "\r"
     ]
    },
    {
     "data": {
      "application/vnd.jupyter.widget-view+json": {
       "model_id": "f7419af3daee4eb9b6def80d7e4317ab",
       "version_major": 2,
       "version_minor": 0
      },
      "text/plain": [
       "HBox(children=(IntProgress(value=0, description='calculate covariances', layout=Layout(flex='2'), max=200, sty…"
      ]
     },
     "metadata": {},
     "output_type": "display_data"
    },
    {
     "name": "stdout",
     "output_type": "stream",
     "text": [
      "\r"
     ]
    },
    {
     "data": {
      "application/vnd.jupyter.widget-view+json": {
       "model_id": "aa0ebb046f274fdaa69820f7e0799b31",
       "version_major": 2,
       "version_minor": 0
      },
      "text/plain": [
       "HBox(children=(IntProgress(value=0, description='calculate covariances', layout=Layout(flex='2'), max=200, sty…"
      ]
     },
     "metadata": {},
     "output_type": "display_data"
    },
    {
     "name": "stdout",
     "output_type": "stream",
     "text": [
      "\r"
     ]
    },
    {
     "data": {
      "application/vnd.jupyter.widget-view+json": {
       "model_id": "f06a2c4ad18e412c870cd82173204980",
       "version_major": 2,
       "version_minor": 0
      },
      "text/plain": [
       "HBox(children=(IntProgress(value=0, description='calculate covariances', layout=Layout(flex='2'), max=200, sty…"
      ]
     },
     "metadata": {},
     "output_type": "display_data"
    },
    {
     "name": "stdout",
     "output_type": "stream",
     "text": [
      "\r"
     ]
    },
    {
     "data": {
      "application/vnd.jupyter.widget-view+json": {
       "model_id": "1f750954279543b6a897ba14deb679b8",
       "version_major": 2,
       "version_minor": 0
      },
      "text/plain": [
       "HBox(children=(IntProgress(value=0, description='calculate covariances', layout=Layout(flex='2'), max=200, sty…"
      ]
     },
     "metadata": {},
     "output_type": "display_data"
    },
    {
     "name": "stdout",
     "output_type": "stream",
     "text": [
      "\r"
     ]
    },
    {
     "data": {
      "application/vnd.jupyter.widget-view+json": {
       "model_id": "e694ef2ee34646d9b4c2f6cbec8aeca2",
       "version_major": 2,
       "version_minor": 0
      },
      "text/plain": [
       "HBox(children=(IntProgress(value=0, description='calculate covariances', layout=Layout(flex='2'), max=200, sty…"
      ]
     },
     "metadata": {},
     "output_type": "display_data"
    },
    {
     "name": "stdout",
     "output_type": "stream",
     "text": [
      "\r"
     ]
    },
    {
     "data": {
      "application/vnd.jupyter.widget-view+json": {
       "model_id": "004a105f135a4f26ba04dea553885b9d",
       "version_major": 2,
       "version_minor": 0
      },
      "text/plain": [
       "HBox(children=(IntProgress(value=0, description='calculate covariances', layout=Layout(flex='2'), max=200, sty…"
      ]
     },
     "metadata": {},
     "output_type": "display_data"
    },
    {
     "name": "stdout",
     "output_type": "stream",
     "text": [
      "\r"
     ]
    },
    {
     "data": {
      "application/vnd.jupyter.widget-view+json": {
       "model_id": "c7c8709f2a88494fa923afff5172d7d7",
       "version_major": 2,
       "version_minor": 0
      },
      "text/plain": [
       "HBox(children=(IntProgress(value=0, description='calculate covariances', layout=Layout(flex='2'), max=200, sty…"
      ]
     },
     "metadata": {},
     "output_type": "display_data"
    },
    {
     "name": "stdout",
     "output_type": "stream",
     "text": [
      "\r"
     ]
    },
    {
     "data": {
      "application/vnd.jupyter.widget-view+json": {
       "model_id": "e2397311d2304f3aa77e39e231984a69",
       "version_major": 2,
       "version_minor": 0
      },
      "text/plain": [
       "HBox(children=(IntProgress(value=0, description='calculate covariances', layout=Layout(flex='2'), max=200, sty…"
      ]
     },
     "metadata": {},
     "output_type": "display_data"
    },
    {
     "name": "stdout",
     "output_type": "stream",
     "text": [
      "\r"
     ]
    },
    {
     "data": {
      "application/vnd.jupyter.widget-view+json": {
       "model_id": "d34c944100d44912ac17d103371dbf4b",
       "version_major": 2,
       "version_minor": 0
      },
      "text/plain": [
       "HBox(children=(IntProgress(value=0, description='calculate covariances', layout=Layout(flex='2'), max=200, sty…"
      ]
     },
     "metadata": {},
     "output_type": "display_data"
    },
    {
     "name": "stdout",
     "output_type": "stream",
     "text": [
      "\r"
     ]
    },
    {
     "data": {
      "application/vnd.jupyter.widget-view+json": {
       "model_id": "ad7dddd9aa3342cc9009ecdce43350b0",
       "version_major": 2,
       "version_minor": 0
      },
      "text/plain": [
       "HBox(children=(IntProgress(value=0, description='calculate covariances', layout=Layout(flex='2'), max=200, sty…"
      ]
     },
     "metadata": {},
     "output_type": "display_data"
    },
    {
     "name": "stdout",
     "output_type": "stream",
     "text": [
      "\r"
     ]
    },
    {
     "data": {
      "application/vnd.jupyter.widget-view+json": {
       "model_id": "1a61e6c675e9473f90105cae0a0d5c28",
       "version_major": 2,
       "version_minor": 0
      },
      "text/plain": [
       "HBox(children=(IntProgress(value=0, description='calculate covariances', layout=Layout(flex='2'), max=200, sty…"
      ]
     },
     "metadata": {},
     "output_type": "display_data"
    },
    {
     "name": "stdout",
     "output_type": "stream",
     "text": [
      "\r"
     ]
    },
    {
     "data": {
      "application/vnd.jupyter.widget-view+json": {
       "model_id": "93dfbb14cbc742fe9d4df176999a49ee",
       "version_major": 2,
       "version_minor": 0
      },
      "text/plain": [
       "HBox(children=(IntProgress(value=0, description='calculate covariances', layout=Layout(flex='2'), max=200, sty…"
      ]
     },
     "metadata": {},
     "output_type": "display_data"
    },
    {
     "name": "stdout",
     "output_type": "stream",
     "text": [
      "\r"
     ]
    },
    {
     "data": {
      "application/vnd.jupyter.widget-view+json": {
       "model_id": "c5604392776f4252871d8a56dc33b7cf",
       "version_major": 2,
       "version_minor": 0
      },
      "text/plain": [
       "HBox(children=(IntProgress(value=0, description='calculate covariances', layout=Layout(flex='2'), max=200, sty…"
      ]
     },
     "metadata": {},
     "output_type": "display_data"
    },
    {
     "name": "stdout",
     "output_type": "stream",
     "text": [
      "\r"
     ]
    },
    {
     "data": {
      "application/vnd.jupyter.widget-view+json": {
       "model_id": "2df4836010af4403a1c14fc64772ca02",
       "version_major": 2,
       "version_minor": 0
      },
      "text/plain": [
       "HBox(children=(IntProgress(value=0, description='calculate covariances', layout=Layout(flex='2'), max=200, sty…"
      ]
     },
     "metadata": {},
     "output_type": "display_data"
    },
    {
     "name": "stdout",
     "output_type": "stream",
     "text": [
      "\r"
     ]
    },
    {
     "data": {
      "application/vnd.jupyter.widget-view+json": {
       "model_id": "6fe7354148b54995bfb63a19633fb9b1",
       "version_major": 2,
       "version_minor": 0
      },
      "text/plain": [
       "HBox(children=(IntProgress(value=0, description='calculate covariances', layout=Layout(flex='2'), max=200, sty…"
      ]
     },
     "metadata": {},
     "output_type": "display_data"
    },
    {
     "name": "stdout",
     "output_type": "stream",
     "text": [
      "\r"
     ]
    },
    {
     "data": {
      "application/vnd.jupyter.widget-view+json": {
       "model_id": "7add4c30fcd2407baa0e4c8e3e4b78b0",
       "version_major": 2,
       "version_minor": 0
      },
      "text/plain": [
       "HBox(children=(IntProgress(value=0, description='calculate covariances', layout=Layout(flex='2'), max=200, sty…"
      ]
     },
     "metadata": {},
     "output_type": "display_data"
    },
    {
     "name": "stdout",
     "output_type": "stream",
     "text": [
      "\r"
     ]
    },
    {
     "data": {
      "application/vnd.jupyter.widget-view+json": {
       "model_id": "8e9bd654fa564178bfac36a3bb0669bd",
       "version_major": 2,
       "version_minor": 0
      },
      "text/plain": [
       "HBox(children=(IntProgress(value=0, description='calculate covariances', layout=Layout(flex='2'), max=200, sty…"
      ]
     },
     "metadata": {},
     "output_type": "display_data"
    },
    {
     "name": "stdout",
     "output_type": "stream",
     "text": [
      "\r"
     ]
    },
    {
     "data": {
      "application/vnd.jupyter.widget-view+json": {
       "model_id": "b7f9450980514562af3b78ff64c875d9",
       "version_major": 2,
       "version_minor": 0
      },
      "text/plain": [
       "HBox(children=(IntProgress(value=0, description='calculate covariances', layout=Layout(flex='2'), max=200, sty…"
      ]
     },
     "metadata": {},
     "output_type": "display_data"
    },
    {
     "name": "stdout",
     "output_type": "stream",
     "text": [
      "\r"
     ]
    },
    {
     "data": {
      "application/vnd.jupyter.widget-view+json": {
       "model_id": "72d894f6a3c0439e9353383918a9cd7e",
       "version_major": 2,
       "version_minor": 0
      },
      "text/plain": [
       "HBox(children=(IntProgress(value=0, description='calculate covariances', layout=Layout(flex='2'), max=200, sty…"
      ]
     },
     "metadata": {},
     "output_type": "display_data"
    },
    {
     "name": "stdout",
     "output_type": "stream",
     "text": [
      "\r"
     ]
    },
    {
     "data": {
      "application/vnd.jupyter.widget-view+json": {
       "model_id": "24b0f1b35ed440d2a3d7738e24157f5e",
       "version_major": 2,
       "version_minor": 0
      },
      "text/plain": [
       "HBox(children=(IntProgress(value=0, description='calculate covariances', layout=Layout(flex='2'), max=200, sty…"
      ]
     },
     "metadata": {},
     "output_type": "display_data"
    },
    {
     "name": "stdout",
     "output_type": "stream",
     "text": [
      "\r"
     ]
    },
    {
     "data": {
      "application/vnd.jupyter.widget-view+json": {
       "model_id": "9fbbacb0b87741aa823b6263730687f1",
       "version_major": 2,
       "version_minor": 0
      },
      "text/plain": [
       "HBox(children=(IntProgress(value=0, description='calculate covariances', layout=Layout(flex='2'), max=200, sty…"
      ]
     },
     "metadata": {},
     "output_type": "display_data"
    },
    {
     "name": "stdout",
     "output_type": "stream",
     "text": [
      "\r"
     ]
    },
    {
     "data": {
      "application/vnd.jupyter.widget-view+json": {
       "model_id": "39589859b38b4f66850c81458e7a43db",
       "version_major": 2,
       "version_minor": 0
      },
      "text/plain": [
       "HBox(children=(IntProgress(value=0, description='calculate covariances', layout=Layout(flex='2'), max=200, sty…"
      ]
     },
     "metadata": {},
     "output_type": "display_data"
    },
    {
     "name": "stdout",
     "output_type": "stream",
     "text": [
      "\r"
     ]
    },
    {
     "data": {
      "application/vnd.jupyter.widget-view+json": {
       "model_id": "b6c4488560db4053bc7eb53dec2b248a",
       "version_major": 2,
       "version_minor": 0
      },
      "text/plain": [
       "HBox(children=(IntProgress(value=0, description='calculate covariances', layout=Layout(flex='2'), max=200, sty…"
      ]
     },
     "metadata": {},
     "output_type": "display_data"
    },
    {
     "name": "stdout",
     "output_type": "stream",
     "text": [
      "\r"
     ]
    },
    {
     "data": {
      "application/vnd.jupyter.widget-view+json": {
       "model_id": "d6a704c1657840e59bd0f524999ecedb",
       "version_major": 2,
       "version_minor": 0
      },
      "text/plain": [
       "HBox(children=(IntProgress(value=0, description='calculate covariances', layout=Layout(flex='2'), max=200, sty…"
      ]
     },
     "metadata": {},
     "output_type": "display_data"
    },
    {
     "name": "stdout",
     "output_type": "stream",
     "text": [
      "\r"
     ]
    },
    {
     "data": {
      "application/vnd.jupyter.widget-view+json": {
       "model_id": "5d5f4b5c03ac4c87a36b137c464c6302",
       "version_major": 2,
       "version_minor": 0
      },
      "text/plain": [
       "HBox(children=(IntProgress(value=0, description='calculate covariances', layout=Layout(flex='2'), max=200, sty…"
      ]
     },
     "metadata": {},
     "output_type": "display_data"
    },
    {
     "name": "stdout",
     "output_type": "stream",
     "text": [
      "\r"
     ]
    },
    {
     "data": {
      "application/vnd.jupyter.widget-view+json": {
       "model_id": "3cd51f37b8924636a6cedee5ea8e7580",
       "version_major": 2,
       "version_minor": 0
      },
      "text/plain": [
       "HBox(children=(IntProgress(value=0, description='calculate covariances', layout=Layout(flex='2'), max=200, sty…"
      ]
     },
     "metadata": {},
     "output_type": "display_data"
    },
    {
     "name": "stdout",
     "output_type": "stream",
     "text": [
      "\r"
     ]
    },
    {
     "data": {
      "application/vnd.jupyter.widget-view+json": {
       "model_id": "df1898356f3744e19e1fd3035eb0f377",
       "version_major": 2,
       "version_minor": 0
      },
      "text/plain": [
       "HBox(children=(IntProgress(value=0, description='calculate covariances', layout=Layout(flex='2'), max=200, sty…"
      ]
     },
     "metadata": {},
     "output_type": "display_data"
    },
    {
     "name": "stdout",
     "output_type": "stream",
     "text": [
      "\r"
     ]
    },
    {
     "data": {
      "application/vnd.jupyter.widget-view+json": {
       "model_id": "791ac25c9154426fbed0e4fd6e7b982a",
       "version_major": 2,
       "version_minor": 0
      },
      "text/plain": [
       "HBox(children=(IntProgress(value=0, description='calculate covariances', layout=Layout(flex='2'), max=200, sty…"
      ]
     },
     "metadata": {},
     "output_type": "display_data"
    },
    {
     "name": "stdout",
     "output_type": "stream",
     "text": [
      "\r"
     ]
    },
    {
     "data": {
      "application/vnd.jupyter.widget-view+json": {
       "model_id": "36bc2b15a8f74c0c8b49fb23d14b4415",
       "version_major": 2,
       "version_minor": 0
      },
      "text/plain": [
       "HBox(children=(IntProgress(value=0, description='calculate covariances', layout=Layout(flex='2'), max=200, sty…"
      ]
     },
     "metadata": {},
     "output_type": "display_data"
    },
    {
     "name": "stdout",
     "output_type": "stream",
     "text": [
      "\r"
     ]
    },
    {
     "data": {
      "application/vnd.jupyter.widget-view+json": {
       "model_id": "dfaa0bbfe0b64bb9a3c91a32ae3f85d7",
       "version_major": 2,
       "version_minor": 0
      },
      "text/plain": [
       "HBox(children=(IntProgress(value=0, description='calculate covariances', layout=Layout(flex='2'), max=200, sty…"
      ]
     },
     "metadata": {},
     "output_type": "display_data"
    },
    {
     "name": "stdout",
     "output_type": "stream",
     "text": [
      "\r"
     ]
    },
    {
     "data": {
      "application/vnd.jupyter.widget-view+json": {
       "model_id": "9b81aac069f94939979a5408b622dfe7",
       "version_major": 2,
       "version_minor": 0
      },
      "text/plain": [
       "HBox(children=(IntProgress(value=0, description='calculate covariances', layout=Layout(flex='2'), max=200, sty…"
      ]
     },
     "metadata": {},
     "output_type": "display_data"
    },
    {
     "name": "stdout",
     "output_type": "stream",
     "text": [
      "\r"
     ]
    },
    {
     "data": {
      "application/vnd.jupyter.widget-view+json": {
       "model_id": "89be788ca6024ad28890324825b2b0c2",
       "version_major": 2,
       "version_minor": 0
      },
      "text/plain": [
       "HBox(children=(IntProgress(value=0, description='calculate covariances', layout=Layout(flex='2'), max=200, sty…"
      ]
     },
     "metadata": {},
     "output_type": "display_data"
    },
    {
     "name": "stdout",
     "output_type": "stream",
     "text": [
      "\r"
     ]
    },
    {
     "data": {
      "application/vnd.jupyter.widget-view+json": {
       "model_id": "286f9e9a3c7d4e99838f56dca17fba6e",
       "version_major": 2,
       "version_minor": 0
      },
      "text/plain": [
       "HBox(children=(IntProgress(value=0, description='calculate covariances', layout=Layout(flex='2'), max=200, sty…"
      ]
     },
     "metadata": {},
     "output_type": "display_data"
    },
    {
     "name": "stdout",
     "output_type": "stream",
     "text": [
      "\r"
     ]
    },
    {
     "data": {
      "application/vnd.jupyter.widget-view+json": {
       "model_id": "fb75beec47b2499086b22061d8bcba97",
       "version_major": 2,
       "version_minor": 0
      },
      "text/plain": [
       "HBox(children=(IntProgress(value=0, description='calculate covariances', layout=Layout(flex='2'), max=200, sty…"
      ]
     },
     "metadata": {},
     "output_type": "display_data"
    },
    {
     "name": "stdout",
     "output_type": "stream",
     "text": [
      "\r"
     ]
    },
    {
     "data": {
      "application/vnd.jupyter.widget-view+json": {
       "model_id": "001996d2ba1644b1b9a168cccddecd5d",
       "version_major": 2,
       "version_minor": 0
      },
      "text/plain": [
       "HBox(children=(IntProgress(value=0, description='calculate covariances', layout=Layout(flex='2'), max=200, sty…"
      ]
     },
     "metadata": {},
     "output_type": "display_data"
    },
    {
     "name": "stdout",
     "output_type": "stream",
     "text": [
      "\r"
     ]
    },
    {
     "data": {
      "application/vnd.jupyter.widget-view+json": {
       "model_id": "0701fb3fbeb94acc8cac69463bd75f9d",
       "version_major": 2,
       "version_minor": 0
      },
      "text/plain": [
       "HBox(children=(IntProgress(value=0, description='calculate covariances', layout=Layout(flex='2'), max=200, sty…"
      ]
     },
     "metadata": {},
     "output_type": "display_data"
    },
    {
     "name": "stdout",
     "output_type": "stream",
     "text": [
      "\r"
     ]
    },
    {
     "data": {
      "application/vnd.jupyter.widget-view+json": {
       "model_id": "e39fa911de53458db9ec5c33b60701f1",
       "version_major": 2,
       "version_minor": 0
      },
      "text/plain": [
       "HBox(children=(IntProgress(value=0, description='calculate covariances', layout=Layout(flex='2'), max=200, sty…"
      ]
     },
     "metadata": {},
     "output_type": "display_data"
    },
    {
     "name": "stdout",
     "output_type": "stream",
     "text": [
      "\r"
     ]
    },
    {
     "data": {
      "application/vnd.jupyter.widget-view+json": {
       "model_id": "f0304800587c4917a5006844f60d6d5d",
       "version_major": 2,
       "version_minor": 0
      },
      "text/plain": [
       "HBox(children=(IntProgress(value=0, description='calculate covariances', layout=Layout(flex='2'), max=200, sty…"
      ]
     },
     "metadata": {},
     "output_type": "display_data"
    },
    {
     "name": "stdout",
     "output_type": "stream",
     "text": [
      "\r"
     ]
    },
    {
     "data": {
      "application/vnd.jupyter.widget-view+json": {
       "model_id": "86315f87d35e4acb824cc4c9f813fd14",
       "version_major": 2,
       "version_minor": 0
      },
      "text/plain": [
       "HBox(children=(IntProgress(value=0, description='calculate covariances', layout=Layout(flex='2'), max=200, sty…"
      ]
     },
     "metadata": {},
     "output_type": "display_data"
    },
    {
     "name": "stdout",
     "output_type": "stream",
     "text": [
      "\r"
     ]
    },
    {
     "data": {
      "application/vnd.jupyter.widget-view+json": {
       "model_id": "311fa0040b2b4d859e717139cbb892f4",
       "version_major": 2,
       "version_minor": 0
      },
      "text/plain": [
       "HBox(children=(IntProgress(value=0, description='calculate covariances', layout=Layout(flex='2'), max=200, sty…"
      ]
     },
     "metadata": {},
     "output_type": "display_data"
    },
    {
     "name": "stdout",
     "output_type": "stream",
     "text": [
      "\r"
     ]
    },
    {
     "data": {
      "application/vnd.jupyter.widget-view+json": {
       "model_id": "f600205b92d74ceface722cf68b5d46c",
       "version_major": 2,
       "version_minor": 0
      },
      "text/plain": [
       "HBox(children=(IntProgress(value=0, description='calculate covariances', layout=Layout(flex='2'), max=200, sty…"
      ]
     },
     "metadata": {},
     "output_type": "display_data"
    },
    {
     "name": "stdout",
     "output_type": "stream",
     "text": [
      "\r"
     ]
    },
    {
     "data": {
      "application/vnd.jupyter.widget-view+json": {
       "model_id": "41cbe4144e3f4b0ea9abaa687ca89c4e",
       "version_major": 2,
       "version_minor": 0
      },
      "text/plain": [
       "HBox(children=(IntProgress(value=0, description='calculate covariances', layout=Layout(flex='2'), max=200, sty…"
      ]
     },
     "metadata": {},
     "output_type": "display_data"
    },
    {
     "name": "stdout",
     "output_type": "stream",
     "text": [
      "\r"
     ]
    },
    {
     "data": {
      "application/vnd.jupyter.widget-view+json": {
       "model_id": "7fd3d0b9e7734d209b4915e4df63c629",
       "version_major": 2,
       "version_minor": 0
      },
      "text/plain": [
       "HBox(children=(IntProgress(value=0, description='calculate covariances', layout=Layout(flex='2'), max=200, sty…"
      ]
     },
     "metadata": {},
     "output_type": "display_data"
    },
    {
     "name": "stdout",
     "output_type": "stream",
     "text": [
      "\r"
     ]
    },
    {
     "data": {
      "application/vnd.jupyter.widget-view+json": {
       "model_id": "d2e11e47ff6444a7b4ff1e4b5f999f84",
       "version_major": 2,
       "version_minor": 0
      },
      "text/plain": [
       "HBox(children=(IntProgress(value=0, description='calculate covariances', layout=Layout(flex='2'), max=200, sty…"
      ]
     },
     "metadata": {},
     "output_type": "display_data"
    },
    {
     "name": "stdout",
     "output_type": "stream",
     "text": [
      "\r"
     ]
    },
    {
     "data": {
      "application/vnd.jupyter.widget-view+json": {
       "model_id": "d16bc7653f9a4ccd9e7828cd7fea3e0a",
       "version_major": 2,
       "version_minor": 0
      },
      "text/plain": [
       "HBox(children=(IntProgress(value=0, description='calculate covariances', layout=Layout(flex='2'), max=200, sty…"
      ]
     },
     "metadata": {},
     "output_type": "display_data"
    },
    {
     "name": "stdout",
     "output_type": "stream",
     "text": [
      "This took 441.0 seconds\n"
     ]
    }
   ],
   "source": [
    "# I would recommend exponetial scaling for column list\n",
    "column_list = [10, 25, 50, 75, 100, 150, 200, 250, 300, 400, 500, 700, 900]\n",
    "out_list = []\n",
    "true_column_list = []\n",
    "start = time.time()\n",
    "\n",
    "for i in column_list:\n",
    "    temp_ntica = coor.tica_nystroem(max_columns=i, data=data, lag=15, nsel=30)\n",
    "    out_list.append(temp_ntica.timescales)\n",
    "    true_column_list.append(len(temp_ntica.column_indices))\n",
    "end = time.time()\n",
    "print(f'This took {np.round(end-start)} seconds')"
   ]
  },
  {
   "cell_type": "code",
   "execution_count": 132,
   "id": "b22519c4",
   "metadata": {},
   "outputs": [
    {
     "data": {
      "application/vnd.jupyter.widget-view+json": {
       "model_id": "5659cbb3b71440a0b45367e1626baf88",
       "version_major": 2,
       "version_minor": 0
      },
      "text/plain": [
       "HBox(children=(IntProgress(value=0, description='calculate covariances', layout=Layout(flex='2'), max=200, sty…"
      ]
     },
     "metadata": {},
     "output_type": "display_data"
    },
    {
     "name": "stdout",
     "output_type": "stream",
     "text": [
      "\r"
     ]
    }
   ],
   "source": [
    "reg_tica = coor.tica(data, lag=15)\n",
    "out_list.append(reg_tica.timescales)"
   ]
  },
  {
   "cell_type": "code",
   "execution_count": 133,
   "id": "ef5b0ad3",
   "metadata": {},
   "outputs": [],
   "source": [
    "column_list.append(1220) # full number of features\n",
    "true_column_list.append(1220)"
   ]
  },
  {
   "cell_type": "code",
   "execution_count": 135,
   "id": "d3dd4375",
   "metadata": {},
   "outputs": [
    {
     "data": {
      "text/plain": [
       "[31, 31, 61, 91, 121, 151, 211, 271, 301, 421, 511, 721, 901, 1220]"
      ]
     },
     "execution_count": 135,
     "metadata": {},
     "output_type": "execute_result"
    }
   ],
   "source": [
    "# The true number of columns is not what I input for max_columns\n",
    "# instead it is around max_columns\n",
    "true_column_list"
   ]
  },
  {
   "cell_type": "code",
   "execution_count": 136,
   "id": "58c4dbe7",
   "metadata": {},
   "outputs": [
    {
     "data": {
      "text/plain": [
       "Text(0, 0.5, 'Timescale (ns)')"
      ]
     },
     "execution_count": 136,
     "metadata": {},
     "output_type": "execute_result"
    },
    {
     "data": {
      "image/png": "[encoded data removed]",
      "text/plain": [
       "<Figure size 432x288 with 1 Axes>"
      ]
     },
     "metadata": {
      "needs_background": "light"
     },
     "output_type": "display_data"
    }
   ],
   "source": [
    "fig, ax = plt.subplots()\n",
    "for i in range(5):  # plot the top i number of timescales\n",
    "    temp = [out_list[k][i] for k in range(len(out_list))]\n",
    "    ax.plot(true_column_list, temp, label=f'ts {i +1}')\n",
    "ax.legend()\n",
    "ax.set_xlabel('Cloumns (features) in tica output', fontsize=16)\n",
    "ax.set_ylabel('Timescale (ns)', fontsize=16)"
   ]
  },
  {
   "cell_type": "markdown",
   "id": "24b29b35",
   "metadata": {},
   "source": [
    "In the apove plot implied timescales increase with increasing numbers of features. From this we can make a decison on how much 'information' we are willing to loose to make tica simpliar and easier to interpret. These two things area tradeoff one for the other.   \n",
    "\n",
    "In this plot I personally see two good choices:\n",
    "\n",
    "721 features: (aka the free lunch) at 721 features there is a very tiny decrease in timescales from regular (full) tica. With this option we would reduce the number of features by 43% while loosing very little kinetic information (we still describe the motions in the main protease very well). This is what the theory paper suggests a optimal, that you look for the asymptote of the curve   \n",
    "\n",
    "421 features: (aka the compromize) at 421 features there is a signifigent decrease in timescae of the first three tICs, but it's not quite as dramatic as lower than 400 features. This is a happy medium where we are not describing the motions quite as well as we could be but that allows for a 67% reduction in features\n",
    "\n",
    "Lower that 421 features in my opinion is a bad option as too much kenitic information is lost\n",
    "\n",
    "See the two publications I cite at the top of this tutorial for more examples\n",
    "\n",
    "Your results may vary, but this plot helps you make an informed decision"
   ]
  },
  {
   "cell_type": "code",
   "execution_count": 126,
   "id": "1322a158",
   "metadata": {},
   "outputs": [
    {
     "data": {
      "application/vnd.jupyter.widget-view+json": {
       "model_id": "4c881fea0ac6441285fae711831e2162",
       "version_major": 2,
       "version_minor": 0
      },
      "text/plain": [
       "HBox(children=(IntProgress(value=0, description='calculate covariances', layout=Layout(flex='2'), max=200, sty…"
      ]
     },
     "metadata": {},
     "output_type": "display_data"
    },
    {
     "name": "stdout",
     "output_type": "stream",
     "text": [
      "\r"
     ]
    },
    {
     "data": {
      "application/vnd.jupyter.widget-view+json": {
       "model_id": "3ab7d2738b374825b3c59c7be2431cbb",
       "version_major": 2,
       "version_minor": 0
      },
      "text/plain": [
       "HBox(children=(IntProgress(value=0, description='calculate covariances', layout=Layout(flex='2'), max=200, sty…"
      ]
     },
     "metadata": {},
     "output_type": "display_data"
    },
    {
     "name": "stdout",
     "output_type": "stream",
     "text": [
      "\r"
     ]
    },
    {
     "data": {
      "application/vnd.jupyter.widget-view+json": {
       "model_id": "14eb4744b6e94987b394194b7b90c87c",
       "version_major": 2,
       "version_minor": 0
      },
      "text/plain": [
       "HBox(children=(IntProgress(value=0, description='calculate covariances', layout=Layout(flex='2'), max=200, sty…"
      ]
     },
     "metadata": {},
     "output_type": "display_data"
    },
    {
     "name": "stdout",
     "output_type": "stream",
     "text": [
      "\r"
     ]
    },
    {
     "data": {
      "application/vnd.jupyter.widget-view+json": {
       "model_id": "55f9ba7b2fed4ae68b885eed63165074",
       "version_major": 2,
       "version_minor": 0
      },
      "text/plain": [
       "HBox(children=(IntProgress(value=0, description='calculate covariances', layout=Layout(flex='2'), max=200, sty…"
      ]
     },
     "metadata": {},
     "output_type": "display_data"
    },
    {
     "name": "stdout",
     "output_type": "stream",
     "text": [
      "\r"
     ]
    },
    {
     "data": {
      "application/vnd.jupyter.widget-view+json": {
       "model_id": "b66ef3d2985348db8888f995692881a2",
       "version_major": 2,
       "version_minor": 0
      },
      "text/plain": [
       "HBox(children=(IntProgress(value=0, description='calculate covariances', layout=Layout(flex='2'), max=200, sty…"
      ]
     },
     "metadata": {},
     "output_type": "display_data"
    },
    {
     "name": "stdout",
     "output_type": "stream",
     "text": [
      "\r"
     ]
    },
    {
     "data": {
      "application/vnd.jupyter.widget-view+json": {
       "model_id": "ec5735edc2964a7c91a867a11a9f523f",
       "version_major": 2,
       "version_minor": 0
      },
      "text/plain": [
       "HBox(children=(IntProgress(value=0, description='calculate covariances', layout=Layout(flex='2'), max=200, sty…"
      ]
     },
     "metadata": {},
     "output_type": "display_data"
    },
    {
     "name": "stdout",
     "output_type": "stream",
     "text": [
      "\r"
     ]
    },
    {
     "data": {
      "application/vnd.jupyter.widget-view+json": {
       "model_id": "91d7ab96c62e4724bbd1f1ca38860a43",
       "version_major": 2,
       "version_minor": 0
      },
      "text/plain": [
       "HBox(children=(IntProgress(value=0, description='calculate covariances', layout=Layout(flex='2'), max=200, sty…"
      ]
     },
     "metadata": {},
     "output_type": "display_data"
    },
    {
     "name": "stdout",
     "output_type": "stream",
     "text": [
      "\r"
     ]
    },
    {
     "data": {
      "application/vnd.jupyter.widget-view+json": {
       "model_id": "0d09542c00424c0b9986d72f3c763674",
       "version_major": 2,
       "version_minor": 0
      },
      "text/plain": [
       "HBox(children=(IntProgress(value=0, description='calculate covariances', layout=Layout(flex='2'), max=200, sty…"
      ]
     },
     "metadata": {},
     "output_type": "display_data"
    },
    {
     "name": "stdout",
     "output_type": "stream",
     "text": [
      "\r"
     ]
    },
    {
     "data": {
      "application/vnd.jupyter.widget-view+json": {
       "model_id": "58d39be18c474c0e91c5840204c54335",
       "version_major": 2,
       "version_minor": 0
      },
      "text/plain": [
       "HBox(children=(IntProgress(value=0, description='calculate covariances', layout=Layout(flex='2'), max=200, sty…"
      ]
     },
     "metadata": {},
     "output_type": "display_data"
    },
    {
     "name": "stdout",
     "output_type": "stream",
     "text": [
      "\r"
     ]
    },
    {
     "data": {
      "application/vnd.jupyter.widget-view+json": {
       "model_id": "2b5015c39e604ce2902a56cd24092c2f",
       "version_major": 2,
       "version_minor": 0
      },
      "text/plain": [
       "HBox(children=(IntProgress(value=0, description='calculate covariances', layout=Layout(flex='2'), max=200, sty…"
      ]
     },
     "metadata": {},
     "output_type": "display_data"
    },
    {
     "name": "stdout",
     "output_type": "stream",
     "text": [
      "\r"
     ]
    },
    {
     "data": {
      "application/vnd.jupyter.widget-view+json": {
       "model_id": "78cfe170f75a4ddb930185b8dbbc5bf1",
       "version_major": 2,
       "version_minor": 0
      },
      "text/plain": [
       "HBox(children=(IntProgress(value=0, description='calculate covariances', layout=Layout(flex='2'), max=200, sty…"
      ]
     },
     "metadata": {},
     "output_type": "display_data"
    },
    {
     "name": "stdout",
     "output_type": "stream",
     "text": [
      "\r"
     ]
    },
    {
     "data": {
      "application/vnd.jupyter.widget-view+json": {
       "model_id": "add435d8f8e447da8eaba5bc1080c9e0",
       "version_major": 2,
       "version_minor": 0
      },
      "text/plain": [
       "HBox(children=(IntProgress(value=0, description='calculate covariances', layout=Layout(flex='2'), max=200, sty…"
      ]
     },
     "metadata": {},
     "output_type": "display_data"
    },
    {
     "name": "stdout",
     "output_type": "stream",
     "text": [
      "\r"
     ]
    },
    {
     "data": {
      "application/vnd.jupyter.widget-view+json": {
       "model_id": "80d083f999dc48d2a0e341bac768372d",
       "version_major": 2,
       "version_minor": 0
      },
      "text/plain": [
       "HBox(children=(IntProgress(value=0, description='calculate covariances', layout=Layout(flex='2'), max=200, sty…"
      ]
     },
     "metadata": {},
     "output_type": "display_data"
    },
    {
     "name": "stdout",
     "output_type": "stream",
     "text": [
      "\r"
     ]
    },
    {
     "data": {
      "application/vnd.jupyter.widget-view+json": {
       "model_id": "de2f130b8a4b400f9ed47ac4092e872f",
       "version_major": 2,
       "version_minor": 0
      },
      "text/plain": [
       "HBox(children=(IntProgress(value=0, description='calculate covariances', layout=Layout(flex='2'), max=200, sty…"
      ]
     },
     "metadata": {},
     "output_type": "display_data"
    },
    {
     "name": "stdout",
     "output_type": "stream",
     "text": [
      "\r"
     ]
    },
    {
     "data": {
      "application/vnd.jupyter.widget-view+json": {
       "model_id": "a151255166884ed2bf9210ce8d454cba",
       "version_major": 2,
       "version_minor": 0
      },
      "text/plain": [
       "HBox(children=(IntProgress(value=0, description='calculate covariances', layout=Layout(flex='2'), max=200, sty…"
      ]
     },
     "metadata": {},
     "output_type": "display_data"
    },
    {
     "name": "stdout",
     "output_type": "stream",
     "text": [
      "\r"
     ]
    },
    {
     "data": {
      "application/vnd.jupyter.widget-view+json": {
       "model_id": "aa2dff9d24fb4d489bb69d5dc24b8bce",
       "version_major": 2,
       "version_minor": 0
      },
      "text/plain": [
       "HBox(children=(IntProgress(value=0, description='calculate covariances', layout=Layout(flex='2'), max=200, sty…"
      ]
     },
     "metadata": {},
     "output_type": "display_data"
    },
    {
     "name": "stdout",
     "output_type": "stream",
     "text": [
      "\r"
     ]
    },
    {
     "data": {
      "application/vnd.jupyter.widget-view+json": {
       "model_id": "ca7f48a7866141d598a990618b2f1d0c",
       "version_major": 2,
       "version_minor": 0
      },
      "text/plain": [
       "HBox(children=(IntProgress(value=0, description='calculate covariances', layout=Layout(flex='2'), max=200, sty…"
      ]
     },
     "metadata": {},
     "output_type": "display_data"
    },
    {
     "name": "stdout",
     "output_type": "stream",
     "text": [
      "\r"
     ]
    },
    {
     "data": {
      "application/vnd.jupyter.widget-view+json": {
       "model_id": "05a3f7841ded47b799a94584e69f3c73",
       "version_major": 2,
       "version_minor": 0
      },
      "text/plain": [
       "HBox(children=(IntProgress(value=0, description='calculate covariances', layout=Layout(flex='2'), max=200, sty…"
      ]
     },
     "metadata": {},
     "output_type": "display_data"
    },
    {
     "name": "stdout",
     "output_type": "stream",
     "text": [
      "\r"
     ]
    },
    {
     "data": {
      "application/vnd.jupyter.widget-view+json": {
       "model_id": "ce694739a2a64d5ca8849291fdf38afa",
       "version_major": 2,
       "version_minor": 0
      },
      "text/plain": [
       "HBox(children=(IntProgress(value=0, description='calculate covariances', layout=Layout(flex='2'), max=200, sty…"
      ]
     },
     "metadata": {},
     "output_type": "display_data"
    },
    {
     "name": "stdout",
     "output_type": "stream",
     "text": [
      "\r"
     ]
    },
    {
     "data": {
      "application/vnd.jupyter.widget-view+json": {
       "model_id": "bc0e9952096a44f4b269a53c6a62ae95",
       "version_major": 2,
       "version_minor": 0
      },
      "text/plain": [
       "HBox(children=(IntProgress(value=0, description='calculate covariances', layout=Layout(flex='2'), max=200, sty…"
      ]
     },
     "metadata": {},
     "output_type": "display_data"
    },
    {
     "name": "stdout",
     "output_type": "stream",
     "text": [
      "\r"
     ]
    },
    {
     "data": {
      "application/vnd.jupyter.widget-view+json": {
       "model_id": "c88592708f994c6f913285a2686d0a04",
       "version_major": 2,
       "version_minor": 0
      },
      "text/plain": [
       "HBox(children=(IntProgress(value=0, description='calculate covariances', layout=Layout(flex='2'), max=200, sty…"
      ]
     },
     "metadata": {},
     "output_type": "display_data"
    },
    {
     "name": "stdout",
     "output_type": "stream",
     "text": [
      "\r"
     ]
    },
    {
     "data": {
      "application/vnd.jupyter.widget-view+json": {
       "model_id": "17eeaca3650a469caa9bf1a2477162fe",
       "version_major": 2,
       "version_minor": 0
      },
      "text/plain": [
       "HBox(children=(IntProgress(value=0, description='calculate covariances', layout=Layout(flex='2'), max=200, sty…"
      ]
     },
     "metadata": {},
     "output_type": "display_data"
    },
    {
     "name": "stdout",
     "output_type": "stream",
     "text": [
      "\r"
     ]
    },
    {
     "data": {
      "application/vnd.jupyter.widget-view+json": {
       "model_id": "8f066b5370614b14bfa14d781b310173",
       "version_major": 2,
       "version_minor": 0
      },
      "text/plain": [
       "HBox(children=(IntProgress(value=0, description='calculate covariances', layout=Layout(flex='2'), max=200, sty…"
      ]
     },
     "metadata": {},
     "output_type": "display_data"
    },
    {
     "name": "stdout",
     "output_type": "stream",
     "text": [
      "\r"
     ]
    },
    {
     "data": {
      "application/vnd.jupyter.widget-view+json": {
       "model_id": "051ba8a4eb844a86910bf0779a5e9889",
       "version_major": 2,
       "version_minor": 0
      },
      "text/plain": [
       "HBox(children=(IntProgress(value=0, description='calculate covariances', layout=Layout(flex='2'), max=200, sty…"
      ]
     },
     "metadata": {},
     "output_type": "display_data"
    },
    {
     "name": "stdout",
     "output_type": "stream",
     "text": [
      "\r"
     ]
    },
    {
     "data": {
      "application/vnd.jupyter.widget-view+json": {
       "model_id": "e4f9a56aa05141d3b7230d9a17627b3f",
       "version_major": 2,
       "version_minor": 0
      },
      "text/plain": [
       "HBox(children=(IntProgress(value=0, description='calculate covariances', layout=Layout(flex='2'), max=200, sty…"
      ]
     },
     "metadata": {},
     "output_type": "display_data"
    },
    {
     "name": "stdout",
     "output_type": "stream",
     "text": [
      "\r"
     ]
    },
    {
     "data": {
      "application/vnd.jupyter.widget-view+json": {
       "model_id": "a23059164b97444ca2409fe16addc138",
       "version_major": 2,
       "version_minor": 0
      },
      "text/plain": [
       "HBox(children=(IntProgress(value=0, description='calculate covariances', layout=Layout(flex='2'), max=200, sty…"
      ]
     },
     "metadata": {},
     "output_type": "display_data"
    },
    {
     "name": "stdout",
     "output_type": "stream",
     "text": [
      "This took 82.0 seconds\n"
     ]
    }
   ],
   "source": [
    "# ok now lets figure out how to actually get tica components\n",
    "# run nystrom tica with the optimum output of 700 features\n",
    "start = time.time()\n",
    "Ntica_700 = coor.tica_nystroem(max_columns=700, data=data, lag=15, nsel=30)\n",
    "end = time.time()\n",
    "print(f'This took {np.round(end-start)} seconds')"
   ]
  },
  {
   "cell_type": "code",
   "execution_count": 127,
   "id": "9ef0c506",
   "metadata": {},
   "outputs": [
    {
     "name": "stdout",
     "output_type": "stream",
     "text": [
      "This took 82.0 seconds\n"
     ]
    }
   ],
   "source": [
    "print(f'This took {np.round(end-start)} seconds')"
   ]
  },
  {
   "cell_type": "markdown",
   "id": "bac08f17",
   "metadata": {},
   "source": [
    "notice that moving from a max_columns of 200 to 700 slowed down the calculation from 22 seconds to 82 seconds"
   ]
  },
  {
   "cell_type": "code",
   "execution_count": 129,
   "id": "cb191264",
   "metadata": {},
   "outputs": [
    {
     "data": {
      "text/plain": [
       "(721,)"
      ]
     },
     "execution_count": 129,
     "metadata": {},
     "output_type": "execute_result"
    }
   ],
   "source": [
    "# this object contains a column_indices attribute which gives\n",
    "#  the index of the columns retained\n",
    "Ntica_700.column_indices.shape"
   ]
  },
  {
   "cell_type": "code",
   "execution_count": 130,
   "id": "35ed8c8a",
   "metadata": {},
   "outputs": [
    {
     "data": {
      "text/plain": [
       "array([ 301,  174,  178,  183,  185,  186,  187,  191,  194,  196,  199,\n",
       "        284,  302,  311,  545,  554,  572,  574,  612,  613,  615,  770,\n",
       "        776,  786,  791,  899, 1202, 1203, 1206, 1214, 1218,    1,    6,\n",
       "        172,  177,  179,  182,  184,  188,  197,  198,  206,  552,  558,\n",
       "        561,  566,  754,  760,  762,  764,  780,  784,  896, 1196, 1198,\n",
       "       1199, 1201, 1204, 1210, 1211, 1215,  168,  175,  176,  180,  189,\n",
       "        190,  195,  548,  556,  560,  562,  610,  616,  752,  755,  768,\n",
       "        772,  773,  788,  862,  876,  887, 1101, 1192, 1197, 1200, 1207,\n",
       "       1208, 1212, 1219,    0,    4,   92,  171,  181,  202,  210,  236,\n",
       "        260,  287,  296,  304,  309,  516,  532,  551,  563,  564,  604,\n",
       "        619,  774,  775,  779,  787,  884,  888, 1103, 1106, 1195, 1216,\n",
       "          7,   88,   95,  192,  207,  239,  240,  243,  280,  315,  318,\n",
       "        387,  536,  568,  571,  669,  676,  732,  735,  782,  880,  924,\n",
       "        931, 1095, 1096, 1098, 1100, 1104, 1108, 1213,   86,  204,  205,\n",
       "        278,  282,  283,  367,  384,  416,  535,  544,  567,  575,  614,\n",
       "        675,  679,  731,  766,  771,  778,  852, 1088, 1092, 1093, 1099,\n",
       "       1102, 1111, 1112, 1115, 1193,    5,  241,  268,  272,  292,  380,\n",
       "        386,  464,  472,  508,  540,  546,  609,  656,  660,  668,  671,\n",
       "        672,  708,  724,  746,  753,  758,  759,  767,  783,  855,  867,\n",
       "       1097, 1188,   44,  170,  247,  256,  262,  288,  383,  420,  479,\n",
       "        565,  600,  680,  704,  711,  734,  744,  745,  756,  763,  781,\n",
       "        792,  856,  858,  859,  860,  891,  952, 1020, 1128, 1191,   68,\n",
       "        101,  232,  242,  259,  266,  317,  320,  348,  368,  436,  476,\n",
       "        576,  620,  684,  748,  751,  848,  895,  948,  960,  964, 1028,\n",
       "       1080, 1091, 1110, 1131, 1132, 1139, 1194,   56,   76,   96,  104,\n",
       "        140,  245,  252,  276,  300,  323,  324,  340,  352,  423,  500,\n",
       "        555,  583,  689,  695,  707,  757,  868,  878,  892, 1031, 1084,\n",
       "       1107, 1124, 1136, 1144,   63,   84,   90,  164,  255,  264,  330,\n",
       "        350,  356,  365,  412,  415,  432,  435,  456,  518,  559,  603,\n",
       "        662,  712,  715,  728,  940, 1023, 1024, 1094, 1105, 1127, 1140,\n",
       "       1146,    3,   59,   60,   80,   85,  107,  128,  136,  248,  332,\n",
       "        344,  360,  371,  404,  428,  484,  512,  624,  630,  653,  692,\n",
       "        700,  726,  736,  761,  947, 1016, 1143, 1152, 1159,    2,  108,\n",
       "        112,  116,  120,  135,  200,  228,  290,  336,  363,  407,  444,\n",
       "        448,  470,  486,  489,  511,  570,  588,  628,  740,  750,  765,\n",
       "        863,  875,  883,  886,  890, 1217,   47,   52,  115,  299,  313,\n",
       "        334,  354,  374,  410,  418,  441,  480,  491,  495,  524,  528,\n",
       "        606,  632,  659,  683,  720,  739,  743,  872,  936,  951,  955,\n",
       "        967, 1027, 1160,   20,   32,   40,  126,  208,  231,  244,  251,\n",
       "        372,  395,  452,  467,  482,  505,  527,  531,  538,  557,  580,\n",
       "        584,  648,  667,  864,  927,  939,  944, 1125, 1148, 1157, 1184,\n",
       "         17,   23,   78,   98,  163,  216,  224,  274,  277,  294,  319,\n",
       "        327,  339,  342,  388,  390,  392,  460,  497,  503,  515,  579,\n",
       "        608,  785,  798,  853,  920,  932, 1116, 1187,   18,   43,   72,\n",
       "        100,  145,  151,  152,  215,  270,  316,  376,  396,  397,  443,\n",
       "        447,  458,  474,  492,  542,  547,  573,  626,  639,  915,  923,\n",
       "        992, 1086, 1119, 1180, 1205,   10,   14,   24,   51,  103,  132,\n",
       "        169,  193,  212,  328,  403,  408,  468,  469,  507,  523,  596,\n",
       "        622,  634,  637,  644,  687,  725,  796,  894,  908,  912,  916,\n",
       "        999, 1155,    8,    9,   12,   27,   36,   71,  118,  306,  308,\n",
       "        398,  401,  427,  430,  439,  539,  593,  599,  654,  664,  691,\n",
       "        703,  882,  903,  911,  928,  976,  995,  996, 1004, 1135,   39,\n",
       "        124,  130,  142,  148,  167,  223,  227,  381,  424,  549,  569,\n",
       "        591,  611,  696,  718,  742,  900,  904,  943,  963,  979,  988,\n",
       "       1002, 1018, 1044, 1047, 1120, 1163, 1209,   34,   48,   64,  111,\n",
       "        122,  211,  220,  235,  281,  310,  378,  462,  465,  520,  550,\n",
       "        716,  747,  795,  861,  956,  972,  975,  984,  991, 1000, 1008,\n",
       "       1012, 1040, 1122, 1151,   28,   31,   66,   82,  263,  346,  364,\n",
       "        370,  454,  605,  640,  641,  646,  677,  699,  738,  741,  769,\n",
       "        804,  871,  958,  968,  971,  980,  983,  987, 1034, 1048, 1051,\n",
       "       1083,   87,  139,  146,  154,  156,  218,  366,  498,  543,  685,\n",
       "        686,  727,  730,  737,  777,  800,  807,  820,  851,  854,  893,\n",
       "        934, 1032, 1036, 1055, 1072, 1076, 1168, 1176, 1182,   11,   74,\n",
       "         91,  159,  160,  203,  291,  358,  422,  451,  487,  553,  587,\n",
       "        595,  670,  733,  749,  790,  811,  823,  840,  844,  885, 1039,\n",
       "       1052, 1056, 1060, 1064, 1137, 1175])"
      ]
     },
     "execution_count": 130,
     "metadata": {},
     "output_type": "execute_result"
    }
   ],
   "source": [
    "# interesting that it isn't exactly 700??\n",
    "# Maybe I should be plotting against column_indices\n",
    "# but anyway, lets now filter my origonal dataset\n",
    "Ntica_700.column_indices"
   ]
  },
  {
   "cell_type": "code",
   "execution_count": 143,
   "id": "cbc42978",
   "metadata": {},
   "outputs": [],
   "source": [
    "# go through your list of trajectories and filter each one by our new set of features\n",
    "filtered_data = [i[:,Ntica_700.column_indices] for i in data]"
   ]
  },
  {
   "cell_type": "code",
   "execution_count": 138,
   "id": "de61881d",
   "metadata": {},
   "outputs": [
    {
     "data": {
      "text/plain": [
       "(1000, 1220)"
      ]
     },
     "execution_count": 138,
     "metadata": {},
     "output_type": "execute_result"
    }
   ],
   "source": [
    "data[0].shape"
   ]
  },
  {
   "cell_type": "code",
   "execution_count": 142,
   "id": "fc9082eb",
   "metadata": {},
   "outputs": [
    {
     "data": {
      "text/plain": [
       "(1000, 721)"
      ]
     },
     "execution_count": 142,
     "metadata": {},
     "output_type": "execute_result"
    }
   ],
   "source": [
    "# the first dimentions is frames\n",
    "# the second dimention is features\n",
    "# check to make sure you filtered along the correct dimention\n",
    "filtered_data[0].shape"
   ]
  },
  {
   "cell_type": "code",
   "execution_count": 158,
   "id": "e0c8dbfe",
   "metadata": {},
   "outputs": [
    {
     "data": {
      "text/plain": [
       "['COS(PHI 0 GLY 2)',\n",
       " 'SIN(PHI 0 GLY 2)',\n",
       " 'COS(PSI 0 SER 1)',\n",
       " 'SIN(PSI 0 SER 1)',\n",
       " 'COS(PHI 0 PHE 3)',\n",
       " 'SIN(PHI 0 PHE 3)',\n",
       " 'COS(PSI 0 GLY 2)',\n",
       " 'SIN(PSI 0 GLY 2)',\n",
       " 'COS(PHI 0 ARG 4)',\n",
       " 'SIN(PHI 0 ARG 4)',\n",
       " 'COS(PSI 0 PHE 3)',\n",
       " 'SIN(PSI 0 PHE 3)',\n",
       " 'COS(PHI 0 LYS 5)',\n",
       " 'SIN(PHI 0 LYS 5)',\n",
       " 'COS(PSI 0 ARG 4)',\n",
       " 'SIN(PSI 0 ARG 4)',\n",
       " 'COS(PHI 0 MET 6)',\n",
       " 'SIN(PHI 0 MET 6)',\n",
       " 'COS(PSI 0 LYS 5)',\n",
       " 'SIN(PSI 0 LYS 5)']"
      ]
     },
     "execution_count": 158,
     "metadata": {},
     "output_type": "execute_result"
    }
   ],
   "source": [
    "# I have not loaded my PyEmma featurizer object at the biginning because I did this earlier and saved it\n",
    "# but you could filter your feature discription so you know what these features are\n",
    "\n",
    "pdb = f'{data_path}/DESRES_protease_chainid.pdb'\n",
    "''' Bachbone Phi and Psi torsion angles '''\n",
    "featurizer = coor.featurizer(pdb)\n",
    "featurizer.add_backbone_torsions(cossin=True, selstr=f'chainid == 0')\n",
    "featurizer.describe()[:20]"
   ]
  },
  {
   "cell_type": "code",
   "execution_count": 162,
   "id": "2ac59ed5",
   "metadata": {},
   "outputs": [],
   "source": [
    "new_discriptions = [featurizer.describe()[i] for i in Ntica_700.column_indices]"
   ]
  },
  {
   "cell_type": "code",
   "execution_count": 164,
   "id": "7a7e52a9",
   "metadata": {},
   "outputs": [
    {
     "data": {
      "text/plain": [
       "['SIN(PHI 0 VAL 77)',\n",
       " 'COS(PSI 0 CYS 44)',\n",
       " 'COS(PSI 0 THR 45)',\n",
       " 'SIN(PSI 0 SER 46)',\n",
       " 'SIN(PHI 0 ASP 48)',\n",
       " 'COS(PSI 0 GLU 47)',\n",
       " 'SIN(PSI 0 GLU 47)',\n",
       " 'SIN(PSI 0 ASP 48)',\n",
       " 'COS(PSI 0 MET 49)',\n",
       " 'COS(PHI 0 ASN 51)',\n",
       " 'SIN(PSI 0 LEU 50)',\n",
       " 'COS(PHI 0 VAL 73)',\n",
       " 'COS(PSI 0 ARG 76)',\n",
       " 'SIN(PSI 0 ILE 78)',\n",
       " 'SIN(PHI 0 GLY 138)',\n",
       " 'COS(PSI 0 SER 139)',\n",
       " 'COS(PHI 0 CYS 145)',\n",
       " 'COS(PSI 0 SER 144)',\n",
       " 'COS(PHI 0 ASP 155)',\n",
       " 'SIN(PHI 0 ASP 155)']"
      ]
     },
     "execution_count": 164,
     "metadata": {},
     "output_type": "execute_result"
    }
   ],
   "source": [
    "# now we know which features were included\n",
    "new_discriptions[:20]"
   ]
  },
  {
   "cell_type": "code",
   "execution_count": 165,
   "id": "079750a7",
   "metadata": {},
   "outputs": [
    {
     "data": {
      "application/vnd.jupyter.widget-view+json": {
       "model_id": "caea92b2673749dda1c86b8abc43bb5a",
       "version_major": 2,
       "version_minor": 0
      },
      "text/plain": [
       "HBox(children=(IntProgress(value=0, description='calculate covariances', layout=Layout(flex='2'), max=200, sty…"
      ]
     },
     "metadata": {},
     "output_type": "display_data"
    },
    {
     "name": "stdout",
     "output_type": "stream",
     "text": [
      "\r"
     ]
    }
   ],
   "source": [
    "# now lets put the filtered dataset into regular tica\n",
    "\n",
    "regular_tica_700 = coor.tica(filtered_data, lag=15, kinetic_map=False, commute_map=True, var_cutoff=0.85)"
   ]
  },
  {
   "cell_type": "code",
   "execution_count": 166,
   "id": "c2eda947",
   "metadata": {},
   "outputs": [
    {
     "data": {
      "application/vnd.jupyter.widget-view+json": {
       "model_id": "fd7164bf47d7419f88d500ee93d45720",
       "version_major": 2,
       "version_minor": 0
      },
      "text/plain": [
       "HBox(children=(IntProgress(value=0, description='getting output of TICA', layout=Layout(flex='2'), max=200, st…"
      ]
     },
     "metadata": {},
     "output_type": "display_data"
    },
    {
     "name": "stdout",
     "output_type": "stream",
     "text": [
      "\r"
     ]
    }
   ],
   "source": [
    "tica_output = regular_tica_700.get_output()"
   ]
  },
  {
   "cell_type": "code",
   "execution_count": 167,
   "id": "bde7f32b",
   "metadata": {},
   "outputs": [
    {
     "data": {
      "text/plain": [
       "[array([[ 7.2529650e+00,  3.1823325e+00, -1.8030664e+01, ...,\n",
       "          5.7500231e-01, -5.6733173e-01,  1.6304612e+00],\n",
       "        [ 8.9555311e+00,  1.9138721e+00, -1.8332710e+01, ...,\n",
       "         -8.6346447e-01, -1.7985759e-02,  3.8923344e-01],\n",
       "        [ 8.9435415e+00,  1.3724555e+00, -1.5595529e+01, ...,\n",
       "         -3.7557549e+00,  8.0296612e-01,  2.9753759e+00],\n",
       "        ...,\n",
       "        [ 8.4371319e+00,  3.7780395e+00, -1.4112538e+01, ...,\n",
       "         -1.7101835e+00,  1.6008937e+00, -2.4026592e+00],\n",
       "        [ 9.4091387e+00,  4.3223815e+00, -1.3392380e+01, ...,\n",
       "         -1.8444209e+00,  1.9194384e+00, -2.6768992e+00],\n",
       "        [ 8.9067278e+00,  4.6855865e+00, -1.4793872e+01, ...,\n",
       "         -7.2750491e-01,  7.1574754e-01, -2.8617460e-01]], dtype=float32),\n",
       " array([[  9.804038  ,   4.0855603 , -16.093567  , ...,   0.6509474 ,\n",
       "           2.1703503 ,  -3.5682626 ],\n",
       "        [  7.1936936 ,   4.114812  , -13.483134  , ...,   1.497254  ,\n",
       "           2.1939027 ,  -2.0190985 ],\n",
       "        [  8.50223   ,   0.8125593 , -14.256341  , ...,   1.7030739 ,\n",
       "           2.997628  ,  -2.788177  ],\n",
       "        ...,\n",
       "        [  8.368685  ,   4.0590067 , -15.493504  , ...,   4.2803073 ,\n",
       "          -3.995889  ,  -2.8079214 ],\n",
       "        [ 11.14551   ,   4.8873334 , -13.545641  , ...,   1.0612197 ,\n",
       "          -0.15392491,  -2.3790174 ],\n",
       "        [  8.615689  ,   0.5286603 , -13.373718  , ...,   1.1625271 ,\n",
       "          -1.2430439 ,  -2.5642653 ]], dtype=float32),\n",
       " array([[  8.954909  ,   2.9590845 , -13.248278  , ...,   1.4395025 ,\n",
       "          -2.2787251 ,  -0.4758873 ],\n",
       "        [  7.675494  ,   4.8617754 , -13.722789  , ...,   2.3262823 ,\n",
       "          -1.4151366 ,   0.516123  ],\n",
       "        [  6.548239  ,   5.0369697 , -11.633092  , ...,   3.2736177 ,\n",
       "          -1.5217053 ,  -1.3994433 ],\n",
       "        ...,\n",
       "        [ 10.693906  ,   1.1703775 , -10.176023  , ...,  -3.068262  ,\n",
       "           0.54172724,   3.954163  ],\n",
       "        [  6.787681  ,   2.8997006 , -10.143949  , ...,   1.0030081 ,\n",
       "          -0.7446158 ,   0.8911723 ],\n",
       "        [  6.9156523 ,   0.5226552 , -11.642222  , ...,  -3.2940834 ,\n",
       "           1.7138965 ,   2.4303777 ]], dtype=float32),\n",
       " array([[  8.66263   ,   2.7690315 , -12.550457  , ...,  -2.493984  ,\n",
       "          -0.5220484 ,   2.52011   ],\n",
       "        [  6.0235977 ,   1.7017871 , -11.273884  , ...,  -3.5837948 ,\n",
       "          -2.6230235 ,   5.1924887 ],\n",
       "        [  8.215167  ,   0.11398434, -12.874428  , ...,  -4.5757046 ,\n",
       "           0.57661104,   2.4631436 ],\n",
       "        ...,\n",
       "        [  4.7098017 ,  -3.586271  ,  -9.053701  , ...,  -0.23518866,\n",
       "          -1.9061569 ,   0.5777315 ],\n",
       "        [  5.471672  ,  -1.7063364 ,  -8.256559  , ...,   1.738505  ,\n",
       "           1.7019693 ,  -0.0922123 ],\n",
       "        [  6.4341183 ,   0.18636115,  -9.460149  , ...,  -1.0416733 ,\n",
       "           0.04318428,  -0.23627888]], dtype=float32),\n",
       " array([[ 5.224603  , -1.2328074 , -8.807575  , ...,  0.7097438 ,\n",
       "         -1.812649  , -1.1378586 ],\n",
       "        [ 3.5624704 , -0.9039624 , -6.892531  , ...,  0.8068346 ,\n",
       "         -2.2182949 ,  2.7009332 ],\n",
       "        [ 6.0207033 , -0.24285087, -9.679958  , ...,  4.163445  ,\n",
       "         -2.2265425 ,  0.27871102],\n",
       "        ...,\n",
       "        [18.900328  , -3.000942  , 26.5037    , ...,  2.1532369 ,\n",
       "          0.72997856, -3.0423336 ],\n",
       "        [16.848274  , -2.740897  , 25.918343  , ...,  1.6599975 ,\n",
       "          1.2440699 , -0.2882104 ],\n",
       "        [17.402302  , -3.0132554 , 28.040436  , ...,  0.07304335,\n",
       "          2.9959705 , -2.0293522 ]], dtype=float32),\n",
       " array([[ 1.7945393e+01, -4.0810523e+00,  2.8353012e+01, ...,\n",
       "         -1.8104218e+00,  7.2893035e-01, -2.7953813e+00],\n",
       "        [ 1.7662407e+01, -1.0139186e+00,  2.6526186e+01, ...,\n",
       "         -7.5001991e-01,  4.0444498e+00, -2.5063448e+00],\n",
       "        [ 1.5211780e+01,  1.3572851e+00,  2.4316982e+01, ...,\n",
       "         -1.5918829e+00,  2.5061033e+00,  1.4935668e-01],\n",
       "        ...,\n",
       "        [ 2.1127201e+01, -8.4122705e-01,  2.5632658e+01, ...,\n",
       "          2.7033389e+00,  2.5882921e+00,  2.1214032e+00],\n",
       "        [ 2.7933907e+01, -1.6831328e+00,  3.0786701e+01, ...,\n",
       "          2.3823865e-02,  1.9810834e+00, -2.2066755e+00],\n",
       "        [ 2.5082872e+01, -3.7511027e+00,  2.9985706e+01, ...,\n",
       "          9.4074935e-01, -9.7337544e-01, -1.6760223e+00]], dtype=float32),\n",
       " array([[26.52228   , -4.372895  , 30.536272  , ...,  0.8958011 ,\n",
       "         -0.40180486, -0.8077945 ],\n",
       "        [25.774296  , -5.0601745 , 29.710342  , ...,  0.04072377,\n",
       "          1.2558265 , -3.1221411 ],\n",
       "        [24.293055  , -2.630949  , 31.55975   , ..., -0.36286023,\n",
       "          2.9863534 , -4.5490365 ],\n",
       "        ...,\n",
       "        [21.566826  , -1.1474904 , 19.414276  , ...,  0.30265027,\n",
       "         -2.5759072 ,  1.5793078 ],\n",
       "        [21.807173  ,  0.73282486, 19.836216  , ...,  0.07437193,\n",
       "         -5.3344607 , -1.2555541 ],\n",
       "        [19.601515  , -3.4188201 , 21.066221  , ...,  1.103192  ,\n",
       "         -1.9403183 ,  0.8553774 ]], dtype=float32),\n",
       " array([[19.981104  ,  0.03698666, 21.943933  , ...,  1.7466944 ,\n",
       "         -4.119884  ,  2.4577465 ],\n",
       "        [19.668129  , -0.43298396, 20.87092   , ..., -3.0895343 ,\n",
       "          0.07747634,  1.5950058 ],\n",
       "        [18.89308   , -2.2345781 , 20.246319  , ...,  2.3924127 ,\n",
       "         -1.4302517 ,  1.9128604 ],\n",
       "        ...,\n",
       "        [20.926487  , -3.1637108 , 21.258167  , ...,  0.05723129,\n",
       "         -2.6994596 , -1.9363419 ],\n",
       "        [20.882538  , -1.4444544 , 19.944921  , ...,  0.22461198,\n",
       "         -1.3553617 ,  0.11679242],\n",
       "        [19.952822  , -3.0792527 , 20.004889  , ..., -0.8784041 ,\n",
       "         -0.9454596 , -0.40792748]], dtype=float32),\n",
       " array([[16.836733  , -1.5114483 , 21.019499  , ...,  1.0202695 ,\n",
       "         -1.6115595 , -3.5911994 ],\n",
       "        [20.608374  , -3.7506247 , 21.82358   , ..., -0.31916928,\n",
       "         -0.7039105 , -0.25811398],\n",
       "        [19.24989   , -2.7864554 , 19.749033  , ..., -0.2386949 ,\n",
       "         -0.31395712, -0.81054986],\n",
       "        ...,\n",
       "        [25.429676  , -4.8366766 , 28.063852  , ..., -2.1323235 ,\n",
       "          1.20044   ,  2.5018644 ],\n",
       "        [24.73845   , -2.7734864 , 29.949316  , ...,  1.0053016 ,\n",
       "          1.3203353 ,  3.627737  ],\n",
       "        [26.813995  , -1.8761652 , 29.832998  , ..., -0.427281  ,\n",
       "         -0.2953783 ,  0.8858719 ]], dtype=float32),\n",
       " array([[ 2.80348492e+01, -4.09087324e+00,  3.02956200e+01, ...,\n",
       "         -2.71851468e+00, -2.56028920e-01,  1.79844797e+00],\n",
       "        [ 2.70423126e+01, -2.54195571e+00,  3.07055206e+01, ...,\n",
       "         -7.90321827e-02,  1.58870935e+00,  2.70982981e-01],\n",
       "        [ 2.38636665e+01, -2.76728487e+00,  3.13440876e+01, ...,\n",
       "         -1.18906748e+00,  1.47847521e+00,  1.47889173e+00],\n",
       "        ...,\n",
       "        [ 2.77842846e+01, -4.19496679e+00,  2.95039787e+01, ...,\n",
       "          1.35216391e+00, -6.48958445e-01,  1.19002480e-02],\n",
       "        [ 2.58465347e+01, -4.77332783e+00,  2.68715801e+01, ...,\n",
       "          3.22678041e+00, -1.14445515e-01, -6.20203726e-02],\n",
       "        [ 2.53409805e+01, -4.25177193e+00,  2.92914658e+01, ...,\n",
       "         -1.28179789e+00,  2.36795247e-01, -7.60413527e-01]], dtype=float32),\n",
       " array([[25.283276  , -3.6267524 , 30.668182  , ...,  3.5797598 ,\n",
       "         -0.931983  ,  2.1818237 ],\n",
       "        [25.964895  , -6.079557  , 29.828007  , ...,  1.6719737 ,\n",
       "          1.324183  ,  0.03390868],\n",
       "        [25.03143   , -3.5940135 , 22.539288  , ...,  0.7329681 ,\n",
       "         -1.7333701 , -0.7430505 ],\n",
       "        ...,\n",
       "        [24.52508   , -6.277629  , 29.610014  , ...,  0.78890455,\n",
       "          0.1609437 ,  1.267364  ],\n",
       "        [24.497583  , -6.641537  , 29.772623  , ..., -2.7116575 ,\n",
       "          0.3506841 ,  0.7505727 ],\n",
       "        [26.507162  , -7.0767946 , 30.731499  , ..., -2.032353  ,\n",
       "         -1.0494832 ,  2.285291  ]], dtype=float32),\n",
       " array([[ 2.5557783e+01, -6.2304072e+00,  2.8507601e+01, ...,\n",
       "         -2.6086667e+00, -1.2074739e+00,  3.0452851e-03],\n",
       "        [ 2.6187490e+01, -5.4296427e+00,  3.0945026e+01, ...,\n",
       "         -1.4307218e+00,  5.5942780e-01,  3.0437701e+00],\n",
       "        [ 2.5694746e+01, -5.1819901e+00,  3.0965815e+01, ...,\n",
       "         -8.0526823e-01, -6.9536686e-02,  2.1243014e+00],\n",
       "        ...,\n",
       "        [ 2.3732670e+01, -7.4385839e+00,  3.0642637e+01, ...,\n",
       "          1.3632563e+00,  8.0572701e-01, -3.0041261e+00],\n",
       "        [ 2.3644657e+01, -6.1365614e+00,  2.9896130e+01, ...,\n",
       "          3.7705868e-01, -1.8111582e+00, -3.1854212e+00],\n",
       "        [ 2.4328522e+01, -6.5979242e+00,  3.1316397e+01, ...,\n",
       "          3.7203560e+00,  4.4564781e-01, -2.2571092e+00]], dtype=float32),\n",
       " array([[ 2.5817936e+01, -7.7953887e+00,  2.9806292e+01, ...,\n",
       "          5.2520456e+00, -1.8839178e+00, -2.7987804e+00],\n",
       "        [ 2.4696920e+01, -7.5507703e+00,  3.1464693e+01, ...,\n",
       "          8.5708177e-01,  5.2016813e-01, -9.7802657e-01],\n",
       "        [ 2.6790113e+01, -7.5325227e+00,  3.1189703e+01, ...,\n",
       "          1.2623719e+00,  1.3038388e-01, -1.5580441e+00],\n",
       "        ...,\n",
       "        [ 2.4777081e+01, -6.4795341e+00,  3.1224562e+01, ...,\n",
       "          2.0468062e-02,  3.1600683e+00,  1.6266476e+00],\n",
       "        [ 2.4458651e+01, -7.3310714e+00,  3.2330753e+01, ...,\n",
       "          1.5098298e+00,  2.7234752e+00,  1.9071572e+00],\n",
       "        [ 2.3925072e+01, -6.3701329e+00,  3.1718281e+01, ...,\n",
       "          2.6911826e+00, -4.9792919e-01,  1.9978189e+00]], dtype=float32),\n",
       " array([[24.71045   , -4.435332  , 31.191536  , ..., -0.99657935,\n",
       "          1.2035403 , -1.7929648 ],\n",
       "        [22.63289   , -5.04674   , 31.761953  , ...,  2.2632465 ,\n",
       "          0.85124946,  0.7782391 ],\n",
       "        [23.603706  , -6.2231193 , 29.89446   , ...,  1.9881753 ,\n",
       "          0.6620656 ,  1.5581867 ],\n",
       "        ...,\n",
       "        [24.295492  , -6.889081  , 33.51051   , ...,  0.42646354,\n",
       "         -1.39268   , -0.9978677 ],\n",
       "        [24.92953   , -6.607483  , 29.759262  , ...,  0.13268076,\n",
       "         -0.9359134 , -3.9880965 ],\n",
       "        [24.172005  , -6.496299  , 31.874891  , ..., -0.39598182,\n",
       "          1.4531214 , -1.2930988 ]], dtype=float32),\n",
       " array([[24.790174  , -6.846423  , 31.878408  , ..., -0.08014084,\n",
       "         -0.6802554 , -1.0470276 ],\n",
       "        [24.927563  , -6.810081  , 32.20173   , ..., -0.9277977 ,\n",
       "         -1.2137233 , -1.595108  ],\n",
       "        [23.790356  , -6.996265  , 30.997608  , ...,  0.64811134,\n",
       "         -1.9629282 , -1.293026  ],\n",
       "        ...,\n",
       "        [24.34365   , -7.3724036 , 32.3228    , ..., -1.2664257 ,\n",
       "          1.6387032 ,  0.83509254],\n",
       "        [24.425604  , -8.211121  , 33.70816   , ..., -1.9691252 ,\n",
       "          0.23947284,  0.2617188 ],\n",
       "        [22.013168  , -7.401379  , 31.855062  , ..., -0.14919183,\n",
       "          2.4618447 ,  1.6185542 ]], dtype=float32),\n",
       " array([[25.483135  , -7.1166353 , 32.56736   , ..., -0.7587308 ,\n",
       "          0.11247386,  1.1668937 ],\n",
       "        [22.855526  , -7.7179847 , 31.246675  , ...,  1.6290576 ,\n",
       "         -0.26345572, -2.4448538 ],\n",
       "        [25.468811  , -5.438395  , 32.534073  , ...,  2.2071404 ,\n",
       "          1.2825711 , -1.099486  ],\n",
       "        ...,\n",
       "        [25.081348  , -4.413087  , 32.13179   , ...,  4.2406154 ,\n",
       "          0.39429882, -1.5114307 ],\n",
       "        [25.090593  , -6.7798076 , 33.787495  , ..., -0.55879265,\n",
       "          0.24087308,  0.9900375 ],\n",
       "        [24.329569  , -7.529498  , 33.05973   , ..., -0.48040646,\n",
       "          0.623469  ,  1.3707634 ]], dtype=float32),\n",
       " array([[ 25.202656  ,  -4.2871614 ,  34.139553  , ...,  -0.6208282 ,\n",
       "          -0.67484874,  -1.1526148 ],\n",
       "        [ 24.021473  ,  -5.5663233 ,  32.396614  , ...,   1.5789393 ,\n",
       "           1.5712574 ,   1.0110027 ],\n",
       "        [ 22.009953  ,  -7.46084   ,  32.48304   , ...,   1.4654953 ,\n",
       "           3.399093  ,  -1.9523889 ],\n",
       "        ...,\n",
       "        [ 22.289959  ,  -8.451664  ,  41.955208  , ...,  -1.334631  ,\n",
       "           1.0107646 ,  -2.8851867 ],\n",
       "        [ 19.282732  , -12.610103  ,  40.10655   , ...,  -0.9506238 ,\n",
       "           0.2295134 ,  -7.7905602 ],\n",
       "        [ 20.212202  , -12.857282  ,  41.649487  , ...,   1.7255665 ,\n",
       "           1.3515785 ,  -3.3437228 ]], dtype=float32),\n",
       " array([[ 21.184988  , -14.399426  ,  41.209892  , ...,  -1.5253253 ,\n",
       "           2.8600307 ,  -2.8627315 ],\n",
       "        [ 21.824524  , -13.336858  ,  39.1031    , ...,  -1.4011867 ,\n",
       "          -0.13723068,  -2.8498998 ],\n",
       "        [ 21.577837  , -10.343397  ,  40.709312  , ...,  -0.5041547 ,\n",
       "          -2.8680885 ,  -2.5008905 ],\n",
       "        ...,\n",
       "        [ 22.25367   ,  -5.3220897 ,  35.64312   , ...,  -3.9365182 ,\n",
       "           2.290185  ,  -1.7779456 ],\n",
       "        [ 24.707884  ,  -8.883485  ,  34.20166   , ...,  -1.766731  ,\n",
       "          -0.6560587 ,   0.23612945],\n",
       "        [ 23.32839   ,  -9.266328  ,  35.55459   , ...,  -0.7236125 ,\n",
       "           1.2724214 ,  -0.5711331 ]], dtype=float32),\n",
       " array([[23.822363  , -7.3983183 , 37.048916  , ..., -0.27666855,\n",
       "          2.7552216 , -2.5115995 ],\n",
       "        [21.846073  , -7.9807787 , 36.062904  , ..., -2.1247106 ,\n",
       "         -1.4391475 ,  0.30320156],\n",
       "        [22.682055  , -5.239645  , 36.044857  , ..., -0.3021193 ,\n",
       "          1.87976   , -1.9763013 ],\n",
       "        ...,\n",
       "        [19.82822   , -6.3474813 , 26.01267   , ...,  2.1221082 ,\n",
       "         -1.6290728 ,  2.6702626 ],\n",
       "        [22.294945  , -6.3689446 , 27.145096  , ...,  0.22096589,\n",
       "         -3.1455786 ,  0.7845086 ],\n",
       "        [20.183214  , -6.4686027 , 27.259401  , ...,  2.1479194 ,\n",
       "         -1.1134912 ,  1.9261996 ]], dtype=float32),\n",
       " array([[20.11229   , -7.7783437 , 27.929289  , ..., -0.31158862,\n",
       "         -1.9528254 , -0.97061193],\n",
       "        [18.30444   , -5.940505  , 26.905556  , ..., -0.5108815 ,\n",
       "         -3.5886524 ,  1.3390749 ],\n",
       "        [20.216614  , -9.552543  , 35.0367    , ..., -0.26130155,\n",
       "         -0.57225925,  0.897298  ],\n",
       "        ...,\n",
       "        [24.55308   , -6.768236  , 35.40914   , ...,  0.04759046,\n",
       "          0.17151625, -2.3561494 ],\n",
       "        [24.210304  , -7.800971  , 35.9484    , ...,  2.4421337 ,\n",
       "         -0.6945077 , -1.3197169 ],\n",
       "        [25.075176  , -7.0364175 , 35.454716  , ...,  3.1856272 ,\n",
       "         -0.1906097 , -0.34177262]], dtype=float32),\n",
       " array([[23.446392  , -5.647895  , 35.08398   , ...,  1.6714786 ,\n",
       "         -2.1429503 ,  0.95108426],\n",
       "        [26.06065   , -6.2613006 , 33.845276  , ...,  1.5243597 ,\n",
       "          0.08406567, -0.56064427],\n",
       "        [24.578455  , -4.4539337 , 36.22135   , ...,  1.7166113 ,\n",
       "         -0.81831294, -0.28071046],\n",
       "        ...,\n",
       "        [21.663015  , -6.958704  , 35.651203  , ...,  1.5412439 ,\n",
       "         -0.24462236,  0.50439197],\n",
       "        [24.26829   , -6.0909786 , 32.674084  , ...,  0.42407545,\n",
       "         -0.8681181 ,  0.6463406 ],\n",
       "        [24.584925  , -5.9186954 , 34.72249   , ...,  1.1871583 ,\n",
       "         -0.69405484,  0.18081772]], dtype=float32),\n",
       " array([[ 26.073833  ,  -6.338274  ,  36.4289    , ...,   0.23519643,\n",
       "          -2.6890407 ,   0.86162686],\n",
       "        [ 25.121231  ,  -4.713051  ,  35.9506    , ...,   3.7804623 ,\n",
       "          -3.5141919 ,   0.93748677],\n",
       "        [ 26.076998  ,  -7.239933  ,  35.02999   , ...,   1.3603454 ,\n",
       "          -0.3788679 ,  -0.16681123],\n",
       "        ...,\n",
       "        [ 24.86877   ,  -8.584765  ,  38.895332  , ...,   0.6380635 ,\n",
       "          -0.2889482 ,   1.502345  ],\n",
       "        [ 22.86453   , -10.0263    ,  41.2764    , ...,  -2.6460915 ,\n",
       "          -1.3580613 ,   3.8043375 ],\n",
       "        [ 22.486902  ,  -8.458749  ,  40.00052   , ...,  -2.756573  ,\n",
       "           0.3715648 ,   0.1794561 ]], dtype=float32),\n",
       " array([[23.397593  , -7.854381  , 41.05752   , ..., -2.990834  ,\n",
       "          0.24605796,  0.15397988],\n",
       "        [22.566807  , -5.3544636 , 38.1616    , ..., -0.91515857,\n",
       "         -1.228674  ,  2.2309346 ],\n",
       "        [25.280973  , -7.6156273 , 40.658176  , ..., -0.22785437,\n",
       "         -1.2548057 ,  1.9068998 ],\n",
       "        ...,\n",
       "        [10.476539  , -4.4399047 ,  4.5747375 , ..., -0.44733387,\n",
       "         -1.2666248 ,  2.6725595 ],\n",
       "        [12.586324  , -4.8773184 , 11.065255  , ..., -1.5738889 ,\n",
       "         -0.3827316 , -0.49451935],\n",
       "        [12.4351635 , -3.6099436 ,  3.823712  , ..., -2.6100512 ,\n",
       "         -2.3809488 ,  3.5886161 ]], dtype=float32),\n",
       " array([[13.619659  , -4.066299  ,  6.7125854 , ..., -0.7429994 ,\n",
       "         -0.64428824,  2.1733615 ],\n",
       "        [11.62611   , -4.362389  ,  3.2429852 , ...,  0.21098478,\n",
       "         -0.4877458 ,  3.3089345 ],\n",
       "        [12.492336  , -2.9580355 ,  2.7353292 , ...,  0.4552861 ,\n",
       "         -2.3234682 ,  2.1166713 ],\n",
       "        ...,\n",
       "        [24.39478   , -6.775897  , 40.706573  , ..., -3.6436942 ,\n",
       "         -2.3737705 ,  1.5016575 ],\n",
       "        [24.865705  , -7.0485606 , 37.740482  , ..., -3.0460563 ,\n",
       "         -1.4376651 ,  1.6714998 ],\n",
       "        [23.942509  , -3.1415982 , 39.861504  , ..., -0.52626884,\n",
       "         -0.08395818, -0.17576241]], dtype=float32),\n",
       " array([[23.357767  , -5.2759414 , 40.755455  , ..., -1.9747669 ,\n",
       "         -2.0691712 ,  2.7701716 ],\n",
       "        [24.901054  , -3.9806292 , 39.591057  , ..., -2.7263892 ,\n",
       "         -3.4355989 ,  2.3097665 ],\n",
       "        [25.584011  , -6.5119634 , 39.258728  , ..., -2.292729  ,\n",
       "          0.38876447,  1.8449421 ],\n",
       "        ...,\n",
       "        [21.96825   , -9.164591  , 40.601055  , ...,  5.836248  ,\n",
       "          0.62660867,  3.316746  ],\n",
       "        [24.051191  , -6.4521375 , 40.450127  , ...,  3.6520662 ,\n",
       "         -0.52050215,  1.1333501 ],\n",
       "        [21.546305  , -6.157086  , 39.47303   , ...,  1.5790617 ,\n",
       "          3.1979651 ,  3.0158713 ]], dtype=float32),\n",
       " array([[23.694704  , -8.3001995 , 40.464695  , ...,  2.8584664 ,\n",
       "          1.4237499 ,  2.0235271 ],\n",
       "        [23.005816  , -7.5843344 , 40.98578   , ...,  3.5344622 ,\n",
       "         -0.6046939 ,  1.6191303 ],\n",
       "        [25.761831  , -6.4099765 , 39.16075   , ...,  2.093713  ,\n",
       "         -0.9255531 ,  3.3207903 ],\n",
       "        ...,\n",
       "        [18.512712  , -5.859115  , 31.148071  , ..., -0.40998715,\n",
       "         -0.5197533 , -1.4769588 ],\n",
       "        [18.209194  , -5.4585648 , 31.569191  , ..., -0.51467085,\n",
       "          0.22592619,  0.8403259 ],\n",
       "        [21.037806  , -7.234461  , 32.24129   , ...,  2.23342   ,\n",
       "          0.41725156,  0.6709565 ]], dtype=float32),\n",
       " array([[19.879095  , -4.1815166 , 33.127567  , ..., -1.3918751 ,\n",
       "         -0.93629426, -0.8661518 ],\n",
       "        [19.799747  , -5.6236663 , 32.681652  , ..., -0.5856354 ,\n",
       "         -2.7197819 , -0.16034243],\n",
       "        [18.407284  , -6.7181    , 30.182364  , ..., -2.7082534 ,\n",
       "          0.44640467, -0.5222604 ],\n",
       "        ...,\n",
       "        [17.763712  , -6.80419   , 31.320309  , ..., -2.70826   ,\n",
       "         -1.6266549 , -0.83764386],\n",
       "        [20.43925   , -6.8261895 , 32.532104  , ..., -1.7397175 ,\n",
       "         -1.7672894 ,  1.5631099 ],\n",
       "        [18.848923  , -5.789284  , 31.296375  , ..., -1.7573558 ,\n",
       "          0.04372481,  0.15081249]], dtype=float32),\n",
       " array([[ 19.813795  ,  -6.8793445 ,  31.34793   , ...,  -3.984234  ,\n",
       "          -2.408278  ,   1.1747267 ],\n",
       "        [ 20.070652  ,  -6.2711186 ,  31.891914  , ...,  -0.63049906,\n",
       "           1.1630336 ,  -0.5284178 ],\n",
       "        [ 19.298458  ,  -6.403304  ,  31.08381   , ...,  -3.0251434 ,\n",
       "          -1.1772357 ,   0.6059051 ],\n",
       "        ...,\n",
       "        [-12.575182  , -30.73804   ,  29.9569    , ...,   1.6961261 ,\n",
       "           2.7067246 ,  -1.5109538 ],\n",
       "        [-13.145091  , -27.957113  ,  34.68183   , ...,   2.00488   ,\n",
       "           1.1634758 ,   2.0880265 ],\n",
       "        [-15.227825  , -32.547848  ,  30.841574  , ...,   1.5225303 ,\n",
       "           3.1926236 ,  -1.0644917 ]], dtype=float32),\n",
       " array([[-15.0162525 , -32.64973   ,  32.36007   , ...,   0.4625976 ,\n",
       "           1.7980677 ,  -1.5503137 ],\n",
       "        [-14.861935  , -29.716263  ,  29.600048  , ...,   4.981961  ,\n",
       "          -1.1431932 ,   0.6816832 ],\n",
       "        [-19.350176  , -26.006342  ,  32.483227  , ...,   3.9097722 ,\n",
       "          -1.273692  ,   0.7925127 ],\n",
       "        ...,\n",
       "        [ -4.1081924 , -24.035307  ,  32.079147  , ...,   3.651758  ,\n",
       "           1.1193895 ,   2.4469118 ],\n",
       "        [-13.99885   , -28.523857  ,  29.479107  , ...,   0.8127731 ,\n",
       "          -0.2509758 ,   1.0286423 ],\n",
       "        [-12.68589   , -29.92577   ,  32.410675  , ...,   1.9811347 ,\n",
       "           0.78166586,   0.31587335]], dtype=float32),\n",
       " array([[-15.417504  , -28.5838    ,  33.782265  , ...,   2.4528592 ,\n",
       "           0.53636026,   3.583102  ],\n",
       "        [  0.55647486, -22.750751  ,  33.016945  , ...,   0.5293178 ,\n",
       "          -0.8634243 ,   4.3960557 ],\n",
       "        [ -1.0295175 , -20.547518  ,  31.569695  , ...,  -1.1576703 ,\n",
       "          -0.8154136 ,   2.6191728 ],\n",
       "        ...,\n",
       "        [-27.294088  , -31.188343  ,  -4.848879  , ...,   0.3746742 ,\n",
       "          -0.13889562,  -0.80574733],\n",
       "        [-28.827328  , -31.108316  ,  -2.51468   , ...,   1.9178632 ,\n",
       "          -0.97039914,  -2.1181471 ],\n",
       "        [-26.209522  , -32.36226   ,  -2.0979395 , ...,  -1.288056  ,\n",
       "           0.19425285,   1.1369606 ]], dtype=float32),\n",
       " array([[-26.864342  , -31.12762   ,  -2.8975277 , ...,   0.5888455 ,\n",
       "          -2.4525917 ,  -1.169248  ],\n",
       "        [-28.167929  , -33.270462  ,  -3.4397635 , ...,  -1.5334189 ,\n",
       "           0.18950367,  -0.6121801 ],\n",
       "        [-26.149431  , -29.942019  ,  -2.520921  , ...,   0.11950061,\n",
       "           1.3102363 ,  -1.9451756 ],\n",
       "        ...,\n",
       "        [-25.867832  , -31.06504   ,  -0.5350259 , ...,  -2.8964775 ,\n",
       "          -2.8042514 ,  -0.1204872 ],\n",
       "        [-27.29344   , -31.59018   ,  -3.8729386 , ...,  -0.54151094,\n",
       "           0.45340538,  -1.4273145 ],\n",
       "        [-27.725794  , -32.11695   ,  -4.4803066 , ...,  -2.5652964 ,\n",
       "          -2.8171573 ,   0.46701223]], dtype=float32),\n",
       " array([[-28.672302  , -31.283558  ,  -2.8043473 , ...,  -2.8877819 ,\n",
       "           2.943295  ,  -0.35851344],\n",
       "        [-26.730164  , -30.069313  ,  -2.065246  , ...,  -1.8148278 ,\n",
       "           3.011475  ,  -0.2930318 ],\n",
       "        [-24.938564  , -29.337383  ,  -4.639565  , ...,  -0.7633278 ,\n",
       "           3.4289854 ,   1.6240109 ],\n",
       "        ...,\n",
       "        [-28.256124  , -33.337456  ,  -2.8639452 , ...,   0.25252628,\n",
       "          -3.8442183 ,  -1.9307326 ],\n",
       "        [-29.172373  , -31.314333  ,  -3.6660767 , ...,   1.579269  ,\n",
       "          -3.1355147 ,   0.6218997 ],\n",
       "        [-28.287304  , -30.48202   ,  -4.1244545 , ...,   2.5679088 ,\n",
       "          -1.8836616 ,  -1.6847252 ]], dtype=float32),\n",
       " array([[-27.157963  , -31.26063   ,  -3.1318922 , ...,   0.9079779 ,\n",
       "          -3.436527  ,  -3.281522  ],\n",
       "        [-28.353125  , -31.91048   ,  -3.2498996 , ...,   0.19057189,\n",
       "          -3.4503963 ,  -1.28937   ],\n",
       "        [-28.553978  , -33.755447  ,  -4.181591  , ...,   3.0091724 ,\n",
       "          -1.0269473 ,  -1.5750744 ],\n",
       "        ...,\n",
       "        [-28.727678  , -31.165905  ,  -5.495486  , ...,   1.5023464 ,\n",
       "           1.4023318 ,  -0.27052456],\n",
       "        [-28.160933  , -30.884626  ,  -4.750122  , ...,  -1.9737965 ,\n",
       "           0.41168138,  -1.902635  ],\n",
       "        [-27.538658  , -30.645088  ,  -4.2538667 , ...,   1.6522118 ,\n",
       "           2.5689597 ,   0.8139449 ]], dtype=float32),\n",
       " array([[-30.733015  , -30.07311   ,  -3.7666888 , ...,  -1.1854339 ,\n",
       "          -0.28199866,  -1.6285024 ],\n",
       "        [-28.33634   , -32.3338    ,  -4.583867  , ...,  -0.05606724,\n",
       "           3.7497501 ,  -0.7914714 ],\n",
       "        [-27.921185  , -30.040325  ,  -3.9143913 , ...,   0.04345103,\n",
       "           1.0726572 ,  -2.1073022 ],\n",
       "        ...,\n",
       "        [-27.85437   , -34.073715  ,  -1.5835884 , ...,  -0.30198953,\n",
       "          -0.22120626,  -2.8944259 ],\n",
       "        [-26.378284  , -32.738773  ,  -1.5422398 , ...,  -0.09984419,\n",
       "           1.2017295 ,   0.13092594],\n",
       "        [-27.561914  , -32.61504   ,  -3.5410104 , ...,   0.81151474,\n",
       "          -0.40416124,   0.64698386]], dtype=float32),\n",
       " array([[-27.937622  , -32.963326  ,  -2.376036  , ...,  -0.22693792,\n",
       "           2.3360648 ,  -0.07263172],\n",
       "        [-28.176733  , -31.510498  ,  -1.1844829 , ...,  -3.0069463 ,\n",
       "          -0.5069988 ,   0.39679095],\n",
       "        [-26.680613  , -33.16739   ,  -2.2817636 , ...,   1.172762  ,\n",
       "          -1.616253  ,  -0.3742517 ],\n",
       "        ...,\n",
       "        [-25.616505  , -30.66032   , -11.127141  , ...,   0.3170521 ,\n",
       "          -3.3672433 ,  -0.91256404],\n",
       "        [-27.296152  , -32.064243  ,  -9.975205  , ...,  -0.9705965 ,\n",
       "          -2.3121037 ,  -1.3968698 ],\n",
       "        [-26.533115  , -30.01511   ,  -9.378648  , ...,   3.3376336 ,\n",
       "          -1.8373301 ,   0.29837567]], dtype=float32),\n",
       " array([[-28.952816  , -29.741697  ,  -8.751163  , ...,   0.7896191 ,\n",
       "          -3.8934827 ,  -1.0620964 ],\n",
       "        [-29.43185   , -29.044031  ,  -9.655339  , ...,   0.06912806,\n",
       "          -3.3860729 ,   0.41665742],\n",
       "        [-27.730257  , -29.01471   , -10.47121   , ...,   2.3868208 ,\n",
       "          -1.8460382 ,   0.3224576 ],\n",
       "        ...,\n",
       "        [-15.250135  , -35.515823  ,  33.1556    , ...,  -3.0357518 ,\n",
       "           1.4184693 ,  -1.977777  ],\n",
       "        [-14.871347  , -34.738125  ,  34.836967  , ...,  -0.51488256,\n",
       "           0.3956091 ,   0.5566058 ],\n",
       "        [-10.995207  , -34.280945  ,  34.34722   , ...,  -1.8961363 ,\n",
       "           0.6755252 ,   0.8060094 ]], dtype=float32),\n",
       " array([[-12.669655  , -34.05983   ,  32.78524   , ...,  -1.7587605 ,\n",
       "          -1.3423232 ,   0.93692356],\n",
       "        [-18.92473   , -33.54178   ,  33.20036   , ...,  -1.3759171 ,\n",
       "          -2.8425524 ,  -0.23316   ],\n",
       "        [-15.569728  , -34.141975  ,  34.470013  , ...,  -0.83208853,\n",
       "          -2.2324033 ,  -1.6237339 ],\n",
       "        ...,\n",
       "        [-15.787471  , -35.18168   ,  35.009968  , ...,  -1.8236215 ,\n",
       "           0.829965  ,   4.0233865 ],\n",
       "        [-15.7023325 , -33.496174  ,  33.317596  , ...,  -0.5824032 ,\n",
       "           2.8328195 ,   4.6297383 ],\n",
       "        [-15.421438  , -34.60083   ,  31.906458  , ...,  -0.80551314,\n",
       "          -0.92430586,   4.1817145 ]], dtype=float32),\n",
       " array([[-1.6498947e+01, -3.5932262e+01,  3.4400021e+01, ...,\n",
       "         -3.1114202e+00,  7.5638735e-01,  5.5773201e+00],\n",
       "        [-1.2205486e+01, -3.6475113e+01,  3.7039318e+01, ...,\n",
       "          1.4274293e-02,  1.2701432e+00,  1.9726696e+00],\n",
       "        [-1.4828643e+01, -3.6496849e+01,  3.8922501e+01, ...,\n",
       "         -2.1586330e+00,  2.6778209e+00,  2.3632267e+00],\n",
       "        ...,\n",
       "        [-1.6362514e+01, -3.5641254e+01,  3.6815590e+01, ...,\n",
       "         -8.6571938e-01,  1.6438148e+00,  3.9880097e+00],\n",
       "        [-1.8014767e+01, -3.8827156e+01,  3.9157303e+01, ...,\n",
       "          5.6272221e-01, -1.8636898e+00,  2.1756835e+00],\n",
       "        [-1.8072971e+01, -3.9453789e+01,  3.8065834e+01, ...,\n",
       "         -1.0505041e+00,  2.3209824e-01,  7.6059914e-01]], dtype=float32),\n",
       " array([[-14.96549   , -36.101494  ,  38.41189   , ...,  -2.1186962 ,\n",
       "           3.9141326 ,   1.5885916 ],\n",
       "        [-16.821257  , -38.89129   ,  38.133297  , ...,  -0.92349964,\n",
       "           0.22250393,   0.84072405],\n",
       "        [-20.255589  , -34.14336   ,  37.53955   , ...,  -2.0615997 ,\n",
       "           0.5378915 ,  -1.1739149 ],\n",
       "        ...,\n",
       "        [-16.01613   , -39.517006  ,  36.52492   , ...,  -0.15229283,\n",
       "           1.2370393 ,   2.0724895 ],\n",
       "        [-18.238098  , -40.479614  ,  36.244514  , ...,  -2.1418185 ,\n",
       "           2.0960507 ,   1.4623173 ],\n",
       "        [-17.54585   , -40.656242  ,  37.266304  , ...,  -0.65965533,\n",
       "           1.0093108 ,   1.270458  ]], dtype=float32),\n",
       " array([[-17.342783  , -39.20236   ,  35.37211   , ...,  -3.070187  ,\n",
       "          -1.6254555 ,  -0.3135841 ],\n",
       "        [-18.71099   , -39.539433  ,  36.7969    , ...,  -3.1116972 ,\n",
       "          -0.25624165,   1.7464494 ],\n",
       "        [-16.443817  , -36.745502  ,  36.505447  , ...,  -2.8636222 ,\n",
       "           0.17099428,   2.9565022 ],\n",
       "        ...,\n",
       "        [-31.638796  , -32.62477   ,  -0.58365524, ...,  -2.5188289 ,\n",
       "          -0.4581482 ,  -3.1428285 ],\n",
       "        [-30.184137  , -30.859838  ,   3.7448654 , ...,  -1.5787091 ,\n",
       "           0.07760269,  -3.1174324 ],\n",
       "        [-31.308386  , -33.922462  ,   0.36124235, ...,  -1.6215487 ,\n",
       "          -0.50816286,  -1.5226715 ]], dtype=float32),\n",
       " array([[-2.9621164e+01, -3.4236374e+01, -8.7640630e-03, ...,\n",
       "          5.6917709e-01,  1.7561872e+00, -1.0183755e+00],\n",
       "        [-2.8987211e+01, -3.3161160e+01, -7.5617558e-01, ...,\n",
       "         -6.9391930e-01,  7.4088222e-01, -2.4455934e+00],\n",
       "        [-2.7885223e+01, -3.1765944e+01, -1.0885298e+00, ...,\n",
       "          2.0279622e+00, -9.6437240e-01, -2.2886505e+00],\n",
       "        ...,\n",
       "        [-1.7222652e+01, -3.3047607e+01,  3.0745169e+01, ...,\n",
       "          3.5584576e+00, -3.1313012e+00, -6.9239408e-01],\n",
       "        [-1.6232712e+01, -3.3666950e+01,  3.2521221e+01, ...,\n",
       "          5.0006499e+00, -1.3908002e+00,  7.7942729e-01],\n",
       "        [-1.5388403e+01, -3.2147861e+01,  3.2749168e+01, ...,\n",
       "          2.8681502e-01, -2.7729859e+00,  1.0731580e+00]], dtype=float32),\n",
       " array([[-14.828701  , -35.293476  ,  31.038921  , ...,   0.11457016,\n",
       "          -1.644802  ,   1.2989465 ],\n",
       "        [-14.855888  , -35.16369   ,  31.721027  , ...,   0.35402536,\n",
       "          -2.4269063 ,  -3.5831294 ],\n",
       "        [-16.379107  , -34.144073  ,  31.158262  , ...,   2.7536814 ,\n",
       "          -2.3584123 ,  -1.7799565 ],\n",
       "        ...,\n",
       "        [-13.293826  , -31.0769    ,  29.09342   , ...,   3.6037645 ,\n",
       "           1.0708984 ,  -0.6708688 ],\n",
       "        [-14.083121  , -31.34481   ,  26.796251  , ...,   2.4475546 ,\n",
       "           0.7875955 ,  -1.2678211 ],\n",
       "        [-15.791559  , -33.13585   ,  29.436678  , ...,  -0.22515413,\n",
       "           1.6094463 ,   0.5582879 ]], dtype=float32),\n",
       " array([[-1.4712998e+01, -3.0836906e+01,  2.7773476e+01, ...,\n",
       "          4.0099454e+00, -1.7935413e+00, -9.0801847e-01],\n",
       "        [-1.4015222e+01, -3.1917858e+01,  2.7304302e+01, ...,\n",
       "          4.4056921e+00,  2.5057747e+00,  7.2236305e-01],\n",
       "        [-1.3972740e+01, -3.1249674e+01,  2.7620283e+01, ...,\n",
       "          2.0492098e+00,  2.0464478e+00, -1.9244384e+00],\n",
       "        ...,\n",
       "        [-1.3985672e+01, -3.3657089e+01,  2.9750025e+01, ...,\n",
       "          8.8156766e-01,  1.6291429e+00, -1.9451806e-02],\n",
       "        [-1.4165903e+01, -3.5438488e+01,  3.1898308e+01, ...,\n",
       "         -1.1511401e+00,  8.3824396e-01,  1.1233739e+00],\n",
       "        [-1.4162967e+01, -3.3836418e+01,  3.1288267e+01, ...,\n",
       "          4.3437821e-01,  1.7971182e+00,  8.3062470e-01]], dtype=float32),\n",
       " array([[-1.38929310e+01, -3.41964684e+01,  3.09041786e+01, ...,\n",
       "          2.14869452e+00,  6.07288361e-01,  4.87421989e-01],\n",
       "        [-1.40789042e+01, -3.47994003e+01,  3.19301376e+01, ...,\n",
       "          1.46899593e+00, -1.60735890e-01, -2.61668205e-01],\n",
       "        [-1.22274055e+01, -3.31940613e+01,  3.00632839e+01, ...,\n",
       "         -3.38058993e-02,  1.32652128e+00,  1.26684368e+00],\n",
       "        ...,\n",
       "        [-1.19061985e+01, -2.96521244e+01,  2.64529190e+01, ...,\n",
       "          1.21368730e+00,  4.58954477e+00, -6.14999533e-01],\n",
       "        [-1.32324972e+01, -2.77394924e+01,  2.51062126e+01, ...,\n",
       "          2.98603463e+00,  3.22636127e+00, -1.92705643e+00],\n",
       "        [-1.47469559e+01, -2.81501522e+01,  2.77798710e+01, ...,\n",
       "          2.74197787e-01,  2.85240006e+00, -2.92269564e+00]], dtype=float32),\n",
       " array([[-12.39977   , -28.054602  ,  26.759537  , ...,   5.887483  ,\n",
       "           2.3455331 ,  -1.5266143 ],\n",
       "        [-15.076872  , -29.48952   ,  26.189373  , ...,   2.1696744 ,\n",
       "           2.8272598 ,  -2.0585797 ],\n",
       "        [-14.0635    , -30.429806  ,  27.498644  , ...,   2.0892231 ,\n",
       "           2.5496652 ,   2.5515506 ],\n",
       "        ...,\n",
       "        [-25.017727  , -25.593962  ,  -9.880299  , ...,   3.6639705 ,\n",
       "          -0.17567036,   1.2707984 ],\n",
       "        [-19.4511    , -25.23928   , -11.10543   , ...,   0.6322748 ,\n",
       "          -0.3814912 ,  -2.2857625 ],\n",
       "        [-26.270712  , -28.775988  , -11.330279  , ...,   2.0192943 ,\n",
       "          -1.5356421 ,  -1.4667699 ]], dtype=float32),\n",
       " array([[-24.156094  , -21.574387  , -11.659973  , ...,   2.3293796 ,\n",
       "          -1.0854753 ,   1.0819235 ],\n",
       "        [-25.987097  , -27.9212    , -11.542573  , ...,   0.8642133 ,\n",
       "          -1.8854266 ,   0.21921426],\n",
       "        [-24.641182  , -27.759628  ,  -8.269113  , ...,   1.3128436 ,\n",
       "           0.17253701,   3.635068  ],\n",
       "        ...,\n",
       "        [-25.288237  , -24.515108  , -12.110068  , ...,  -2.9328809 ,\n",
       "          -0.13397187,  -0.40209043],\n",
       "        [-23.399996  , -28.428574  , -13.896599  , ...,  -0.59201795,\n",
       "           1.0862132 ,  -2.3385608 ],\n",
       "        [-26.056057  , -29.703733  , -12.3388195 , ...,   0.16282018,\n",
       "           0.12859157,  -0.6235552 ]], dtype=float32),\n",
       " array([[-22.660574  , -27.88667   , -13.597148  , ...,   0.1556253 ,\n",
       "           2.833273  ,  -0.65573037],\n",
       "        [-25.364431  , -30.069752  , -13.271146  , ...,  -1.3449752 ,\n",
       "           1.5361407 ,  -0.69182557],\n",
       "        [-23.492872  , -27.53399   ,  -8.480073  , ...,  -1.4040213 ,\n",
       "           2.5321536 ,   0.8898357 ],\n",
       "        ...,\n",
       "        [-23.535107  , -23.20544   , -10.013137  , ...,   0.22096437,\n",
       "           0.12939478,  -1.0334898 ],\n",
       "        [-23.13943   , -21.936304  , -12.879909  , ...,  -0.35770592,\n",
       "          -1.3181012 ,  -5.41955   ],\n",
       "        [-24.612219  , -23.674541  , -11.733737  , ...,   0.9797726 ,\n",
       "           0.26010358,  -1.2501957 ]], dtype=float32),\n",
       " array([[-25.162312  , -20.84878   , -11.773414  , ...,   1.2904114 ,\n",
       "           0.74037415,  -4.536245  ],\n",
       "        [-21.44583   , -24.835705  ,  -2.2447016 , ...,   3.9392028 ,\n",
       "           0.746193  ,  -4.51753   ],\n",
       "        [-24.88129   , -22.262306  , -12.073868  , ...,   2.7424815 ,\n",
       "           1.087735  ,  -3.9449854 ],\n",
       "        ...,\n",
       "        [-22.798347  , -21.354809  , -15.560146  , ...,  -0.9453576 ,\n",
       "          -0.2573699 ,   0.46943867],\n",
       "        [-23.20603   , -22.077032  , -17.724394  , ...,   0.25507146,\n",
       "          -0.26779684,   0.54778016],\n",
       "        [-26.079527  , -20.27194   , -15.627498  , ...,   0.34576002,\n",
       "           2.6566808 ,   2.7903833 ]], dtype=float32),\n",
       " array([[-23.666046  , -22.762547  , -18.026825  , ...,   2.2147274 ,\n",
       "          -1.1297755 ,   0.7216794 ],\n",
       "        [-22.25926   , -20.914803  , -16.073524  , ...,   0.41130984,\n",
       "          -0.15838435,   4.146646  ],\n",
       "        [-27.425316  , -14.843371  , -11.938796  , ...,   0.80110484,\n",
       "           0.16301663,   1.3398803 ],\n",
       "        ...,\n",
       "        [-22.843199  , -26.44812   , -19.631006  , ...,   1.0683706 ,\n",
       "          -0.2960686 ,   0.23926069],\n",
       "        [-22.249214  , -24.654291  , -20.780535  , ...,   0.27083567,\n",
       "           0.42251632,  -1.364759  ],\n",
       "        [-24.352789  , -27.825335  , -18.56042   , ...,  -0.7307764 ,\n",
       "          -2.6292744 ,   0.5659143 ]], dtype=float32),\n",
       " array([[-23.003199  , -24.44407   , -18.145456  , ...,   1.0790088 ,\n",
       "           0.76618004,  -1.953938  ],\n",
       "        [-21.098724  , -23.70889   , -19.661901  , ...,  -0.3192988 ,\n",
       "          -0.79428554,  -1.9993212 ],\n",
       "        [-19.033964  , -25.02387   , -13.288132  , ...,  -0.26620796,\n",
       "          -0.4236043 ,  -1.3728031 ],\n",
       "        ...,\n",
       "        [-24.07854   , -26.689547  , -12.646825  , ...,   2.8980134 ,\n",
       "          -1.3006268 ,  -0.11624987],\n",
       "        [-24.240828  , -26.755804  , -13.920203  , ...,   4.981301  ,\n",
       "          -3.3942473 ,   1.2051538 ],\n",
       "        [-30.053976  , -25.055845  , -13.192909  , ...,   2.8742163 ,\n",
       "          -1.2987833 ,   1.5007904 ]], dtype=float32),\n",
       " array([[-22.739344  , -27.651093  , -17.94575   , ...,   2.2821753 ,\n",
       "           0.7798452 ,   2.9142928 ],\n",
       "        [-24.545763  , -26.061201  , -15.557431  , ...,   3.7559109 ,\n",
       "          -1.1568063 ,   0.33377376],\n",
       "        [-23.806868  , -24.990513  , -17.863247  , ...,   2.3843699 ,\n",
       "          -2.3680654 ,  -1.0098885 ],\n",
       "        ...,\n",
       "        [-23.603062  , -23.766714  , -17.719803  , ...,   1.6783856 ,\n",
       "           1.2829419 ,  -0.81517434],\n",
       "        [-23.480465  , -24.854626  , -12.710754  , ...,  -0.7908033 ,\n",
       "          -0.05551589,  -0.16681582],\n",
       "        [-21.74891   , -23.990364  , -16.6942    , ...,   0.11003266,\n",
       "          -0.9144692 ,   2.5963795 ]], dtype=float32),\n",
       " array([[-23.684572  , -24.450333  , -15.415535  , ...,   0.08931421,\n",
       "           0.67605233,   0.75003713],\n",
       "        [-26.50213   , -24.045265  , -17.007301  , ...,  -1.43582   ,\n",
       "           0.62505734,   0.8733003 ],\n",
       "        [-22.860647  , -23.05345   , -17.597866  , ...,   2.7345955 ,\n",
       "          -0.56445754,   2.267475  ],\n",
       "        ...,\n",
       "        [-22.032131  , -24.496592  ,  -7.507511  , ...,  -0.27555895,\n",
       "          -1.2256074 ,   2.3301866 ],\n",
       "        [-25.588354  , -25.370913  , -15.138681  , ...,  -0.83502287,\n",
       "          -1.269217  ,   1.2072794 ],\n",
       "        [-25.963799  , -27.161026  , -14.180809  , ...,   1.4112585 ,\n",
       "           3.7386017 ,   0.31646338]], dtype=float32),\n",
       " array([[-25.334963  , -27.417807  , -13.943005  , ...,   1.124371  ,\n",
       "           0.14576823,   0.10945544],\n",
       "        [-21.050667  , -22.886713  , -10.879667  , ...,  -1.2379963 ,\n",
       "           3.0582342 ,   2.9371183 ],\n",
       "        [-25.74906   , -27.810793  , -15.162831  , ...,  -0.87457794,\n",
       "           0.66733134,   2.7392163 ],\n",
       "        ...,\n",
       "        [-25.878763  , -26.136255  , -17.654892  , ...,  -0.536766  ,\n",
       "          -3.146289  ,   0.65313506],\n",
       "        [-23.53422   , -25.070112  , -19.68969   , ...,  -2.4347343 ,\n",
       "           1.1528555 ,   2.6448271 ],\n",
       "        [-24.189844  , -25.113426  , -18.235779  , ...,  -0.22674039,\n",
       "          -2.9016464 ,   2.224477  ]], dtype=float32),\n",
       " array([[-25.77177   , -28.881647  , -17.073492  , ...,  -2.3614836 ,\n",
       "           0.08068756,  -1.374984  ],\n",
       "        [-23.62977   , -26.87467   , -17.694315  , ...,  -0.63498944,\n",
       "          -4.491119  ,  -1.2512593 ],\n",
       "        [-25.543684  , -27.117147  , -18.216997  , ...,  -0.32908025,\n",
       "          -1.2735158 ,  -1.4045755 ],\n",
       "        ...,\n",
       "        [-22.817482  , -19.196753  , -17.913609  , ...,   0.3902439 ,\n",
       "           2.257063  ,  -0.8134668 ],\n",
       "        [-18.207932  , -20.491259  , -20.878088  , ...,   2.3430407 ,\n",
       "           2.4195216 ,  -1.0624313 ],\n",
       "        [-23.783663  , -23.103106  , -19.303705  , ...,   1.1804338 ,\n",
       "          -0.45528406,  -1.822388  ]], dtype=float32),\n",
       " array([[-24.667475  , -21.50526   , -18.617147  , ...,   0.7449719 ,\n",
       "           1.1554189 ,  -2.4111283 ],\n",
       "        [-22.972681  , -18.26152   , -19.328327  , ...,   2.7482352 ,\n",
       "           0.38821045,   0.98322016],\n",
       "        [-20.356676  , -21.088272  , -20.333677  , ...,   0.6693931 ,\n",
       "           1.8679948 ,  -0.9265059 ],\n",
       "        ...,\n",
       "        [-22.63295   , -28.445868  , -18.983492  , ...,   2.1815238 ,\n",
       "           1.079628  ,   3.2433517 ],\n",
       "        [-23.002974  , -26.484652  , -18.105915  , ...,   1.8529683 ,\n",
       "           0.12119684,   3.9896038 ],\n",
       "        [-22.797773  , -24.698463  , -16.492046  , ...,   1.6422734 ,\n",
       "           0.41530365,   2.0311043 ]], dtype=float32),\n",
       " array([[-23.687204  , -27.833704  , -18.079357  , ...,   2.4190688 ,\n",
       "          -0.3628671 ,   0.575157  ],\n",
       "        [-22.86416   , -25.401175  , -18.024069  , ...,   1.4911845 ,\n",
       "          -1.1169232 ,   3.3482232 ],\n",
       "        [-22.5524    , -25.788637  , -19.541742  , ...,   0.5891036 ,\n",
       "          -1.584951  ,  -0.6091824 ],\n",
       "        ...,\n",
       "        [-24.056578  , -29.011194  , -16.307312  , ...,   2.4819953 ,\n",
       "           1.1630912 ,  -1.9330662 ],\n",
       "        [-26.713398  , -25.945023  , -18.355663  , ...,   0.7431512 ,\n",
       "          -2.3009448 ,  -0.31170553],\n",
       "        [-22.472652  , -27.508883  , -17.482088  , ...,   3.4894762 ,\n",
       "           0.818868  ,  -0.7855437 ]], dtype=float32),\n",
       " array([[-24.879095  , -26.184677  , -17.152266  , ...,   1.2257714 ,\n",
       "           0.87632275,   0.34340733],\n",
       "        [-25.425268  , -26.002188  , -17.612461  , ...,   1.1146611 ,\n",
       "          -0.7835096 ,  -0.8209973 ],\n",
       "        [-23.653402  , -27.161661  , -18.0589    , ...,   1.376365  ,\n",
       "          -1.809598  ,  -1.4053516 ],\n",
       "        ...,\n",
       "        [-21.564724  , -21.998764  , -16.897968  , ...,  -0.21873344,\n",
       "           2.0931349 ,  -0.14171886],\n",
       "        [-23.981169  , -24.904358  , -14.850414  , ...,   0.44962475,\n",
       "          -0.16849324,  -3.0408802 ],\n",
       "        [-21.855843  , -24.256214  , -13.079553  , ...,   0.05488652,\n",
       "          -0.62099546,  -2.5249417 ]], dtype=float32),\n",
       " array([[-24.302673  , -26.013193  , -17.252754  , ...,   0.5727551 ,\n",
       "          -2.6430461 ,  -3.3109334 ],\n",
       "        [-24.73787   , -20.990957  , -15.995818  , ...,   0.46296337,\n",
       "           2.2339911 ,  -3.6440315 ],\n",
       "        [-23.426867  , -25.04068   , -14.348374  , ...,  -0.51002496,\n",
       "           0.8790509 ,  -5.0079093 ],\n",
       "        ...,\n",
       "        [-23.897402  , -22.715816  , -18.700974  , ...,  -1.796143  ,\n",
       "           1.3443999 ,   0.23433259],\n",
       "        [-26.834589  , -25.73872   , -17.138592  , ...,  -3.0023987 ,\n",
       "           1.2130815 ,   1.4271206 ],\n",
       "        [-24.437708  , -26.361523  , -17.530512  , ...,  -1.6529384 ,\n",
       "           3.175238  ,   1.916322  ]], dtype=float32),\n",
       " array([[-23.089542 , -24.956062 , -18.821512 , ...,  -2.6023157,\n",
       "           1.5681498,   2.7515836],\n",
       "        [-23.606201 , -25.9798   , -16.49523  , ...,  -3.0897243,\n",
       "           3.848854 ,   3.5409088],\n",
       "        [-24.450275 , -24.539663 , -16.79621  , ...,  -3.701904 ,\n",
       "           2.2474253,   1.027649 ],\n",
       "        ...,\n",
       "        [-12.19741  , -13.036449 , -16.879818 , ...,   2.9517243,\n",
       "          -3.6131136,   1.6613095],\n",
       "        [-21.27169  , -25.731098 , -13.464848 , ...,   1.9544879,\n",
       "          -1.4242625,   2.314185 ],\n",
       "        [-23.72605  , -24.80804  , -16.178154 , ...,   1.7320743,\n",
       "          -5.5020742,   2.9173229]], dtype=float32),\n",
       " array([[-20.631302  , -23.746124  , -18.054417  , ...,   3.5834062 ,\n",
       "          -2.6072414 ,   2.54708   ],\n",
       "        [-22.705915  , -25.073925  , -16.671127  , ...,   0.5162197 ,\n",
       "          -6.778415  ,   1.7118528 ],\n",
       "        [-20.750744  , -23.982386  , -13.0575285 , ...,   2.6637459 ,\n",
       "          -4.392407  ,   1.2366562 ],\n",
       "        ...,\n",
       "        [-24.041445  , -21.43739   , -19.708542  , ...,   0.9997133 ,\n",
       "           4.6765018 ,   1.8543878 ],\n",
       "        [-23.795973  , -18.003263  , -19.539228  , ...,   2.1380026 ,\n",
       "           3.666214  ,   2.0860813 ],\n",
       "        [-22.141602  , -18.576     , -17.232327  , ...,   0.37782407,\n",
       "           2.0736175 ,   0.18934366]], dtype=float32),\n",
       " array([[-22.589056  , -17.742569  , -21.272573  , ...,   0.11741778,\n",
       "           1.1692451 ,  -0.68499255],\n",
       "        [-23.96285   , -19.917126  , -19.86415   , ...,   1.3362653 ,\n",
       "           2.775571  ,  -1.3535548 ],\n",
       "        [-22.925968  , -20.680218  , -21.454962  , ...,   1.5804151 ,\n",
       "           2.1354892 ,   0.5428192 ],\n",
       "        ...,\n",
       "        [-22.709545  , -18.276577  , -21.340446  , ...,  -1.2050277 ,\n",
       "           0.5701624 ,  -2.0072932 ],\n",
       "        [-23.630556  , -19.460117  , -21.026829  , ...,   0.42386082,\n",
       "           0.21945906,   0.35919017],\n",
       "        [-22.705     , -23.332815  , -20.127655  , ...,   0.32453087,\n",
       "          -0.7632356 ,  -1.6418321 ]], dtype=float32),\n",
       " array([[-2.25619068e+01, -1.81058216e+01, -2.17723980e+01, ...,\n",
       "          5.00811100e-01,  4.21651512e-01, -1.65664160e+00],\n",
       "        [-2.34633522e+01, -1.47077484e+01, -1.68653526e+01, ...,\n",
       "          2.20735455e+00,  7.29706464e-03, -3.11460090e+00],\n",
       "        [-2.35394001e+01, -2.31367531e+01, -1.93388939e+01, ...,\n",
       "         -2.45910406e+00,  9.05256569e-01, -1.46047401e+00],\n",
       "        ...,\n",
       "        [-2.51209698e+01, -2.94420948e+01, -1.71200085e+01, ...,\n",
       "         -7.98981786e-01, -3.15650082e+00,  4.23452944e-01],\n",
       "        [-2.55902748e+01, -2.75921402e+01, -1.91205273e+01, ...,\n",
       "         -1.64070213e+00, -2.14417100e+00, -3.89243746e+00],\n",
       "        [-2.32125340e+01, -2.62777882e+01, -1.96094513e+01, ...,\n",
       "         -2.90927459e-02, -2.75974417e+00,  1.20743886e-01]], dtype=float32),\n",
       " array([[-21.410097  , -22.753597  , -19.650267  , ...,  -0.25489497,\n",
       "          -2.4976966 ,   0.23664095],\n",
       "        [-25.529068  , -23.807644  , -17.714754  , ...,  -1.3839612 ,\n",
       "           0.3795657 ,  -1.8798717 ],\n",
       "        [-24.620007  , -26.501108  , -17.60333   , ...,   1.4881    ,\n",
       "          -1.7887138 ,  -1.536261  ],\n",
       "        ...,\n",
       "        [-23.155056  , -27.781607  , -18.017122  , ...,  -0.44345105,\n",
       "           0.06403028,   1.4371498 ],\n",
       "        [-22.103827  , -24.951317  , -21.258015  , ...,   0.04013426,\n",
       "           2.2024107 ,  -1.0058544 ],\n",
       "        [-21.789276  , -22.7657    , -19.164135  , ...,   2.8035343 ,\n",
       "           1.7452649 ,  -0.6299046 ]], dtype=float32),\n",
       " array([[-20.631687  , -24.981493  , -21.192812  , ...,   3.2745838 ,\n",
       "           5.4804406 ,   0.59397346],\n",
       "        [-28.384304  , -24.254759  , -16.938568  , ...,   3.2185662 ,\n",
       "           0.7710776 ,   1.0091602 ],\n",
       "        [-23.215788  , -26.49099   , -20.32792   , ...,   1.180113  ,\n",
       "           2.8380008 ,   0.9578776 ],\n",
       "        ...,\n",
       "        [-24.50927   , -27.279242  , -17.559118  , ...,   1.6887728 ,\n",
       "          -1.0396718 ,   0.7761864 ],\n",
       "        [-24.62105   , -27.795465  , -18.594624  , ...,  -0.13408749,\n",
       "          -0.829218  ,   1.4567976 ],\n",
       "        [-22.602573  , -27.07691   , -17.347103  , ...,   1.0782984 ,\n",
       "           1.6513964 ,   2.4995215 ]], dtype=float32),\n",
       " array([[-2.5665115e+01, -2.7930773e+01, -1.8562616e+01, ...,\n",
       "          2.4749055e+00, -1.5593640e+00,  1.0555890e+00],\n",
       "        [-2.4381596e+01, -2.7761766e+01, -1.1938059e+01, ...,\n",
       "          2.0124707e+00,  9.4552791e-01, -1.5601134e-01],\n",
       "        [-2.6103006e+01, -2.9455523e+01, -1.4839641e+01, ...,\n",
       "         -1.3826829e+00, -4.4078223e-02,  1.0560880e-02],\n",
       "        ...,\n",
       "        [-2.4080776e+01, -2.9933449e+01, -1.5426208e+01, ...,\n",
       "          4.1151710e+00, -3.2379911e+00, -3.6848521e-01],\n",
       "        [-2.4856098e+01, -2.7205431e+01, -1.8394964e+01, ...,\n",
       "          6.4416605e-01, -3.2143149e+00, -1.0316339e+00],\n",
       "        [-2.5461121e+01, -2.8851732e+01, -1.7455631e+01, ...,\n",
       "         -2.1252066e-01,  3.5940000e-01,  7.7995646e-01]], dtype=float32),\n",
       " array([[-23.565363  , -28.653967  , -18.331228  , ...,   4.2354484 ,\n",
       "          -1.1588228 ,  -1.6606988 ],\n",
       "        [-25.798088  , -26.603754  , -18.785099  , ...,   1.148202  ,\n",
       "           0.08111652,  -0.26579097],\n",
       "        [-23.087397  , -30.236244  , -17.068945  , ...,   1.2778395 ,\n",
       "           0.3481251 ,  -0.95374346],\n",
       "        ...,\n",
       "        [-23.65242   , -26.558878  , -19.181025  , ...,  -0.7313042 ,\n",
       "          -1.0866256 ,   2.3293567 ],\n",
       "        [-24.55324   , -26.450613  , -19.177156  , ...,   0.34160146,\n",
       "          -0.4140078 ,   1.5985106 ],\n",
       "        [-20.89534   , -26.096043  , -17.002544  , ...,  -0.8023286 ,\n",
       "          -3.8390062 ,   0.65283453]], dtype=float32),\n",
       " array([[-2.3932104e+01, -2.8049025e+01, -1.8680233e+01, ...,\n",
       "          1.2243284e+00, -2.2307842e+00,  9.7647703e-01],\n",
       "        [-2.3911966e+01, -2.6828127e+01, -1.7298941e+01, ...,\n",
       "         -1.7516369e+00, -3.0889852e+00, -1.4947504e-02],\n",
       "        [-2.2817961e+01, -2.7565535e+01, -1.6384697e+01, ...,\n",
       "         -1.3322427e+00, -3.6227259e-01,  1.0014602e+00],\n",
       "        ...,\n",
       "        [-2.1240885e+01, -2.8111971e+01, -1.6738707e+01, ...,\n",
       "          8.1080639e-01,  2.7916229e+00,  2.2692561e+00],\n",
       "        [-2.3598776e+01, -2.7330965e+01, -1.7461580e+01, ...,\n",
       "         -3.4666460e+00,  1.2441367e+00,  2.1284568e+00],\n",
       "        [-2.0406239e+01, -2.5920795e+01, -1.7430580e+01, ...,\n",
       "         -3.6532257e+00,  4.3060775e+00, -1.8314039e+00]], dtype=float32),\n",
       " array([[-2.4140215e+01, -2.6845049e+01, -1.7333817e+01, ...,\n",
       "         -1.1575850e+00,  2.4385824e+00,  3.7162894e-01],\n",
       "        [-2.4109642e+01, -2.5625963e+01, -1.8571144e+01, ...,\n",
       "         -1.3274907e+00,  3.8092504e+00, -1.7048106e-02],\n",
       "        [-2.2145903e+01, -2.7588646e+01, -1.5654023e+01, ...,\n",
       "         -3.5371387e+00,  9.5384640e-01, -6.8639034e-01],\n",
       "        ...,\n",
       "        [-2.2396248e+01, -2.0960575e+01, -2.0446228e+01, ...,\n",
       "          4.6080556e+00,  2.5297031e+00, -2.8812180e+00],\n",
       "        [-2.1396255e+01, -1.8354752e+01, -1.8848124e+01, ...,\n",
       "          4.6327486e+00,  4.0906219e+00, -2.6658080e+00],\n",
       "        [-2.1296494e+01, -1.8417562e+01, -1.7585279e+01, ...,\n",
       "          1.9133853e+00,  3.4800344e+00,  9.7887218e-01]], dtype=float32),\n",
       " array([[-23.763313  , -21.45763   , -20.612015  , ...,   5.622522  ,\n",
       "           2.9162152 ,  -1.4014355 ],\n",
       "        [-22.563675  , -19.96702   , -18.51345   , ...,   3.497602  ,\n",
       "           0.6455158 ,   0.13408309],\n",
       "        [-21.469757  , -19.264174  , -18.186728  , ...,   3.60736   ,\n",
       "           0.28786668,  -2.223306  ],\n",
       "        ...,\n",
       "        [-27.450123  , -23.561216  ,  -8.421363  , ...,   1.2971264 ,\n",
       "           0.05682051,  -4.5690465 ],\n",
       "        [-23.481232  , -23.612103  , -11.416986  , ...,   2.237155  ,\n",
       "           0.47024366,  -2.913631  ],\n",
       "        [-25.956955  , -23.074148  ,  -9.715007  , ...,   1.0641699 ,\n",
       "          -0.8225807 ,  -4.398295  ]], dtype=float32),\n",
       " array([[-26.927593  , -26.401407  , -10.379929  , ...,  -0.17794645,\n",
       "          -2.6925018 ,  -3.1617916 ],\n",
       "        [-26.132408  , -26.99472   , -10.142311  , ...,   0.3758435 ,\n",
       "           2.1056156 ,  -4.288943  ],\n",
       "        [-27.831665  , -26.041525  , -11.0491495 , ...,   0.24570078,\n",
       "          -0.32039613,  -1.8712487 ],\n",
       "        ...,\n",
       "        [-27.28249   , -15.810362  , -14.281916  , ...,  -2.9049904 ,\n",
       "           1.0051436 ,  -0.911384  ],\n",
       "        [-33.334465  , -12.396889  , -14.823537  , ...,  -2.8378193 ,\n",
       "          -4.4494452 ,  -3.4169538 ],\n",
       "        [-24.513077  , -20.355194  , -16.28104   , ...,  -3.8150697 ,\n",
       "           2.049754  ,  -1.8540559 ]], dtype=float32),\n",
       " array([[-24.225336  , -18.208775  , -17.792759  , ...,  -2.461327  ,\n",
       "          -1.1167977 ,   2.8168283 ],\n",
       "        [-28.935108  , -16.334122  , -17.115374  , ...,  -1.3727938 ,\n",
       "          -3.4764252 ,  -1.1431963 ],\n",
       "        [-23.926224  , -15.499022  , -18.853706  , ...,  -0.6256811 ,\n",
       "          -1.6065608 ,  -0.24543   ],\n",
       "        ...,\n",
       "        [-17.516613  , -16.671999  , -20.0085    , ...,  -0.5260061 ,\n",
       "           4.5816174 ,  -1.3315    ],\n",
       "        [-18.603106  , -15.402225  , -20.560797  , ...,  -0.8678899 ,\n",
       "           4.062575  ,  -0.15196799],\n",
       "        [-18.733881  , -16.648806  , -21.35641   , ...,   3.0748286 ,\n",
       "           1.4397633 ,  -0.6871533 ]], dtype=float32),\n",
       " array([[-19.970592  , -17.2609    , -20.462961  , ...,   2.5827198 ,\n",
       "           2.2827725 ,  -2.783719  ],\n",
       "        [-18.43088   , -14.514734  , -21.777166  , ...,   2.2518587 ,\n",
       "           3.054436  ,  -0.8106635 ],\n",
       "        [-19.51629   , -17.860102  , -21.036375  , ...,   2.6911922 ,\n",
       "          -0.07535228,  -2.0850174 ],\n",
       "        ...,\n",
       "        [-19.094269  , -18.223701  , -20.891575  , ...,   1.0196244 ,\n",
       "           0.24075995,  -0.7647466 ],\n",
       "        [-19.05141   , -19.134878  , -22.434883  , ...,   2.7850013 ,\n",
       "           1.7571177 ,   1.1322653 ],\n",
       "        [-17.558043  , -20.21424   , -18.031538  , ...,   3.6338246 ,\n",
       "           0.24923523,  -0.64543366]], dtype=float32),\n",
       " array([[-2.1084442e+01, -1.8018156e+01, -2.2229876e+01, ...,\n",
       "          8.1885093e-01, -1.9613101e+00, -1.4204779e+00],\n",
       "        [-2.1131737e+01, -2.0027540e+01, -2.0769823e+01, ...,\n",
       "          2.1824334e+00,  4.3135545e-01, -1.3624599e-02],\n",
       "        [-1.9760805e+01, -2.0424814e+01, -2.2629412e+01, ...,\n",
       "          3.0920234e+00,  1.7978261e+00,  5.4557931e-01],\n",
       "        ...,\n",
       "        [-2.4832592e+01, -2.6545006e+01, -1.9374142e+01, ...,\n",
       "         -9.0764517e-01, -1.3804697e+00, -7.6837802e-01],\n",
       "        [-2.2056160e+01, -2.5590523e+01, -1.8269693e+01, ...,\n",
       "          2.0269821e+00,  4.4520587e-01, -6.3503426e-01],\n",
       "        [-2.2507820e+01, -2.7961500e+01, -1.6065928e+01, ...,\n",
       "         -4.6703461e-01, -9.1802460e-01, -1.1371398e+00]], dtype=float32),\n",
       " array([[-2.43267689e+01, -2.45188084e+01, -1.74705715e+01, ...,\n",
       "         -3.32435630e-02, -4.41853195e-01,  8.68891597e-01],\n",
       "        [-2.39391899e+01, -2.52774982e+01, -1.83917179e+01, ...,\n",
       "         -2.09894776e+00, -6.69110179e-01, -1.04735255e+00],\n",
       "        [-2.14066467e+01, -2.63135529e+01, -1.97059174e+01, ...,\n",
       "          6.92841291e-01, -2.55143315e-01, -1.39070487e+00],\n",
       "        ...,\n",
       "        [-2.15217800e+01, -2.61514416e+01, -1.84437790e+01, ...,\n",
       "         -6.82704389e-01,  3.95580578e+00,  2.42630076e-02],\n",
       "        [-1.95470963e+01, -2.48844624e+01, -1.91096554e+01, ...,\n",
       "          1.04887974e+00,  2.21370125e+00,  1.07821666e-01],\n",
       "        [-2.11341114e+01, -2.63400307e+01, -1.78797417e+01, ...,\n",
       "         -1.31717652e-01,  3.09431267e+00, -2.55561888e-01]], dtype=float32),\n",
       " array([[-24.081217 , -25.938564 , -14.988638 , ...,  -0.9663232,\n",
       "           1.9763738,  -2.4021978],\n",
       "        [-21.942184 , -26.335506 , -19.209805 , ...,  -1.9577407,\n",
       "           2.5132952,   1.5896009],\n",
       "        [-21.313625 , -24.813719 , -18.39931  , ...,  -2.8681445,\n",
       "           4.183063 ,  -1.0967242],\n",
       "        ...,\n",
       "        [-23.599234 , -25.450794 , -19.107004 , ...,  -5.8463964,\n",
       "          -2.6968248,   1.9738821],\n",
       "        [-24.5522   , -26.082657 , -17.027748 , ...,  -3.1292017,\n",
       "          -4.087636 ,   4.4685225],\n",
       "        [-24.202286 , -25.572062 , -17.207201 , ...,  -4.6941547,\n",
       "          -3.986285 ,   4.3048563]], dtype=float32),\n",
       " array([[-2.3158928e+01, -2.5735441e+01, -1.9257612e+01, ...,\n",
       "         -6.2340174e+00, -2.6268232e+00,  5.3626904e+00],\n",
       "        [-2.3594780e+01, -2.8088928e+01, -1.8437279e+01, ...,\n",
       "         -2.1343708e+00, -5.3313007e+00,  5.1330543e+00],\n",
       "        [-2.5792974e+01, -2.6476755e+01, -1.7757315e+01, ...,\n",
       "         -5.4389992e+00, -4.8568773e+00,  5.0800128e+00],\n",
       "        ...,\n",
       "        [-2.1016844e+01, -2.2124081e+01, -2.0634834e+01, ...,\n",
       "          1.3313408e+00,  1.9841180e+00,  1.9585751e+00],\n",
       "        [-2.1954575e+01, -2.0965900e+01, -1.7455469e+01, ...,\n",
       "          9.4820595e-01,  1.7967693e+00, -5.6340027e-01],\n",
       "        [-2.3765230e+01, -2.2801846e+01, -1.9692266e+01, ...,\n",
       "          2.9321096e+00, -1.3239509e+00, -2.0543631e-02]], dtype=float32),\n",
       " array([[-25.364098  , -19.913134  , -17.526638  , ...,   1.5913628 ,\n",
       "           0.08812223,   0.57667387],\n",
       "        [-20.624672  , -23.92149   , -18.469242  , ...,   2.3591948 ,\n",
       "           1.4355766 ,   0.45109123],\n",
       "        [-23.343176  , -23.8005    , -18.483812  , ...,  -0.99156034,\n",
       "           3.4672158 ,   2.6628017 ],\n",
       "        ...,\n",
       "        [-24.29385   , -25.185614  , -18.327412  , ...,   2.0065548 ,\n",
       "           1.9436479 ,  -0.920591  ],\n",
       "        [-23.379984  , -25.363848  , -20.483871  , ...,   3.614401  ,\n",
       "           2.5544155 ,  -1.8867884 ],\n",
       "        [-24.03285   , -25.801651  , -19.30081   , ...,   0.73497784,\n",
       "           3.8770404 ,  -1.4005268 ]], dtype=float32),\n",
       " array([[-21.357786  , -27.106176  , -14.976971  , ...,  -0.4505586 ,\n",
       "           1.4128706 ,  -1.2050322 ],\n",
       "        [-23.410688  , -27.634983  , -19.505281  , ...,  -2.6495411 ,\n",
       "          -0.62542725,   0.20156811],\n",
       "        [-23.028433  , -26.308239  , -18.35793   , ...,  -1.642998  ,\n",
       "           2.4526546 ,  -0.23972258],\n",
       "        ...,\n",
       "        [-26.273144  , -23.87401   , -17.62175   , ...,  -0.14898215,\n",
       "          -0.9555059 ,   0.3190299 ],\n",
       "        [-27.747242  , -23.326166  , -16.729683  , ...,   1.7079902 ,\n",
       "          -1.4163272 ,  -0.11781598],\n",
       "        [-22.996548  , -26.43697   , -19.01222   , ...,  -1.0562016 ,\n",
       "           0.53393996,  -0.6087358 ]], dtype=float32),\n",
       " array([[-21.42974   , -23.759295  , -18.292105  , ...,  -1.0799693 ,\n",
       "          -1.4697827 ,  -0.5361215 ],\n",
       "        [-16.876581  , -21.615892  , -17.471539  , ...,   1.4784932 ,\n",
       "           2.3377204 ,  -1.9231559 ],\n",
       "        [-23.634056  , -24.869627  , -17.509462  , ...,   1.2934037 ,\n",
       "           0.8433996 ,  -0.6991543 ],\n",
       "        ...,\n",
       "        [-25.732832  , -26.809689  , -17.99569   , ...,   1.1462119 ,\n",
       "           1.1221873 ,   2.7474363 ],\n",
       "        [-23.82531   , -27.941084  , -17.834057  , ...,  -1.2710605 ,\n",
       "           2.994587  ,   1.9022385 ],\n",
       "        [-24.740261  , -29.16048   , -18.93612   , ...,  -0.24775125,\n",
       "           1.2056531 ,   1.7240481 ]], dtype=float32),\n",
       " array([[-24.697014  , -26.199905  , -16.937576  , ...,  -1.490364  ,\n",
       "           0.38203153,   1.2214977 ],\n",
       "        [-24.364155  , -24.734283  , -17.625849  , ...,  -2.119485  ,\n",
       "           0.6769799 ,   1.359215  ],\n",
       "        [-22.966373  , -27.081757  , -18.538132  , ...,  -0.38617593,\n",
       "           1.5157413 ,   1.8445064 ],\n",
       "        ...,\n",
       "        [-22.469152  , -25.586756  , -19.731884  , ...,   0.5106112 ,\n",
       "          -1.4253674 ,   0.4075005 ],\n",
       "        [-26.98804   , -27.18308   , -17.388632  , ...,  -2.5463517 ,\n",
       "          -1.1870011 ,   0.33540106],\n",
       "        [-22.835052  , -26.718315  , -19.835058  , ...,   0.76146454,\n",
       "          -0.98711854,   0.7615038 ]], dtype=float32),\n",
       " array([[-23.905336  , -26.79106   , -17.9312    , ...,  -0.5963777 ,\n",
       "           0.3351584 ,   0.3235191 ],\n",
       "        [-22.239653  , -26.72348   , -18.43677   , ...,  -0.8241125 ,\n",
       "           0.28786013,   0.49714637],\n",
       "        [-26.91024   , -22.355116  , -16.008442  , ...,  -0.22424525,\n",
       "          -0.89319724,   1.7390437 ],\n",
       "        ...,\n",
       "        [-25.171375  , -26.106503  , -17.911692  , ...,   1.1577811 ,\n",
       "           0.9220974 ,   0.7332903 ],\n",
       "        [-22.744946  , -22.548368  , -16.33588   , ...,   0.75709146,\n",
       "           0.378454  ,  -0.66599923],\n",
       "        [-21.825523  , -23.27104   , -17.024153  , ...,  -0.5723391 ,\n",
       "          -0.18173754,  -0.1465585 ]], dtype=float32),\n",
       " array([[-2.6013586e+01, -2.7354725e+01, -1.7830891e+01, ...,\n",
       "          1.3981824e+00,  1.4973817e+00, -4.9152966e-03],\n",
       "        [-2.6437429e+01, -2.7461967e+01, -1.7605564e+01, ...,\n",
       "         -1.4952822e+00, -3.1909460e-01, -1.8980931e+00],\n",
       "        [-2.4473520e+01, -2.4641842e+01, -1.8428614e+01, ...,\n",
       "          9.6049851e-01, -2.5780616e+00,  2.4351443e-01],\n",
       "        ...,\n",
       "        [-2.4292150e+01, -2.7577137e+01, -1.8517147e+01, ...,\n",
       "          1.2269226e-01, -1.6559261e+00, -4.6406593e-02],\n",
       "        [-2.3819317e+01, -2.4472548e+01, -1.9385773e+01, ...,\n",
       "         -2.2293656e+00,  1.0349861e+00,  1.0073345e+00],\n",
       "        [-2.7026249e+01, -2.3392511e+01, -1.6461239e+01, ...,\n",
       "         -1.0503999e+00, -1.5444644e-02,  1.3127522e+00]], dtype=float32),\n",
       " array([[-2.7444065e+01, -2.4796936e+01, -1.8428553e+01, ...,\n",
       "         -7.0762515e-02, -1.5785757e-02, -1.4108692e-01],\n",
       "        [-2.3491306e+01, -2.6075129e+01, -1.2952633e+01, ...,\n",
       "          2.4862673e+00, -4.1504079e-01, -2.9085961e-01],\n",
       "        [-2.7503920e+01, -2.6026087e+01, -1.6617485e+01, ...,\n",
       "         -1.2035875e+00, -2.6920121e+00, -2.2623842e+00],\n",
       "        ...,\n",
       "        [-2.1263699e+01, -2.4037817e+01, -2.0270411e+01, ...,\n",
       "          2.3699492e-01,  4.0796108e+00,  8.1418134e-02],\n",
       "        [-2.5001940e+01, -2.6154402e+01, -1.7532215e+01, ...,\n",
       "         -1.1533557e+00,  5.9570909e-01,  1.4621572e+00],\n",
       "        [-2.1651634e+01, -2.1037380e+01, -2.0431154e+01, ...,\n",
       "         -2.0178604e+00, -4.8564696e-01,  1.0162952e-01]], dtype=float32),\n",
       " array([[-22.032413  , -23.994022  , -17.439934  , ...,   1.0699788 ,\n",
       "           1.4865017 ,   0.66165245],\n",
       "        [-23.750862  , -24.11658   , -19.0213    , ...,   0.7794477 ,\n",
       "          -0.9547322 ,  -1.1562514 ],\n",
       "        [-22.926432  , -24.534552  , -17.376999  , ...,   0.94537187,\n",
       "          -1.1552035 ,  -1.7285538 ],\n",
       "        ...,\n",
       "        [-24.539007  , -26.292383  , -16.359583  , ...,  -0.23579046,\n",
       "           1.6110641 ,  -0.96475244],\n",
       "        [-27.016031  , -26.98792   , -17.12058   , ...,  -0.35207728,\n",
       "          -2.3494368 ,   0.84710073],\n",
       "        [-24.376976  , -26.74196   , -20.052664  , ...,  -0.1488331 ,\n",
       "           1.7838066 ,   0.10315374]], dtype=float32),\n",
       " array([[-25.120518  , -27.287075  , -18.021053  , ...,  -1.416197  ,\n",
       "           0.419078  ,   0.43579414],\n",
       "        [-26.617147  , -26.875961  , -19.59815   , ...,  -1.5965238 ,\n",
       "           1.9558606 ,  -1.7384589 ],\n",
       "        [-25.581848  , -27.469687  , -18.339117  , ...,  -1.8049779 ,\n",
       "           0.52606475,  -0.13218984],\n",
       "        ...,\n",
       "        [ -9.359814  , -25.161993  ,  15.7880335 , ...,   2.5216417 ,\n",
       "           0.86873645,  -1.126582  ],\n",
       "        [-10.562235  , -24.33875   ,  16.889242  , ...,   1.1796086 ,\n",
       "          -0.87590563,  -0.75525445],\n",
       "        [ -9.557216  , -24.174215  ,  16.518747  , ...,  -0.67189765,\n",
       "          -0.08589412,  -2.0480843 ]], dtype=float32),\n",
       " array([[ -9.740407  , -26.243586  ,  16.12813   , ...,  -0.7494921 ,\n",
       "           0.46363834,  -2.3850777 ],\n",
       "        [ -9.318884  , -23.009     ,  15.626622  , ...,   1.3472615 ,\n",
       "          -2.3797085 ,  -0.51985985],\n",
       "        [ -9.6566305 , -23.747017  ,  13.761388  , ...,   1.4423814 ,\n",
       "          -1.142618  ,  -1.8442655 ],\n",
       "        ...,\n",
       "        [-11.3745985 , -23.046888  ,  20.496439  , ...,  -4.351957  ,\n",
       "           2.2448852 ,   1.9503758 ],\n",
       "        [-11.61293   , -26.214006  ,  21.598864  , ...,  -8.002911  ,\n",
       "           3.9991293 ,   1.6027085 ],\n",
       "        [-10.315946  , -25.416199  ,  22.443426  , ...,  -5.703599  ,\n",
       "           2.0028522 ,   0.8337629 ]], dtype=float32),\n",
       " array([[ -9.932583  , -20.339087  ,  23.097172  , ...,  -5.567481  ,\n",
       "           2.0539663 ,   0.5803136 ],\n",
       "        [-12.930518  , -22.158705  ,  24.40087   , ...,  -3.5635762 ,\n",
       "           1.4000083 ,   0.84897983],\n",
       "        [-13.0803795 , -25.19578   ,  20.178051  , ...,  -3.0512395 ,\n",
       "           4.364444  ,   1.3546672 ],\n",
       "        ...,\n",
       "        [ -8.357829  , -26.805061  ,  19.604734  , ...,   0.17662682,\n",
       "          -0.879276  ,   1.9166907 ],\n",
       "        [-10.098558  , -25.163658  ,  20.942673  , ...,  -0.7941937 ,\n",
       "          -0.7944879 ,   0.9999002 ],\n",
       "        [ -9.39641   , -27.189037  ,  24.305328  , ...,   0.9154731 ,\n",
       "           0.13416995,   2.5594482 ]], dtype=float32),\n",
       " array([[-13.290403 , -26.280563 ,  22.41154  , ...,   1.3362471,\n",
       "           1.4174904,   2.556896 ],\n",
       "        [ -8.132143 , -25.367836 ,  23.142614 , ...,   2.8370373,\n",
       "           4.6760273,   2.787877 ],\n",
       "        [-11.374553 , -27.135921 ,  22.3373   , ...,  -1.2562197,\n",
       "           3.3253732,   4.2956424],\n",
       "        ...,\n",
       "        [-11.825065 , -30.398312 ,  24.130684 , ...,   3.6093507,\n",
       "          -0.534777 ,   4.734302 ],\n",
       "        [-11.713736 , -28.537989 ,  23.311983 , ...,   1.0467596,\n",
       "          -3.0462089,   1.4604195],\n",
       "        [-12.011511 , -27.216759 ,  21.746716 , ...,   2.3204272,\n",
       "          -1.8022557,   0.6609546]], dtype=float32),\n",
       " array([[-10.4967785 , -27.70438   ,  24.004732  , ...,   2.7127218 ,\n",
       "          -0.05912523,   2.650312  ],\n",
       "        [-13.598838  , -31.124601  ,  24.961695  , ...,   1.4701049 ,\n",
       "           0.6519166 ,   0.56220514],\n",
       "        [-10.4148445 , -30.25283   ,  22.121693  , ...,   3.4381742 ,\n",
       "           0.09133784,   0.23833397],\n",
       "        ...,\n",
       "        [-13.439373  , -29.039478  ,  25.200508  , ...,  -3.1866393 ,\n",
       "           3.6292484 ,  -0.10691677],\n",
       "        [-12.409599  , -28.619146  ,  23.326113  , ...,  -2.798926  ,\n",
       "           2.612486  ,   1.7619303 ],\n",
       "        [-13.572277  , -30.898016  ,  21.113695  , ...,  -0.19101523,\n",
       "           0.88094026,   0.9996137 ]], dtype=float32),\n",
       " array([[-11.140745  , -28.826324  ,  22.762856  , ...,  -0.3934259 ,\n",
       "           0.25055003,   2.6960318 ],\n",
       "        [-11.447248  , -31.244686  ,  22.155697  , ...,  -1.8816373 ,\n",
       "          -1.7617457 ,   0.34143582],\n",
       "        [-10.673896  , -29.286264  ,  22.482069  , ...,  -1.8802708 ,\n",
       "          -2.1223643 ,   1.3729427 ],\n",
       "        ...,\n",
       "        [-13.212741  , -26.950611  ,  28.203306  , ...,  -0.09761059,\n",
       "           0.77423984,   2.4058259 ],\n",
       "        [-13.059837  , -33.375664  ,  30.36943   , ...,  -2.145018  ,\n",
       "           0.8948449 ,   3.247923  ],\n",
       "        [-14.5670395 , -28.553057  ,  31.466234  , ...,  -1.8398943 ,\n",
       "          -0.835705  ,   2.1130588 ]], dtype=float32),\n",
       " array([[-12.49435   , -28.68622   ,  30.80652   , ...,  -0.13962035,\n",
       "          -1.0403253 ,   3.6021638 ],\n",
       "        [-14.404347  , -29.022116  ,  29.641014  , ...,  -1.1426584 ,\n",
       "          -2.2634575 ,   2.4463391 ],\n",
       "        [-13.256797  , -26.969376  ,  27.962664  , ...,  -0.28339776,\n",
       "           1.1272815 ,   2.442052  ],\n",
       "        ...,\n",
       "        [-25.703718  , -28.944809  ,  -5.167422  , ...,   0.6600344 ,\n",
       "          -0.35013968,   0.10773686],\n",
       "        [-28.825613  , -26.957859  ,  -3.521457  , ...,  -1.56031   ,\n",
       "           0.3759647 ,   1.8735471 ],\n",
       "        [-28.784891  , -25.693974  ,  -3.3651094 , ...,  -1.4318321 ,\n",
       "           2.6662822 ,   1.9657896 ]], dtype=float32),\n",
       " array([[-2.7483671e+01, -2.8782093e+01, -3.3569820e+00, ...,\n",
       "          3.2895491e+00,  2.5472324e+00,  2.4362452e+00],\n",
       "        [-3.0674129e+01, -2.7922152e+01, -9.5922971e-01, ...,\n",
       "         -2.7527924e+00, -7.6448977e-02,  2.6128333e+00],\n",
       "        [-2.8112549e+01, -2.6957872e+01,  4.2126292e-01, ...,\n",
       "         -3.8154221e-03,  1.6396412e+00,  1.7726812e+00],\n",
       "        ...,\n",
       "        [-2.7625673e+01, -3.0000740e+01, -5.9280596e+00, ...,\n",
       "         -1.5342498e+00,  1.8631489e+00,  7.4902993e-01],\n",
       "        [-3.1788027e+01, -2.8809074e+01, -5.1489739e+00, ...,\n",
       "         -8.6933035e-01,  1.2277720e+00,  1.0273480e+00],\n",
       "        [-2.8151020e+01, -2.9494820e+01, -8.2750692e+00, ...,\n",
       "         -1.8863971e+00,  1.8766524e+00, -1.8450895e-01]], dtype=float32),\n",
       " array([[-2.8463669e+01, -2.5741377e+01, -6.6829786e+00, ...,\n",
       "          2.5378710e-01,  2.7719718e-01,  4.2030558e-02],\n",
       "        [-3.0819681e+01, -2.9039259e+01, -6.0061407e+00, ...,\n",
       "         -8.3979756e-01,  8.3288932e-01,  5.9295321e-01],\n",
       "        [-2.9154486e+01, -2.9012724e+01, -5.6138673e+00, ...,\n",
       "          7.3949903e-01,  1.1211565e+00,  2.1867227e-02],\n",
       "        ...,\n",
       "        [-2.8573635e+01, -3.0804380e+01, -6.1649380e+00, ...,\n",
       "          2.1442318e+00, -3.5957915e-01,  2.6796305e+00],\n",
       "        [-2.7672512e+01, -3.2379467e+01, -6.5265341e+00, ...,\n",
       "         -1.2859296e+00,  2.1700303e-01,  3.0117705e+00],\n",
       "        [-2.8910036e+01, -3.1956327e+01, -3.4077528e+00, ...,\n",
       "          3.9233143e+00,  2.1332159e+00,  5.2616453e-01]], dtype=float32),\n",
       " array([[-28.465776  , -32.14434   ,  -4.2466817 , ...,   2.2951362 ,\n",
       "           0.29922038,   2.015394  ],\n",
       "        [-29.295582  , -32.97874   ,  -4.1879964 , ...,   0.23313196,\n",
       "           2.1053545 ,   2.3809552 ],\n",
       "        [-28.009634  , -32.902058  ,  -5.399583  , ...,   1.9852047 ,\n",
       "           3.1737568 ,   1.6507897 ],\n",
       "        ...,\n",
       "        [-16.532932  , -37.882248  ,  33.076157  , ...,   2.5139153 ,\n",
       "           0.1485185 ,  -1.395238  ],\n",
       "        [-15.155828  , -37.975014  ,  37.28236   , ...,   1.3899068 ,\n",
       "          -3.8562365 ,   0.12605582],\n",
       "        [-15.694789  , -34.632492  ,  35.47307   , ...,   3.3457043 ,\n",
       "          -4.930884  ,   1.0559326 ]], dtype=float32),\n",
       " array([[-16.265978  , -36.837135  ,  32.953     , ...,  -0.56224185,\n",
       "          -4.4256263 ,   0.7347938 ],\n",
       "        [-17.568882  , -35.041283  ,  32.96154   , ...,   2.0110354 ,\n",
       "           1.9882082 ,  -0.19758451],\n",
       "        [-12.614213  , -32.673794  ,  32.86836   , ...,   0.2940429 ,\n",
       "           0.06354876,   0.29793838],\n",
       "        ...,\n",
       "        [-35.778675  ,  -4.9594774 ,  45.482143  , ...,  -1.1341958 ,\n",
       "          -3.2611833 ,   3.0751646 ],\n",
       "        [-36.081383  ,  -7.517472  ,  46.483593  , ...,  -1.3926913 ,\n",
       "          -2.1296434 ,   3.3569407 ],\n",
       "        [-35.603146  ,  -5.919378  ,  42.965233  , ...,   2.8191218 ,\n",
       "           0.29188588,   1.6521462 ]], dtype=float32),\n",
       " array([[-35.29353   ,  -2.784283  ,  44.475815  , ...,   1.4671391 ,\n",
       "          -1.5301934 ,  -0.8389848 ],\n",
       "        [-34.229767  ,  -5.034553  ,  44.174023  , ...,   1.9975046 ,\n",
       "          -2.0037694 ,   0.50833416],\n",
       "        [-35.47782   ,  -6.414928  ,  42.021126  , ...,   1.367923  ,\n",
       "          -3.4554234 ,   0.6715096 ],\n",
       "        ...,\n",
       "        [-13.321191  , -29.208454  ,  32.829906  , ...,   0.70008767,\n",
       "           1.9702779 ,  -1.6834389 ],\n",
       "        [-14.050068  , -28.437374  ,  31.54396   , ...,  -0.86614406,\n",
       "           1.0618    ,   0.09994182],\n",
       "        [-12.972821  , -33.07841   ,  32.55885   , ...,   1.4737126 ,\n",
       "           2.3376553 ,   1.5747701 ]], dtype=float32),\n",
       " array([[-11.750489  , -26.176825  ,  31.237051  , ...,  -0.41015336,\n",
       "           1.8765545 ,   0.49701574],\n",
       "        [ -7.521663  , -22.21134   ,  28.743586  , ...,   1.1268941 ,\n",
       "           2.5237672 ,  -2.1892927 ],\n",
       "        [ -8.209238  , -27.079868  ,  32.50918   , ...,   0.7418677 ,\n",
       "           3.6440187 ,  -0.23051037],\n",
       "        ...,\n",
       "        [-27.94725   , -28.165022  ,  -5.8786182 , ...,  -0.37103242,\n",
       "          -0.40712407,   0.65278864],\n",
       "        [-24.23486   , -31.220568  ,   2.738142  , ...,   1.3537712 ,\n",
       "          -0.68357885,  -1.132155  ],\n",
       "        [-25.308256  , -29.13232   ,  -6.7055564 , ...,  -1.9034002 ,\n",
       "           0.9534554 ,  -1.5368351 ]], dtype=float32),\n",
       " array([[-2.7060774e+01, -3.1861982e+01, -5.8555384e+00, ...,\n",
       "          7.0730031e-02,  6.0807693e-01, -2.0443661e+00],\n",
       "        [-2.5210222e+01, -3.0862028e+01, -4.8091331e+00, ...,\n",
       "         -1.2709064e+00, -1.3785362e-01, -7.9597777e-01],\n",
       "        [-2.8261482e+01, -2.9806524e+01, -4.4790249e+00, ...,\n",
       "         -7.5233710e-01,  4.7406465e-01, -1.7292778e+00],\n",
       "        ...,\n",
       "        [-2.5245701e+01, -2.8411451e+01, -4.4626417e+00, ...,\n",
       "          1.9441880e-01,  6.7633593e-01,  4.8750195e-01],\n",
       "        [-2.6677217e+01, -2.7632767e+01, -3.7629781e+00, ...,\n",
       "         -1.7634181e-02, -1.9306884e+00,  2.8516545e+00],\n",
       "        [-2.5574070e+01, -2.8019846e+01, -4.8466330e+00, ...,\n",
       "          6.3145362e-02, -2.4670851e+00, -1.1956106e+00]], dtype=float32),\n",
       " array([[-2.5950315e+01, -2.6956617e+01, -3.6669791e+00, ...,\n",
       "          1.2986914e+00, -1.6575158e+00,  7.2651178e-01],\n",
       "        [-2.6306763e+01, -2.5604162e+01, -3.6227827e+00, ...,\n",
       "         -4.1411626e-01,  1.8921198e-01,  1.5068558e+00],\n",
       "        [-2.3387188e+01, -2.3671431e+01, -3.8085585e+00, ...,\n",
       "          6.2865287e-01, -2.6038852e-02, -1.6379169e-01],\n",
       "        ...,\n",
       "        [-2.6195883e+01, -3.1586407e+01, -5.3162484e+00, ...,\n",
       "         -5.7493896e+00, -2.5999234e+00,  3.6095431e+00],\n",
       "        [-2.5727381e+01, -2.9497160e+01, -5.0492043e+00, ...,\n",
       "          1.0281668e-01,  1.4605796e+00,  8.1148458e-01],\n",
       "        [-2.1926771e+01, -2.7028467e+01, -4.4570761e+00, ...,\n",
       "         -1.6082770e+00, -3.2949841e+00, -1.8766506e+00]], dtype=float32),\n",
       " array([[-31.39337   , -32.209377  ,  -4.1707435 , ...,  -1.1268841 ,\n",
       "           0.31053892,  -2.3722923 ],\n",
       "        [-25.970516  , -30.894964  ,  -2.824932  , ...,   1.7973689 ,\n",
       "          -0.7785621 ,  -0.96115184],\n",
       "        [-29.570272  , -30.936272  ,  -2.9421535 , ...,  -2.0004075 ,\n",
       "           0.85947025,  -1.0540051 ],\n",
       "        ...,\n",
       "        [-27.789845  , -28.878057  ,  -4.187321  , ...,   1.6597127 ,\n",
       "           2.2090464 ,  -0.46439555],\n",
       "        [-26.97254   , -30.444225  ,  -5.9527273 , ...,   1.5153042 ,\n",
       "          -0.9252417 ,   0.45743808],\n",
       "        [-27.307854  , -29.273636  ,  -3.3824944 , ...,   1.8775846 ,\n",
       "          -1.7476445 ,  -0.9471012 ]], dtype=float32),\n",
       " array([[  8.483487  ,   3.0631506 , -19.615728  , ...,   0.57642245,\n",
       "           0.8333548 ,   1.1649237 ],\n",
       "        [  7.1146593 ,  -0.31257308, -17.432386  , ...,  -1.1119772 ,\n",
       "           3.5608819 ,   0.49840608],\n",
       "        [  8.472751  ,   1.5887424 , -18.518389  , ...,   1.2076342 ,\n",
       "           0.8392891 ,   1.3222688 ],\n",
       "        ...,\n",
       "        [  7.954567  ,   6.966472  , -21.070362  , ...,  -2.1988769 ,\n",
       "          -0.6838006 ,   0.11923723],\n",
       "        [  9.788714  ,   5.6248503 , -23.946768  , ...,   1.2021071 ,\n",
       "           2.0171127 ,  -1.9807198 ],\n",
       "        [ 12.009627  ,   7.9569864 , -23.137356  , ...,   0.0660906 ,\n",
       "           2.0833187 ,  -1.6591165 ]], dtype=float32),\n",
       " array([[ 13.484483  ,   5.8774652 , -22.62649   , ...,   2.8547735 ,\n",
       "          -0.37848958,  -0.0558744 ],\n",
       "        [  9.32736   ,   6.652773  , -22.074236  , ...,   3.2134755 ,\n",
       "           2.224382  ,  -0.89623773],\n",
       "        [ 14.819113  ,   9.7908745 , -21.013155  , ...,   2.3519475 ,\n",
       "           2.8564286 ,  -1.0270644 ],\n",
       "        ...,\n",
       "        [ 12.084997  ,  11.095213  , -17.50629   , ...,  -1.1049676 ,\n",
       "           0.6786424 ,  -3.5306153 ],\n",
       "        [ 10.736375  ,  11.348156  , -20.240398  , ...,  -0.2678974 ,\n",
       "          -1.0752498 ,  -1.5385295 ],\n",
       "        [ 13.568375  ,  11.202979  , -19.460112  , ...,  -1.0502093 ,\n",
       "          -0.27774656,  -4.453446  ]], dtype=float32),\n",
       " array([[ 13.681094  ,  11.086247  , -17.244204  , ...,  -1.5735183 ,\n",
       "          -0.51371545,  -2.7774801 ],\n",
       "        [ 11.367476  ,  10.044734  , -21.051098  , ...,  -0.28189486,\n",
       "          -0.6823294 ,  -2.1555047 ],\n",
       "        [  9.5178995 ,  11.568275  , -19.597418  , ...,  -1.1063213 ,\n",
       "          -1.1742805 ,  -2.9981515 ],\n",
       "        ...,\n",
       "        [ 12.832514  ,   6.0959754 , -19.237669  , ...,  -0.6231776 ,\n",
       "          -1.2448813 ,  -2.8965104 ],\n",
       "        [ 11.245996  ,   6.414113  , -17.159777  , ...,  -1.0382218 ,\n",
       "           2.3294888 ,  -5.535963  ],\n",
       "        [ 10.821782  ,   5.06655   , -18.863363  , ...,  -1.4377444 ,\n",
       "           1.3975285 ,  -2.0010698 ]], dtype=float32),\n",
       " array([[ 11.1826935 ,   6.9182725 , -19.260876  , ...,   1.3367026 ,\n",
       "          -1.0737252 ,   2.1092155 ],\n",
       "        [ 12.092685  ,   7.982197  , -19.664715  , ...,   5.960072  ,\n",
       "          -0.3314661 ,   4.8333793 ],\n",
       "        [ 12.0632515 ,   7.878807  , -19.189726  , ...,   1.007327  ,\n",
       "          -1.0443113 ,   4.836825  ],\n",
       "        ...,\n",
       "        [ 16.520466  ,  13.661176  , -19.700274  , ...,  -4.5021896 ,\n",
       "          -0.8745603 ,  -0.43492112],\n",
       "        [ 14.192215  ,  13.595113  , -18.462662  , ...,  -3.0302403 ,\n",
       "           0.8840189 ,   1.2470522 ],\n",
       "        [ 16.774908  ,  13.142903  , -19.47498   , ...,  -1.8719581 ,\n",
       "           1.1010331 ,  -2.1629539 ]], dtype=float32),\n",
       " array([[ 11.571587  ,  15.184715  , -18.776863  , ...,  -2.467908  ,\n",
       "          -1.4183483 ,  -2.2816286 ],\n",
       "        [ 14.84927   ,  14.321655  , -19.056347  , ...,  -3.6512303 ,\n",
       "           1.5988711 ,  -0.74207276],\n",
       "        [ 14.077835  ,  17.234753  , -18.062866  , ...,  -4.3747005 ,\n",
       "          -1.2494442 ,  -1.6468499 ],\n",
       "        ...,\n",
       "        [ 14.99813   ,  14.244942  , -19.748323  , ...,   4.447287  ,\n",
       "          -2.0491612 ,  -0.88801026],\n",
       "        [ 14.113256  ,  13.465825  , -19.820055  , ...,   4.941548  ,\n",
       "          -1.8591276 ,  -0.33576614],\n",
       "        [ 12.972345  ,  13.766167  , -19.575966  , ...,  -0.05275043,\n",
       "          -2.411441  ,  -0.32275778]], dtype=float32),\n",
       " array([[ 13.503177  ,  15.142215  , -21.529598  , ...,   4.695107  ,\n",
       "          -5.1494603 ,  -0.24351794],\n",
       "        [ 15.810845  ,  14.169232  , -20.515068  , ...,   1.1079654 ,\n",
       "          -4.8429627 ,  -3.2799368 ],\n",
       "        [ 15.606093  ,  12.883245  , -19.254198  , ...,  -0.93188125,\n",
       "          -3.1221955 ,  -1.3481619 ],\n",
       "        ...,\n",
       "        [ 10.802963  ,  14.44451   , -19.189478  , ...,   0.7782728 ,\n",
       "          -2.1987605 ,  -1.5771223 ],\n",
       "        [ 12.925304  ,  12.501241  , -19.163815  , ...,  -4.2733326 ,\n",
       "          -2.892607  ,  -0.5891977 ],\n",
       "        [ 11.694874  ,  16.363132  , -18.551262  , ...,  -1.1550057 ,\n",
       "           0.5436716 ,  -1.9735364 ]], dtype=float32),\n",
       " array([[ 16.214249  ,  15.744242  , -18.127483  , ...,  -1.2580913 ,\n",
       "          -1.2353338 ,  -2.9205544 ],\n",
       "        [ 15.15653   ,  13.915072  , -22.380451  , ...,  -2.377381  ,\n",
       "          -0.3996695 ,  -2.851178  ],\n",
       "        [ 14.898453  ,  15.948763  , -20.823723  , ...,   0.51873225,\n",
       "          -1.8553836 ,  -0.5226892 ],\n",
       "        ...,\n",
       "        [ 11.215431  ,   9.108876  , -14.195735  , ...,   0.72703195,\n",
       "           1.9545372 ,   1.1329395 ],\n",
       "        [ 13.447804  ,   9.145877  , -16.059963  , ...,   0.81530136,\n",
       "          -1.2282255 ,  -0.08815553],\n",
       "        [ 12.768459  ,   8.045934  , -15.642688  , ...,   1.88807   ,\n",
       "           2.910615  ,  -1.8817343 ]], dtype=float32),\n",
       " array([[ 13.01906   ,   8.887637  , -15.369123  , ...,   1.6815691 ,\n",
       "           0.328996  ,   0.4823582 ],\n",
       "        [ 12.787928  ,  11.139745  , -13.592234  , ...,   2.121263  ,\n",
       "           2.031662  ,  -0.95980346],\n",
       "        [ 11.678405  ,   5.9037943 , -15.757562  , ...,   2.4997404 ,\n",
       "          -0.33157095,   1.0603157 ],\n",
       "        ...,\n",
       "        [ 14.056169  ,  17.046288  , -19.391209  , ...,  -4.002067  ,\n",
       "          -0.27328807,  -4.3421793 ],\n",
       "        [ 13.486754  ,  18.239994  , -18.975811  , ...,  -7.371626  ,\n",
       "          -2.1268551 ,  -3.4108555 ],\n",
       "        [ 14.9499035 ,  17.66506   , -19.648058  , ...,  -4.724546  ,\n",
       "          -2.6812286 ,  -1.8173636 ]], dtype=float32),\n",
       " array([[ 15.743162  ,  17.020498  , -20.781258  , ...,  -4.574574  ,\n",
       "          -0.591097  ,  -1.2523541 ],\n",
       "        [ 15.93264   ,  14.785284  , -19.925842  , ...,  -3.1213431 ,\n",
       "          -2.2915592 ,  -3.5257783 ],\n",
       "        [ 16.322685  ,  15.610067  , -18.334284  , ...,  -4.3513083 ,\n",
       "           0.40186977,  -1.647301  ],\n",
       "        ...,\n",
       "        [ 17.098701  ,  14.668806  , -18.428776  , ...,   0.04766611,\n",
       "          -1.0421625 ,   2.8409328 ],\n",
       "        [ 15.121737  ,  12.586927  , -19.6692    , ...,  -0.6189589 ,\n",
       "          -0.53483325,   3.044993  ],\n",
       "        [ 16.054167  ,  15.570913  , -20.04467   , ...,   2.1030285 ,\n",
       "           0.595787  ,   2.924548  ]], dtype=float32),\n",
       " array([[ 17.725122  ,  15.095946  , -18.280613  , ...,   2.066598  ,\n",
       "           0.05994033,  -0.21983342],\n",
       "        [ 15.693725  ,  12.840099  , -20.056501  , ...,   2.719729  ,\n",
       "           0.8905305 ,   2.0113535 ],\n",
       "        [ 16.236904  ,  13.711976  , -19.017872  , ...,   1.784446  ,\n",
       "          -1.828458  ,   2.3971033 ],\n",
       "        ...,\n",
       "        [ 14.717014  ,  17.798433  , -18.194725  , ...,   1.3339069 ,\n",
       "          -0.25385654,   0.91306233],\n",
       "        [ 13.4145    ,  15.450229  , -19.906847  , ...,   0.6853615 ,\n",
       "          -1.4707966 ,   1.5594302 ],\n",
       "        [ 15.304073  ,  15.72003   , -22.021107  , ...,  -1.4603399 ,\n",
       "           2.6171567 ,   0.42650497]], dtype=float32),\n",
       " array([[ 16.099174  ,  15.791737  , -19.659662  , ...,  -0.4544966 ,\n",
       "           0.5619346 ,   0.10569269],\n",
       "        [ 15.572667  ,  14.635778  , -21.396004  , ...,   1.7996757 ,\n",
       "          -0.2864028 ,   0.73301816],\n",
       "        [ 15.465598  ,  15.192838  , -20.981852  , ...,  -0.17116584,\n",
       "          -1.4923623 ,   0.5226357 ],\n",
       "        ...,\n",
       "        [ 14.317171  ,  12.619219  , -22.290915  , ...,  -0.34439176,\n",
       "           1.9645537 ,   1.2376456 ],\n",
       "        [ 15.344593  ,  13.983306  , -23.378746  , ...,  -0.9440302 ,\n",
       "           2.5036232 ,  -1.307964  ],\n",
       "        [ 14.78775   ,  14.660315  , -22.104774  , ...,   1.4823341 ,\n",
       "           1.1906096 ,  -1.6171023 ]], dtype=float32),\n",
       " array([[ 14.614332  ,  15.649023  , -24.355719  , ...,  -1.8734822 ,\n",
       "           0.06423386,   0.96424615],\n",
       "        [ 14.146874  ,  16.89604   , -21.458447  , ...,  -0.76046485,\n",
       "           0.41873032,   0.8693524 ],\n",
       "        [ 15.638356  ,  13.207971  , -21.454199  , ...,  -1.4822628 ,\n",
       "           1.8966253 ,   1.7412449 ],\n",
       "        ...,\n",
       "        [ 11.54919   ,  22.458408  , -22.544044  , ...,   1.311916  ,\n",
       "           3.3526745 ,   2.351881  ],\n",
       "        [ 13.433414  ,  17.623785  , -22.616304  , ...,   0.34327528,\n",
       "           1.3351455 ,   4.475675  ],\n",
       "        [ 12.957116  ,  19.38942   , -23.162458  , ...,   2.8022037 ,\n",
       "           2.1241174 ,   5.476115  ]], dtype=float32),\n",
       " array([[ 15.354858  ,  18.789593  , -15.932017  , ...,   2.1465678 ,\n",
       "           0.71670884,   2.3416793 ],\n",
       "        [ 14.85944   ,  18.880554  , -21.278008  , ...,   0.8057522 ,\n",
       "           1.182855  ,   3.3108459 ],\n",
       "        [ 11.254817  ,  17.092926  , -23.728483  , ...,   1.6429486 ,\n",
       "           2.7058232 ,   3.1936243 ],\n",
       "        ...,\n",
       "        [ 13.7763    ,  18.844103  , -22.267511  , ...,   3.2761242 ,\n",
       "          -4.5862217 ,  -0.9426484 ],\n",
       "        [ 14.949851  ,  17.649553  , -15.680604  , ...,   4.240271  ,\n",
       "          -3.1251829 ,   1.3890109 ],\n",
       "        [ 14.470563  ,  16.839529  , -20.891243  , ...,   3.0382078 ,\n",
       "          -0.7320688 ,   1.5003982 ]], dtype=float32),\n",
       " array([[ 13.71183   ,  18.299082  , -20.72941   , ...,   2.7194324 ,\n",
       "          -2.0463297 ,   3.249205  ],\n",
       "        [ 15.567632  ,  17.3957    , -22.136957  , ...,   2.9536872 ,\n",
       "          -2.811456  ,   0.73048484],\n",
       "        [ 13.085395  ,  18.457     , -21.494421  , ...,   3.7500348 ,\n",
       "          -2.9982712 ,   1.257876  ],\n",
       "        ...,\n",
       "        [ 11.261049  ,  10.604194  , -17.013758  , ...,  -0.10415918,\n",
       "           2.581412  ,  -2.1017199 ],\n",
       "        [  9.960889  ,  10.186977  , -15.04334   , ...,  -0.6876601 ,\n",
       "           0.19903733,  -3.758796  ],\n",
       "        [ 12.518583  ,  11.795623  , -16.162426  , ...,  -0.91065973,\n",
       "           4.2915616 ,  -0.876566  ]], dtype=float32),\n",
       " array([[ 12.3878975 ,  13.160479  , -15.87331   , ...,   0.82309777,\n",
       "           0.36612388,  -1.966285  ],\n",
       "        [ 13.491675  ,  10.786346  , -17.022215  , ...,   0.91698223,\n",
       "           1.2509104 ,  -0.5073358 ],\n",
       "        [ 13.412523  ,  11.585689  , -17.600946  , ...,   1.049137  ,\n",
       "           2.7208893 ,  -1.1050118 ],\n",
       "        ...,\n",
       "        [ 14.483312  ,  11.915856  , -15.15882   , ...,   0.8766462 ,\n",
       "           2.6213863 ,   0.69255453],\n",
       "        [ 14.076039  ,  13.572128  , -14.241195  , ...,  -2.1834035 ,\n",
       "          -0.3232399 ,   1.1548467 ],\n",
       "        [ 12.883554  ,  14.788791  , -19.060907  , ...,   0.95685947,\n",
       "          -0.7268249 ,   1.1516579 ]], dtype=float32),\n",
       " array([[ 12.941733  ,  13.41831   , -19.107145  , ...,   1.7871649 ,\n",
       "          -0.21717167,   0.898799  ],\n",
       "        [ 11.913717  ,  13.485423  , -17.911186  , ...,   0.44624123,\n",
       "           0.83886003,   1.3247443 ],\n",
       "        [ 14.140171  ,  11.261804  , -20.825928  , ...,   0.32606176,\n",
       "          -0.57233655,   1.4520382 ],\n",
       "        ...,\n",
       "        [ 22.776997  ,   4.497494  ,  27.128042  , ...,   1.8613989 ,\n",
       "          -0.9887459 ,   0.54162985],\n",
       "        [ 23.865309  ,   6.2142563 ,  24.72084   , ...,   0.29950333,\n",
       "          -0.09306709,   3.5954967 ],\n",
       "        [ 23.944511  ,   7.8429294 ,  22.671368  , ...,   2.4098403 ,\n",
       "          -0.7800082 ,   0.85512716]], dtype=float32),\n",
       " array([[24.008785  ,  6.073915  , 26.08444   , ...,  4.211986  ,\n",
       "         -0.55691946,  1.9730167 ],\n",
       "        [25.537863  ,  6.3938274 , 25.05003   , ...,  3.1975176 ,\n",
       "          2.0156708 ,  1.9679171 ],\n",
       "        [21.736742  ,  7.4311366 , 25.550776  , ...,  2.501448  ,\n",
       "         -0.8782097 ,  5.028073  ],\n",
       "        ...,\n",
       "        [23.318302  ,  5.359546  , 26.286047  , ..., -1.563057  ,\n",
       "          0.888816  ,  0.83860856],\n",
       "        [21.571474  ,  5.436847  , 23.478966  , ..., -0.88653547,\n",
       "         -1.4462003 , -4.545373  ],\n",
       "        [24.382137  ,  5.1269774 , 25.39511   , ..., -0.11785451,\n",
       "         -1.9980742 , -1.3110149 ]], dtype=float32),\n",
       " array([[24.890959  ,  5.191544  , 24.976137  , ...,  0.62916136,\n",
       "          3.1161473 , -1.8194656 ],\n",
       "        [25.933859  ,  3.574159  , 23.856865  , ...,  1.0478163 ,\n",
       "          0.33107096, -1.9632126 ],\n",
       "        [24.066526  ,  7.015044  , 23.688498  , ...,  0.33320662,\n",
       "          0.2810496 , -1.8390844 ],\n",
       "        ...,\n",
       "        [23.987745  ,  7.203632  , 28.230597  , ...,  0.321113  ,\n",
       "          2.5497077 , -4.7710295 ],\n",
       "        [26.43208   ,  7.6081195 , 25.857025  , ...,  1.7935784 ,\n",
       "          2.520559  , -2.4995008 ],\n",
       "        [24.603094  ,  6.2789035 , 26.49506   , ...,  1.2129782 ,\n",
       "         -0.84534115, -2.3231225 ]], dtype=float32),\n",
       " array([[24.189398  ,  7.552449  , 27.64794   , ...,  0.8537647 ,\n",
       "          2.093401  ,  0.57491285],\n",
       "        [24.119009  ,  7.433119  , 28.755985  , ...,  2.8658144 ,\n",
       "          3.692956  , -3.7899714 ],\n",
       "        [23.802362  ,  4.5971103 , 24.159948  , ...,  0.70957816,\n",
       "          0.44729808,  1.9589285 ],\n",
       "        ...,\n",
       "        [27.27017   ,  8.55997   , 22.514412  , ...,  0.39447019,\n",
       "         -1.2932794 , -3.0179856 ],\n",
       "        [28.531912  ,  9.467741  , 20.537952  , ...,  1.9819832 ,\n",
       "          0.07133342, -1.9176633 ],\n",
       "        [26.898464  ,  7.879781  , 23.694017  , ..., -0.2626349 ,\n",
       "          1.4833983 , -2.9176373 ]], dtype=float32),\n",
       " array([[26.602846  ,  9.952598  , 21.901213  , ...,  0.69450974,\n",
       "         -0.4675184 , -2.4741058 ],\n",
       "        [27.64299   ,  8.652682  , 22.819633  , ...,  3.1895688 ,\n",
       "         -2.8036523 , -2.0283844 ],\n",
       "        [27.003868  ,  9.272387  , 22.2791    , ...,  1.4644371 ,\n",
       "          2.9041555 , -1.5040061 ],\n",
       "        ...,\n",
       "        [26.196693  , 12.934334  , 13.347925  , ..., -0.31340483,\n",
       "         -1.0677637 , -2.806803  ],\n",
       "        [29.845282  , 12.38081   , 12.583658  , ...,  0.19743742,\n",
       "         -2.4343266 ,  0.06111361],\n",
       "        [28.233965  , 10.911062  , 13.462729  , ...,  1.3043598 ,\n",
       "         -0.64007294, -2.6126423 ]], dtype=float32),\n",
       " array([[ 28.642649  ,  10.649361  ,  11.7085    , ...,   0.42263234,\n",
       "          -1.2513329 ,  -0.45821676],\n",
       "        [ 27.086493  ,   9.420988  ,  13.329081  , ...,   3.6151333 ,\n",
       "          -3.782254  ,  -0.72715336],\n",
       "        [ 26.484142  ,   8.816386  ,  14.005655  , ...,  -0.0596245 ,\n",
       "          -0.1298751 ,  -1.1892376 ],\n",
       "        ...,\n",
       "        [ 15.650837  ,  15.442324  , -21.506405  , ...,   0.12547137,\n",
       "           0.64977705,  -1.9944395 ],\n",
       "        [ 15.882008  ,  13.720269  , -19.083666  , ...,  -0.82869774,\n",
       "           1.7361505 ,  -1.6667662 ],\n",
       "        [ 14.738402  ,  13.27689   , -22.153605  , ...,  -0.27548954,\n",
       "           1.3600882 ,   0.07646596]], dtype=float32),\n",
       " array([[ 14.711927  ,  14.774352  , -21.735239  , ...,  -0.82541573,\n",
       "           3.1292048 ,  -0.28839386],\n",
       "        [ 15.202242  ,  14.907462  , -22.912426  , ...,  -2.5672655 ,\n",
       "           1.2657465 ,  -1.9840478 ],\n",
       "        [ 13.536194  ,  14.693504  , -21.482616  , ...,   0.08672296,\n",
       "           1.6400133 ,  -5.253385  ],\n",
       "        ...,\n",
       "        [  9.452086  ,  14.56694   , -14.262957  , ...,  -2.0178156 ,\n",
       "           3.975726  ,   0.26366955],\n",
       "        [ 13.9566145 ,  16.123161  , -17.343386  , ...,  -2.539198  ,\n",
       "           0.7416537 ,  -2.4094145 ],\n",
       "        [ 14.221351  ,  15.802819  , -16.652828  , ...,  -2.734348  ,\n",
       "           0.09571037,  -0.38235062]], dtype=float32),\n",
       " array([[ 1.32882223e+01,  1.64611073e+01, -1.62221794e+01, ...,\n",
       "         -1.14022565e+00,  2.37632608e+00, -3.28957945e-01],\n",
       "        [ 1.18382177e+01,  1.55453167e+01, -1.50205708e+01, ...,\n",
       "         -3.18968248e+00,  3.81843686e-01, -1.85234702e+00],\n",
       "        [ 1.25698929e+01,  1.86583996e+01, -1.49990225e+01, ...,\n",
       "         -2.45786142e+00,  6.71985030e-01, -2.14825988e+00],\n",
       "        ...,\n",
       "        [ 1.22555532e+01,  1.82184067e+01, -1.52927904e+01, ...,\n",
       "          1.88978851e+00,  2.06889749e+00,  2.92549038e+00],\n",
       "        [ 1.32111712e+01,  2.29328804e+01, -1.87803288e+01, ...,\n",
       "          1.28470671e+00,  1.69903195e+00,  1.81480050e-02],\n",
       "        [ 9.82329178e+00,  2.01392422e+01, -1.97954350e+01, ...,\n",
       "          2.03478193e+00,  2.29138780e+00, -6.85534030e-02]], dtype=float32),\n",
       " array([[  9.346906  ,  21.676434  , -18.073204  , ...,   3.1169283 ,\n",
       "           1.6036704 ,  -0.42160654],\n",
       "        [ 10.47487   ,  18.694084  , -18.650839  , ...,   3.0245914 ,\n",
       "           2.5630789 ,  -0.1736366 ],\n",
       "        [  6.1607556 ,  18.602741  , -14.97937   , ...,   2.2415733 ,\n",
       "           3.3313758 ,   0.02578943],\n",
       "        ...,\n",
       "        [  9.73763   ,  13.160867  , -16.161583  , ...,  -4.0519843 ,\n",
       "           1.6227603 ,  -0.19821166],\n",
       "        [ 14.198181  ,  13.940727  , -15.1996    , ...,  -1.629905  ,\n",
       "          -2.0547252 ,   0.7744666 ],\n",
       "        [  9.838678  ,  12.732543  , -16.865515  , ...,  -1.8524613 ,\n",
       "           1.3976427 ,  -1.102457  ]], dtype=float32),\n",
       " array([[  8.227698  ,  14.127382  , -13.852277  , ...,   0.72874236,\n",
       "           0.2995327 ,   0.8069303 ],\n",
       "        [ 11.636451  ,  12.651016  , -15.834576  , ...,  -3.1115658 ,\n",
       "           1.9068686 ,   1.0746056 ],\n",
       "        [ 13.054078  ,  14.576978  , -14.18737   , ...,  -0.9648584 ,\n",
       "           1.1712205 ,   0.67459965],\n",
       "        ...,\n",
       "        [ 17.134182  ,  16.42747   , -19.975653  , ...,   2.7362273 ,\n",
       "           1.1559558 ,   5.7752223 ],\n",
       "        [ 14.80683   ,  14.58078   , -16.49195   , ...,   0.993281  ,\n",
       "          -1.1766915 ,   6.317531  ],\n",
       "        [ 14.550064  ,  17.93393   , -19.40434   , ...,   1.1123817 ,\n",
       "           1.7569219 ,   4.7918134 ]], dtype=float32),\n",
       " array([[ 15.533047  ,  16.939806  , -20.53605   , ...,   1.6738901 ,\n",
       "           1.6204652 ,   6.479855  ],\n",
       "        [ 15.568002  ,  16.65736   , -19.694569  , ...,   1.7790459 ,\n",
       "           3.9475589 ,   5.8199167 ],\n",
       "        [ 13.643345  ,  19.44563   , -19.748777  , ...,   2.3102782 ,\n",
       "           2.9038467 ,   7.5938964 ],\n",
       "        ...,\n",
       "        [ 16.786226  ,  22.410688  , -21.894373  , ...,  -3.1531842 ,\n",
       "          -0.10651033,  -2.2652051 ],\n",
       "        [ 16.395666  ,  22.410257  , -23.006536  , ...,  -2.8363836 ,\n",
       "           0.13534078,  -3.024015  ],\n",
       "        [ 16.602707  ,  20.839872  , -23.944086  , ...,   1.8238119 ,\n",
       "           3.3923004 ,  -3.280188  ]], dtype=float32),\n",
       " array([[ 16.43726   ,  24.33289   , -23.882946  , ...,  -1.3904012 ,\n",
       "           1.5827296 ,  -2.5038552 ],\n",
       "        [ 16.533838  ,  23.54575   , -24.26496   , ...,   0.27990672,\n",
       "           3.4212234 ,  -0.9757469 ],\n",
       "        [ 16.699795  ,  24.384638  , -23.889727  , ...,  -0.33756217,\n",
       "           2.792643  ,  -4.255915  ],\n",
       "        ...,\n",
       "        [ 12.934973  ,  21.910625  , -22.856005  , ...,  -2.995367  ,\n",
       "          -0.05211698,  -0.21488199],\n",
       "        [ 12.575122  ,  21.655077  , -24.090298  , ...,   1.0849314 ,\n",
       "           2.2353728 ,  -0.5076356 ],\n",
       "        [ 13.50132   ,  24.457518  , -23.995033  , ...,  -2.866761  ,\n",
       "           1.3045738 ,   1.4643445 ]], dtype=float32),\n",
       " array([[ 14.8182    ,  24.130764  , -24.633778  , ...,  -0.83862925,\n",
       "           1.2993585 ,   2.1210363 ],\n",
       "        [ 12.393351  ,  24.849104  , -23.765894  , ...,  -1.7762117 ,\n",
       "          -0.05870649,   0.28615904],\n",
       "        [ 12.816629  ,  26.869484  , -23.70046   , ...,   0.30720633,\n",
       "          -1.6180108 ,   0.7739238 ],\n",
       "        ...,\n",
       "        [ 16.84053   ,  22.257593  , -24.24175   , ...,  -1.7678878 ,\n",
       "           1.8247309 ,  -1.961535  ],\n",
       "        [ 16.027166  ,  23.288233  , -17.830288  , ...,   1.9722253 ,\n",
       "           1.9154946 ,  -1.5549288 ],\n",
       "        [ 14.568269  ,  22.113503  , -24.21896   , ...,   3.1682098 ,\n",
       "           1.6465876 ,  -1.2321007 ]], dtype=float32),\n",
       " array([[ 13.66008   ,  22.356735  , -21.888494  , ...,   1.8037893 ,\n",
       "          -0.58552015,  -2.727565  ],\n",
       "        [ 15.280791  ,  21.016972  , -21.935034  , ...,  -3.171068  ,\n",
       "           0.8875956 ,  -4.450945  ],\n",
       "        [ 14.853172  ,  22.84419   , -24.737507  , ...,  -0.08858624,\n",
       "          -0.07729654,  -0.9088754 ],\n",
       "        ...,\n",
       "        [ 13.839862  ,  11.289754  , -19.085196  , ...,   1.8642116 ,\n",
       "          -2.0985138 ,   0.6416371 ],\n",
       "        [ 14.64173   ,  12.383262  , -19.481174  , ...,  -4.425935  ,\n",
       "          -1.0704545 ,   1.9046451 ],\n",
       "        [ 12.422742  ,  12.698691  , -19.92646   , ...,   0.5372844 ,\n",
       "          -0.05122078,   3.156785  ]], dtype=float32),\n",
       " array([[ 1.37242060e+01,  1.31228523e+01, -1.91046047e+01, ...,\n",
       "          1.01522136e+00, -1.29955336e-01,  2.63528287e-01],\n",
       "        [ 1.34555674e+01,  1.47616644e+01, -2.03597431e+01, ...,\n",
       "          5.02020180e-01,  2.00154379e-01,  3.58792448e+00],\n",
       "        [ 1.55199585e+01,  1.10243864e+01, -1.75692158e+01, ...,\n",
       "          1.05049424e-02, -3.03006363e+00,  5.67146361e-01],\n",
       "        ...,\n",
       "        [ 1.27833910e+01,  1.40793047e+01, -1.52806187e+01, ...,\n",
       "         -3.05627561e+00,  2.12931204e+00,  1.48252165e+00],\n",
       "        [ 1.44495058e+01,  1.55933971e+01, -1.49766102e+01, ...,\n",
       "         -8.62159848e-01,  1.41817451e+00, -1.15242636e+00],\n",
       "        [ 1.43708563e+01,  1.61402245e+01, -1.76085129e+01, ...,\n",
       "         -2.29282069e+00, -1.33243012e+00, -5.06236494e-01]], dtype=float32),\n",
       " array([[ 14.410507  ,  17.971779  , -17.921541  , ...,  -0.54652065,\n",
       "           0.02328042,  -1.8716868 ],\n",
       "        [ 12.158123  ,  12.278075  , -16.990263  , ...,  -0.86156934,\n",
       "           1.9378726 ,  -0.6729674 ],\n",
       "        [ 15.676513  ,  15.802354  , -15.787247  , ...,  -1.6001183 ,\n",
       "          -0.7980267 ,   1.1548958 ],\n",
       "        ...,\n",
       "        [ 13.517928  ,  10.6324835 , -15.105033  , ...,   2.3615956 ,\n",
       "          -0.7195695 ,   0.89920425],\n",
       "        [  8.68738   ,   9.269018  , -16.590063  , ...,   3.2144277 ,\n",
       "           0.02138035,  -0.02595176],\n",
       "        [ 14.009457  ,  11.973047  , -15.392741  , ...,   3.7104554 ,\n",
       "          -2.7233825 ,  -2.9089184 ]], dtype=float32),\n",
       " array([[ 11.465793  ,  13.259809  , -13.017928  , ...,   1.3357053 ,\n",
       "          -0.30614144,  -1.2367555 ],\n",
       "        [ 15.412568  ,  13.372607  , -16.107306  , ...,   2.1796734 ,\n",
       "          -1.5214893 ,  -0.06663505],\n",
       "        [ 13.887517  ,  11.914983  , -14.342274  , ...,   1.6602236 ,\n",
       "          -0.6071481 ,  -0.4015302 ],\n",
       "        ...,\n",
       "        [ 14.773232  ,  17.213654  , -19.576183  , ...,   1.0229466 ,\n",
       "           0.14579783,  -0.54512984],\n",
       "        [ 15.14013   ,  15.584514  , -19.687899  , ...,  -0.2458473 ,\n",
       "          -1.0479555 ,   1.2784811 ],\n",
       "        [ 13.6698265 ,  13.448826  , -20.995583  , ...,   0.18775088,\n",
       "           0.38886693,   3.046904  ]], dtype=float32),\n",
       " array([[ 1.5876213e+01,  1.6862106e+01, -1.8980108e+01, ...,\n",
       "         -4.4289481e-02, -7.0669234e-01,  1.5510958e+00],\n",
       "        [ 1.0180802e+01,  1.3314728e+01, -1.8615343e+01, ...,\n",
       "          4.6369499e-01, -4.2660977e-04,  2.3730745e+00],\n",
       "        [ 1.4938361e+01,  1.6516214e+01, -1.6421642e+01, ...,\n",
       "          3.1373003e+00,  2.0883653e+00,  7.3471940e-01],\n",
       "        ...,\n",
       "        [ 1.8327702e+01,  1.7152102e+01, -2.2552122e+01, ...,\n",
       "         -6.9531995e-01, -2.2227940e-01, -2.0855711e+00],\n",
       "        [ 1.5108526e+01,  1.5473369e+01, -2.1570343e+01, ...,\n",
       "         -8.8622564e-01,  1.1021464e+00, -2.4813519e+00],\n",
       "        [ 1.5871283e+01,  1.6581465e+01, -2.1706602e+01, ...,\n",
       "         -1.1431239e+00, -1.0026659e+00, -1.6839609e+00]], dtype=float32),\n",
       " array([[ 16.192171  ,  19.0568    , -22.368412  , ...,   0.2018933 ,\n",
       "           1.7366676 ,  -0.76753455],\n",
       "        [ 16.95722   ,  17.192345  , -22.059761  , ...,  -1.4179417 ,\n",
       "           0.5209548 ,  -0.6875571 ],\n",
       "        [ 18.194439  ,  18.327635  , -22.53846   , ...,  -1.1831996 ,\n",
       "          -1.7912141 ,  -1.877882  ],\n",
       "        ...,\n",
       "        [ 19.682755  ,  17.929426  , -22.967134  , ...,   2.4562209 ,\n",
       "          -0.53157216,   1.8313428 ],\n",
       "        [ 18.614851  ,  18.442417  , -22.893448  , ...,   1.599481  ,\n",
       "          -0.50670373,   0.53982735],\n",
       "        [ 17.663458  ,  18.327219  , -22.81251   , ...,   1.672024  ,\n",
       "          -3.2139149 ,  -1.6447865 ]], dtype=float32),\n",
       " array([[ 18.901321  ,  19.423037  , -20.591925  , ...,   1.81455   ,\n",
       "           1.1754532 ,   0.27511057],\n",
       "        [ 17.413868  ,  20.114374  , -22.287582  , ...,  -1.152067  ,\n",
       "          -0.30915126,  -0.62027115],\n",
       "        [ 17.38963   ,  18.010324  , -21.286087  , ...,  -0.6048957 ,\n",
       "          -1.7590176 ,   0.12140825],\n",
       "        ...,\n",
       "        [ 17.83092   ,  18.826836  , -25.173334  , ...,   0.7510884 ,\n",
       "          -3.5594606 ,  -0.8976345 ],\n",
       "        [ 18.833118  ,  20.524416  , -24.50596   , ...,  -0.7477474 ,\n",
       "           0.31241676,   0.3515555 ],\n",
       "        [ 18.343134  ,  17.364271  , -22.637312  , ...,   0.7448441 ,\n",
       "          -1.0193269 ,  -1.4928023 ]], dtype=float32),\n",
       " array([[ 1.6819622e+01,  1.8460243e+01, -2.1398106e+01, ...,\n",
       "         -9.3942475e-01, -1.3138061e+00, -7.2011459e-01],\n",
       "        [ 1.7327383e+01,  1.7459942e+01, -2.4563385e+01, ...,\n",
       "         -7.3568975e-03,  2.7235237e-01, -1.1076223e+00],\n",
       "        [ 1.5178887e+01,  1.9405924e+01, -2.4387617e+01, ...,\n",
       "         -2.8801927e-01, -2.0789800e+00,  3.8156924e-01],\n",
       "        ...,\n",
       "        [ 1.7387123e+01,  1.6732729e+01, -2.2738214e+01, ...,\n",
       "          3.8008237e-01,  1.6639038e+00, -1.1397461e+00],\n",
       "        [ 1.8453720e+01,  1.9372631e+01, -2.5802391e+01, ...,\n",
       "         -9.9298865e-01,  2.7776554e+00, -2.8172812e+00],\n",
       "        [ 1.8391794e+01,  1.9223219e+01, -2.5635553e+01, ...,\n",
       "          7.5089550e-01,  1.1570879e+00, -3.5038643e+00]], dtype=float32),\n",
       " array([[ 18.104532  ,  17.353138  , -23.083029  , ...,   0.779917  ,\n",
       "           0.16277923,  -2.3959944 ],\n",
       "        [ 17.817411  ,  17.603788  , -21.262026  , ...,  -0.29754522,\n",
       "           1.5881573 ,  -2.092993  ],\n",
       "        [ 16.9322    ,  17.470612  , -24.403997  , ...,   0.20641357,\n",
       "           1.9216361 ,   2.5172884 ],\n",
       "        ...,\n",
       "        [ 14.478679  ,  14.727951  , -25.10455   , ...,   1.5803254 ,\n",
       "          -0.7599175 ,  -2.4725661 ],\n",
       "        [ 17.220781  ,  17.992313  , -24.874237  , ...,   2.1562722 ,\n",
       "          -2.039511  ,  -2.9047675 ],\n",
       "        [ 17.056284  ,  16.934744  , -24.1996    , ...,   1.5546417 ,\n",
       "          -1.1074642 ,  -0.79740024]], dtype=float32),\n",
       " array([[ 1.6311760e+01,  1.5564592e+01, -2.1826309e+01, ...,\n",
       "          1.7222794e+00, -9.8829508e-01, -5.1514616e+00],\n",
       "        [ 1.4978367e+01,  1.7300064e+01, -2.4685173e+01, ...,\n",
       "          2.0674977e+00, -2.6068649e+00, -2.7653172e+00],\n",
       "        [ 1.7148022e+01,  1.8928711e+01, -2.5372448e+01, ...,\n",
       "          2.3334963e+00, -1.2662743e+00, -1.6343199e+00],\n",
       "        ...,\n",
       "        [ 2.9373528e+01,  1.4770224e+01,  1.4044310e+01, ...,\n",
       "         -1.0420535e+00, -2.2282932e+00, -1.2867409e+00],\n",
       "        [ 2.7109625e+01,  1.4400382e+01,  1.3095852e+01, ...,\n",
       "         -2.5276589e+00,  1.2128605e+00, -5.0703335e-01],\n",
       "        [ 2.9131065e+01,  1.4328272e+01,  1.4284231e+01, ...,\n",
       "         -1.5082160e+00,  5.0195702e-03, -1.3261905e+00]], dtype=float32),\n",
       " array([[30.588736  , 13.756232  , 12.736882  , ..., -3.1753113 ,\n",
       "         -0.5836894 ,  1.3898959 ],\n",
       "        [30.090048  , 16.311674  , 12.468696  , ..., -2.4618204 ,\n",
       "         -1.499276  ,  0.9755867 ],\n",
       "        [26.750757  , 12.833052  , 11.298613  , ..., -0.32126316,\n",
       "          1.7177669 , -0.20795585],\n",
       "        ...,\n",
       "        [29.458246  , 12.497264  , 12.07199   , ...,  2.4362626 ,\n",
       "         -0.44409984,  0.47927445],\n",
       "        [29.256289  , 13.883221  , 12.11058   , ...,  0.7589899 ,\n",
       "         -0.07180499, -1.498823  ],\n",
       "        [28.302849  , 13.993909  , 10.270395  , ..., -0.6371895 ,\n",
       "          0.23927419, -0.6042001 ]], dtype=float32),\n",
       " array([[26.366875  , 13.121351  , 14.174435  , ...,  2.1300676 ,\n",
       "         -1.9199567 , -0.5938769 ],\n",
       "        [30.204453  , 14.885044  , 11.395672  , ...,  1.5096745 ,\n",
       "          0.7728148 ,  1.5674928 ],\n",
       "        [29.74036   , 12.793185  , 12.588014  , ...,  2.5277984 ,\n",
       "          0.07659929,  0.33151913],\n",
       "        ...,\n",
       "        [29.284632  , 17.438812  ,  5.5917997 , ..., -0.6656778 ,\n",
       "          2.133184  ,  0.7092443 ],\n",
       "        [29.38821   , 16.354816  , 11.909963  , ..., -0.9881411 ,\n",
       "          2.9954152 , -0.64102405],\n",
       "        [30.822418  , 17.215015  , 11.3646965 , ..., -2.5594578 ,\n",
       "          2.8365667 , -0.6442329 ]], dtype=float32),\n",
       " array([[ 29.018032  ,  17.437838  ,  11.709914  , ...,  -1.0337987 ,\n",
       "           1.0551735 ,   1.7670292 ],\n",
       "        [ 28.71163   ,  15.467256  ,  11.012387  , ...,  -2.4467065 ,\n",
       "           1.5667783 ,  -0.06697715],\n",
       "        [ 31.787014  ,  17.0561    ,  11.878225  , ...,   0.4795853 ,\n",
       "           0.1226512 ,   1.7170511 ],\n",
       "        ...,\n",
       "        [ 19.06323   ,  20.147608  , -25.589409  , ...,  -1.3990728 ,\n",
       "           0.9559877 ,   0.27892882],\n",
       "        [ 17.867117  ,  19.124828  , -23.00127   , ...,   0.8837269 ,\n",
       "           1.1917341 ,  -1.2576627 ],\n",
       "        [ 15.518473  ,  19.248272  , -25.100245  , ...,   1.5768021 ,\n",
       "           2.2324965 ,  -1.2901183 ]], dtype=float32),\n",
       " array([[ 17.67521   ,  17.323103  , -26.307508  , ...,   0.34163487,\n",
       "           1.0578938 ,  -2.4555466 ],\n",
       "        [ 17.618519  ,  19.906794  , -24.564     , ...,   1.7044119 ,\n",
       "           1.9502134 ,  -1.3494903 ],\n",
       "        [ 16.410528  ,  19.606094  , -23.451208  , ...,   0.6140622 ,\n",
       "           1.1603432 ,  -1.0178041 ],\n",
       "        ...,\n",
       "        [ 29.036428  ,  13.379009  ,  12.041194  , ...,   1.3267194 ,\n",
       "          -0.93148565,  -3.8935556 ],\n",
       "        [ 27.43319   ,  13.835595  ,  14.877094  , ...,   1.8726568 ,\n",
       "           0.37577647,  -2.5646327 ],\n",
       "        [ 28.774647  ,  13.794965  ,  14.730474  , ...,   0.8089977 ,\n",
       "          -0.54687685,  -1.2907352 ]], dtype=float32),\n",
       " array([[26.867386  , 12.869161  , 13.088422  , ...,  0.9277198 ,\n",
       "         -2.316969  , -4.488338  ],\n",
       "        [28.41191   , 12.667796  , 14.012199  , ...,  0.50541836,\n",
       "         -0.2401087 , -1.2274449 ],\n",
       "        [29.329956  , 12.757273  , 15.916565  , ...,  1.7007073 ,\n",
       "         -1.3647295 ,  0.0954807 ],\n",
       "        ...,\n",
       "        [31.779984  , 14.281771  , 13.900158  , ..., -0.5062154 ,\n",
       "          0.70089453, -2.0466094 ],\n",
       "        [29.708496  , 15.481832  , 13.000787  , ..., -3.484841  ,\n",
       "          2.3837736 , -0.5942898 ],\n",
       "        [30.809797  , 14.340433  , 14.5684805 , ..., -0.90366524,\n",
       "          0.55716866, -0.10268591]], dtype=float32),\n",
       " array([[ 3.1188686e+01,  1.4080151e+01,  1.4875572e+01, ...,\n",
       "         -1.9019265e+00,  1.1273575e-01, -4.3780157e-01],\n",
       "        [ 3.1566950e+01,  1.5922335e+01,  1.4817779e+01, ...,\n",
       "         -7.4841136e-01, -1.0704842e+00,  1.8704903e-01],\n",
       "        [ 3.0255671e+01,  1.3811607e+01,  1.6776897e+01, ...,\n",
       "          2.5801122e-01,  3.1927872e-02, -1.8469115e-01],\n",
       "        ...,\n",
       "        [ 2.8899872e+01,  1.5911946e+01,  1.6082766e+01, ...,\n",
       "         -9.1097301e-01,  1.3589218e+00, -8.9819901e-02],\n",
       "        [ 2.7039328e+01,  1.3912519e+01,  1.3942017e+01, ...,\n",
       "         -1.8110557e-02,  7.4519277e-01,  1.3654686e+00],\n",
       "        [ 2.9625019e+01,  1.4301798e+01,  1.5493569e+01, ...,\n",
       "          5.4373622e-01, -8.3389711e-01, -2.6158342e+00]], dtype=float32),\n",
       " array([[27.858938  , 14.817177  , 13.248755  , ..., -0.9563962 ,\n",
       "          0.70449394,  1.6996025 ],\n",
       "        [28.712694  , 14.095475  , 15.318852  , ..., -2.0128908 ,\n",
       "         -1.2711666 ,  0.83123106],\n",
       "        [28.341898  , 14.781958  , 15.661754  , ..., -0.17047681,\n",
       "         -1.4436871 ,  2.7315476 ],\n",
       "        ...,\n",
       "        [27.81944   , 14.279279  , 12.377303  , ..., -0.6976785 ,\n",
       "          0.4487763 ,  1.9149224 ],\n",
       "        [29.54284   , 13.964308  , 13.835008  , ..., -3.2781527 ,\n",
       "         -2.259022  ,  3.847477  ],\n",
       "        [30.746506  , 13.68122   , 13.829216  , ...,  0.6222419 ,\n",
       "         -3.0573986 ,  2.0598795 ]], dtype=float32),\n",
       " array([[30.959764  , 13.935037  , 13.211471  , ...,  0.04216601,\n",
       "         -1.7830732 , -0.2677707 ],\n",
       "        [30.326136  , 14.716106  , 14.507014  , ...,  0.52662396,\n",
       "         -0.3490035 , -0.11360662],\n",
       "        [30.783014  , 14.618196  , 13.431296  , ...,  1.9758666 ,\n",
       "         -2.1883965 , -1.1124573 ],\n",
       "        ...,\n",
       "        [24.658928  , 13.296218  , 19.358982  , ..., -0.9933547 ,\n",
       "          0.43373206,  0.99910593],\n",
       "        [25.410433  , 13.851183  , 15.027024  , ...,  0.19826393,\n",
       "         -2.6142228 ,  0.16628687],\n",
       "        [29.461746  , 14.616656  , 17.933088  , ..., -3.0973797 ,\n",
       "         -1.1298696 , -0.12542455]], dtype=float32),\n",
       " array([[26.93219   , 13.878929  , 18.173944  , ..., -2.062891  ,\n",
       "         -1.9223614 , -2.1997623 ],\n",
       "        [24.301863  , 13.407981  , 18.63182   , ..., -2.1344206 ,\n",
       "         -0.05937856, -0.25876784],\n",
       "        [25.342493  , 14.400758  , 19.110588  , ...,  2.12285   ,\n",
       "          0.38423562, -3.8169398 ],\n",
       "        ...,\n",
       "        [27.704052  , 11.759801  , 19.431376  , ..., -1.4185369 ,\n",
       "          2.707818  , -0.12692466],\n",
       "        [25.97357   , 12.292337  , 19.767736  , ..., -1.9331379 ,\n",
       "          1.3513824 , -0.19309832],\n",
       "        [28.994484  , 10.448728  , 18.96945   , ..., -2.340192  ,\n",
       "          1.6155912 , -1.5963428 ]], dtype=float32),\n",
       " array([[26.584114  , 14.444056  , 18.296707  , ..., -1.8064787 ,\n",
       "          1.6207335 , -1.7896765 ],\n",
       "        [28.683102  , 11.322212  , 18.191467  , ...,  0.9516774 ,\n",
       "          4.1142793 , -1.4728907 ],\n",
       "        [25.745619  , 12.346116  , 17.91765   , ..., -1.6417189 ,\n",
       "          2.472078  , -1.9126217 ],\n",
       "        ...,\n",
       "        [25.542479  , 13.438785  , 24.228895  , ..., -2.3882906 ,\n",
       "         -0.37287265, -1.1707283 ],\n",
       "        [25.843138  , 11.861988  , 23.644812  , ..., -1.3863558 ,\n",
       "         -0.23294224, -2.4798515 ],\n",
       "        [25.601656  , 12.493846  , 20.741589  , ...,  2.8643906 ,\n",
       "         -1.56625   , -0.75553334]], dtype=float32),\n",
       " array([[ 2.5490623e+01,  1.2240506e+01,  2.2420282e+01, ...,\n",
       "          3.2839837e+00, -1.5473422e+00, -1.4660724e+00],\n",
       "        [ 2.8012987e+01,  1.3579257e+01,  2.2187244e+01, ...,\n",
       "         -3.1981531e-01, -9.1934961e-01, -2.7296510e+00],\n",
       "        [ 2.6382841e+01,  1.3634068e+01,  2.2188978e+01, ...,\n",
       "          7.9096144e-01, -2.8121486e+00, -7.6287097e-01],\n",
       "        ...,\n",
       "        [ 2.6387373e+01,  1.3292917e+01,  2.0943815e+01, ...,\n",
       "          7.2026588e-02, -1.5154952e-02,  7.9864466e-01],\n",
       "        [ 2.5890762e+01,  1.5997936e+01,  1.9426540e+01, ...,\n",
       "          1.6041141e+00,  2.5253029e+00, -7.1866226e-01],\n",
       "        [ 2.8212574e+01,  1.4594831e+01,  2.0724524e+01, ...,\n",
       "         -6.6231334e-01, -4.3061739e-01,  1.1595966e+00]], dtype=float32),\n",
       " array([[ 2.7480093e+01,  1.4679722e+01,  2.1310394e+01, ...,\n",
       "         -5.4247797e-01,  1.8099792e-01,  5.8700162e-01],\n",
       "        [ 2.4378277e+01,  1.4541097e+01,  2.2297565e+01, ...,\n",
       "         -3.8658968e-01, -2.5767911e-02,  4.5873526e-01],\n",
       "        [ 2.8505432e+01,  1.3523913e+01,  2.2064344e+01, ...,\n",
       "          9.0971339e-01, -3.1332052e-01,  2.0462198e+00],\n",
       "        ...,\n",
       "        [ 2.8816927e+01,  1.3924629e+01,  2.1321409e+01, ...,\n",
       "         -2.2190604e-01, -2.0101459e+00, -1.5166930e+00],\n",
       "        [ 2.9250854e+01,  1.5110643e+01,  2.1220160e+01, ...,\n",
       "         -2.2313826e+00, -1.4705405e+00,  6.5265524e-01],\n",
       "        [ 2.7181929e+01,  1.5000990e+01,  2.0637951e+01, ...,\n",
       "         -1.8430877e+00,  1.5125918e+00, -3.3459595e-01]], dtype=float32),\n",
       " array([[25.908602  , 14.820878  , 19.56995   , ..., -3.917547  ,\n",
       "         -1.5490927 ,  0.8720678 ],\n",
       "        [24.304535  , 15.271848  , 21.518217  , ...,  0.45409125,\n",
       "         -0.4487306 , -0.79825395],\n",
       "        [25.49133   , 14.435657  , 22.498224  , ..., -0.9836327 ,\n",
       "         -1.4760486 , -0.23707974],\n",
       "        ...,\n",
       "        [25.432909  , 15.13149   , 21.468958  , ..., -4.3402686 ,\n",
       "         -1.8790337 , -6.509229  ],\n",
       "        [25.027998  , 18.520502  , 22.20491   , ..., -5.748217  ,\n",
       "         -0.1291976 , -2.47408   ],\n",
       "        [24.567125  , 16.366587  , 21.34219   , ..., -5.350349  ,\n",
       "         -2.7075436 , -1.2165645 ]], dtype=float32),\n",
       " array([[28.253468  , 12.867972  , 19.683983  , ..., -3.6048472 ,\n",
       "         -0.84356153,  0.159334  ],\n",
       "        [27.817226  , 14.378842  , 20.99213   , ..., -6.854904  ,\n",
       "         -2.120801  , -1.4464617 ],\n",
       "        [24.480543  , 16.112326  , 22.123028  , ..., -4.151247  ,\n",
       "          0.56859905, -4.7475014 ],\n",
       "        ...,\n",
       "        [26.5698    , 14.896348  , 18.282328  , ...,  0.41951054,\n",
       "          1.5536063 , -1.1535491 ],\n",
       "        [25.644361  , 15.212564  , 20.395021  , ..., -0.6405921 ,\n",
       "          0.41959402, -2.1478918 ],\n",
       "        [26.568794  , 17.593319  , 18.701483  , ...,  3.6751642 ,\n",
       "         -1.7611811 , -4.5398717 ]], dtype=float32),\n",
       " array([[25.73423   , 16.366121  , 15.028606  , ...,  1.0384346 ,\n",
       "          0.2904523 , -1.2258337 ],\n",
       "        [27.237818  , 13.269876  , 18.758802  , ..., -1.8566135 ,\n",
       "          2.3933961 , -2.1520574 ],\n",
       "        [28.04714   , 15.176305  , 17.55701   , ..., -0.69156164,\n",
       "         -0.10643072, -2.8046868 ],\n",
       "        ...,\n",
       "        [26.165148  ,  9.919439  , 28.97063   , ..., -3.8888617 ,\n",
       "          3.089609  , -2.3518302 ],\n",
       "        [25.183825  ,  5.5154815 , 29.008854  , ..., -5.7196774 ,\n",
       "          1.565675  , -2.1289454 ],\n",
       "        [21.717827  ,  4.46932   , 25.685707  , ..., -3.8956313 ,\n",
       "         -1.2203498 ,  1.7982241 ]], dtype=float32),\n",
       " array([[25.976973  ,  9.064427  , 31.066154  , ..., -3.2105668 ,\n",
       "         -0.13898201, -0.3220843 ],\n",
       "        [27.927612  ,  9.762995  , 28.409897  , ..., -2.7851007 ,\n",
       "          0.79080117, -2.4124935 ],\n",
       "        [21.125534  ,  5.3493667 , 28.441801  , ...,  0.28958356,\n",
       "         -0.1267991 , -1.5292444 ],\n",
       "        ...,\n",
       "        [29.514431  , 15.570416  , 12.12493   , ...,  3.9973373 ,\n",
       "          1.3040287 , -0.04869333],\n",
       "        [27.84508   , 15.257043  , 13.914348  , ...,  0.90859604,\n",
       "          2.3696568 ,  1.4710542 ],\n",
       "        [28.77179   , 14.443733  , 13.707952  , ...,  0.50604147,\n",
       "         -0.83796227, -0.6978733 ]], dtype=float32),\n",
       " array([[29.176966  , 14.680332  , 11.439978  , ..., -1.4946861 ,\n",
       "          1.5704854 , -0.43277138],\n",
       "        [29.484877  , 13.899492  , 12.748045  , ..., -0.35779938,\n",
       "          0.38329825, -0.48083657],\n",
       "        [29.462427  , 14.7464075 , 12.455953  , ...,  0.04881411,\n",
       "          2.293912  ,  0.6808133 ],\n",
       "        ...,\n",
       "        [18.07832   , 19.642855  , 26.202553  , ..., -4.538322  ,\n",
       "         -1.007561  , -1.2922342 ],\n",
       "        [25.066067  , 19.97747   , 24.659826  , ..., -2.7086565 ,\n",
       "          2.7990882 , -1.3042976 ],\n",
       "        [25.694752  , 17.70675   , 24.772043  , ..., -2.903082  ,\n",
       "          1.7020404 , -2.153362  ]], dtype=float32),\n",
       " array([[24.677883  , 19.77822   , 24.10105   , ..., -4.4487042 ,\n",
       "         -0.6813659 ,  0.20797706],\n",
       "        [24.233576  , 14.937859  , 22.253513  , ..., -2.3126917 ,\n",
       "          2.3190582 , -2.9262075 ],\n",
       "        [28.024418  , 17.731405  , 23.792864  , ..., -1.7847583 ,\n",
       "          4.3611236 , -1.578689  ],\n",
       "        ...,\n",
       "        [29.262611  , 13.083478  , 15.123625  , ..., -1.1536295 ,\n",
       "         -0.82719463, -0.73513186],\n",
       "        [28.707037  , 15.652075  , 12.774454  , ..., -0.98607504,\n",
       "          1.2023182 , -0.13901629],\n",
       "        [27.534414  , 16.924425  , 13.3847    , ...,  1.4307417 ,\n",
       "         -0.5334607 , -1.4543239 ]], dtype=float32),\n",
       " array([[ 2.9903046e+01,  1.7538759e+01,  1.3546820e+01, ...,\n",
       "         -1.6447909e+00, -1.5058725e+00,  3.1439316e+00],\n",
       "        [ 3.1015787e+01,  1.4591055e+01,  1.4096396e+01, ...,\n",
       "         -1.1698079e+00, -8.7006819e-03, -1.0158294e+00],\n",
       "        [ 2.8636097e+01,  1.6080740e+01,  1.3037674e+01, ...,\n",
       "         -2.4691412e+00, -1.1626675e+00,  2.4032259e-01],\n",
       "        ...,\n",
       "        [ 2.9921923e+01,  1.3788735e+01,  1.3927082e+01, ...,\n",
       "          8.9141566e-01,  1.4930944e+00, -1.3980898e-01],\n",
       "        [ 2.9317781e+01,  1.6472357e+01,  1.1538635e+01, ...,\n",
       "         -1.7726011e+00,  4.9386847e-01, -2.7391529e-01],\n",
       "        [ 2.9253839e+01,  1.6731174e+01,  1.3412521e+01, ...,\n",
       "         -5.2099138e-01,  3.9728110e+00, -9.1747683e-01]], dtype=float32),\n",
       " array([[30.654852  , 16.544699  , 13.575859  , ..., -2.0821009 ,\n",
       "          1.7636639 ,  0.3014972 ],\n",
       "        [29.705221  , 17.080158  , 13.141677  , ..., -0.94540346,\n",
       "          0.4795018 , -1.5911121 ],\n",
       "        [29.662716  , 14.500409  , 14.201233  , ..., -0.434685  ,\n",
       "          3.337733  , -2.6536736 ],\n",
       "        ...,\n",
       "        [29.616676  , 14.140357  , 12.84148   , ..., -0.78685653,\n",
       "          1.7650653 , -1.5227716 ],\n",
       "        [29.6319    , 13.4744625 , 13.964514  , ..., -2.6619465 ,\n",
       "          0.17668143, -2.7521653 ],\n",
       "        [29.175695  , 13.809073  , 14.680361  , ..., -2.2668154 ,\n",
       "          1.542121  , -0.8160433 ]], dtype=float32),\n",
       " array([[ 3.0155249e+01,  1.3755185e+01,  1.2759993e+01, ...,\n",
       "          7.6319933e-02,  1.2198931e+00, -1.8219372e+00],\n",
       "        [ 3.0431030e+01,  1.1449119e+01,  1.4550443e+01, ...,\n",
       "         -2.6412694e+00,  2.5752337e+00, -7.6909500e-01],\n",
       "        [ 2.9176989e+01,  1.2226498e+01,  1.3557836e+01, ...,\n",
       "         -2.4476492e+00,  1.8000636e-01,  1.7440515e-03],\n",
       "        ...,\n",
       "        [ 1.8539318e+01,  1.7815441e+01, -2.1480839e+01, ...,\n",
       "         -1.3364329e+00, -2.7585852e-01,  3.6157066e-01],\n",
       "        [ 1.5647994e+01,  2.1139709e+01, -1.9586634e+01, ...,\n",
       "         -1.4880537e+00,  2.3968940e+00,  3.7157676e-01],\n",
       "        [ 1.7358627e+01,  1.9351948e+01, -2.4775076e+01, ...,\n",
       "         -1.3552729e+00,  9.1647995e-01, -3.7585321e-01]], dtype=float32),\n",
       " array([[ 1.5797626e+01,  1.8244307e+01, -2.5534058e+01, ...,\n",
       "          7.3845464e-01,  8.6526811e-01,  2.8817663e+00],\n",
       "        [ 1.7858454e+01,  1.7776817e+01, -2.5613234e+01, ...,\n",
       "          1.7330930e+00,  6.7166549e-01,  1.5125421e+00],\n",
       "        [ 1.7592579e+01,  1.9286489e+01, -2.4363422e+01, ...,\n",
       "         -1.8133595e+00,  2.7562361e+00,  1.8396240e+00],\n",
       "        ...,\n",
       "        [ 1.9039463e+01,  1.8214708e+01, -2.4914761e+01, ...,\n",
       "         -1.9273825e+00,  8.3975559e-03,  1.4025389e+00],\n",
       "        [ 1.6954344e+01,  1.9002031e+01, -2.0944300e+01, ...,\n",
       "          1.8765985e+00,  1.9822174e+00,  1.4512587e+00],\n",
       "        [ 1.7334955e+01,  1.7842625e+01, -2.5576618e+01, ...,\n",
       "          1.1003626e-01, -2.3215903e-02,  1.3053350e+00]], dtype=float32),\n",
       " array([[ 15.516285  ,  18.235762  , -24.234577  , ...,   0.9792125 ,\n",
       "          -0.4000683 ,   2.0007064 ],\n",
       "        [ 17.19244   ,  18.390602  , -24.82455   , ...,   2.427016  ,\n",
       "           1.7832314 ,   2.0534232 ],\n",
       "        [ 16.442787  ,  17.049072  , -25.207644  , ...,  -1.0483733 ,\n",
       "           1.9911162 ,   2.0788355 ],\n",
       "        ...,\n",
       "        [ 26.934952  ,  14.851142  ,  11.436836  , ...,   1.1501359 ,\n",
       "           0.9615862 ,  -0.59570056],\n",
       "        [ 30.10556   ,  15.580358  ,  12.730635  , ...,   0.6795017 ,\n",
       "          -1.4405751 ,  -1.2077358 ],\n",
       "        [ 28.203468  ,  14.766134  ,  13.2690325 , ...,  -1.8494779 ,\n",
       "           0.31101164,   1.1881111 ]], dtype=float32),\n",
       " array([[28.00068   , 13.705386  , 13.909292  , ...,  1.4755139 ,\n",
       "          1.4024475 , -0.45498937],\n",
       "        [28.253595  , 13.210135  , 13.039695  , ..., -0.28897697,\n",
       "          0.49641746, -0.47887418],\n",
       "        [27.048265  , 15.007356  , 13.953033  , ..., -1.9848973 ,\n",
       "         -2.1687312 ,  1.617978  ],\n",
       "        ...,\n",
       "        [28.091543  , 15.21431   , 14.711737  , ..., -0.16706412,\n",
       "         -0.78240246, -0.37715286],\n",
       "        [27.927055  , 12.759007  , 12.084331  , ..., -3.0293298 ,\n",
       "          1.5177618 , -3.1351614 ],\n",
       "        [26.828842  ,  9.78546   , 13.942909  , ..., -0.20920287,\n",
       "          1.0810443 ,  0.7095943 ]], dtype=float32),\n",
       " array([[28.741615  , 13.651964  ,  8.899611  , ...,  0.5350904 ,\n",
       "         -0.5212671 , -1.8339349 ],\n",
       "        [29.055822  , 13.587905  , 13.454026  , ...,  1.0998338 ,\n",
       "          2.2948794 , -0.5968926 ],\n",
       "        [29.375683  , 14.858917  , 13.437132  , ..., -0.8039221 ,\n",
       "          0.6697313 , -2.0099802 ],\n",
       "        ...,\n",
       "        [28.393328  , 11.743775  , 14.199309  , ..., -0.18709241,\n",
       "         -0.2765227 ,  0.99343365],\n",
       "        [27.478884  , 14.20298   , 10.884927  , ..., -1.7259003 ,\n",
       "          0.7837475 ,  0.52215374],\n",
       "        [28.537764  , 13.367846  , 12.079978  , ..., -0.4538394 ,\n",
       "         -0.78725237,  1.0507827 ]], dtype=float32),\n",
       " array([[29.176064  , 15.5226145 , 13.395127  , ..., -0.85302955,\n",
       "          1.2423813 , -1.6851046 ],\n",
       "        [28.6916    , 12.993536  , 11.211869  , ..., -1.0536267 ,\n",
       "          1.6815898 ,  2.2742953 ],\n",
       "        [25.711157  ,  9.954741  , 12.879383  , ..., -1.894963  ,\n",
       "          0.7066238 , -0.4172048 ],\n",
       "        ...,\n",
       "        [30.547337  , 15.478581  , 15.318268  , ..., -0.7268618 ,\n",
       "          0.42795432, -1.269627  ],\n",
       "        [25.5707    , 18.434675  , 16.993877  , ...,  1.4703732 ,\n",
       "         -0.44600326, -1.7212276 ],\n",
       "        [26.208641  , 18.28992   , 15.261908  , ...,  1.024644  ,\n",
       "          0.8336645 , -1.0714018 ]], dtype=float32),\n",
       " array([[28.919804  , 14.823919  , 12.476417  , ..., -0.27309173,\n",
       "         -1.8036809 , -1.4634556 ],\n",
       "        [27.32819   , 14.085744  , 12.124403  , ...,  0.68814415,\n",
       "         -1.1852095 ,  0.8337483 ],\n",
       "        [27.102716  , 14.799401  , 14.254633  , ..., -0.79090667,\n",
       "         -2.0157094 , -1.1484143 ],\n",
       "        ...,\n",
       "        [31.349566  , 13.592787  , 14.940729  , ...,  0.174005  ,\n",
       "         -0.1811035 , -0.50873035],\n",
       "        [28.368973  , 16.927788  , 17.381586  , ...,  1.385121  ,\n",
       "          0.4445154 , -0.5195117 ],\n",
       "        [29.077456  , 12.065144  , 15.746428  , ...,  0.8059548 ,\n",
       "         -3.0644722 , -0.40909982]], dtype=float32),\n",
       " array([[28.301332  , 14.021551  , 14.228876  , ...,  2.7122204 ,\n",
       "         -2.7172024 , -2.8960354 ],\n",
       "        [28.11585   , 11.13089   , 16.007551  , ..., -0.5310732 ,\n",
       "         -0.7608645 ,  0.94000745],\n",
       "        [29.051437  , 13.314374  , 16.329361  , ..., -0.08321457,\n",
       "         -1.3052161 , -0.95592797],\n",
       "        ...,\n",
       "        [25.304102  , 10.894846  , 19.877098  , ...,  1.1782887 ,\n",
       "         -0.9492127 ,  0.45462653],\n",
       "        [28.604437  , 11.3200245 , 21.135603  , ..., -1.0517843 ,\n",
       "         -0.7829669 , -0.10570735],\n",
       "        [26.36102   , 11.496124  , 23.0219    , ...,  0.8736139 ,\n",
       "          0.38278374,  1.184737  ]], dtype=float32),\n",
       " array([[ 26.378439  ,  13.204682  ,  20.907644  , ...,   0.17017055,\n",
       "          -1.4093426 ,  -2.7790966 ],\n",
       "        [ 28.087345  ,  10.975723  ,  21.98006   , ...,  -0.696841  ,\n",
       "           0.64895934,  -0.36988184],\n",
       "        [ 26.804512  ,  12.352629  ,  21.782043  , ...,   1.687115  ,\n",
       "          -0.42944843,  -1.0606977 ],\n",
       "        ...,\n",
       "        [ 14.643006  ,  18.289074  , -18.20385   , ...,  -1.9241982 ,\n",
       "          -2.6679473 ,   1.9853548 ],\n",
       "        [ 16.31106   ,  18.219728  , -20.406008  , ...,  -5.223997  ,\n",
       "          -1.0821339 ,   2.857049  ],\n",
       "        [ 14.270071  ,  17.373663  , -18.577269  , ...,  -2.5926127 ,\n",
       "           0.9087244 ,   1.0317366 ]], dtype=float32),\n",
       " array([[ 16.059345  ,  18.547152  , -16.177706  , ...,  -5.391387  ,\n",
       "           1.7590195 ,  -2.552807  ],\n",
       "        [ 12.603771  ,  14.494548  , -19.318508  , ...,  -4.610257  ,\n",
       "          -0.3433044 ,  -1.0113505 ],\n",
       "        [ 15.832029  ,  16.092571  , -19.804005  , ...,  -1.3135062 ,\n",
       "           0.34131077,   1.5467175 ],\n",
       "        ...,\n",
       "        [ 15.082128  ,  19.130417  , -18.163412  , ...,   0.17982328,\n",
       "           2.36286   ,  -1.3370692 ],\n",
       "        [ 15.648572  ,  18.238707  , -19.89931   , ...,   1.537845  ,\n",
       "           2.1206567 ,   2.016809  ],\n",
       "        [ 14.704034  ,  19.50508   , -20.880468  , ...,  -1.7496395 ,\n",
       "           1.2304939 ,   0.8557693 ]], dtype=float32),\n",
       " array([[ 15.722702  ,  18.100918  , -18.340292  , ...,  -0.10418367,\n",
       "           1.9294028 ,   0.8787446 ],\n",
       "        [ 14.978571  ,  18.54092   , -21.349531  , ...,   2.2209065 ,\n",
       "           1.2267398 ,  -0.4027501 ],\n",
       "        [ 15.831335  ,  17.99772   , -20.320505  , ...,   1.6748652 ,\n",
       "           1.5656779 ,   1.9567513 ],\n",
       "        ...,\n",
       "        [ 16.595045  ,  19.825745  , -19.211618  , ...,  -0.2564215 ,\n",
       "           0.5314663 ,   0.74842757],\n",
       "        [ 16.633425  ,  17.64247   , -21.150738  , ...,  -1.2535888 ,\n",
       "          -0.35527164,  -0.22878118],\n",
       "        [ 15.977125  ,  17.959475  , -19.61713   , ...,   1.290783  ,\n",
       "          -1.7592443 ,   1.0304723 ]], dtype=float32),\n",
       " array([[ 16.407791  ,  16.99471   , -20.921885  , ...,  -0.20535307,\n",
       "          -0.15479763,  -0.14381045],\n",
       "        [ 16.461048  ,  19.069756  , -20.973454  , ...,   0.82169807,\n",
       "          -0.03726867,   0.23132424],\n",
       "        [ 14.954227  ,  17.063366  , -19.453474  , ...,   1.4265165 ,\n",
       "           0.56445295,  -1.7789558 ],\n",
       "        ...,\n",
       "        [ 17.33401   ,  16.911577  , -22.754642  , ...,  -1.257178  ,\n",
       "          -1.9774363 ,  -1.4896616 ],\n",
       "        [ 14.066502  ,  20.94505   , -21.087946  , ...,  -1.0788008 ,\n",
       "           0.98651356,   0.9127315 ],\n",
       "        [ 18.351248  ,  18.428188  , -22.903883  , ...,   0.96386546,\n",
       "          -1.8893616 ,   0.36208177]], dtype=float32),\n",
       " array([[ 18.931204  ,  15.562238  , -21.003893  , ...,  -0.6018549 ,\n",
       "          -1.1312782 ,  -1.0910802 ],\n",
       "        [ 18.599512  ,  16.51345   , -24.116734  , ...,  -0.19767584,\n",
       "           0.86138284,  -0.4761257 ],\n",
       "        [ 17.712856  ,  16.477116  , -21.280426  , ...,   1.7389859 ,\n",
       "          -2.4463685 ,   1.1293868 ],\n",
       "        ...,\n",
       "        [ 16.673447  ,  22.021734  , -21.866413  , ...,   0.17595287,\n",
       "          -1.3638232 ,   2.9822571 ],\n",
       "        [ 17.799953  ,  20.915264  , -20.93621   , ...,  -0.24103726,\n",
       "          -0.61931026,   2.0105586 ],\n",
       "        [ 16.417694  ,  21.982346  , -22.432808  , ...,   0.1076732 ,\n",
       "           1.1950942 ,   0.8156691 ]], dtype=float32),\n",
       " array([[ 16.80967   ,  20.636541  , -22.021297  , ...,   0.72974896,\n",
       "           3.3982754 ,   3.0136695 ],\n",
       "        [ 17.210833  ,  20.62584   , -22.078363  , ...,   1.3293719 ,\n",
       "          -0.20514539,   1.0757056 ],\n",
       "        [ 20.197418  ,  19.742966  , -18.419308  , ...,  -0.32061476,\n",
       "          -1.6617832 ,  -0.09972706],\n",
       "        ...,\n",
       "        [ 27.361801  ,  16.196287  ,  16.343243  , ...,   1.418138  ,\n",
       "           1.082362  ,   1.2818617 ],\n",
       "        [ 32.245564  ,  17.909681  ,  16.368763  , ...,   0.2266831 ,\n",
       "           1.4112115 ,  -0.15158804],\n",
       "        [ 32.07441   ,  16.767729  ,  15.757549  , ...,   1.0143526 ,\n",
       "          -0.08115987,  -0.07499897]], dtype=float32),\n",
       " array([[ 30.92607   ,  16.697964  ,  16.116623  , ...,  -0.5500988 ,\n",
       "           4.4685698 ,  -1.6050346 ],\n",
       "        [ 31.094727  ,  18.086287  ,  15.296814  , ...,  -0.05781413,\n",
       "           2.1938698 ,  -2.554013  ],\n",
       "        [ 30.493378  ,  13.902157  ,  13.679019  , ...,  -0.07308275,\n",
       "          -0.33662274,   2.1902885 ],\n",
       "        ...,\n",
       "        [ 25.328886  ,  13.7741585 ,  20.235943  , ...,   1.982319  ,\n",
       "           2.7898195 ,   0.4940515 ],\n",
       "        [ 26.464766  ,  14.486108  ,  19.508728  , ...,   0.89838463,\n",
       "           2.2399638 ,   2.0758035 ],\n",
       "        [ 14.931801  ,  18.363426  , -17.745632  , ...,  -0.3419805 ,\n",
       "           4.9268956 ,   0.60342675]], dtype=float32),\n",
       " array([[ 14.025443  ,  16.361832  , -13.615332  , ...,  -0.24315512,\n",
       "           5.848934  ,  -0.79827857],\n",
       "        [ 13.165851  ,  19.531845  , -15.856046  , ...,   0.0747429 ,\n",
       "           5.6918383 ,   3.4768026 ],\n",
       "        [ 14.593672  ,  18.00284   , -17.682781  , ...,   0.7475091 ,\n",
       "           3.1060092 ,   1.1417035 ],\n",
       "        ...,\n",
       "        [ 17.361065  ,  21.100883  , -19.742624  , ...,   0.5498432 ,\n",
       "          -0.7465331 ,   0.09382938],\n",
       "        [ 15.308407  ,  18.926981  , -14.399995  , ...,   0.92884415,\n",
       "           0.9062153 ,  -0.84144527],\n",
       "        [ 16.704836  ,  21.174255  , -20.199919  , ...,   2.211014  ,\n",
       "          -0.03027348,   1.3306868 ]], dtype=float32),\n",
       " array([[ 16.413046  ,  19.52872   , -21.173424  , ...,  -0.38687152,\n",
       "          -1.2718908 ,  -1.5795432 ],\n",
       "        [ 15.742078  ,  20.445122  , -19.017979  , ...,  -1.4289526 ,\n",
       "           2.0607114 ,  -2.5488777 ],\n",
       "        [ 19.285866  ,  20.012491  ,  -7.5642815 , ...,   2.0727487 ,\n",
       "           0.85765535,  -1.572733  ],\n",
       "        ...,\n",
       "        [ 19.00807   ,  20.336927  , -19.688272  , ...,   0.04171711,\n",
       "           1.6688733 ,   1.8502914 ],\n",
       "        [ 16.17784   ,  19.67857   , -18.849535  , ...,   0.15693253,\n",
       "          -3.0691712 ,   2.5879807 ],\n",
       "        [ 17.546387  ,  20.737072  , -20.416883  , ...,   1.7093686 ,\n",
       "          -1.4854916 ,   1.7070485 ]], dtype=float32),\n",
       " array([[ 17.011875  ,  20.057487  , -20.969652  , ...,   0.1501877 ,\n",
       "          -1.0419208 ,  -0.11883192],\n",
       "        [ 15.556129  ,  17.117205  , -19.991734  , ...,   0.18636012,\n",
       "          -1.2330487 ,  -0.4438042 ],\n",
       "        [ 16.993387  ,  18.265125  , -20.288431  , ...,   0.7080275 ,\n",
       "          -0.45358545,   1.6153443 ],\n",
       "        ...,\n",
       "        [ 13.46842   ,  18.863384  , -18.73524   , ...,   1.1708719 ,\n",
       "          -0.6986118 ,   3.6770833 ],\n",
       "        [ 14.6563    ,  20.7442    , -20.011349  , ...,   0.2428158 ,\n",
       "           0.6647752 ,   5.0775056 ],\n",
       "        [ 12.761523  ,  22.217999  , -18.061956  , ...,   1.6943154 ,\n",
       "           1.7126012 ,   1.1013478 ]], dtype=float32),\n",
       " array([[ 17.331291  ,  21.663704  , -16.61046   , ...,  -1.3538293 ,\n",
       "          -1.195785  ,   3.6567557 ],\n",
       "        [ 13.604808  ,  19.263348  , -18.906004  , ...,  -1.5352652 ,\n",
       "          -1.7333903 ,   2.9897861 ],\n",
       "        [ 13.003295  ,  20.906     , -19.487087  , ...,  -0.9551637 ,\n",
       "           1.0470172 ,   3.1477325 ],\n",
       "        ...,\n",
       "        [ 16.931332  ,  17.546858  , -22.001263  , ...,   1.2963595 ,\n",
       "          -1.6775687 ,   1.859392  ],\n",
       "        [ 16.242308  ,  17.844185  , -21.918262  , ...,  -0.30310056,\n",
       "          -0.19599724,   2.110997  ],\n",
       "        [ 17.697815  ,  19.177895  , -20.398928  , ...,  -1.7140658 ,\n",
       "           0.2512364 ,   2.121275  ]], dtype=float32),\n",
       " array([[ 16.462872  ,  17.629456  , -22.854872  , ...,  -1.2499096 ,\n",
       "          -0.10230449,   1.2375789 ],\n",
       "        [ 16.419079  ,  16.845242  , -19.924751  , ...,  -1.3237402 ,\n",
       "           1.0574647 ,   2.0701075 ],\n",
       "        [ 17.639997  ,  17.146778  , -20.152857  , ...,  -2.619895  ,\n",
       "          -1.3042771 ,  -2.544406  ],\n",
       "        ...,\n",
       "        [ 14.998541  ,  17.842686  , -19.491837  , ...,   1.0912312 ,\n",
       "          -1.1420661 ,  -4.957693  ],\n",
       "        [ 16.47536   ,  16.545769  , -21.046259  , ...,  -0.4125807 ,\n",
       "          -2.3519123 ,  -3.834613  ],\n",
       "        [ 15.280669  ,  18.296288  , -20.082804  , ...,   0.1606071 ,\n",
       "          -1.759672  ,  -1.524015  ]], dtype=float32),\n",
       " array([[ 14.231201  ,  18.784771  , -21.108692  , ...,  -1.7390549 ,\n",
       "          -0.36457863,  -4.9213634 ],\n",
       "        [ 15.532597  ,  18.11177   , -22.0042    , ...,   0.2848571 ,\n",
       "          -1.1021034 ,  -3.2546842 ],\n",
       "        [ 16.053179  ,  19.496828  , -22.679745  , ...,   1.081387  ,\n",
       "          -1.5285317 ,  -5.586742  ],\n",
       "        ...,\n",
       "        [ 17.185987  ,  18.770231  , -18.137295  , ...,   1.341916  ,\n",
       "           0.9781781 ,   0.03824889],\n",
       "        [ 15.880591  ,  19.494604  , -18.074398  , ...,   1.1384183 ,\n",
       "           1.6548364 ,   1.0833228 ],\n",
       "        [ 14.277628  ,  16.758774  , -17.348019  , ...,   2.6619966 ,\n",
       "           3.8092387 ,  -0.29787183]], dtype=float32),\n",
       " array([[ 15.32445   ,  16.820894  , -14.7564335 , ...,   1.4106392 ,\n",
       "           2.4832869 ,   1.9606059 ],\n",
       "        [ 14.733577  ,  17.833683  , -18.270405  , ...,   0.81711954,\n",
       "           1.8074925 ,  -0.23424064],\n",
       "        [ 15.83388   ,  16.740223  , -17.477877  , ...,   1.5524696 ,\n",
       "           1.6709499 ,   0.08469306],\n",
       "        ...,\n",
       "        [ 16.607887  ,  18.850098  , -21.66203   , ...,  -0.94039136,\n",
       "           0.87379974,  -1.0693318 ],\n",
       "        [ 15.490354  ,  16.814974  , -19.02706   , ...,  -3.7708125 ,\n",
       "           1.388744  ,  -2.102606  ],\n",
       "        [ 13.538569  ,  17.292324  , -20.154123  , ...,  -0.61337507,\n",
       "          -0.86530006,  -0.10357062]], dtype=float32),\n",
       " array([[ 15.487289  ,  16.796202  , -21.267958  , ...,  -0.5154734 ,\n",
       "           0.15885411,  -0.5036059 ],\n",
       "        [ 13.97208   ,  16.657688  , -21.259579  , ...,  -0.9794018 ,\n",
       "           1.646104  ,   1.5085224 ],\n",
       "        [ 15.691617  ,  18.315155  , -19.572206  , ...,  -1.4428898 ,\n",
       "          -1.7692511 ,  -1.0992787 ],\n",
       "        ...,\n",
       "        [ 15.136802  ,  18.79232   , -19.52763   , ...,  -1.9541973 ,\n",
       "          -0.89432544,  -2.1568837 ],\n",
       "        [ 15.837193  ,  17.880672  , -20.030756  , ...,  -2.0616088 ,\n",
       "          -0.10995138,  -0.94771826],\n",
       "        [ 16.814419  ,  19.637056  , -20.6772    , ...,   1.2426927 ,\n",
       "           1.344738  ,   0.20267496]], dtype=float32),\n",
       " array([[ 15.639304  ,  19.197134  , -20.912228  , ...,  -0.7765296 ,\n",
       "           0.59157294,  -2.772036  ],\n",
       "        [ 14.895596  ,  18.629652  , -20.160404  , ...,  -1.0428603 ,\n",
       "           2.3232355 ,  -2.6642408 ],\n",
       "        [ 15.701157  ,  18.607454  , -18.347542  , ...,  -1.8457296 ,\n",
       "           0.53703654,  -1.630446  ],\n",
       "        ...,\n",
       "        [ 12.518796  ,  17.544146  , -22.20244   , ...,   0.83832514,\n",
       "           1.7030652 ,   1.5264996 ],\n",
       "        [ 14.148446  ,  16.941568  , -23.275095  , ...,  -1.6000167 ,\n",
       "           4.0043817 ,  -0.47033697],\n",
       "        [ 14.548887  ,  16.320137  , -15.527723  , ...,   4.4698124 ,\n",
       "           1.7260877 ,   0.8071758 ]], dtype=float32),\n",
       " array([[ 12.893835  ,  17.477112  , -21.940565  , ...,   2.3244488 ,\n",
       "           1.4648162 ,  -1.3460428 ],\n",
       "        [ 12.742289  ,  17.659407  , -21.339327  , ...,   0.97210485,\n",
       "           1.5054392 ,   3.1193292 ],\n",
       "        [ 16.532782  ,  14.5429125 , -22.137215  , ...,   0.2510536 ,\n",
       "           3.299881  ,   4.17531   ],\n",
       "        ...,\n",
       "        [ 17.233345  ,  16.034159  , -19.900356  , ...,  -0.9196773 ,\n",
       "           0.13191746,   1.645214  ],\n",
       "        [ 15.420316  ,  17.160618  , -21.85895   , ...,  -0.17315328,\n",
       "           0.3226812 ,   1.6436565 ],\n",
       "        [ 17.874079  ,  18.509672  , -24.972044  , ...,   0.53504694,\n",
       "           1.1074163 ,   1.9023973 ]], dtype=float32),\n",
       " array([[ 16.588308  ,  17.506466  , -24.412786  , ...,  -0.3899332 ,\n",
       "          -2.497787  ,   2.9345934 ],\n",
       "        [ 15.558248  ,  14.592729  , -24.202581  , ...,  -0.9941288 ,\n",
       "          -0.33672425,   0.36506787],\n",
       "        [ 16.646677  ,  20.801062  , -23.734798  , ...,  -0.33250085,\n",
       "          -2.681592  ,   2.6154726 ],\n",
       "        ...,\n",
       "        [ 16.02729   ,  16.161964  , -24.297731  , ...,   2.8223982 ,\n",
       "           3.7450562 ,  -0.36164442],\n",
       "        [ 16.837042  ,  16.610033  , -23.055185  , ...,  -0.11565664,\n",
       "           4.7830377 ,   0.8593155 ],\n",
       "        [ 16.562271  ,  15.3465805 , -24.499666  , ...,   0.45739558,\n",
       "           4.9082904 ,   1.1902332 ]], dtype=float32),\n",
       " array([[ 16.10761   ,  17.207237  , -24.092094  , ...,  -1.760502  ,\n",
       "           3.4967399 ,   1.3136652 ],\n",
       "        [ 16.63287   ,  16.6639    , -25.146103  , ...,   0.23282792,\n",
       "           1.6595551 ,   2.1078432 ],\n",
       "        [ 17.402502  ,  15.608284  , -24.441175  , ...,  -0.9728539 ,\n",
       "           3.0912514 ,   1.7295381 ],\n",
       "        ...,\n",
       "        [ 17.173012  ,  16.608965  , -24.283192  , ...,   2.111759  ,\n",
       "           1.132928  ,  -2.3231034 ],\n",
       "        [ 17.371832  ,  17.547014  , -24.33043   , ...,   1.925436  ,\n",
       "          -0.31548855,  -1.5156337 ],\n",
       "        [ 15.659106  ,  16.94429   , -23.96748   , ...,   3.9663455 ,\n",
       "          -1.4989269 ,  -0.62160516]], dtype=float32),\n",
       " array([[ 20.303892  ,  15.771878  , -19.029018  , ...,   0.7736478 ,\n",
       "          -0.8619404 ,  -3.4804077 ],\n",
       "        [ 17.06579   ,  15.093224  , -26.011284  , ...,   1.7648548 ,\n",
       "           1.3230919 ,  -2.7762089 ],\n",
       "        [ 16.72601   ,  13.876397  , -21.144117  , ...,   1.3895092 ,\n",
       "           1.903095  ,  -2.384102  ],\n",
       "        ...,\n",
       "        [ 14.91184   ,  16.0357    , -24.75333   , ...,   1.4730393 ,\n",
       "           0.48983333,  -4.102985  ],\n",
       "        [ 17.18489   ,  16.390947  , -25.298693  , ...,   0.53778744,\n",
       "           3.0692036 ,  -3.0632346 ],\n",
       "        [ 17.950575  ,  15.992824  , -23.926598  , ...,   1.2175214 ,\n",
       "           0.14189176,  -3.6195726 ]], dtype=float32),\n",
       " array([[ 16.355673  ,  14.275381  , -23.589352  , ...,   3.5205028 ,\n",
       "           1.7077538 ,  -2.971654  ],\n",
       "        [ 16.622335  ,  17.043638  , -24.139854  , ...,  -0.6586101 ,\n",
       "           2.3095982 ,  -0.90055776],\n",
       "        [ 14.095178  ,  14.983445  , -24.077793  , ...,   1.9483125 ,\n",
       "           1.5480032 ,  -3.2263172 ],\n",
       "        ...,\n",
       "        [ 12.429552  ,  14.138068  , -20.044622  , ...,  -0.37867895,\n",
       "          -0.10357634,   1.1449976 ],\n",
       "        [ 14.53449   ,  16.063557  , -20.070688  , ...,  -1.7575673 ,\n",
       "          -1.2370323 ,   1.7531883 ],\n",
       "        [ 13.138603  ,  11.949606  , -18.188301  , ...,  -2.3825002 ,\n",
       "          -2.279381  ,   2.0634243 ]], dtype=float32),\n",
       " array([[ 12.654931  ,  13.675795  , -20.357035  , ...,  -3.1219985 ,\n",
       "          -1.105255  ,   2.9342713 ],\n",
       "        [ 14.082449  ,  13.090661  , -20.563932  , ...,  -2.3284698 ,\n",
       "           0.41399962,   5.1055307 ],\n",
       "        [ 13.182742  ,  13.785893  , -22.084467  , ...,  -4.154845  ,\n",
       "          -1.4208548 ,   2.8020167 ],\n",
       "        ...,\n",
       "        [ 15.31131   ,  14.615417  , -26.071653  , ...,  -1.9847186 ,\n",
       "          -2.5082333 ,  -0.04761489],\n",
       "        [ 17.100271  ,  16.784073  , -26.322926  , ...,  -0.40923515,\n",
       "          -3.7681944 ,  -2.1090112 ],\n",
       "        [ 15.497981  ,  17.484793  , -26.538025  , ...,  -0.08239382,\n",
       "          -2.54486   ,   0.17735314]], dtype=float32),\n",
       " array([[ 16.848198  ,  16.777935  , -25.826572  , ...,  -0.98159534,\n",
       "          -2.7263136 ,  -2.3261557 ],\n",
       "        [ 14.548799  ,  18.253263  , -26.151508  , ...,  -2.8493378 ,\n",
       "          -2.2027192 ,   0.97419876],\n",
       "        [ 14.979042  ,  19.412994  , -25.252327  , ...,  -3.3511624 ,\n",
       "          -1.5628023 ,  -1.8873508 ],\n",
       "        ...,\n",
       "        [ 16.867847  ,  15.457774  , -22.84523   , ...,   0.43045712,\n",
       "           0.583788  ,  -1.4147836 ],\n",
       "        [ 16.636808  ,  13.799927  , -22.13681   , ...,  -1.4144471 ,\n",
       "          -1.3945409 ,  -6.6316624 ],\n",
       "        [ 17.173006  ,  16.061838  , -23.583889  , ...,   1.6648982 ,\n",
       "          -2.6027417 ,  -5.8586316 ]], dtype=float32),\n",
       " array([[ 16.816763  ,  14.162997  , -21.468813  , ...,  -0.915547  ,\n",
       "          -3.2600658 ,  -1.9320146 ],\n",
       "        [ 15.119095  ,  14.187047  , -23.182304  , ...,  -1.7062392 ,\n",
       "          -2.7834811 ,  -2.0012689 ],\n",
       "        [ 16.172113  ,  15.749039  , -23.44475   , ...,   1.5472217 ,\n",
       "          -1.1175183 ,  -0.61310023],\n",
       "        ...,\n",
       "        [ 12.946103  ,  16.43358   , -21.160927  , ...,  -0.42398056,\n",
       "          -0.44388402,   1.936086  ],\n",
       "        [ 13.903076  ,  18.50223   , -21.410316  , ...,  -1.5737294 ,\n",
       "          -2.9777808 ,   2.0203507 ],\n",
       "        [ 13.731069  ,  15.9216    , -22.12835   , ...,  -2.1671329 ,\n",
       "           0.12129483,  -1.6873562 ]], dtype=float32),\n",
       " array([[ 13.858934  ,  16.242777  , -22.237152  , ...,  -1.32433   ,\n",
       "          -1.9625986 ,   0.9525559 ],\n",
       "        [ 16.273485  ,  15.782467  , -22.76918   , ...,  -2.6024094 ,\n",
       "          -0.3050747 ,   0.7773812 ],\n",
       "        [ 16.7797    ,  15.137662  , -19.579258  , ...,  -3.1577542 ,\n",
       "          -1.140951  ,  -0.07126372],\n",
       "        ...,\n",
       "        [ 13.887439  ,  11.733213  , -21.968483  , ...,   0.39969406,\n",
       "          -1.421145  ,  -0.7659262 ],\n",
       "        [ 14.295071  ,  13.881166  , -22.552042  , ...,  -0.7342073 ,\n",
       "          -5.4531116 ,   0.97104996],\n",
       "        [ 14.150825  ,  14.604548  , -23.528791  , ...,   0.8808092 ,\n",
       "          -3.51199   ,   0.44309673]], dtype=float32),\n",
       " array([[ 14.022038  ,  12.323157  , -20.087011  , ...,  -0.3114132 ,\n",
       "          -1.8142744 ,  -1.9010152 ],\n",
       "        [ 16.175404  ,  12.903243  , -22.306026  , ...,   1.5576562 ,\n",
       "          -3.302476  ,   1.831171  ],\n",
       "        [ 13.972767  ,  14.186126  , -23.515911  , ...,   2.0984821 ,\n",
       "           0.34930697,   1.096491  ],\n",
       "        ...,\n",
       "        [ 14.392453  ,  15.702495  , -23.687307  , ...,   1.1676056 ,\n",
       "          -0.41183522,  -2.5086572 ],\n",
       "        [ 12.527041  ,  11.53852   , -23.473667  , ...,   0.18052863,\n",
       "           0.2883839 ,  -2.3755279 ],\n",
       "        [ 12.588478  ,  11.949529  , -24.24937   , ...,   1.4160833 ,\n",
       "           1.2634375 ,  -1.5521541 ]], dtype=float32),\n",
       " array([[ 14.828902  ,  12.636749  , -23.76439   , ...,  -1.6448458 ,\n",
       "          -1.0385773 ,  -1.807346  ],\n",
       "        [ 16.963581  ,  16.901043  , -22.593746  , ...,   0.91111904,\n",
       "          -0.9117854 ,  -2.2484994 ],\n",
       "        [ 15.107652  ,  14.236498  , -21.748905  , ...,  -2.3892586 ,\n",
       "           2.6733396 ,  -0.82469493],\n",
       "        ...,\n",
       "        [-34.488586  ,  62.367794  ,   7.4429626 , ...,  -7.751847  ,\n",
       "          -1.8721739 ,  -1.6250176 ],\n",
       "        [-38.321213  ,  63.81782   ,   6.128683  , ...,  -5.04254   ,\n",
       "           0.65110207,  -1.2845362 ],\n",
       "        [-35.519703  ,  68.09474   ,   4.3918395 , ...,  -5.6132517 ,\n",
       "          -1.3888421 ,  -1.4035715 ]], dtype=float32),\n",
       " array([[-36.81468   ,  62.728783  ,   5.301761  , ...,  -0.8853581 ,\n",
       "           0.8012822 ,  -0.8779834 ],\n",
       "        [-33.063953  ,  63.00352   ,   7.9904375 , ...,  -9.2848425 ,\n",
       "          -0.30525357,   1.011515  ],\n",
       "        [-40.988197  ,  67.77322   ,   4.912399  , ...,   0.5861934 ,\n",
       "           0.6913853 ,   0.63686794],\n",
       "        ...,\n",
       "        [-61.5265    ,  52.078117  ,   4.428817  , ...,  -3.3355062 ,\n",
       "           4.908843  ,  -2.9151297 ],\n",
       "        [-60.372055  ,  53.16586   ,   5.4510975 , ...,  -5.6050744 ,\n",
       "           2.2095757 ,  -0.89318866],\n",
       "        [-63.84199   ,  55.041058  ,   6.7357903 , ...,  -4.6939673 ,\n",
       "           7.041204  ,  -1.2942599 ]], dtype=float32),\n",
       " array([[-5.8226425e+01,  5.3679550e+01,  6.4111333e+00, ...,\n",
       "         -3.1446118e+00,  1.5323151e+00,  1.2085156e+00],\n",
       "        [-6.0298481e+01,  5.2386417e+01,  6.7248502e+00, ...,\n",
       "         -6.6610346e+00,  5.1390376e+00,  2.6331345e-02],\n",
       "        [-6.3740479e+01,  5.2673733e+01,  6.8806295e+00, ...,\n",
       "         -5.2230458e+00,  4.1692014e+00, -1.8023802e+00],\n",
       "        ...,\n",
       "        [-9.8647797e+01,  7.4716942e+01,  1.6934113e+01, ...,\n",
       "         -3.2623351e-01, -1.0922621e+01, -1.1593390e-01],\n",
       "        [-9.2527168e+01,  6.9582413e+01,  1.9724556e+01, ...,\n",
       "         -5.0233779e+00, -8.1482363e+00, -1.1757675e+00],\n",
       "        [-8.9317581e+01,  6.8584885e+01,  1.8958967e+01, ...,\n",
       "         -5.8200512e+00, -6.0550299e+00, -1.0414226e+00]], dtype=float32),\n",
       " array([[ -91.49051   ,   73.73909   ,   25.103495  , ...,   -1.3130752 ,\n",
       "           -5.19461   ,   -1.8461226 ],\n",
       "        [ -96.26424   ,   75.806335  ,   23.240633  , ...,   -1.5134485 ,\n",
       "           -3.7492504 ,   -0.6109936 ],\n",
       "        [ -90.9264    ,   70.40435   ,   22.214214  , ...,   -2.9041123 ,\n",
       "           -5.0221777 ,   -2.9966528 ],\n",
       "        ...,\n",
       "        [-128.491     ,  103.21629   ,   30.323465  , ...,    4.3761697 ,\n",
       "            4.9879375 ,   -0.3529156 ],\n",
       "        [-126.40034   ,  102.179825  ,   29.662842  , ...,    4.2013087 ,\n",
       "            1.6953046 ,   -0.21424545],\n",
       "        [-118.94453   ,   94.33403   ,   26.656544  , ...,    3.854397  ,\n",
       "            3.1313727 ,   -2.0467703 ]], dtype=float32),\n",
       " array([[-131.81227   ,  102.55622   ,   30.963335  , ...,    6.3578606 ,\n",
       "            1.7656082 ,   -3.8765335 ],\n",
       "        [-127.21086   ,  102.12318   ,   28.52815   , ...,    7.932502  ,\n",
       "            3.5842404 ,   -1.1492821 ],\n",
       "        [-131.07837   ,  101.558304  ,   31.486336  , ...,    7.873742  ,\n",
       "            3.1773703 ,   -0.46972862],\n",
       "        ...,\n",
       "        [-115.04573   ,   89.322395  ,   28.543709  , ...,    1.0052811 ,\n",
       "            1.1837708 ,   -3.907212  ],\n",
       "        [-112.986626  ,   86.874855  ,   23.451466  , ...,   -0.5935135 ,\n",
       "            0.3857908 ,   -0.13831018],\n",
       "        [-110.95133   ,   84.95183   ,   27.38036   , ...,   -1.889236  ,\n",
       "            0.74920154,   -2.4742541 ]], dtype=float32),\n",
       " array([[-114.67334   ,   89.94721   ,   26.09658   , ...,   -3.791538  ,\n",
       "           -0.49937373,   -1.8585905 ],\n",
       "        [-114.012474  ,   86.272484  ,   27.697792  , ...,   -1.9595726 ,\n",
       "           -2.1439884 ,   -2.560336  ],\n",
       "        [-112.488716  ,   86.41402   ,   26.725868  , ...,    2.113932  ,\n",
       "           -1.8482465 ,   -1.9674797 ],\n",
       "        ...,\n",
       "        [-124.81227   ,  104.89647   ,   35.211853  , ...,   -1.8205198 ,\n",
       "           -3.0060322 ,   -3.3916006 ],\n",
       "        [-123.28583   ,  101.69952   ,   34.044712  , ...,   -3.9281256 ,\n",
       "           -2.4211264 ,   -3.6830015 ],\n",
       "        [-125.79874   ,  103.393776  ,   35.406124  , ...,   -1.0530552 ,\n",
       "            1.5281895 ,   -3.1961732 ]], dtype=float32),\n",
       " array([[-1.21830414e+02,  9.95778732e+01,  3.48081436e+01, ...,\n",
       "         -3.88689828e+00, -2.29836702e+00, -6.05565739e+00],\n",
       "        [-1.26733032e+02,  1.04480347e+02,  4.10495033e+01, ...,\n",
       "         -1.89180720e+00, -9.25002933e-01, -6.82985926e+00],\n",
       "        [-1.25525970e+02,  1.02128334e+02,  3.39711380e+01, ...,\n",
       "         -2.29935884e+00, -3.57045770e+00, -4.52396488e+00],\n",
       "        ...,\n",
       "        [-1.20081184e+02,  9.73246002e+01,  3.06051197e+01, ...,\n",
       "          4.52282858e+00, -1.07459210e-01,  2.50536704e+00],\n",
       "        [-1.18972092e+02,  9.60590820e+01,  3.35480042e+01, ...,\n",
       "          3.36283755e+00,  2.99788761e+00,  6.73318446e-01],\n",
       "        [-1.21481293e+02,  9.67377548e+01,  3.20835838e+01, ...,\n",
       "          5.36488342e+00, -9.38013554e-01,  9.09721911e-01]], dtype=float32),\n",
       " array([[-1.20491531e+02,  9.90299683e+01,  3.53394814e+01, ...,\n",
       "         -6.85781464e-02, -1.23391724e+00,  1.55150509e+00],\n",
       "        [-1.22671928e+02,  1.01668411e+02,  3.21122284e+01, ...,\n",
       "          7.28067696e-01,  1.22985017e+00,  3.94345582e-01],\n",
       "        [-1.20985458e+02,  9.75676422e+01,  3.29244041e+01, ...,\n",
       "          1.50486124e+00,  1.69534421e+00,  1.42030847e+00],\n",
       "        ...,\n",
       "        [-1.21234306e+02,  9.40639572e+01,  2.98872890e+01, ...,\n",
       "         -6.41592443e-02, -1.98644447e+00,  1.76853514e+00],\n",
       "        [-1.21421776e+02,  9.70119858e+01,  3.12849121e+01, ...,\n",
       "         -1.11932421e+00,  1.96346188e+00,  3.52370596e+00],\n",
       "        [-1.20650917e+02,  8.92105408e+01,  2.94155045e+01, ...,\n",
       "         -2.12754035e+00, -1.60406813e-01,  3.06745362e+00]], dtype=float32)]"
      ]
     },
     "execution_count": 167,
     "metadata": {},
     "output_type": "execute_result"
    }
   ],
   "source": [
    "# Success\n",
    "# you can now plot this and cluster this\n",
    "tica_output"
   ]
  },
  {
   "cell_type": "code",
   "execution_count": 170,
   "id": "d8178f68",
   "metadata": {},
   "outputs": [
    {
     "data": {
      "text/plain": [
       "Text(0, 0.5, 'IC 2')"
      ]
     },
     "execution_count": 170,
     "metadata": {},
     "output_type": "execute_result"
    },
    {
     "data": {
      "image/png": "[encoded data removed]",
      "text/plain": [
       "<Figure size 432x288 with 2 Axes>"
      ]
     },
     "metadata": {
      "needs_background": "light"
     },
     "output_type": "display_data"
    }
   ],
   "source": [
    "# let's make a nice plot because we can\n",
    "from pyemma.plots import plot_density\n",
    "\n",
    "cat_output = np.concatenate(tica_output)\n",
    "\n",
    "fig, ax, cb = plot_density(cat_output[:,0], cat_output[:,1])\n",
    "ax.set_xlabel('IC 1', fontsize=16)\n",
    "ax.set_ylabel('IC 2', fontsize=16)"
   ]
  },
  {
   "cell_type": "markdown",
   "id": "12433918",
   "metadata": {},
   "source": [
    "Everything done so far could also be done with sparse tica (avialable in MSMBuilder)\n",
    "\n",
    "One downside of Tica and Sparse Tica is that they require N_features^3 memory. Sparse Tica makes the full covariance matrix then kicks features out to find a sparse solution. Nystrom tica builds the covariance matrix a little bit at a time and should in theory be able to handle more features.\n",
    "\n",
    "Regular tica will crash on this computer (with 128 GB of RAM) at ~9000 features. Let's see how high Nystrom tica can go"
   ]
  },
  {
   "cell_type": "markdown",
   "id": "be49120b",
   "metadata": {},
   "source": [
    "# Warning!! The next section may crash your computer, save anything important, and procede at your own risk ... or better yet just look at my results and don't do this"
   ]
  },
  {
   "cell_type": "code",
   "execution_count": 174,
   "id": "0d76f132",
   "metadata": {},
   "outputs": [
    {
     "data": {
      "application/vnd.jupyter.widget-view+json": {
       "model_id": "ab0998c2d2bb46049fe62832ed1cbcdf",
       "version_major": 2,
       "version_minor": 0
      },
      "text/plain": [
       "HBox(children=(IntProgress(value=0, description='Obtaining file info', layout=Layout(flex='2'), style=Progress…"
      ]
     },
     "metadata": {},
     "output_type": "display_data"
    },
    {
     "name": "stdout",
     "output_type": "stream",
     "text": [
      "\r"
     ]
    },
    {
     "data": {
      "application/vnd.jupyter.widget-view+json": {
       "model_id": "eb39123311294fac8c40c2ab7d457eba",
       "version_major": 2,
       "version_minor": 0
      },
      "text/plain": [
       "HBox(children=(IntProgress(value=0, description='getting output of FeatureReader', layout=Layout(flex='2'), st…"
      ]
     },
     "metadata": {},
     "output_type": "display_data"
    },
    {
     "name": "stdout",
     "output_type": "stream",
     "text": [
      "\r"
     ]
    }
   ],
   "source": [
    "# Let's use pairwize CA distances\n",
    "traj_num = [f'{i:04d}' for i in range(100)] \n",
    "traj_path = '/../DESRES-Trajectory_sarscov2-10880334-no-water-no-ion-glueCA/sarscov2-10880334-no-water-no-ion-glueCA/sarscov2-10880334-no-water-no-ion-glueCA-'\n",
    "traj_list = [ data_path + traj_path + str(i) + '.dcd' for i in traj_num]\n",
    "\n",
    "feat = coor.featurizer(pdb)\n",
    "feat.add_distances(feat.pairs(feat.select('name == CA and chainid == 0'), excluded_neighbors=3))\n",
    "traj = coor.load(traj_list, feat, stride=5)\n",
    "traj_cat = np.concatenate(traj)"
   ]
  },
  {
   "cell_type": "code",
   "execution_count": 187,
   "id": "f73b9b2e",
   "metadata": {},
   "outputs": [
    {
     "data": {
      "application/vnd.jupyter.widget-view+json": {
       "model_id": "9c30c7cc52e04694aec1e7bab9cc2ae6",
       "version_major": 2,
       "version_minor": 0
      },
      "text/plain": [
       "HBox(children=(IntProgress(value=0, description='Obtaining file info', layout=Layout(flex='2'), style=Progress…"
      ]
     },
     "metadata": {},
     "output_type": "display_data"
    },
    {
     "name": "stdout",
     "output_type": "stream",
     "text": [
      "\r"
     ]
    }
   ],
   "source": [
    "# working with source also helps minimize RAM usage\n",
    "# NOTE: I later find out that source does not imporve anyting\n",
    "#  since Nystrom tica needs all data in memory.\n",
    "traj_source = coor.source(traj_list, feat, stride=5)"
   ]
  },
  {
   "cell_type": "code",
   "execution_count": 177,
   "id": "fa65fe75",
   "metadata": {},
   "outputs": [
    {
     "data": {
      "text/plain": [
       "(200, 46665)"
      ]
     },
     "execution_count": 177,
     "metadata": {},
     "output_type": "execute_result"
    }
   ],
   "source": [
    "# 46,000 distances !!!\n",
    "traj[0].shape"
   ]
  },
  {
   "cell_type": "code",
   "execution_count": 178,
   "id": "bd3cfb0c",
   "metadata": {},
   "outputs": [],
   "source": [
    "# Let's start with 15,000\n",
    "data_15 = [i[:,:15000] for i in traj]"
   ]
  },
  {
   "cell_type": "code",
   "execution_count": 179,
   "id": "e6e70a60",
   "metadata": {},
   "outputs": [
    {
     "data": {
      "application/vnd.jupyter.widget-view+json": {
       "model_id": "8ccd24ce75a64214bb3724cd7584250a",
       "version_major": 2,
       "version_minor": 0
      },
      "text/plain": [
       "HBox(children=(IntProgress(value=0, description='calculate covariances', layout=Layout(flex='2'), style=Progre…"
      ]
     },
     "metadata": {},
     "output_type": "display_data"
    },
    {
     "name": "stdout",
     "output_type": "stream",
     "text": [
      "\r"
     ]
    },
    {
     "data": {
      "application/vnd.jupyter.widget-view+json": {
       "model_id": "46f950ba74564b8986d3dcb6e6275585",
       "version_major": 2,
       "version_minor": 0
      },
      "text/plain": [
       "HBox(children=(IntProgress(value=0, description='calculate covariances', layout=Layout(flex='2'), style=Progre…"
      ]
     },
     "metadata": {},
     "output_type": "display_data"
    },
    {
     "name": "stdout",
     "output_type": "stream",
     "text": [
      "\r"
     ]
    },
    {
     "data": {
      "application/vnd.jupyter.widget-view+json": {
       "model_id": "d9e8b6677fc8445c86d218eb239523d8",
       "version_major": 2,
       "version_minor": 0
      },
      "text/plain": [
       "HBox(children=(IntProgress(value=0, description='calculate covariances', layout=Layout(flex='2'), style=Progre…"
      ]
     },
     "metadata": {},
     "output_type": "display_data"
    },
    {
     "name": "stdout",
     "output_type": "stream",
     "text": [
      "\r"
     ]
    },
    {
     "data": {
      "application/vnd.jupyter.widget-view+json": {
       "model_id": "277574d5b0204a57819a9f408caecd53",
       "version_major": 2,
       "version_minor": 0
      },
      "text/plain": [
       "HBox(children=(IntProgress(value=0, description='calculate covariances', layout=Layout(flex='2'), style=Progre…"
      ]
     },
     "metadata": {},
     "output_type": "display_data"
    },
    {
     "name": "stdout",
     "output_type": "stream",
     "text": [
      "\r"
     ]
    },
    {
     "data": {
      "application/vnd.jupyter.widget-view+json": {
       "model_id": "ecf9574bb4e241d98b70b94b1f8bfbcc",
       "version_major": 2,
       "version_minor": 0
      },
      "text/plain": [
       "HBox(children=(IntProgress(value=0, description='calculate covariances', layout=Layout(flex='2'), style=Progre…"
      ]
     },
     "metadata": {},
     "output_type": "display_data"
    },
    {
     "name": "stdout",
     "output_type": "stream",
     "text": [
      "\r"
     ]
    },
    {
     "data": {
      "application/vnd.jupyter.widget-view+json": {
       "model_id": "bbd2a54f29d242a789458293003be3f4",
       "version_major": 2,
       "version_minor": 0
      },
      "text/plain": [
       "HBox(children=(IntProgress(value=0, description='calculate covariances', layout=Layout(flex='2'), style=Progre…"
      ]
     },
     "metadata": {},
     "output_type": "display_data"
    },
    {
     "name": "stdout",
     "output_type": "stream",
     "text": [
      "\r"
     ]
    },
    {
     "data": {
      "application/vnd.jupyter.widget-view+json": {
       "model_id": "45a5f45f28704b77826160ed8868eb02",
       "version_major": 2,
       "version_minor": 0
      },
      "text/plain": [
       "HBox(children=(IntProgress(value=0, description='calculate covariances', layout=Layout(flex='2'), style=Progre…"
      ]
     },
     "metadata": {},
     "output_type": "display_data"
    },
    {
     "name": "stdout",
     "output_type": "stream",
     "text": [
      "\r"
     ]
    },
    {
     "data": {
      "application/vnd.jupyter.widget-view+json": {
       "model_id": "11bdbfae87374e6fbe157a3ce6817751",
       "version_major": 2,
       "version_minor": 0
      },
      "text/plain": [
       "HBox(children=(IntProgress(value=0, description='calculate covariances', layout=Layout(flex='2'), style=Progre…"
      ]
     },
     "metadata": {},
     "output_type": "display_data"
    },
    {
     "name": "stdout",
     "output_type": "stream",
     "text": [
      "\r"
     ]
    },
    {
     "data": {
      "application/vnd.jupyter.widget-view+json": {
       "model_id": "cbd07ae7208c4e8c9bb1a3e5931bdf28",
       "version_major": 2,
       "version_minor": 0
      },
      "text/plain": [
       "HBox(children=(IntProgress(value=0, description='calculate covariances', layout=Layout(flex='2'), style=Progre…"
      ]
     },
     "metadata": {},
     "output_type": "display_data"
    },
    {
     "name": "stdout",
     "output_type": "stream",
     "text": [
      "This took 1342.0 seconds\n"
     ]
    }
   ],
   "source": [
    "# Let's see what happens\n",
    "start = time.time()\n",
    "Ntica_big = coor.tica_nystroem(max_columns=700, data=data_15, lag=15, nsel=100)\n",
    "end = time.time()\n",
    "print(f'This took {np.round(end-start)} seconds')"
   ]
  },
  {
   "cell_type": "code",
   "execution_count": 182,
   "id": "39f0380b",
   "metadata": {},
   "outputs": [
    {
     "name": "stdout",
     "output_type": "stream",
     "text": [
      "This took 22.0 minutes\n"
     ]
    }
   ],
   "source": [
    "print(f'This took {np.round((end-start)/60)} minutes')"
   ]
  },
  {
   "cell_type": "code",
   "execution_count": 186,
   "id": "d373f110",
   "metadata": {},
   "outputs": [
    {
     "name": "stdout",
     "output_type": "stream",
     "text": [
      "02-09-21 10:46:21 pyemma.coordinates.transform.nystroem_tica.NystroemTICA[245] WARNING  Every iteration of the selection process involves streaming of all data and featurization. Depending on your setup, this might be inefficient.\n"
     ]
    },
    {
     "data": {
      "application/vnd.jupyter.widget-view+json": {
       "model_id": "508ae9a90e2b410fbabff4874e0146d8",
       "version_major": 2,
       "version_minor": 0
      },
      "text/plain": [
       "HBox(children=(IntProgress(value=0, description='calculate covariances', layout=Layout(flex='2'), style=Progre…"
      ]
     },
     "metadata": {},
     "output_type": "display_data"
    },
    {
     "name": "stdout",
     "output_type": "stream",
     "text": [
      "\r"
     ]
    },
    {
     "data": {
      "application/vnd.jupyter.widget-view+json": {
       "model_id": "89e8ce270fb14f16b14d1f65e16c1307",
       "version_major": 2,
       "version_minor": 0
      },
      "text/plain": [
       "HBox(children=(IntProgress(value=0, description='calculate covariances', layout=Layout(flex='2'), style=Progre…"
      ]
     },
     "metadata": {},
     "output_type": "display_data"
    },
    {
     "name": "stdout",
     "output_type": "stream",
     "text": [
      "\r"
     ]
    },
    {
     "data": {
      "application/vnd.jupyter.widget-view+json": {
       "model_id": "6c7c444612de40b5bc6350217b7bb435",
       "version_major": 2,
       "version_minor": 0
      },
      "text/plain": [
       "HBox(children=(IntProgress(value=0, description='calculate covariances', layout=Layout(flex='2'), style=Progre…"
      ]
     },
     "metadata": {},
     "output_type": "display_data"
    },
    {
     "name": "stdout",
     "output_type": "stream",
     "text": [
      "\r"
     ]
    },
    {
     "data": {
      "application/vnd.jupyter.widget-view+json": {
       "model_id": "c1f22c820b3b4fc181644e2f988d0162",
       "version_major": 2,
       "version_minor": 0
      },
      "text/plain": [
       "HBox(children=(IntProgress(value=0, description='calculate covariances', layout=Layout(flex='2'), style=Progre…"
      ]
     },
     "metadata": {},
     "output_type": "display_data"
    },
    {
     "name": "stdout",
     "output_type": "stream",
     "text": [
      "\r"
     ]
    },
    {
     "data": {
      "application/vnd.jupyter.widget-view+json": {
       "model_id": "c80b722106ca4346a6c1f467bc0eb39d",
       "version_major": 2,
       "version_minor": 0
      },
      "text/plain": [
       "HBox(children=(IntProgress(value=0, description='calculate covariances', layout=Layout(flex='2'), style=Progre…"
      ]
     },
     "metadata": {},
     "output_type": "display_data"
    },
    {
     "name": "stdout",
     "output_type": "stream",
     "text": [
      "\r"
     ]
    },
    {
     "data": {
      "application/vnd.jupyter.widget-view+json": {
       "model_id": "99a7bbcb0c694e9b8587a03e967dfe46",
       "version_major": 2,
       "version_minor": 0
      },
      "text/plain": [
       "HBox(children=(IntProgress(value=0, description='calculate covariances', layout=Layout(flex='2'), style=Progre…"
      ]
     },
     "metadata": {},
     "output_type": "display_data"
    },
    {
     "name": "stdout",
     "output_type": "stream",
     "text": [
      "\r"
     ]
    },
    {
     "ename": "KeyboardInterrupt",
     "evalue": "",
     "output_type": "error",
     "traceback": [
      "\u001b[0;31m---------------------------------------------------------------------------\u001b[0m",
      "\u001b[0;31mKeyboardInterrupt\u001b[0m                         Traceback (most recent call last)",
      "\u001b[0;32m<ipython-input-186-d02e5a36690e>\u001b[0m in \u001b[0;36m<module>\u001b[0;34m\u001b[0m\n\u001b[1;32m      2\u001b[0m \u001b[0;31m# use source instead of load to save memory\u001b[0m\u001b[0;34m\u001b[0m\u001b[0;34m\u001b[0m\u001b[0;34m\u001b[0m\u001b[0m\n\u001b[1;32m      3\u001b[0m \u001b[0mstart\u001b[0m \u001b[0;34m=\u001b[0m \u001b[0mtime\u001b[0m\u001b[0;34m.\u001b[0m\u001b[0mtime\u001b[0m\u001b[0;34m(\u001b[0m\u001b[0;34m)\u001b[0m\u001b[0;34m\u001b[0m\u001b[0;34m\u001b[0m\u001b[0m\n\u001b[0;32m----> 4\u001b[0;31m \u001b[0mNtica__really_big\u001b[0m \u001b[0;34m=\u001b[0m \u001b[0mcoor\u001b[0m\u001b[0;34m.\u001b[0m\u001b[0mtica_nystroem\u001b[0m\u001b[0;34m(\u001b[0m\u001b[0mmax_columns\u001b[0m\u001b[0;34m=\u001b[0m\u001b[0;36m2000\u001b[0m\u001b[0;34m,\u001b[0m \u001b[0mdata\u001b[0m\u001b[0;34m=\u001b[0m\u001b[0mtraj_source\u001b[0m\u001b[0;34m,\u001b[0m \u001b[0mlag\u001b[0m\u001b[0;34m=\u001b[0m\u001b[0;36m15\u001b[0m\u001b[0;34m,\u001b[0m \u001b[0mnsel\u001b[0m\u001b[0;34m=\u001b[0m\u001b[0;36m400\u001b[0m\u001b[0;34m)\u001b[0m\u001b[0;34m\u001b[0m\u001b[0;34m\u001b[0m\u001b[0m\n\u001b[0m\u001b[1;32m      5\u001b[0m \u001b[0mend\u001b[0m \u001b[0;34m=\u001b[0m \u001b[0mtime\u001b[0m\u001b[0;34m.\u001b[0m\u001b[0mtime\u001b[0m\u001b[0;34m(\u001b[0m\u001b[0;34m)\u001b[0m\u001b[0;34m\u001b[0m\u001b[0;34m\u001b[0m\u001b[0m\n\u001b[1;32m      6\u001b[0m \u001b[0mprint\u001b[0m\u001b[0;34m(\u001b[0m\u001b[0;34mf'This took {np.round(end-start)} seconds'\u001b[0m\u001b[0;34m)\u001b[0m\u001b[0;34m\u001b[0m\u001b[0;34m\u001b[0m\u001b[0m\n",
      "\u001b[0;32m~/anaconda3/lib/python3.7/site-packages/pyemma/coordinates/api.py\u001b[0m in \u001b[0;36mtica_nystroem\u001b[0;34m(max_columns, data, lag, dim, var_cutoff, epsilon, stride, skip, reversible, ncov_max, chunksize, initial_columns, nsel, neig)\u001b[0m\n\u001b[1;32m   1527\u001b[0m                        initial_columns=initial_columns, nsel=nsel, neig=neig)\n\u001b[1;32m   1528\u001b[0m     \u001b[0;32mif\u001b[0m \u001b[0mdata\u001b[0m \u001b[0;32mis\u001b[0m \u001b[0;32mnot\u001b[0m \u001b[0;32mNone\u001b[0m\u001b[0;34m:\u001b[0m\u001b[0;34m\u001b[0m\u001b[0;34m\u001b[0m\u001b[0m\n\u001b[0;32m-> 1529\u001b[0;31m         \u001b[0mres\u001b[0m\u001b[0;34m.\u001b[0m\u001b[0mestimate\u001b[0m\u001b[0;34m(\u001b[0m\u001b[0mdata\u001b[0m\u001b[0;34m,\u001b[0m \u001b[0mstride\u001b[0m\u001b[0;34m=\u001b[0m\u001b[0mstride\u001b[0m\u001b[0;34m,\u001b[0m \u001b[0mchunksize\u001b[0m\u001b[0;34m=\u001b[0m\u001b[0mchunksize\u001b[0m\u001b[0;34m)\u001b[0m\u001b[0;34m\u001b[0m\u001b[0;34m\u001b[0m\u001b[0m\n\u001b[0m\u001b[1;32m   1530\u001b[0m     \u001b[0;32melse\u001b[0m\u001b[0;34m:\u001b[0m\u001b[0;34m\u001b[0m\u001b[0;34m\u001b[0m\u001b[0m\n\u001b[1;32m   1531\u001b[0m         \u001b[0mres\u001b[0m\u001b[0;34m.\u001b[0m\u001b[0mchunksize\u001b[0m \u001b[0;34m=\u001b[0m \u001b[0mchunksize\u001b[0m\u001b[0;34m\u001b[0m\u001b[0;34m\u001b[0m\u001b[0m\n",
      "\u001b[0;32m~/anaconda3/lib/python3.7/site-packages/pyemma/coordinates/transform/nystroem_tica.py\u001b[0m in \u001b[0;36mestimate\u001b[0;34m(self, X, **kwargs)\u001b[0m\n\u001b[1;32m    197\u001b[0m         \u001b[0mthe\u001b[0m \u001b[0mapproximate\u001b[0m \u001b[0mindependent\u001b[0m \u001b[0mcomponents\u001b[0m\u001b[0;34m.\u001b[0m\u001b[0;34m\u001b[0m\u001b[0;34m\u001b[0m\u001b[0m\n\u001b[1;32m    198\u001b[0m         \"\"\"\n\u001b[0;32m--> 199\u001b[0;31m         \u001b[0;32mreturn\u001b[0m \u001b[0msuper\u001b[0m\u001b[0;34m(\u001b[0m\u001b[0mNystroemTICA\u001b[0m\u001b[0;34m,\u001b[0m \u001b[0mself\u001b[0m\u001b[0;34m)\u001b[0m\u001b[0;34m.\u001b[0m\u001b[0mestimate\u001b[0m\u001b[0;34m(\u001b[0m\u001b[0mX\u001b[0m\u001b[0;34m,\u001b[0m \u001b[0;34m**\u001b[0m\u001b[0mkwargs\u001b[0m\u001b[0;34m)\u001b[0m\u001b[0;34m\u001b[0m\u001b[0;34m\u001b[0m\u001b[0m\n\u001b[0m\u001b[1;32m    200\u001b[0m \u001b[0;34m\u001b[0m\u001b[0m\n\u001b[1;32m    201\u001b[0m     \u001b[0;32mdef\u001b[0m \u001b[0m_estimate\u001b[0m\u001b[0;34m(\u001b[0m\u001b[0mself\u001b[0m\u001b[0;34m,\u001b[0m \u001b[0miterable\u001b[0m\u001b[0;34m,\u001b[0m \u001b[0;34m**\u001b[0m\u001b[0mkw\u001b[0m\u001b[0;34m)\u001b[0m\u001b[0;34m:\u001b[0m\u001b[0;34m\u001b[0m\u001b[0;34m\u001b[0m\u001b[0m\n",
      "\u001b[0;32m~/anaconda3/lib/python3.7/site-packages/pyemma/coordinates/data/_base/transformer.py\u001b[0m in \u001b[0;36mestimate\u001b[0;34m(self, X, **kwargs)\u001b[0m\n\u001b[1;32m    213\u001b[0m     \u001b[0;34m\"\"\" Basis class for pipelined Transformers, which perform also estimation. \"\"\"\u001b[0m\u001b[0;34m\u001b[0m\u001b[0;34m\u001b[0m\u001b[0m\n\u001b[1;32m    214\u001b[0m     \u001b[0;32mdef\u001b[0m \u001b[0mestimate\u001b[0m\u001b[0;34m(\u001b[0m\u001b[0mself\u001b[0m\u001b[0;34m,\u001b[0m \u001b[0mX\u001b[0m\u001b[0;34m,\u001b[0m \u001b[0;34m**\u001b[0m\u001b[0mkwargs\u001b[0m\u001b[0;34m)\u001b[0m\u001b[0;34m:\u001b[0m\u001b[0;34m\u001b[0m\u001b[0;34m\u001b[0m\u001b[0m\n\u001b[0;32m--> 215\u001b[0;31m         \u001b[0msuper\u001b[0m\u001b[0;34m(\u001b[0m\u001b[0mStreamingEstimationTransformer\u001b[0m\u001b[0;34m,\u001b[0m \u001b[0mself\u001b[0m\u001b[0;34m)\u001b[0m\u001b[0;34m.\u001b[0m\u001b[0mestimate\u001b[0m\u001b[0;34m(\u001b[0m\u001b[0mX\u001b[0m\u001b[0;34m,\u001b[0m \u001b[0;34m**\u001b[0m\u001b[0mkwargs\u001b[0m\u001b[0;34m)\u001b[0m\u001b[0;34m\u001b[0m\u001b[0;34m\u001b[0m\u001b[0m\n\u001b[0m\u001b[1;32m    216\u001b[0m         \u001b[0;31m# we perform the mapping to memory exactly here, because a StreamingEstimator on its own\u001b[0m\u001b[0;34m\u001b[0m\u001b[0;34m\u001b[0m\u001b[0;34m\u001b[0m\u001b[0m\n\u001b[1;32m    217\u001b[0m         \u001b[0;31m# has not output to be mapped. Only the combination of Estimation/Transforming has this feature.\u001b[0m\u001b[0;34m\u001b[0m\u001b[0;34m\u001b[0m\u001b[0;34m\u001b[0m\u001b[0m\n",
      "\u001b[0;32m~/anaconda3/lib/python3.7/site-packages/pyemma/coordinates/data/_base/streaming_estimator.py\u001b[0m in \u001b[0;36mestimate\u001b[0;34m(self, X, chunksize, **kwargs)\u001b[0m\n\u001b[1;32m     42\u001b[0m         \u001b[0;31m# run estimation\u001b[0m\u001b[0;34m\u001b[0m\u001b[0;34m\u001b[0m\u001b[0;34m\u001b[0m\u001b[0m\n\u001b[1;32m     43\u001b[0m         \u001b[0;32mtry\u001b[0m\u001b[0;34m:\u001b[0m\u001b[0;34m\u001b[0m\u001b[0;34m\u001b[0m\u001b[0m\n\u001b[0;32m---> 44\u001b[0;31m             \u001b[0msuper\u001b[0m\u001b[0;34m(\u001b[0m\u001b[0mStreamingEstimator\u001b[0m\u001b[0;34m,\u001b[0m \u001b[0mself\u001b[0m\u001b[0;34m)\u001b[0m\u001b[0;34m.\u001b[0m\u001b[0mestimate\u001b[0m\u001b[0;34m(\u001b[0m\u001b[0mX\u001b[0m\u001b[0;34m,\u001b[0m \u001b[0;34m**\u001b[0m\u001b[0mkwargs\u001b[0m\u001b[0;34m)\u001b[0m\u001b[0;34m\u001b[0m\u001b[0;34m\u001b[0m\u001b[0m\n\u001b[0m\u001b[1;32m     45\u001b[0m         \u001b[0;32mexcept\u001b[0m \u001b[0mNotConvergedWarning\u001b[0m \u001b[0;32mas\u001b[0m \u001b[0mncw\u001b[0m\u001b[0;34m:\u001b[0m\u001b[0;34m\u001b[0m\u001b[0;34m\u001b[0m\u001b[0m\n\u001b[1;32m     46\u001b[0m             self.logger.info(\n",
      "\u001b[0;32m~/anaconda3/lib/python3.7/site-packages/pyemma/_base/estimator.py\u001b[0m in \u001b[0;36mestimate\u001b[0;34m(self, X, **params)\u001b[0m\n\u001b[1;32m    405\u001b[0m         \u001b[0;32mif\u001b[0m \u001b[0mparams\u001b[0m\u001b[0;34m:\u001b[0m\u001b[0;34m\u001b[0m\u001b[0;34m\u001b[0m\u001b[0m\n\u001b[1;32m    406\u001b[0m             \u001b[0mself\u001b[0m\u001b[0;34m.\u001b[0m\u001b[0mset_params\u001b[0m\u001b[0;34m(\u001b[0m\u001b[0;34m**\u001b[0m\u001b[0mparams\u001b[0m\u001b[0;34m)\u001b[0m\u001b[0;34m\u001b[0m\u001b[0;34m\u001b[0m\u001b[0m\n\u001b[0;32m--> 407\u001b[0;31m         \u001b[0mself\u001b[0m\u001b[0;34m.\u001b[0m\u001b[0m_model\u001b[0m \u001b[0;34m=\u001b[0m \u001b[0mself\u001b[0m\u001b[0;34m.\u001b[0m\u001b[0m_estimate\u001b[0m\u001b[0;34m(\u001b[0m\u001b[0mX\u001b[0m\u001b[0;34m)\u001b[0m\u001b[0;34m\u001b[0m\u001b[0;34m\u001b[0m\u001b[0m\n\u001b[0m\u001b[1;32m    408\u001b[0m         \u001b[0;31m# ensure _estimate returned something\u001b[0m\u001b[0;34m\u001b[0m\u001b[0;34m\u001b[0m\u001b[0;34m\u001b[0m\u001b[0m\n\u001b[1;32m    409\u001b[0m         \u001b[0;32massert\u001b[0m \u001b[0mself\u001b[0m\u001b[0;34m.\u001b[0m\u001b[0m_model\u001b[0m \u001b[0;32mis\u001b[0m \u001b[0;32mnot\u001b[0m \u001b[0;32mNone\u001b[0m\u001b[0;34m\u001b[0m\u001b[0;34m\u001b[0m\u001b[0m\n",
      "\u001b[0;32m~/anaconda3/lib/python3.7/site-packages/pyemma/coordinates/transform/nystroem_tica.py\u001b[0m in \u001b[0;36m_estimate\u001b[0;34m(self, iterable, **kw)\u001b[0m\n\u001b[1;32m    225\u001b[0m \u001b[0;34m\u001b[0m\u001b[0m\n\u001b[1;32m    226\u001b[0m         \u001b[0;32mwhile\u001b[0m \u001b[0mself\u001b[0m\u001b[0;34m.\u001b[0m\u001b[0m_oasis\u001b[0m\u001b[0;34m.\u001b[0m\u001b[0mk\u001b[0m \u001b[0;34m<\u001b[0m \u001b[0mnp\u001b[0m\u001b[0;34m.\u001b[0m\u001b[0mmin\u001b[0m\u001b[0;34m(\u001b[0m\u001b[0;34m(\u001b[0m\u001b[0mself\u001b[0m\u001b[0;34m.\u001b[0m\u001b[0mmax_columns\u001b[0m\u001b[0;34m,\u001b[0m \u001b[0mself\u001b[0m\u001b[0;34m.\u001b[0m\u001b[0m_oasis\u001b[0m\u001b[0;34m.\u001b[0m\u001b[0mn\u001b[0m\u001b[0;34m)\u001b[0m\u001b[0;34m)\u001b[0m\u001b[0;34m:\u001b[0m\u001b[0;34m\u001b[0m\u001b[0;34m\u001b[0m\u001b[0m\n\u001b[0;32m--> 227\u001b[0;31m             \u001b[0mcols\u001b[0m \u001b[0;34m=\u001b[0m \u001b[0mself\u001b[0m\u001b[0;34m.\u001b[0m\u001b[0m_oasis\u001b[0m\u001b[0;34m.\u001b[0m\u001b[0mselect_columns\u001b[0m\u001b[0;34m(\u001b[0m\u001b[0;34m)\u001b[0m\u001b[0;34m\u001b[0m\u001b[0;34m\u001b[0m\u001b[0m\n\u001b[0m\u001b[1;32m    228\u001b[0m             \u001b[0;32mif\u001b[0m \u001b[0mcols\u001b[0m \u001b[0;32mis\u001b[0m \u001b[0;32mNone\u001b[0m \u001b[0;32mor\u001b[0m \u001b[0mlen\u001b[0m\u001b[0;34m(\u001b[0m\u001b[0mcols\u001b[0m\u001b[0;34m)\u001b[0m \u001b[0;34m==\u001b[0m \u001b[0;36m0\u001b[0m \u001b[0;32mor\u001b[0m \u001b[0mnp\u001b[0m\u001b[0;34m.\u001b[0m\u001b[0mall\u001b[0m\u001b[0;34m(\u001b[0m\u001b[0mnp\u001b[0m\u001b[0;34m.\u001b[0m\u001b[0min1d\u001b[0m\u001b[0;34m(\u001b[0m\u001b[0mcols\u001b[0m\u001b[0;34m,\u001b[0m \u001b[0mself\u001b[0m\u001b[0;34m.\u001b[0m\u001b[0m_oasis\u001b[0m\u001b[0;34m.\u001b[0m\u001b[0mcolumn_indices\u001b[0m\u001b[0;34m)\u001b[0m\u001b[0;34m)\u001b[0m\u001b[0;34m:\u001b[0m\u001b[0;34m\u001b[0m\u001b[0;34m\u001b[0m\u001b[0m\n\u001b[1;32m    229\u001b[0m                 \u001b[0mself\u001b[0m\u001b[0;34m.\u001b[0m\u001b[0mlogger\u001b[0m\u001b[0;34m.\u001b[0m\u001b[0mwarning\u001b[0m\u001b[0;34m(\u001b[0m\u001b[0;34m\"Iteration ended prematurely: No more columns to select.\"\u001b[0m\u001b[0;34m)\u001b[0m\u001b[0;34m\u001b[0m\u001b[0;34m\u001b[0m\u001b[0m\n",
      "\u001b[0;32m~/anaconda3/lib/python3.7/site-packages/pyemma/coordinates/transform/nystroem_tica.py\u001b[0m in \u001b[0;36mselect_columns\u001b[0;34m(self)\u001b[0m\n\u001b[1;32m    447\u001b[0m \u001b[0;34m\u001b[0m\u001b[0m\n\u001b[1;32m    448\u001b[0m         \"\"\"\n\u001b[0;32m--> 449\u001b[0;31m         \u001b[0;32mreturn\u001b[0m \u001b[0mself\u001b[0m\u001b[0;34m.\u001b[0m\u001b[0m_selection_strategy\u001b[0m\u001b[0;34m.\u001b[0m\u001b[0mselect\u001b[0m\u001b[0;34m(\u001b[0m\u001b[0;34m)\u001b[0m\u001b[0;34m\u001b[0m\u001b[0;34m\u001b[0m\u001b[0m\n\u001b[0m\u001b[1;32m    450\u001b[0m \u001b[0;34m\u001b[0m\u001b[0m\n\u001b[1;32m    451\u001b[0m     \u001b[0;32mdef\u001b[0m \u001b[0mupdate_inverse\u001b[0m\u001b[0;34m(\u001b[0m\u001b[0mself\u001b[0m\u001b[0;34m)\u001b[0m\u001b[0;34m:\u001b[0m\u001b[0;34m\u001b[0m\u001b[0;34m\u001b[0m\u001b[0m\n",
      "\u001b[0;32m~/anaconda3/lib/python3.7/site-packages/pyemma/coordinates/transform/nystroem_tica.py\u001b[0m in \u001b[0;36mselect\u001b[0;34m(self)\u001b[0m\n\u001b[1;32m    702\u001b[0m         \u001b[0;32mif\u001b[0m \u001b[0mnsel\u001b[0m \u001b[0;32mis\u001b[0m \u001b[0;32mNone\u001b[0m\u001b[0;34m:\u001b[0m\u001b[0;34m\u001b[0m\u001b[0;34m\u001b[0m\u001b[0m\n\u001b[1;32m    703\u001b[0m             \u001b[0;32mreturn\u001b[0m \u001b[0;32mNone\u001b[0m\u001b[0;34m\u001b[0m\u001b[0;34m\u001b[0m\u001b[0m\n\u001b[0;32m--> 704\u001b[0;31m         \u001b[0;32mreturn\u001b[0m \u001b[0mself\u001b[0m\u001b[0;34m.\u001b[0m\u001b[0m_select\u001b[0m\u001b[0;34m(\u001b[0m\u001b[0mnsel\u001b[0m\u001b[0;34m,\u001b[0m \u001b[0merr\u001b[0m\u001b[0;34m)\u001b[0m\u001b[0;34m\u001b[0m\u001b[0;34m\u001b[0m\u001b[0m\n\u001b[0m\u001b[1;32m    705\u001b[0m \u001b[0;34m\u001b[0m\u001b[0m\n\u001b[1;32m    706\u001b[0m     \u001b[0;32mdef\u001b[0m \u001b[0m_select\u001b[0m\u001b[0;34m(\u001b[0m\u001b[0mself\u001b[0m\u001b[0;34m,\u001b[0m \u001b[0mnsel\u001b[0m\u001b[0;34m,\u001b[0m \u001b[0merr\u001b[0m\u001b[0;34m)\u001b[0m\u001b[0;34m:\u001b[0m\u001b[0;34m\u001b[0m\u001b[0;34m\u001b[0m\u001b[0m\n",
      "\u001b[0;32m~/anaconda3/lib/python3.7/site-packages/pyemma/coordinates/transform/nystroem_tica.py\u001b[0m in \u001b[0;36m_select\u001b[0;34m(self, nsel, err)\u001b[0m\n\u001b[1;32m    753\u001b[0m             \u001b[0md_to_i\u001b[0m \u001b[0;34m=\u001b[0m \u001b[0md_to_0\u001b[0m\u001b[0;34m[\u001b[0m\u001b[0;34m:\u001b[0m\u001b[0;34m]\u001b[0m\u001b[0;34m\u001b[0m\u001b[0;34m\u001b[0m\u001b[0m\n\u001b[1;32m    754\u001b[0m             \u001b[0;32mfor\u001b[0m \u001b[0mk\u001b[0m \u001b[0;32min\u001b[0m \u001b[0mrange\u001b[0m\u001b[0;34m(\u001b[0m\u001b[0mnsel\u001b[0m\u001b[0;34m)\u001b[0m\u001b[0;34m:\u001b[0m\u001b[0;34m\u001b[0m\u001b[0;34m\u001b[0m\u001b[0m\n\u001b[0;32m--> 755\u001b[0;31m                 \u001b[0md_to_i\u001b[0m \u001b[0;34m=\u001b[0m \u001b[0mnp\u001b[0m\u001b[0;34m.\u001b[0m\u001b[0mminimum\u001b[0m\u001b[0;34m(\u001b[0m\u001b[0md_to_i\u001b[0m\u001b[0;34m,\u001b[0m \u001b[0mnp\u001b[0m\u001b[0;34m.\u001b[0m\u001b[0mlinalg\u001b[0m\u001b[0;34m.\u001b[0m\u001b[0mnorm\u001b[0m\u001b[0;34m(\u001b[0m\u001b[0mW\u001b[0m \u001b[0;34m-\u001b[0m \u001b[0mW\u001b[0m\u001b[0;34m[\u001b[0m\u001b[0msel\u001b[0m\u001b[0;34m[\u001b[0m\u001b[0mk\u001b[0m\u001b[0;34m]\u001b[0m\u001b[0;34m,\u001b[0m \u001b[0;34m:\u001b[0m\u001b[0;34m]\u001b[0m\u001b[0;34m,\u001b[0m \u001b[0maxis\u001b[0m\u001b[0;34m=\u001b[0m\u001b[0;36m1\u001b[0m\u001b[0;34m)\u001b[0m\u001b[0;34m)\u001b[0m\u001b[0;34m\u001b[0m\u001b[0;34m\u001b[0m\u001b[0m\n\u001b[0m\u001b[1;32m    756\u001b[0m             \u001b[0msel\u001b[0m\u001b[0;34m[\u001b[0m\u001b[0mi\u001b[0m\u001b[0;34m]\u001b[0m \u001b[0;34m=\u001b[0m \u001b[0mnp\u001b[0m\u001b[0;34m.\u001b[0m\u001b[0margmax\u001b[0m\u001b[0;34m(\u001b[0m\u001b[0md_to_i\u001b[0m\u001b[0;34m)\u001b[0m\u001b[0;34m\u001b[0m\u001b[0;34m\u001b[0m\u001b[0m\n\u001b[1;32m    757\u001b[0m         \u001b[0;32mreturn\u001b[0m \u001b[0mnp\u001b[0m\u001b[0;34m.\u001b[0m\u001b[0munique\u001b[0m\u001b[0;34m(\u001b[0m\u001b[0msel\u001b[0m\u001b[0;34m)\u001b[0m\u001b[0;34m\u001b[0m\u001b[0;34m\u001b[0m\u001b[0m\n",
      "\u001b[0;31mKeyboardInterrupt\u001b[0m: "
     ]
    }
   ],
   "source": [
    "# Let's go for broke\n",
    "# use source instead of load to save memory\n",
    "start = time.time()\n",
    "Ntica__really_big = coor.tica_nystroem(max_columns=2000, data=traj_source, lag=15, nsel=400)\n",
    "end = time.time()\n",
    "print(f'This took {np.round(end-start)} seconds')"
   ]
  },
  {
   "cell_type": "markdown",
   "id": "44f27fe4",
   "metadata": {},
   "source": [
    "Ok so the above ran for 24 hours without crashing so I think it will work I just didn't want to wain for it.\n",
    "\n",
    "Also note that PyEmma through a warning that Nystrom Tica needs to load all data into memory so using source didn't help save memeory"
   ]
  },
  {
   "cell_type": "code",
   "execution_count": 188,
   "id": "1ce74d72",
   "metadata": {},
   "outputs": [
    {
     "data": {
      "text/plain": [
       "701"
      ]
     },
     "execution_count": 188,
     "metadata": {},
     "output_type": "execute_result"
    }
   ],
   "source": [
    "len(Ntica_big.column_indices)"
   ]
  },
  {
   "cell_type": "markdown",
   "id": "ca10bdc4",
   "metadata": {},
   "source": [
    "# Conclustion"
   ]
  },
  {
   "cell_type": "markdown",
   "id": "cc67e188",
   "metadata": {},
   "source": [
    "Nystrom tica was able to greatly reduce reduce the number of features in the Main Protease system while still describing the slow motions basically as well as regular tica\n",
    "\n",
    "making a plot of implied timescales vs the number of column indices (with len(Ntica.column_indices) helps you make an informed decision of how sparse you can go\n",
    "\n",
    "It was also shown that Nystrom tica can be fed extremly large numbers of features and still work\n",
    "\n",
    "larger numbers for nsel and smaller numbers for max_columns greatly speed up the calculation\n",
    "\n",
    "The fact that Nystrom tica has still not been added to the PyEmma manual and that the get_output() method is broken is very concerning. It is possible the PyEmma developers are not activly maintaining the code"
   ]
  },
  {
   "cell_type": "code",
   "execution_count": null,
   "id": "c109faae",
   "metadata": {},
   "outputs": [],
   "source": []
  }
 ],
 "metadata": {
  "kernelspec": {
   "display_name": "Python [conda env:root]",
   "language": "python",
   "name": "conda-root-py"
  },
  "language_info": {
   "codemirror_mode": {
    "name": "ipython",
    "version": 3
   },
   "file_extension": ".py",
   "mimetype": "text/x-python",
   "name": "python",
   "nbconvert_exporter": "python",
   "pygments_lexer": "ipython3",
   "version": "3.7.4"
  }
 },
 "nbformat": 4,
 "nbformat_minor": 5
}
