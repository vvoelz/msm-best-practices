{
 "cells": [
  {
   "cell_type": "markdown",
   "id": "9f0f09bd",
   "metadata": {},
   "source": [
    "# Data download\n",
    "\n",
    "To download the trajectory data, we will use `wget` to download the file from Google Drive, like so:\n",
    "\n",
    "```bash\n",
    "$ wget --no-check-certificate 'https://docs.google.com/uc?export=download&id=1oane-zk4QPJT-7GN_Jld_VGpK6aUI4Yk' -O p16959r9c29-whole.xtc\n",
    "```\n",
    "\n",
    "**Reference**\n",
    "\n",
    "https://chemicloud.com/kb/article/download-google-drive-files-using-wget/\n",
    "\n"
   ]
  },
  {
   "cell_type": "code",
   "execution_count": 1,
   "id": "c4849160",
   "metadata": {},
   "outputs": [
    {
     "name": "stdout",
     "output_type": "stream",
     "text": [
      "File already exists: ./p16959r9c29-whole.xtc\n",
      "File already exists: ./p16959r9c83-whole.xtc\n",
      "File already exists: ./p16959r9c100-whole.xtc\n",
      "File already exists: ./p16959r9c109-whole.xtc\n",
      "File already exists: ./p16959r9c127-whole.xtc\n",
      "File already exists: ./p16959r9c151-whole.xtc\n",
      "File already exists: ./p16959r9c166-whole.xtc\n",
      "File already exists: ./p16959r9c219-whole.xtc\n",
      "File already exists: ./p16959r9c312-whole.xtc\n",
      "File already exists: ./p16959r9c394-whole.xtc\n",
      "File already exists: ./p16959r9c631-whole.xtc\n",
      "File already exists: ./p16959r9c726-whole.xtc\n"
     ]
    }
   ],
   "source": [
    "### Filenames and their Google Drive FILEIDs\n",
    "\n",
    "file_info = \"\"\"\n",
    "p16959r9c29-whole.xtc       1oane-zk4QPJT-7GN_Jld_VGpK6aUI4Yk\n",
    "p16959r9c83-whole.xtc       18XaBKiM3o7KPoUjeRX94h9gJ4kKvGx7M\n",
    "p16959r9c100-whole.xtc      1apsv07zQ_Wng3rQjpKZ_M7MKWJfdnIBd\n",
    "p16959r9c109-whole.xtc      1EknrfSnY8JSxnJ1nrRaBE4WRjijVx1Ep\n",
    "p16959r9c127-whole.xtc      1YgAuqZLeKuEqHdZPTfIQ-GuEtvxcCM0E \n",
    "p16959r9c151-whole.xtc      1biywyZTLdxP-3V27XJNDEulzNCmzCpu5\n",
    "p16959r9c166-whole.xtc      1YrP_e4GOp1rzvQAJKA81OcRCTioHxpjr\n",
    "p16959r9c219-whole.xtc      1C59t_zMj34GEfqEHymkYibwZqFE6iuQR\n",
    "p16959r9c312-whole.xtc      1TKxEQJax6p7NZq9jwM37grlZ3FPDu1Qd\n",
    "p16959r9c394-whole.xtc      13YOLKKWwv3p2r76TlgJq6N7KbGT2bZbw\n",
    "p16959r9c631-whole.xtc      13I6QGCerDlBXLk8GxySQZ2vs61JXuOTv\n",
    "p16959r9c726-whole.xtc      19cgoxmV6HCsXH6njvLng5nFv0JvZ0gvg\"\"\".split('\\n')\n",
    "\n",
    "file_info.pop(0)    # remove first blank entry\n",
    "\n",
    "file_dict = {}\n",
    "for line in file_info:\n",
    "    fields = line.split()    # filename, FILEID\n",
    "    file_dict[fields[0]] = fields[1]\n",
    "\n",
    "# Copy over any missing files.\n",
    "import os\n",
    "download_dir = './'\n",
    "for fn in file_dict:\n",
    "    fileID = file_dict[fn]\n",
    "    outfn = os.path.join(download_dir, fn)\n",
    "    if not os.path.exists(outfn):\n",
    "        wget_cmd = f\"wget --no-check-certificate 'https://docs.google.com/uc?export=download&id={fileID}' -O {outfn}\"\n",
    "        print('>>', wget_cmd)\n",
    "        os.system(wget_cmd)\n",
    "    else:\n",
    "        print('File already exists:', outfn)"
   ]
  },
  {
   "cell_type": "code",
   "execution_count": null,
   "id": "b60ccfa1",
   "metadata": {},
   "outputs": [],
   "source": []
  }
 ],
 "metadata": {
  "kernelspec": {
   "display_name": "Python 3 (ipykernel)",
   "language": "python",
   "name": "python3"
  },
  "language_info": {
   "codemirror_mode": {
    "name": "ipython",
    "version": 3
   },
   "file_extension": ".py",
   "mimetype": "text/x-python",
   "name": "python",
   "nbconvert_exporter": "python",
   "pygments_lexer": "ipython3",
   "version": "3.9.13"
  }
 },
 "nbformat": 4,
 "nbformat_minor": 5
}
