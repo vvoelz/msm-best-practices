{
 "cells": [
  {
   "cell_type": "markdown",
   "metadata": {},
   "source": [
    "## A three-state master equation\n",
    "\n",
    "Consider the following kinetic model:\n",
    "\n",
    "<img src=\"three-state.pdf\">\n",
    "\n",
    "This model is represented by the following non-zero rates: $k_{21}$ = 100 s$^{-1}$, $k_{12}$ = 200 s$^{-1}$, $k_{32}$ = 10 s$^{-1}$, $k_{23}$ = 1 s$^{-1}$, and a resulting rate matrix of \n",
    "\n",
    "$$\n",
    "\\mathbf{K} =\n",
    " \\begin{pmatrix}\n",
    "  -\\sum_{i \\neq 1} k_{i1} & k_{12} & k_{13} \\\\\n",
    "  k_{21} & -\\sum_{i \\neq 2}k_{i2} & k_{23} \\\\\n",
    "  k_{31} & k_{32} & -\\sum_{i \\neq 3}k_{i3}\n",
    " \\end{pmatrix} =    \\begin{pmatrix}\n",
    "  -100 & 200 & 0 \\\\\n",
    " 100 & -210 & 1 \\\\\n",
    "  0 & 10 & -1\n",
    " \\end{pmatrix}\n",
    "$$\n",
    "\n",
    "\n",
    "\n",
    "\n"
   ]
  },
  {
   "cell_type": "code",
   "execution_count": 62,
   "metadata": {
    "collapsed": false
   },
   "outputs": [],
   "source": [
    "import numpy as np\n",
    "K = np.array( [[-100., 200., 0.], [100., -210., 1.], [0., 10., -1.]])"
   ]
  },
  {
   "cell_type": "code",
   "execution_count": 96,
   "metadata": {
    "collapsed": false
   },
   "outputs": [
    {
     "name": "stdout",
     "output_type": "stream",
     "text": [
      "[2 1 0]\n",
      "evals [  2.56640071e-15  -4.23781041e+00  -3.06762190e+02]\n",
      "evecs [[ 0.19518001 -0.54104334 -0.69506345]\n",
      " [ 0.09759001 -0.25905748  0.7185642 ]\n",
      " [ 0.97590007  0.80010082 -0.02350075]]\n",
      "[2 1 0]\n",
      "evals [  2.62482403e-15  -4.23781041e+00  -3.06762190e+02]\n",
      "left_evecs [[ 0.57735027 -0.70630999 -0.43539597]\n",
      " [ 0.57735027 -0.67637791  0.90023424]\n",
      " [ 0.57735027  0.20889979 -0.00294423]]\n",
      "evecs[:,0] [ 0.15384615  0.07692308  0.76923077] left_evecs[:,0] [ 1.  1.  1.]\n",
      "amp 0 : 1.0\n",
      "amp 1 : -0.706309988812\n",
      "amp 2 : -0.435395968304\n",
      "product 1 : 0.724505965651\n",
      "product 2 : 0.949573113641\n",
      "1.0\n",
      "1.0\n",
      "1.0\n"
     ]
    }
   ],
   "source": [
    "from scipy.linalg import eig\n",
    "\n",
    "### Get the right eigenvectors ###\n",
    "evals, evecs = eig(K)\n",
    "\n",
    "# sort evals and evecs from |\\lambda_i| smallest (0) to biggest \n",
    "I = np.argsort(np.abs(evals))\n",
    "print I\n",
    "evals = np.real(evals[I])\n",
    "evecs = evecs[:,I]\n",
    "print \"evals\", evals\n",
    "print \"evecs\", evecs \n",
    "\n",
    "### Get the left eigenvectors ###\n",
    "left_evals, left_evecs = eig(np.transpose(K))\n",
    "\n",
    "# sort evals and evecs from |\\lambda_i| smallest (0) to biggest \n",
    "I = np.argsort(np.abs(left_evals))\n",
    "print I\n",
    "left_evals = np.real(left_evals[I])\n",
    "left_evecs = left_evecs[:,I]\n",
    "print \"evals\", left_evals\n",
    "print \"left_evecs\", left_evecs \n",
    "\n",
    "\n",
    "# modify the equilibrium evecs to reflect equilibirum populations\n",
    "evecs[:,0] = evecs[:,0]/evecs[:,0].sum()\n",
    "left_evecs[:,0] = np.ones( evecs[:,0].shape )\n",
    "print 'evecs[:,0]', evecs[:,0], 'left_evecs[:,0]', left_evecs[:,0]\n",
    "\n",
    "# flip signs of the amplitudes are negative\n",
    "p0 = np.array((1.,0.,0.))\n",
    "amplitudes = []\n",
    "for i in range(3):\n",
    "    amp = np.dot(left_evecs[:,i],p0)\n",
    "    print 'amp', i, ':', amp\n",
    "    if amp < 0.0:\n",
    "        evecs[:,i] = - evecs[:,i]\n",
    "        left_evecs[:,i] = -left_evecs[:,i]\n",
    "\n",
    "# Normalize the non-equilibrium left eigenvectors\n",
    "for i in range(1,3):\n",
    "    product = np.dot(left_evecs[:,i],evecs[:,i])\n",
    "    print 'product', i, ':', product\n",
    "    left_evecs[:,i] = left_evecs[:,i]/product\n",
    "\n",
    "## Check that left and right products are \\delta_ij\n",
    "print np.dot(left_evecs[:,0], evecs[:,0])\n",
    "print np.dot(left_evecs[:,1], evecs[:,1])\n",
    "print np.dot(left_evecs[:,2], evecs[:,2])"
   ]
  },
  {
   "cell_type": "code",
   "execution_count": 106,
   "metadata": {
    "collapsed": false
   },
   "outputs": [
    {
     "data": {
      "image/png": "[encoded data removed]",
      "text/plain": [
       "<matplotlib.figure.Figure at 0x10d02bd10>"
      ]
     },
     "metadata": {},
     "output_type": "display_data"
    }
   ],
   "source": [
    "from matplotlib import pyplot as plt\n",
    "%matplotlib inline\n",
    "plt.figure(figsize=(2,6))\n",
    "for i in range(1,3):\n",
    "    plt.plot([0,1],[evals[i],evals[i]],'k-')\n",
    "plt.xticks([])\n",
    "plt.ylabel('$\\lambda_i$ (s$^{-1}$)', fontsize=24)\n",
    "plt.tight_layout()\n",
    "plt.savefig('spectrum.pdf')"
   ]
  },
  {
   "cell_type": "code",
   "execution_count": 122,
   "metadata": {
    "collapsed": false
   },
   "outputs": [
    {
     "name": "stdout",
     "output_type": "stream",
     "text": [
      "pos_evec [ 0.15384615  0.07692308  0.76923077]\n",
      "neg_evec [ 0.  0.  0.]\n",
      "1.0\n",
      "pos_evec [ 0.54104334  0.25905748  0.        ]\n",
      "neg_evec [ 0.          0.         -0.80010082]\n",
      "0.974884986871\n",
      "pos_evec [ 0.69506345  0.          0.02350075]\n",
      "neg_evec [ 0.        -0.7185642  0.       ]\n",
      "0.458517582322\n"
     ]
    },
    {
     "data": {
      "image/png": "[encoded data removed]",
      "text/plain": [
       "<matplotlib.figure.Figure at 0x1091aa990>"
      ]
     },
     "metadata": {},
     "output_type": "display_data"
    }
   ],
   "source": [
    "plt.figure(figsize=(6,6))\n",
    "for i in range(3):\n",
    "    \n",
    "    # plot eigenmodes \n",
    "    plt.subplot(3,2,2*i+1)\n",
    "    pos_evec = np.maximum(evecs[:,i], np.zeros(evecs[:,i].shape))\n",
    "    print 'pos_evec', pos_evec\n",
    "    if sum(pos_evec) > 0: \n",
    "        plt.bar([1,2,3], pos_evec, color='b')\n",
    "    neg_evec = np.minimum(evecs[:,i], np.zeros(evecs[:,i].shape))\n",
    "    print 'neg_evec', neg_evec\n",
    "    if sum(neg_evec) < 0: \n",
    "        plt.bar([1,2,3], neg_evec, color='r')\n",
    "    #plt.xticklabels([1,2,3])\n",
    "    plt.plot([1.0,4.0],[0,0],'k-')\n",
    "    plt.xticks([1.5, 2.5, 3.5], [\"1\", \"2\", \"3\"], fontsize=14)\n",
    "    plt.ylim(-1,1)\n",
    "    plt.ylabel('$\\\\psi_%d^R$'%(i+1), fontsize=24)\n",
    "    \n",
    "    # plot relaxation with amplitude\n",
    "    plt.subplot(3,2,2*i+2)\n",
    "    \n",
    "    amp = np.dot(left_evecs[:,i],p0)\n",
    "    print amp\n",
    "    t = np.arange(0,1.,0.001)  # in seconds\n",
    "    y = amp*np.exp(evals[i]*t)\n",
    "    plt.plot(t,y,'k-', linewidth=2)\n",
    "    \n",
    "    if i == 2:\n",
    "        plt.xlabel('time (s)')\n",
    "        plt.xlim(0,0.1)\n",
    "    else:\n",
    "        plt.xlim(0,1)\n",
    "    plt.ylim(0,1.1)\n",
    "    plt.yticks([0,1])\n",
    "\n",
    "plt.tight_layout()\n",
    "#plt.ylabel('$\\lambda_i$ (s$^{-1}$)')\n",
    "plt.savefig('evecs.pdf')"
   ]
  },
  {
   "cell_type": "code",
   "execution_count": 66,
   "metadata": {
    "collapsed": false
   },
   "outputs": [
    {
     "data": {
      "text/plain": [
       "array([ 0.,  0.,  0.,  0.])"
      ]
     },
     "execution_count": 66,
     "metadata": {},
     "output_type": "execute_result"
    }
   ],
   "source": [
    "f = np.array([1,2,3,4])\n",
    "np.minimum(f, np.zeros(f.shape))"
   ]
  },
  {
   "cell_type": "code",
   "execution_count": 73,
   "metadata": {
    "collapsed": false
   },
   "outputs": [
    {
     "name": "stdout",
     "output_type": "stream",
     "text": [
      "[2 1 0]\n",
      "evals [  2.62482403e-15  -4.23781041e+00  -3.06762190e+02]\n",
      "left_evecs [[ 0.57735027 -0.70630999 -0.43539597]\n",
      " [ 0.57735027 -0.67637791  0.90023424]\n",
      " [ 0.57735027  0.20889979 -0.00294423]]\n"
     ]
    }
   ],
   "source": [
    "# Left evecs\n",
    "\n",
    "from scipy.linalg import eig\n"
   ]
  },
  {
   "cell_type": "code",
   "execution_count": 93,
   "metadata": {
    "collapsed": false
   },
   "outputs": [
    {
     "name": "stdout",
     "output_type": "stream",
     "text": [
      "0.581543139237\n",
      "1.54142032252\n",
      "0.902322892092\n"
     ]
    }
   ],
   "source": []
  },
  {
   "cell_type": "code",
   "execution_count": 70,
   "metadata": {
    "collapsed": false
   },
   "outputs": [
    {
     "data": {
      "text/plain": [
       "0.33333333426907297"
      ]
     },
     "execution_count": 70,
     "metadata": {},
     "output_type": "execute_result"
    }
   ],
   "source": [
    "0.57735027*0.57735027"
   ]
  },
  {
   "cell_type": "code",
   "execution_count": null,
   "metadata": {
    "collapsed": true
   },
   "outputs": [],
   "source": []
  }
 ],
 "metadata": {
  "kernelspec": {
   "display_name": "Python 2",
   "language": "python",
   "name": "python2"
  },
  "language_info": {
   "codemirror_mode": {
    "name": "ipython",
    "version": 2
   },
   "file_extension": ".py",
   "mimetype": "text/x-python",
   "name": "python",
   "nbconvert_exporter": "python",
   "pygments_lexer": "ipython2",
   "version": "2.7.12"
  }
 },
 "nbformat": 4,
 "nbformat_minor": 0
}
